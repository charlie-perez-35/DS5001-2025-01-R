{
 "cells": [
  {
   "cell_type": "markdown",
   "id": "8f50b1af-92d1-4a15-853f-08c6a04b60e4",
   "metadata": {},
   "source": [
    "# Fasttext\n",
    "\n",
    "fastText is a library for efficient learning of word representations and sentence classification.\n",
    "\n",
    "Source https://fasttext.cc/docs/en/supervised-tutorial.html "
   ]
  },
  {
   "cell_type": "code",
   "execution_count": 34,
   "id": "4565967d-88f1-4fe6-a396-83ceaaf9832a",
   "metadata": {},
   "outputs": [],
   "source": [
    "import fasttext"
   ]
  },
  {
   "cell_type": "markdown",
   "id": "ece8b3dc-904b-4876-931e-29fefd37dd3c",
   "metadata": {},
   "source": [
    "# Quick Example"
   ]
  },
  {
   "cell_type": "code",
   "execution_count": 35,
   "id": "252ae952-ed9e-434c-842a-62263b8f08b8",
   "metadata": {},
   "outputs": [
    {
     "name": "stderr",
     "output_type": "stream",
     "text": [
      "Read 0M words\n",
      "Number of words:  16568\n",
      "Number of labels: 736\n",
      "Progress: 100.0% words/sec/thread:    5830 lr:  0.000000 avg.loss: 10.072722 ETA:   0h 0m 0s\n"
     ]
    }
   ],
   "source": [
    "model = fasttext.train_supervised(input=\"cooking.stackexchange.txt\")"
   ]
  },
  {
   "cell_type": "code",
   "execution_count": 36,
   "id": "47a3078f-a35b-4820-89b9-e9ce6293c73b",
   "metadata": {},
   "outputs": [
    {
     "data": {
      "text/plain": [
       "(('__label__baking',), array([0.04017693]))"
      ]
     },
     "execution_count": 36,
     "metadata": {},
     "output_type": "execute_result"
    }
   ],
   "source": [
    "model.predict(\"How do I make a smash burger?\")"
   ]
  },
  {
   "cell_type": "code",
   "execution_count": 37,
   "id": "20efb066-bc83-4bb4-8dfb-882e5d0f6941",
   "metadata": {},
   "outputs": [
    {
     "data": {
      "text/plain": [
       "(('__label__baking',), array([0.05717409]))"
      ]
     },
     "execution_count": 37,
     "metadata": {},
     "output_type": "execute_result"
    }
   ],
   "source": [
    "model.predict(\"How do I bake a red velvet cake?\")"
   ]
  },
  {
   "cell_type": "code",
   "execution_count": 38,
   "id": "2f6d3b40-984d-4328-8114-fc1e0f348420",
   "metadata": {},
   "outputs": [
    {
     "data": {
      "text/plain": [
       "(('__label__food-safety',), array([0.02830103]))"
      ]
     },
     "execution_count": 38,
     "metadata": {},
     "output_type": "execute_result"
    }
   ],
   "source": [
    "model.predict(\"How can I tell if my avocado has gone bad?\")"
   ]
  },
  {
   "cell_type": "markdown",
   "id": "23f7defe-7a25-4aff-8d8a-862e8dcd1480",
   "metadata": {},
   "source": [
    "# Try on Austen / Melville"
   ]
  },
  {
   "cell_type": "code",
   "execution_count": 40,
   "id": "02fab2ff-ebac-40f8-89a5-7b4f67bf5423",
   "metadata": {
    "tags": []
   },
   "outputs": [],
   "source": [
    "import configparser\n",
    "config = configparser.ConfigParser()\n",
    "config.read(\"../../../env.ini\")\n",
    "data_home = config['DEFAULT']['data_home']\n",
    "output_dir = config['DEFAULT']['output_dir']\n",
    "local_lib = config['DEFAULT']['local_lib']"
   ]
  },
  {
   "cell_type": "code",
   "execution_count": 83,
   "id": "666dcde6-ef12-416c-822d-f4919dc575fe",
   "metadata": {},
   "outputs": [],
   "source": [
    "CORPUS = pd.read_csv(f\"{output_dir}/austen-melville-CORPUS.csv\").set_index(['book_id','chap_id','para_num','token_num'])\n",
    "LIB = pd.read_csv(f\"{output_dir}/austen-melville-LIB.csv\").set_index('book_id')\n",
    "SENT = CORPUS.groupby(['book_id','chap_id','para_num','sent_num']).term_str\\\n",
    "    .apply(lambda x: ' '.join(map(str,x))).to_frame('sent_str')"
   ]
  },
  {
   "cell_type": "code",
   "execution_count": 78,
   "id": "1dad9bcf-1038-4814-8730-41116d59aed9",
   "metadata": {},
   "outputs": [],
   "source": [
    "with open(\"novel-train.txt\", \"w\") as outfile:\n",
    "    for idx, row in SENT.join(LIB.author, on=['book_id']).iterrows():\n",
    "        line = \"__label__\"+row.author.split(\",\")[0] + ' ' + row.sent_str + \"\\n\"\n",
    "        outfile.write(line)"
   ]
  },
  {
   "cell_type": "code",
   "execution_count": 79,
   "id": "17865f9a-5716-4b57-9e48-97de55007447",
   "metadata": {},
   "outputs": [
    {
     "name": "stderr",
     "output_type": "stream",
     "text": [
      "Read 2M words\n",
      "Number of words:  40283\n",
      "Number of labels: 2\n",
      "Progress: 100.0% words/sec/thread:  289332 lr:  0.000000 avg.loss:  0.208182 ETA:   0h 0m 0s\n"
     ]
    }
   ],
   "source": [
    "model2 = fasttext.train_supervised(input=\"novel-train.txt\")"
   ]
  },
  {
   "cell_type": "code",
   "execution_count": 80,
   "id": "13f658cc-7081-4dce-b5dd-9c5cdf8b8f00",
   "metadata": {},
   "outputs": [
    {
     "data": {
      "text/plain": [
       "(('__label__MELVILLE',), array([1.00001001]))"
      ]
     },
     "execution_count": 80,
     "metadata": {},
     "output_type": "execute_result"
    }
   ],
   "source": [
    "model2.predict(\"I am sailing a ship\")"
   ]
  },
  {
   "cell_type": "code",
   "execution_count": 82,
   "id": "c06913d4-f472-4782-80ca-3bf670118a46",
   "metadata": {},
   "outputs": [
    {
     "data": {
      "text/plain": [
       "(('__label__AUSTEN',), array([0.68113929]))"
      ]
     },
     "execution_count": 82,
     "metadata": {},
     "output_type": "execute_result"
    }
   ],
   "source": [
    "model2.predict(\"I am at Bath\")"
   ]
  },
  {
   "cell_type": "code",
   "execution_count": null,
   "id": "764f36e5-fc6a-4711-8622-58fae9b33c0c",
   "metadata": {},
   "outputs": [],
   "source": []
  }
 ],
 "metadata": {
  "kernelspec": {
   "display_name": "eta",
   "language": "python",
   "name": "eta"
  },
  "language_info": {
   "codemirror_mode": {
    "name": "ipython",
    "version": 3
   },
   "file_extension": ".py",
   "mimetype": "text/x-python",
   "name": "python",
   "nbconvert_exporter": "python",
   "pygments_lexer": "ipython3",
   "version": "3.9.19"
  }
 },
 "nbformat": 4,
 "nbformat_minor": 5
}
