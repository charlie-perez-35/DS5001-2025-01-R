{
 "cells": [
  {
   "cell_type": "markdown",
   "id": "bbbcf60a-38b9-45f4-b904-b14653bc6dad",
   "metadata": {
    "tags": []
   },
   "source": [
    "# Doc2Vec\n",
    "\n",
    "DS 5001 Text as Data"
   ]
  },
  {
   "cell_type": "markdown",
   "id": "478f9803-1e13-421a-8e5f-e94fbaeaa11b",
   "metadata": {
    "jp-MarkdownHeadingCollapsed": true,
    "tags": []
   },
   "source": [
    "**Purpose:** Demonstrate use of Gensim's doc2vec implementation. You can use this to create document retrieval tools.\n",
    "\n",
    "See https://www.tutorialspoint.com/gensim/gensim_doc2vec_model.htm#\n",
    "\n",
    "> the Doc2Vec model, as opposed to the Word2Vec model, is used to create a vectorised representation of a group of words taken collectively as a single unit.\\\n",
    "> It doesn’t only give the simple average of the words in the sentence."
   ]
  },
  {
   "cell_type": "markdown",
   "id": "664f6a20-17c6-4cd4-9cb3-449ad4c6259f",
   "metadata": {},
   "source": [
    "# Set Up"
   ]
  },
  {
   "cell_type": "code",
   "execution_count": null,
   "id": "8194586b-24a1-4b2e-8434-6517eb7231ef",
   "metadata": {},
   "outputs": [],
   "source": [
    "import pandas as pd\n",
    "import numpy as np\n",
    "import gensim\n",
    "import plotly_express as px"
   ]
  },
  {
   "cell_type": "code",
   "execution_count": null,
   "id": "e4a92afd-5218-4403-af28-518b22420f59",
   "metadata": {
    "tags": []
   },
   "outputs": [],
   "source": [
    "import configparser\n",
    "config = configparser.ConfigParser()\n",
    "config.read(\"../../../env.ini\")\n",
    "data_home = config['DEFAULT']['data_home']\n",
    "output_dir = config['DEFAULT']['output_dir']\n",
    "local_lib = config['DEFAULT']['local_lib']"
   ]
  },
  {
   "cell_type": "code",
   "execution_count": null,
   "id": "79b64980-fec1-4ef3-9b39-32fe5aa2436c",
   "metadata": {},
   "outputs": [],
   "source": [
    "corpus_prefix = 'austen-melville'\n",
    "OHCO = ['book_id','chap_id','para_num','sent_num','token_num']\n",
    "BAG = OHCO[:1] # BOOKS"
   ]
  },
  {
   "cell_type": "markdown",
   "id": "6271c11b-e56a-44d5-8603-7cd02eeccabd",
   "metadata": {},
   "source": [
    "# Get Data"
   ]
  },
  {
   "cell_type": "code",
   "execution_count": null,
   "id": "b881ee5e-f228-404f-b9fb-52a662ea01a6",
   "metadata": {},
   "outputs": [],
   "source": [
    "LIB = pd.read_csv(f\"{output_dir}/{corpus_prefix}-LIB.csv\").set_index(['book_id'])\n",
    "LIB['author_id'] = LIB.author.str.split(', ').str[0]\n",
    "LIB['book_label'] = LIB.author_id + ' ' + LIB.index.astype('str') + ': ' + LIB.title.str[:20]"
   ]
  },
  {
   "cell_type": "code",
   "execution_count": null,
   "id": "35fa7de0-5bf7-4ac2-9523-4f070e12b61c",
   "metadata": {},
   "outputs": [],
   "source": [
    "CORPUS = pd.read_csv(f\"{output_dir}/{corpus_prefix}-CORPUS.csv\").set_index(OHCO)[['pos','term_str']]\n",
    "# DOCS = CORPUS.groupby(BAG)"
   ]
  },
  {
   "cell_type": "markdown",
   "id": "da476a0a-50a7-4303-a3d5-34ac36b746e6",
   "metadata": {},
   "source": [
    "# Convert to Gensim\n",
    "\n",
    "We follow the Gensim recipe for converting our data from a dataframe to a TaggedDocument.\n",
    "\n",
    "Note we use `yield` here. \n",
    "\n",
    "`yield` is used inside a function to make it a **generator**.\n",
    "\n",
    "A generator function doesn’t return all its results at once. \n",
    "\n",
    "Instead, it yields them one at a time, pausing between each result and resuming where it left off."
   ]
  },
  {
   "cell_type": "code",
   "execution_count": null,
   "id": "3858769b-8ae5-498f-881b-7d9c6657c85c",
   "metadata": {},
   "outputs": [],
   "source": [
    "gensim.models.doc2vec.TaggedDocument?"
   ]
  },
  {
   "cell_type": "code",
   "execution_count": null,
   "id": "d0013ee1-255e-4269-bf70-6ccc9ae9bd34",
   "metadata": {},
   "outputs": [],
   "source": [
    "def tagged_document(list_of_list_of_words):\n",
    "    for i, list_of_words in enumerate(list_of_list_of_words):\n",
    "      yield gensim.models.doc2vec.TaggedDocument([str(w) for w in list_of_words], [i])"
   ]
  },
  {
   "cell_type": "code",
   "execution_count": null,
   "id": "52a51024-c033-453c-97cb-a0e5ab22d846",
   "metadata": {},
   "outputs": [],
   "source": [
    "data =  CORPUS.groupby(BAG).term_str.apply(lambda x: x.to_list()).to_list()\n",
    "data_for_training = list(tagged_document(data))"
   ]
  },
  {
   "cell_type": "code",
   "execution_count": null,
   "id": "475bff31-aec2-441d-a4f9-de771776628b",
   "metadata": {},
   "outputs": [],
   "source": [
    "data_for_training[6][0][:10]"
   ]
  },
  {
   "cell_type": "code",
   "execution_count": null,
   "id": "f5e5717a-ac1e-403c-87c2-3417937a1c23",
   "metadata": {
    "scrolled": true
   },
   "outputs": [],
   "source": [
    "data_for_training[6][1]"
   ]
  },
  {
   "cell_type": "markdown",
   "id": "ceaf6861-c713-4cb9-b4b8-e4943bf27273",
   "metadata": {},
   "source": [
    "# Generate Model"
   ]
  },
  {
   "cell_type": "code",
   "execution_count": null,
   "id": "112ba80a-fea8-43eb-8c9e-94761d44485a",
   "metadata": {},
   "outputs": [],
   "source": [
    "model = gensim.models.doc2vec.Doc2Vec(vector_size=40, min_count=2, epochs=30)\n",
    "model.build_vocab(data_for_training)\n",
    "model.train(data_for_training, total_examples=model.corpus_count, epochs=model.epochs)"
   ]
  },
  {
   "cell_type": "markdown",
   "id": "d2bd3ed4-5c8d-4a97-bd7a-bd34aff9bc2a",
   "metadata": {
    "tags": []
   },
   "source": [
    "# Document Embedding Matrix"
   ]
  },
  {
   "cell_type": "code",
   "execution_count": null,
   "id": "b156ff7e-a593-42b8-a856-3a59d776c391",
   "metadata": {},
   "outputs": [],
   "source": [
    "X = pd.DataFrame( model.dv.get_normed_vectors(), index=LIB.book_label)"
   ]
  },
  {
   "cell_type": "code",
   "execution_count": null,
   "id": "e6a1c35a-0318-4cca-a61f-678e7fdacb15",
   "metadata": {},
   "outputs": [],
   "source": [
    "X.head()"
   ]
  },
  {
   "cell_type": "code",
   "execution_count": null,
   "id": "2bdbdfd4-b7c0-4864-965f-b5dd097f7aa7",
   "metadata": {},
   "outputs": [],
   "source": [
    "px.imshow(X, color_continuous_scale=px.colors.diverging.Spectral)"
   ]
  },
  {
   "cell_type": "code",
   "execution_count": null,
   "id": "6cf95c23-9767-476a-8495-c332043e0495",
   "metadata": {},
   "outputs": [],
   "source": [
    "import sys\n",
    "sys.path.append(local_lib)\n",
    "from hac2 import HAC"
   ]
  },
  {
   "cell_type": "code",
   "execution_count": null,
   "id": "09d0c12f-2e5c-4190-b643-56b680872279",
   "metadata": {},
   "outputs": [],
   "source": [
    "dv_tree = HAC(X)\n",
    "dv_tree.color_thresh = 1.5\n",
    "dv_tree.plot()"
   ]
  },
  {
   "cell_type": "markdown",
   "id": "d0569338-b4d6-4b65-ba61-58849351b310",
   "metadata": {},
   "source": [
    "# Try Out"
   ]
  },
  {
   "cell_type": "code",
   "execution_count": null,
   "id": "69994c9f-8c49-4cf7-abc6-a7d0599cfe1d",
   "metadata": {},
   "outputs": [],
   "source": [
    "r1 = model.infer_vector(\"We went sailing on the Pacific\".split())\n",
    "r2 = model.infer_vector(\"I so enjoyed the visit to Bath\".split())"
   ]
  },
  {
   "cell_type": "code",
   "execution_count": null,
   "id": "8ee2912f-daf0-4b0c-a500-ee06c0fff3f7",
   "metadata": {},
   "outputs": [],
   "source": [
    "R = pd.DataFrame(dict(r1=r1, r2=r2))"
   ]
  },
  {
   "cell_type": "code",
   "execution_count": null,
   "id": "daffdf52-0265-4bd9-b3b5-20eae29ce8c4",
   "metadata": {
    "scrolled": true
   },
   "outputs": [],
   "source": [
    "px.imshow(R.T, width=1000, height=200, color_continuous_scale=px.colors.diverging.Spectral, color_continuous_midpoint=0)"
   ]
  }
 ],
 "metadata": {
  "kernelspec": {
   "display_name": "eta",
   "language": "python",
   "name": "eta"
  },
  "language_info": {
   "codemirror_mode": {
    "name": "ipython",
    "version": 3
   },
   "file_extension": ".py",
   "mimetype": "text/x-python",
   "name": "python",
   "nbconvert_exporter": "python",
   "pygments_lexer": "ipython3",
   "version": "3.9.19"
  },
  "widgets": {
   "application/vnd.jupyter.widget-state+json": {
    "state": {},
    "version_major": 2,
    "version_minor": 0
   }
  }
 },
 "nbformat": 4,
 "nbformat_minor": 5
}
