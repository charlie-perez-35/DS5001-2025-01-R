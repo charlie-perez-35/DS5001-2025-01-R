{
 "cells": [
  {
   "cell_type": "markdown",
   "metadata": {
    "colab_type": "text",
    "id": "hMvHK6QDmPy9",
    "slideshow": {
     "slide_type": "slide"
    },
    "tags": [],
    "toc-hr-collapsed": false
   },
   "source": [
    "# Metadata\n",
    "\n",
    "```yaml\n",
    "Course:    DS 5001\n",
    "Module:    12 Lab\n",
    "Topic:     Classification with Naive Bayes\n",
    "Author:    R.C. Alvarado\n",
    "Date:      16 April 2023 (revised)\n",
    "```\n",
    "\n",
    "**Purpose:** We attempt a Naive Bayes classifier for the sentiment of a corpus of wine reviews. We use the score of the review as our sentiment value, assuming that a bad review will have negative sentiment and a good review will have positive sentiment."
   ]
  },
  {
   "cell_type": "markdown",
   "metadata": {},
   "source": [
    "# Overview"
   ]
  },
  {
   "cell_type": "markdown",
   "metadata": {},
   "source": [
    "The prediction of the document's ($d$) label or class $c$ can be viewed as problem of conditional probability:\n",
    "* $p(c|d)$ ?\n",
    "* $p(c|d) = \\large\\frac{p(c)p(d|c)}{p(d)}$\n",
    "* $p(c|d) = p(c)p(d|c)$\n",
    "\n",
    "We use Maximum A Posteriori estimation (MAP) to predict the label:\n",
    "* $p(c|d) = \\underset{C}{\\mathrm{argmax}} p(c)p(d|c)$ \n",
    "\n",
    "To solve this, we need to estimate the values of the priors $p(c)$ and the likelihoods $p(d|c)$.\n",
    "* Prior: $p(c)$ the independent frequency of a given category.\n",
    "* Likelihood: $p(d|c)$ the frequency of the document for a given category. \n",
    "\n",
    "The likelihoods are essentially unigram language models for each label. They are similar to topics in this sense.\n",
    "\n",
    "Note that $d$ is a sequence of words $w_{1}^{N}$, which means we apply the independence assumption to avoid the chain rule:\n",
    "* $p(d|c) = p(w_{1}^{N}|c) = p(w_{1}|c)p(w_{2},w_{1}|c) ... $\n",
    "* $p(d|c) = \\prod{p(w_{i}|c}) = \\sum{log(p(w_{i}|c))}$\n",
    "\n",
    "So, we get:\n",
    "* $p(c|d) = \\underset{C}{\\mathrm{argmax}} p(c)\\sum{log(p(w_{i}|c))}$ \n",
    "\n",
    "We can estimate the priors and the likelihoods using Maximum Likelihood Estimation (MLE) from data that gives \\\n",
    "the joint distribution of documents and labels, where documents are represented as bags of words. \n",
    "\n",
    "This joint distribution is just the TOKEN table with the label from the LIB table joined to it.\n",
    "* $(d,w,c)$\n"
   ]
  },
  {
   "cell_type": "markdown",
   "metadata": {
    "colab_type": "text",
    "id": "gEg4USFAmPzB",
    "slideshow": {
     "slide_type": "-"
    }
   },
   "source": [
    "# Set Up"
   ]
  },
  {
   "cell_type": "markdown",
   "metadata": {
    "colab_type": "text",
    "id": "gEg4USFAmPzB",
    "slideshow": {
     "slide_type": "-"
    }
   },
   "source": [
    "## Configure"
   ]
  },
  {
   "cell_type": "code",
   "execution_count": 2,
   "metadata": {
    "colab": {},
    "colab_type": "code",
    "id": "I2ZqwwztmPzD",
    "slideshow": {
     "slide_type": "slide"
    }
   },
   "outputs": [],
   "source": [
    "data_in = '../../../data'\n",
    "data_out = '../../../data'\n",
    "prefix = 'winereviews'"
   ]
  },
  {
   "cell_type": "markdown",
   "metadata": {
    "colab": {},
    "colab_type": "code",
    "id": "I2ZqwwztmPzD",
    "slideshow": {
     "slide_type": "slide"
    }
   },
   "source": [
    "**Set some parameters**\n",
    "\n",
    "We create an empty static class to store our parameters."
   ]
  },
  {
   "cell_type": "code",
   "execution_count": 3,
   "metadata": {},
   "outputs": [],
   "source": [
    "class Params:\n",
    "    qntile_P = .9\n",
    "    qntile_N = .1\n",
    "    n_sets = 4 # We want 4 so we can use 3 for training, 1 for testing.\n",
    "    smooth_alpha = .1\n",
    "    prior_method = 'docs' # 'tokens' or 'docs'    "
   ]
  },
  {
   "cell_type": "markdown",
   "metadata": {
    "colab_type": "text",
    "id": "a1evEJDGmPzN"
   },
   "source": [
    "## Import"
   ]
  },
  {
   "cell_type": "code",
   "execution_count": 4,
   "metadata": {
    "colab": {},
    "colab_type": "code",
    "id": "CSP6e43amPzP"
   },
   "outputs": [],
   "source": [
    "import pandas as pd\n",
    "import numpy as np\n",
    "from numpy import log2 as log\n",
    "from numpy import exp2 as exp\n",
    "from numpy.random import randint\n",
    "import lib.textman as tx"
   ]
  },
  {
   "cell_type": "markdown",
   "metadata": {
    "toc-hr-collapsed": false
   },
   "source": [
    "# Preparation"
   ]
  },
  {
   "cell_type": "markdown",
   "metadata": {},
   "source": [
    "## Import wine reviews"
   ]
  },
  {
   "cell_type": "code",
   "execution_count": 5,
   "metadata": {},
   "outputs": [],
   "source": [
    "docs = pd.read_csv(f'{data_in}/{prefix}/winereviews.csv', index_col='doc_id')"
   ]
  },
  {
   "cell_type": "code",
   "execution_count": 6,
   "metadata": {},
   "outputs": [
    {
     "data": {
      "text/html": [
       "<div>\n",
       "<style scoped>\n",
       "    .dataframe tbody tr th:only-of-type {\n",
       "        vertical-align: middle;\n",
       "    }\n",
       "\n",
       "    .dataframe tbody tr th {\n",
       "        vertical-align: top;\n",
       "    }\n",
       "\n",
       "    .dataframe thead th {\n",
       "        text-align: right;\n",
       "    }\n",
       "</style>\n",
       "<table border=\"1\" class=\"dataframe\">\n",
       "  <thead>\n",
       "    <tr style=\"text-align: right;\">\n",
       "      <th></th>\n",
       "      <th>doc_content</th>\n",
       "      <th>points</th>\n",
       "    </tr>\n",
       "    <tr>\n",
       "      <th>doc_id</th>\n",
       "      <th></th>\n",
       "      <th></th>\n",
       "    </tr>\n",
       "  </thead>\n",
       "  <tbody>\n",
       "    <tr>\n",
       "      <th>0</th>\n",
       "      <td>Aromas include tropical fruit, broom, brimston...</td>\n",
       "      <td>87</td>\n",
       "    </tr>\n",
       "    <tr>\n",
       "      <th>1</th>\n",
       "      <td>This is ripe and fruity, a wine that is smooth...</td>\n",
       "      <td>87</td>\n",
       "    </tr>\n",
       "    <tr>\n",
       "      <th>2</th>\n",
       "      <td>Tart and snappy, the flavors of lime flesh and...</td>\n",
       "      <td>87</td>\n",
       "    </tr>\n",
       "    <tr>\n",
       "      <th>3</th>\n",
       "      <td>Pineapple rind, lemon pith and orange blossom ...</td>\n",
       "      <td>87</td>\n",
       "    </tr>\n",
       "    <tr>\n",
       "      <th>4</th>\n",
       "      <td>Much like the regular bottling from 2012, this...</td>\n",
       "      <td>87</td>\n",
       "    </tr>\n",
       "  </tbody>\n",
       "</table>\n",
       "</div>"
      ],
      "text/plain": [
       "                                              doc_content  points\n",
       "doc_id                                                           \n",
       "0       Aromas include tropical fruit, broom, brimston...      87\n",
       "1       This is ripe and fruity, a wine that is smooth...      87\n",
       "2       Tart and snappy, the flavors of lime flesh and...      87\n",
       "3       Pineapple rind, lemon pith and orange blossom ...      87\n",
       "4       Much like the regular bottling from 2012, this...      87"
      ]
     },
     "execution_count": 6,
     "metadata": {},
     "output_type": "execute_result"
    }
   ],
   "source": [
    "docs.head()"
   ]
  },
  {
   "cell_type": "markdown",
   "metadata": {
    "toc-hr-collapsed": true
   },
   "source": [
    "## Convert points to labels"
   ]
  },
  {
   "cell_type": "markdown",
   "metadata": {
    "colab": {},
    "colab_type": "code",
    "id": "t12Rx04OmPz2"
   },
   "source": [
    "**Keep only reviews with high and low ratings**"
   ]
  },
  {
   "cell_type": "code",
   "execution_count": 7,
   "metadata": {
    "colab": {},
    "colab_type": "code",
    "id": "t12Rx04OmPz2"
   },
   "outputs": [],
   "source": [
    "bound_P = int(docs['points'].quantile(Params.qntile_P))\n",
    "bound_N = int(docs['points'].quantile(Params.qntile_N))\n",
    "docs = docs[(docs.points <= bound_N) | (docs.points >= bound_P)]"
   ]
  },
  {
   "cell_type": "code",
   "execution_count": 8,
   "metadata": {},
   "outputs": [
    {
     "data": {
      "text/plain": [
       "(84, 93)"
      ]
     },
     "execution_count": 8,
     "metadata": {},
     "output_type": "execute_result"
    }
   ],
   "source": [
    "bound_N, bound_P"
   ]
  },
  {
   "cell_type": "code",
   "execution_count": 9,
   "metadata": {
    "colab": {},
    "colab_type": "code",
    "id": "t12Rx04OmPz2"
   },
   "outputs": [
    {
     "data": {
      "text/html": [
       "<div>\n",
       "<style scoped>\n",
       "    .dataframe tbody tr th:only-of-type {\n",
       "        vertical-align: middle;\n",
       "    }\n",
       "\n",
       "    .dataframe tbody tr th {\n",
       "        vertical-align: top;\n",
       "    }\n",
       "\n",
       "    .dataframe thead th {\n",
       "        text-align: right;\n",
       "    }\n",
       "</style>\n",
       "<table border=\"1\" class=\"dataframe\">\n",
       "  <thead>\n",
       "    <tr style=\"text-align: right;\">\n",
       "      <th></th>\n",
       "      <th>doc_content</th>\n",
       "      <th>points</th>\n",
       "    </tr>\n",
       "    <tr>\n",
       "      <th>doc_id</th>\n",
       "      <th></th>\n",
       "      <th></th>\n",
       "    </tr>\n",
       "  </thead>\n",
       "  <tbody>\n",
       "    <tr>\n",
       "      <th>2763</th>\n",
       "      <td>Fermented entirely in stainless steel, this is...</td>\n",
       "      <td>84</td>\n",
       "    </tr>\n",
       "    <tr>\n",
       "      <th>83695</th>\n",
       "      <td>Awkward. Even though the oak is described as “...</td>\n",
       "      <td>84</td>\n",
       "    </tr>\n",
       "    <tr>\n",
       "      <th>118275</th>\n",
       "      <td>A new addition to the lineup, this wine is a b...</td>\n",
       "      <td>93</td>\n",
       "    </tr>\n",
       "    <tr>\n",
       "      <th>64678</th>\n",
       "      <td>Simple and sugary sweet, with orange and apric...</td>\n",
       "      <td>83</td>\n",
       "    </tr>\n",
       "    <tr>\n",
       "      <th>106744</th>\n",
       "      <td>Opens with a complex nose of cherry, plum, coc...</td>\n",
       "      <td>83</td>\n",
       "    </tr>\n",
       "  </tbody>\n",
       "</table>\n",
       "</div>"
      ],
      "text/plain": [
       "                                              doc_content  points\n",
       "doc_id                                                           \n",
       "2763    Fermented entirely in stainless steel, this is...      84\n",
       "83695   Awkward. Even though the oak is described as “...      84\n",
       "118275  A new addition to the lineup, this wine is a b...      93\n",
       "64678   Simple and sugary sweet, with orange and apric...      83\n",
       "106744  Opens with a complex nose of cherry, plum, coc...      83"
      ]
     },
     "execution_count": 9,
     "metadata": {},
     "output_type": "execute_result"
    }
   ],
   "source": [
    "docs.sample(5)"
   ]
  },
  {
   "cell_type": "markdown",
   "metadata": {
    "colab": {},
    "colab_type": "code",
    "id": "t12Rx04OmPz2"
   },
   "source": [
    "**Assign labels for high and low**"
   ]
  },
  {
   "cell_type": "code",
   "execution_count": 10,
   "metadata": {
    "colab": {},
    "colab_type": "code",
    "id": "ss1aG-HVmP0M"
   },
   "outputs": [],
   "source": [
    "docs.loc[docs['points'] >= 90, 'doc_label'] = 'P'\n",
    "docs.loc[docs['points'] < 90, 'doc_label'] = 'N'"
   ]
  },
  {
   "cell_type": "code",
   "execution_count": 11,
   "metadata": {
    "colab": {},
    "colab_type": "code",
    "id": "ss1aG-HVmP0M"
   },
   "outputs": [
    {
     "data": {
      "text/html": [
       "<div>\n",
       "<style scoped>\n",
       "    .dataframe tbody tr th:only-of-type {\n",
       "        vertical-align: middle;\n",
       "    }\n",
       "\n",
       "    .dataframe tbody tr th {\n",
       "        vertical-align: top;\n",
       "    }\n",
       "\n",
       "    .dataframe thead th {\n",
       "        text-align: right;\n",
       "    }\n",
       "</style>\n",
       "<table border=\"1\" class=\"dataframe\">\n",
       "  <thead>\n",
       "    <tr style=\"text-align: right;\">\n",
       "      <th></th>\n",
       "      <th>doc_content</th>\n",
       "      <th>points</th>\n",
       "      <th>doc_label</th>\n",
       "    </tr>\n",
       "    <tr>\n",
       "      <th>doc_id</th>\n",
       "      <th></th>\n",
       "      <th></th>\n",
       "      <th></th>\n",
       "    </tr>\n",
       "  </thead>\n",
       "  <tbody>\n",
       "    <tr>\n",
       "      <th>336</th>\n",
       "      <td>Gritty, heavily roasted aromas of peanuts and ...</td>\n",
       "      <td>83</td>\n",
       "      <td>N</td>\n",
       "    </tr>\n",
       "    <tr>\n",
       "      <th>337</th>\n",
       "      <td>An easy and inviting selection, there's a ment...</td>\n",
       "      <td>83</td>\n",
       "      <td>N</td>\n",
       "    </tr>\n",
       "    <tr>\n",
       "      <th>338</th>\n",
       "      <td>The wine is earthy and somewhat rustic. There ...</td>\n",
       "      <td>82</td>\n",
       "      <td>N</td>\n",
       "    </tr>\n",
       "    <tr>\n",
       "      <th>339</th>\n",
       "      <td>Red in color, with berry and apple aromas, thi...</td>\n",
       "      <td>82</td>\n",
       "      <td>N</td>\n",
       "    </tr>\n",
       "    <tr>\n",
       "      <th>340</th>\n",
       "      <td>The nose is muted, despite the slight spritz o...</td>\n",
       "      <td>82</td>\n",
       "      <td>N</td>\n",
       "    </tr>\n",
       "  </tbody>\n",
       "</table>\n",
       "</div>"
      ],
      "text/plain": [
       "                                              doc_content  points doc_label\n",
       "doc_id                                                                     \n",
       "336     Gritty, heavily roasted aromas of peanuts and ...      83         N\n",
       "337     An easy and inviting selection, there's a ment...      83         N\n",
       "338     The wine is earthy and somewhat rustic. There ...      82         N\n",
       "339     Red in color, with berry and apple aromas, thi...      82         N\n",
       "340     The nose is muted, despite the slight spritz o...      82         N"
      ]
     },
     "execution_count": 11,
     "metadata": {},
     "output_type": "execute_result"
    }
   ],
   "source": [
    "docs.head()"
   ]
  },
  {
   "cell_type": "markdown",
   "metadata": {},
   "source": [
    "**Drop points columns**"
   ]
  },
  {
   "cell_type": "code",
   "execution_count": 12,
   "metadata": {
    "colab": {},
    "colab_type": "code",
    "id": "ss1aG-HVmP0M"
   },
   "outputs": [],
   "source": [
    "try:\n",
    "    docs = docs.drop('points', axis=1)\n",
    "except KeyError as e:\n",
    "    if \"not found in axis\" in str(e):\n",
    "        pass\n",
    "    else:\n",
    "        print(e)"
   ]
  },
  {
   "cell_type": "code",
   "execution_count": 13,
   "metadata": {
    "colab": {},
    "colab_type": "code",
    "id": "ss1aG-HVmP0M"
   },
   "outputs": [
    {
     "data": {
      "text/html": [
       "<div>\n",
       "<style scoped>\n",
       "    .dataframe tbody tr th:only-of-type {\n",
       "        vertical-align: middle;\n",
       "    }\n",
       "\n",
       "    .dataframe tbody tr th {\n",
       "        vertical-align: top;\n",
       "    }\n",
       "\n",
       "    .dataframe thead th {\n",
       "        text-align: right;\n",
       "    }\n",
       "</style>\n",
       "<table border=\"1\" class=\"dataframe\">\n",
       "  <thead>\n",
       "    <tr style=\"text-align: right;\">\n",
       "      <th></th>\n",
       "      <th>doc_content</th>\n",
       "      <th>doc_label</th>\n",
       "    </tr>\n",
       "    <tr>\n",
       "      <th>doc_id</th>\n",
       "      <th></th>\n",
       "      <th></th>\n",
       "    </tr>\n",
       "  </thead>\n",
       "  <tbody>\n",
       "    <tr>\n",
       "      <th>336</th>\n",
       "      <td>Gritty, heavily roasted aromas of peanuts and ...</td>\n",
       "      <td>N</td>\n",
       "    </tr>\n",
       "    <tr>\n",
       "      <th>337</th>\n",
       "      <td>An easy and inviting selection, there's a ment...</td>\n",
       "      <td>N</td>\n",
       "    </tr>\n",
       "    <tr>\n",
       "      <th>338</th>\n",
       "      <td>The wine is earthy and somewhat rustic. There ...</td>\n",
       "      <td>N</td>\n",
       "    </tr>\n",
       "    <tr>\n",
       "      <th>339</th>\n",
       "      <td>Red in color, with berry and apple aromas, thi...</td>\n",
       "      <td>N</td>\n",
       "    </tr>\n",
       "    <tr>\n",
       "      <th>340</th>\n",
       "      <td>The nose is muted, despite the slight spritz o...</td>\n",
       "      <td>N</td>\n",
       "    </tr>\n",
       "  </tbody>\n",
       "</table>\n",
       "</div>"
      ],
      "text/plain": [
       "                                              doc_content doc_label\n",
       "doc_id                                                             \n",
       "336     Gritty, heavily roasted aromas of peanuts and ...         N\n",
       "337     An easy and inviting selection, there's a ment...         N\n",
       "338     The wine is earthy and somewhat rustic. There ...         N\n",
       "339     Red in color, with berry and apple aromas, thi...         N\n",
       "340     The nose is muted, despite the slight spritz o...         N"
      ]
     },
     "execution_count": 13,
     "metadata": {},
     "output_type": "execute_result"
    }
   ],
   "source": [
    "docs.head()"
   ]
  },
  {
   "cell_type": "markdown",
   "metadata": {},
   "source": [
    "## Divide docs into train and test sets\n",
    "\n",
    "Note: Packages like SciKit learn do this for you. Here we do it from scratch."
   ]
  },
  {
   "cell_type": "markdown",
   "metadata": {
    "colab": {},
    "colab_type": "code",
    "id": "Rh3_gYzmmP0Z"
   },
   "source": [
    "**Assign random numbers to docs**"
   ]
  },
  {
   "cell_type": "code",
   "execution_count": 14,
   "metadata": {
    "colab": {},
    "colab_type": "code",
    "id": "Rh3_gYzmmP0Z"
   },
   "outputs": [],
   "source": [
    "docs['set'] = randint(0, Params.n_sets, len(docs.index))"
   ]
  },
  {
   "cell_type": "code",
   "execution_count": 15,
   "metadata": {
    "colab": {},
    "colab_type": "code",
    "id": "Rh3_gYzmmP0Z"
   },
   "outputs": [
    {
     "data": {
      "text/html": [
       "<div>\n",
       "<style scoped>\n",
       "    .dataframe tbody tr th:only-of-type {\n",
       "        vertical-align: middle;\n",
       "    }\n",
       "\n",
       "    .dataframe tbody tr th {\n",
       "        vertical-align: top;\n",
       "    }\n",
       "\n",
       "    .dataframe thead th {\n",
       "        text-align: right;\n",
       "    }\n",
       "</style>\n",
       "<table border=\"1\" class=\"dataframe\">\n",
       "  <thead>\n",
       "    <tr style=\"text-align: right;\">\n",
       "      <th></th>\n",
       "      <th>doc_content</th>\n",
       "      <th>doc_label</th>\n",
       "      <th>set</th>\n",
       "    </tr>\n",
       "    <tr>\n",
       "      <th>doc_id</th>\n",
       "      <th></th>\n",
       "      <th></th>\n",
       "      <th></th>\n",
       "    </tr>\n",
       "  </thead>\n",
       "  <tbody>\n",
       "    <tr>\n",
       "      <th>336</th>\n",
       "      <td>Gritty, heavily roasted aromas of peanuts and ...</td>\n",
       "      <td>N</td>\n",
       "      <td>3</td>\n",
       "    </tr>\n",
       "    <tr>\n",
       "      <th>337</th>\n",
       "      <td>An easy and inviting selection, there's a ment...</td>\n",
       "      <td>N</td>\n",
       "      <td>0</td>\n",
       "    </tr>\n",
       "    <tr>\n",
       "      <th>338</th>\n",
       "      <td>The wine is earthy and somewhat rustic. There ...</td>\n",
       "      <td>N</td>\n",
       "      <td>0</td>\n",
       "    </tr>\n",
       "    <tr>\n",
       "      <th>339</th>\n",
       "      <td>Red in color, with berry and apple aromas, thi...</td>\n",
       "      <td>N</td>\n",
       "      <td>1</td>\n",
       "    </tr>\n",
       "    <tr>\n",
       "      <th>340</th>\n",
       "      <td>The nose is muted, despite the slight spritz o...</td>\n",
       "      <td>N</td>\n",
       "      <td>1</td>\n",
       "    </tr>\n",
       "  </tbody>\n",
       "</table>\n",
       "</div>"
      ],
      "text/plain": [
       "                                              doc_content doc_label  set\n",
       "doc_id                                                                  \n",
       "336     Gritty, heavily roasted aromas of peanuts and ...         N    3\n",
       "337     An easy and inviting selection, there's a ment...         N    0\n",
       "338     The wine is earthy and somewhat rustic. There ...         N    0\n",
       "339     Red in color, with berry and apple aromas, thi...         N    1\n",
       "340     The nose is muted, despite the slight spritz o...         N    1"
      ]
     },
     "execution_count": 15,
     "metadata": {},
     "output_type": "execute_result"
    }
   ],
   "source": [
    "docs.head()"
   ]
  },
  {
   "cell_type": "markdown",
   "metadata": {},
   "source": [
    "**Split docs by assigned number**"
   ]
  },
  {
   "cell_type": "code",
   "execution_count": 16,
   "metadata": {},
   "outputs": [],
   "source": [
    "training_docs = docs[docs.set != 0].copy()\n",
    "testing_docs = docs[docs.set == 0].copy()\n",
    "del(docs)"
   ]
  },
  {
   "cell_type": "markdown",
   "metadata": {},
   "source": [
    "Drop `set` columns."
   ]
  },
  {
   "cell_type": "code",
   "execution_count": 17,
   "metadata": {},
   "outputs": [],
   "source": [
    "try:\n",
    "    training_docs = training_docs.drop('set', axis=1)\n",
    "    testing_docs = testing_docs.drop('set', axis=1)\n",
    "except KeyError as e:\n",
    "    if \"not found in axis\" in str(e):\n",
    "        pass\n",
    "    else:\n",
    "        print(e)"
   ]
  },
  {
   "cell_type": "markdown",
   "metadata": {},
   "source": [
    "See ratio of set sizes."
   ]
  },
  {
   "cell_type": "code",
   "execution_count": 18,
   "metadata": {
    "scrolled": true
   },
   "outputs": [
    {
     "data": {
      "text/plain": [
       "2.95"
      ]
     },
     "execution_count": 18,
     "metadata": {},
     "output_type": "execute_result"
    }
   ],
   "source": [
    "round(len(training_docs) / len(testing_docs), 2)"
   ]
  },
  {
   "cell_type": "markdown",
   "metadata": {},
   "source": [
    "## Convert docs to tokens\n",
    "\n",
    "**Note that we only use the vocabulary of the training data.**"
   ]
  },
  {
   "cell_type": "code",
   "execution_count": 19,
   "metadata": {},
   "outputs": [],
   "source": [
    "training_tokens, vocab = tx.create_tokens_and_vocab(training_docs, src_col='doc_content')\n",
    "testing_tokens, _ = tx.create_tokens_and_vocab(testing_docs, src_col='doc_content')"
   ]
  },
  {
   "cell_type": "markdown",
   "metadata": {},
   "source": [
    "Clean up results. Remove `term_id` from tables; just use `term_str`.\\\n",
    "This is only need because we are using a legacy library to do our tokenization."
   ]
  },
  {
   "cell_type": "code",
   "execution_count": 20,
   "metadata": {},
   "outputs": [],
   "source": [
    "vocab = vocab[vocab.sw == False]"
   ]
  },
  {
   "cell_type": "code",
   "execution_count": 21,
   "metadata": {},
   "outputs": [],
   "source": [
    "try:\n",
    "    vocab = vocab.reset_index(drop=True).set_index('term_str')\n",
    "except KeyError as e:\n",
    "    if \"None of ['term_str'] are in the columns\" in str(e):\n",
    "        pass\n",
    "    else:\n",
    "        print(e)    "
   ]
  },
  {
   "cell_type": "code",
   "execution_count": 22,
   "metadata": {},
   "outputs": [],
   "source": [
    "try:\n",
    "    training_tokens = training_tokens.drop(['term_id','token'], axis=1)\n",
    "    testing_tokens = testing_tokens.drop(['term_id','token'], axis=1)\n",
    "except KeyError as e:\n",
    "    if \"not found in axis\" in str(e):\n",
    "        pass\n",
    "    else:\n",
    "        print(e)"
   ]
  },
  {
   "cell_type": "code",
   "execution_count": 23,
   "metadata": {},
   "outputs": [
    {
     "data": {
      "text/html": [
       "<div>\n",
       "<style scoped>\n",
       "    .dataframe tbody tr th:only-of-type {\n",
       "        vertical-align: middle;\n",
       "    }\n",
       "\n",
       "    .dataframe tbody tr th {\n",
       "        vertical-align: top;\n",
       "    }\n",
       "\n",
       "    .dataframe thead th {\n",
       "        text-align: right;\n",
       "    }\n",
       "</style>\n",
       "<table border=\"1\" class=\"dataframe\">\n",
       "  <thead>\n",
       "    <tr style=\"text-align: right;\">\n",
       "      <th></th>\n",
       "      <th></th>\n",
       "      <th></th>\n",
       "      <th>term_str</th>\n",
       "    </tr>\n",
       "    <tr>\n",
       "      <th>doc_id</th>\n",
       "      <th>sent_id</th>\n",
       "      <th>token_id</th>\n",
       "      <th></th>\n",
       "    </tr>\n",
       "  </thead>\n",
       "  <tbody>\n",
       "    <tr>\n",
       "      <th rowspan=\"5\" valign=\"top\">336</th>\n",
       "      <th rowspan=\"5\" valign=\"top\">0</th>\n",
       "      <th>0</th>\n",
       "      <td>gritty</td>\n",
       "    </tr>\n",
       "    <tr>\n",
       "      <th>1</th>\n",
       "      <td>heavily</td>\n",
       "    </tr>\n",
       "    <tr>\n",
       "      <th>2</th>\n",
       "      <td>roasted</td>\n",
       "    </tr>\n",
       "    <tr>\n",
       "      <th>3</th>\n",
       "      <td>aromas</td>\n",
       "    </tr>\n",
       "    <tr>\n",
       "      <th>5</th>\n",
       "      <td>peanuts</td>\n",
       "    </tr>\n",
       "  </tbody>\n",
       "</table>\n",
       "</div>"
      ],
      "text/plain": [
       "                        term_str\n",
       "doc_id sent_id token_id         \n",
       "336    0       0          gritty\n",
       "               1         heavily\n",
       "               2         roasted\n",
       "               3          aromas\n",
       "               5         peanuts"
      ]
     },
     "execution_count": 23,
     "metadata": {},
     "output_type": "execute_result"
    }
   ],
   "source": [
    "training_tokens.head()"
   ]
  },
  {
   "cell_type": "code",
   "execution_count": 24,
   "metadata": {},
   "outputs": [
    {
     "data": {
      "text/html": [
       "<div>\n",
       "<style scoped>\n",
       "    .dataframe tbody tr th:only-of-type {\n",
       "        vertical-align: middle;\n",
       "    }\n",
       "\n",
       "    .dataframe tbody tr th {\n",
       "        vertical-align: top;\n",
       "    }\n",
       "\n",
       "    .dataframe thead th {\n",
       "        text-align: right;\n",
       "    }\n",
       "</style>\n",
       "<table border=\"1\" class=\"dataframe\">\n",
       "  <thead>\n",
       "    <tr style=\"text-align: right;\">\n",
       "      <th></th>\n",
       "      <th></th>\n",
       "      <th></th>\n",
       "      <th>term_str</th>\n",
       "    </tr>\n",
       "    <tr>\n",
       "      <th>doc_id</th>\n",
       "      <th>sent_id</th>\n",
       "      <th>token_id</th>\n",
       "      <th></th>\n",
       "    </tr>\n",
       "  </thead>\n",
       "  <tbody>\n",
       "    <tr>\n",
       "      <th rowspan=\"5\" valign=\"top\">337</th>\n",
       "      <th rowspan=\"5\" valign=\"top\">0</th>\n",
       "      <th>1</th>\n",
       "      <td>easy</td>\n",
       "    </tr>\n",
       "    <tr>\n",
       "      <th>3</th>\n",
       "      <td>inviting</td>\n",
       "    </tr>\n",
       "    <tr>\n",
       "      <th>4</th>\n",
       "      <td>selection</td>\n",
       "    </tr>\n",
       "    <tr>\n",
       "      <th>9</th>\n",
       "      <td>streak</td>\n",
       "    </tr>\n",
       "    <tr>\n",
       "      <th>12</th>\n",
       "      <td>soft</td>\n",
       "    </tr>\n",
       "  </tbody>\n",
       "</table>\n",
       "</div>"
      ],
      "text/plain": [
       "                          term_str\n",
       "doc_id sent_id token_id           \n",
       "337    0       1              easy\n",
       "               3          inviting\n",
       "               4         selection\n",
       "               9            streak\n",
       "               12             soft"
      ]
     },
     "execution_count": 24,
     "metadata": {},
     "output_type": "execute_result"
    }
   ],
   "source": [
    "testing_tokens.head()"
   ]
  },
  {
   "cell_type": "markdown",
   "metadata": {},
   "source": [
    "## Convert tokens to bag-of-words"
   ]
  },
  {
   "cell_type": "code",
   "execution_count": 25,
   "metadata": {},
   "outputs": [],
   "source": [
    "training_bow = training_tokens.groupby(['doc_id', 'term_str']).term_str.count().to_frame('n')\n",
    "testing_bow = testing_tokens.groupby(['doc_id', 'term_str']).term_str.count().to_frame('n')"
   ]
  },
  {
   "cell_type": "code",
   "execution_count": 26,
   "metadata": {},
   "outputs": [
    {
     "data": {
      "text/html": [
       "<div>\n",
       "<style scoped>\n",
       "    .dataframe tbody tr th:only-of-type {\n",
       "        vertical-align: middle;\n",
       "    }\n",
       "\n",
       "    .dataframe tbody tr th {\n",
       "        vertical-align: top;\n",
       "    }\n",
       "\n",
       "    .dataframe thead th {\n",
       "        text-align: right;\n",
       "    }\n",
       "</style>\n",
       "<table border=\"1\" class=\"dataframe\">\n",
       "  <thead>\n",
       "    <tr style=\"text-align: right;\">\n",
       "      <th></th>\n",
       "      <th></th>\n",
       "      <th>n</th>\n",
       "    </tr>\n",
       "    <tr>\n",
       "      <th>doc_id</th>\n",
       "      <th>term_str</th>\n",
       "      <th></th>\n",
       "    </tr>\n",
       "  </thead>\n",
       "  <tbody>\n",
       "    <tr>\n",
       "      <th rowspan=\"5\" valign=\"top\">336</th>\n",
       "      <th>aromas</th>\n",
       "      <td>1</td>\n",
       "    </tr>\n",
       "    <tr>\n",
       "      <th>back</th>\n",
       "      <td>1</td>\n",
       "    </tr>\n",
       "    <tr>\n",
       "      <th>berry</th>\n",
       "      <td>1</td>\n",
       "    </tr>\n",
       "    <tr>\n",
       "      <th>better</th>\n",
       "      <td>1</td>\n",
       "    </tr>\n",
       "    <tr>\n",
       "      <th>briny</th>\n",
       "      <td>1</td>\n",
       "    </tr>\n",
       "  </tbody>\n",
       "</table>\n",
       "</div>"
      ],
      "text/plain": [
       "                 n\n",
       "doc_id term_str   \n",
       "336    aromas    1\n",
       "       back      1\n",
       "       berry     1\n",
       "       better    1\n",
       "       briny     1"
      ]
     },
     "execution_count": 26,
     "metadata": {},
     "output_type": "execute_result"
    }
   ],
   "source": [
    "training_bow.head()"
   ]
  },
  {
   "cell_type": "code",
   "execution_count": 27,
   "metadata": {},
   "outputs": [
    {
     "data": {
      "text/html": [
       "<div>\n",
       "<style scoped>\n",
       "    .dataframe tbody tr th:only-of-type {\n",
       "        vertical-align: middle;\n",
       "    }\n",
       "\n",
       "    .dataframe tbody tr th {\n",
       "        vertical-align: top;\n",
       "    }\n",
       "\n",
       "    .dataframe thead th {\n",
       "        text-align: right;\n",
       "    }\n",
       "</style>\n",
       "<table border=\"1\" class=\"dataframe\">\n",
       "  <thead>\n",
       "    <tr style=\"text-align: right;\">\n",
       "      <th></th>\n",
       "      <th></th>\n",
       "      <th>n</th>\n",
       "    </tr>\n",
       "    <tr>\n",
       "      <th>doc_id</th>\n",
       "      <th>term_str</th>\n",
       "      <th></th>\n",
       "    </tr>\n",
       "  </thead>\n",
       "  <tbody>\n",
       "    <tr>\n",
       "      <th rowspan=\"5\" valign=\"top\">337</th>\n",
       "      <th>breezy</th>\n",
       "      <td>1</td>\n",
       "    </tr>\n",
       "    <tr>\n",
       "      <th>cherry</th>\n",
       "      <td>1</td>\n",
       "    </tr>\n",
       "    <tr>\n",
       "      <th>core</th>\n",
       "      <td>1</td>\n",
       "    </tr>\n",
       "    <tr>\n",
       "      <th>currant</th>\n",
       "      <td>1</td>\n",
       "    </tr>\n",
       "    <tr>\n",
       "      <th>easy</th>\n",
       "      <td>1</td>\n",
       "    </tr>\n",
       "  </tbody>\n",
       "</table>\n",
       "</div>"
      ],
      "text/plain": [
       "                 n\n",
       "doc_id term_str   \n",
       "337    breezy    1\n",
       "       cherry    1\n",
       "       core      1\n",
       "       currant   1\n",
       "       easy      1"
      ]
     },
     "execution_count": 27,
     "metadata": {},
     "output_type": "execute_result"
    }
   ],
   "source": [
    "testing_bow.head()"
   ]
  },
  {
   "cell_type": "markdown",
   "metadata": {},
   "source": [
    "## Transfer DOC labels and splits to BOW &mdash; **CRUCIAL**\n",
    "\n",
    "We **propagate** the training doc labels to each of tokens in the docs.\n",
    "Each `term_str` will then have \"votes\" for being either `P` or `N`."
   ]
  },
  {
   "cell_type": "code",
   "execution_count": 28,
   "metadata": {},
   "outputs": [],
   "source": [
    "try:\n",
    "    training_bow = training_bow.join(training_docs[['doc_label']], on='doc_id', how='inner')\n",
    "    # training_tokens = training_tokens.join(training_docs[['doc_label']], on='doc_id', how='inner')\n",
    "except ValueError as e:\n",
    "    if 'columns overlap' in str(e):\n",
    "        pass\n",
    "    else:\n",
    "        print(e)"
   ]
  },
  {
   "cell_type": "code",
   "execution_count": 29,
   "metadata": {},
   "outputs": [],
   "source": [
    "# training_tokens.head()"
   ]
  },
  {
   "cell_type": "code",
   "execution_count": 30,
   "metadata": {
    "tags": []
   },
   "outputs": [
    {
     "data": {
      "text/html": [
       "<div>\n",
       "<style scoped>\n",
       "    .dataframe tbody tr th:only-of-type {\n",
       "        vertical-align: middle;\n",
       "    }\n",
       "\n",
       "    .dataframe tbody tr th {\n",
       "        vertical-align: top;\n",
       "    }\n",
       "\n",
       "    .dataframe thead th {\n",
       "        text-align: right;\n",
       "    }\n",
       "</style>\n",
       "<table border=\"1\" class=\"dataframe\">\n",
       "  <thead>\n",
       "    <tr style=\"text-align: right;\">\n",
       "      <th></th>\n",
       "      <th></th>\n",
       "      <th>n</th>\n",
       "      <th>doc_label</th>\n",
       "    </tr>\n",
       "    <tr>\n",
       "      <th>doc_id</th>\n",
       "      <th>term_str</th>\n",
       "      <th></th>\n",
       "      <th></th>\n",
       "    </tr>\n",
       "  </thead>\n",
       "  <tbody>\n",
       "    <tr>\n",
       "      <th rowspan=\"5\" valign=\"top\">336</th>\n",
       "      <th>aromas</th>\n",
       "      <td>1</td>\n",
       "      <td>N</td>\n",
       "    </tr>\n",
       "    <tr>\n",
       "      <th>back</th>\n",
       "      <td>1</td>\n",
       "      <td>N</td>\n",
       "    </tr>\n",
       "    <tr>\n",
       "      <th>berry</th>\n",
       "      <td>1</td>\n",
       "      <td>N</td>\n",
       "    </tr>\n",
       "    <tr>\n",
       "      <th>better</th>\n",
       "      <td>1</td>\n",
       "      <td>N</td>\n",
       "    </tr>\n",
       "    <tr>\n",
       "      <th>briny</th>\n",
       "      <td>1</td>\n",
       "      <td>N</td>\n",
       "    </tr>\n",
       "  </tbody>\n",
       "</table>\n",
       "</div>"
      ],
      "text/plain": [
       "                 n doc_label\n",
       "doc_id term_str             \n",
       "336    aromas    1         N\n",
       "       back      1         N\n",
       "       berry     1         N\n",
       "       better    1         N\n",
       "       briny     1         N"
      ]
     },
     "execution_count": 30,
     "metadata": {},
     "output_type": "execute_result"
    }
   ],
   "source": [
    "training_bow.head()"
   ]
  },
  {
   "cell_type": "markdown",
   "metadata": {},
   "source": [
    "# Training"
   ]
  },
  {
   "cell_type": "markdown",
   "metadata": {},
   "source": [
    "## Estimate class priors $p(c)$\n",
    "\n",
    "$$\n",
    "\\hat{P}(c) = \\dfrac{N_{c}}{N_{d}}\n",
    "$$"
   ]
  },
  {
   "cell_type": "code",
   "execution_count": 31,
   "metadata": {},
   "outputs": [],
   "source": [
    "# training_bow.groupby('term_str')[['n']].sum().join(vocab, rsuffix='r').query(\"n != nr\")"
   ]
  },
  {
   "cell_type": "code",
   "execution_count": 32,
   "metadata": {},
   "outputs": [],
   "source": [
    "if Params.prior_method == 'tokens':\n",
    "    class_priors = training_bow['doc_label'].value_counts(normalize=True)\n",
    "elif Params.prior_method == 'docs':\n",
    "    class_priors = training_docs['doc_label'].value_counts(normalize=True)"
   ]
  },
  {
   "cell_type": "code",
   "execution_count": 33,
   "metadata": {},
   "outputs": [
    {
     "name": "stdout",
     "output_type": "stream",
     "text": [
      "By docs\n"
     ]
    },
    {
     "data": {
      "text/plain": [
       "P    0.502\n",
       "N    0.498\n",
       "Name: doc_label, dtype: float64"
      ]
     },
     "execution_count": 33,
     "metadata": {},
     "output_type": "execute_result"
    }
   ],
   "source": [
    "print(\"By\", Params.prior_method)\n",
    "np.round(class_priors, 3)"
   ]
  },
  {
   "cell_type": "markdown",
   "metadata": {},
   "source": [
    "**Convert priors to logs**"
   ]
  },
  {
   "cell_type": "code",
   "execution_count": 34,
   "metadata": {},
   "outputs": [],
   "source": [
    "class_priors_log = log(class_priors)"
   ]
  },
  {
   "cell_type": "code",
   "execution_count": 35,
   "metadata": {},
   "outputs": [
    {
     "data": {
      "text/plain": [
       "P   -0.993015\n",
       "N   -1.007019\n",
       "Name: doc_label, dtype: float64"
      ]
     },
     "execution_count": 35,
     "metadata": {},
     "output_type": "execute_result"
    }
   ],
   "source": [
    "class_priors_log"
   ]
  },
  {
   "cell_type": "code",
   "execution_count": 36,
   "metadata": {},
   "outputs": [],
   "source": [
    "# np.round(class_priors_log)"
   ]
  },
  {
   "cell_type": "markdown",
   "metadata": {
    "toc-hr-collapsed": true
   },
   "source": [
    "**Estimate likelihoods $p(w|c)$**\n",
    "\n",
    "$$\n",
    "\\hat{P}(w_i|c) = \\dfrac{count(w_i,c)}{\\sum_{w \\in V} count(w,c)}\n",
    "$$\n",
    "\n",
    "$$\n",
    "\\hat{P}(w_i|c) = \\dfrac{count(w_i,c)+1}{\\sum_{w \\in V} (count(w,c)+1)} = \\dfrac{count(w_i,c)+1}{(\\sum_{w \\in V} count(w,c))+|V|} \n",
    "$$\n",
    "\n",
    "\n",
    "\n",
    "Now we compute the probability of a token given the label. This will in effect product two language models, one for each label. Key idea = **the likelihoods are language models** (see Pearl for interpretation of likelihoods)."
   ]
  },
  {
   "cell_type": "code",
   "execution_count": 37,
   "metadata": {},
   "outputs": [],
   "source": [
    "# training_tokens"
   ]
  },
  {
   "cell_type": "code",
   "execution_count": 38,
   "metadata": {},
   "outputs": [],
   "source": [
    "# class_likelihoods = training_tokens.groupby(['term_str', 'doc_label']).doc_label.count()\\\n",
    "#     .unstack(fill_value=0)"
   ]
  },
  {
   "cell_type": "markdown",
   "metadata": {},
   "source": [
    "Note that using the bow means we do not count multiple instances of a word in a doc."
   ]
  },
  {
   "cell_type": "code",
   "execution_count": 39,
   "metadata": {},
   "outputs": [],
   "source": [
    "class_counts = training_bow.groupby(['term_str', 'doc_label']).doc_label.count()\\\n",
    "    .unstack(fill_value=0)"
   ]
  },
  {
   "cell_type": "code",
   "execution_count": 40,
   "metadata": {},
   "outputs": [
    {
     "data": {
      "text/html": [
       "<div>\n",
       "<style scoped>\n",
       "    .dataframe tbody tr th:only-of-type {\n",
       "        vertical-align: middle;\n",
       "    }\n",
       "\n",
       "    .dataframe tbody tr th {\n",
       "        vertical-align: top;\n",
       "    }\n",
       "\n",
       "    .dataframe thead th {\n",
       "        text-align: right;\n",
       "    }\n",
       "</style>\n",
       "<table border=\"1\" class=\"dataframe\">\n",
       "  <thead>\n",
       "    <tr style=\"text-align: right;\">\n",
       "      <th>doc_label</th>\n",
       "      <th>N</th>\n",
       "      <th>P</th>\n",
       "    </tr>\n",
       "    <tr>\n",
       "      <th>term_str</th>\n",
       "      <th></th>\n",
       "      <th></th>\n",
       "    </tr>\n",
       "  </thead>\n",
       "  <tbody>\n",
       "    <tr>\n",
       "      <th>aaron</th>\n",
       "      <td>0</td>\n",
       "      <td>4</td>\n",
       "    </tr>\n",
       "    <tr>\n",
       "      <th>abandon</th>\n",
       "      <td>0</td>\n",
       "      <td>3</td>\n",
       "    </tr>\n",
       "    <tr>\n",
       "      <th>abbey</th>\n",
       "      <td>0</td>\n",
       "      <td>3</td>\n",
       "    </tr>\n",
       "    <tr>\n",
       "      <th>abbreviated</th>\n",
       "      <td>4</td>\n",
       "      <td>0</td>\n",
       "    </tr>\n",
       "    <tr>\n",
       "      <th>ability</th>\n",
       "      <td>0</td>\n",
       "      <td>25</td>\n",
       "    </tr>\n",
       "  </tbody>\n",
       "</table>\n",
       "</div>"
      ],
      "text/plain": [
       "doc_label    N   P\n",
       "term_str          \n",
       "aaron        0   4\n",
       "abandon      0   3\n",
       "abbey        0   3\n",
       "abbreviated  4   0\n",
       "ability      0  25"
      ]
     },
     "execution_count": 40,
     "metadata": {},
     "output_type": "execute_result"
    }
   ],
   "source": [
    "class_counts.head()"
   ]
  },
  {
   "cell_type": "code",
   "execution_count": 41,
   "metadata": {},
   "outputs": [],
   "source": [
    "class_counts_smoothed = class_counts + Params.smooth_alpha\n",
    "class_likelihoods = class_counts_smoothed  / class_counts_smoothed.sum()"
   ]
  },
  {
   "cell_type": "code",
   "execution_count": 42,
   "metadata": {},
   "outputs": [
    {
     "data": {
      "text/html": [
       "<style type=\"text/css\">\n",
       "#T_4452e_row0_col0 {\n",
       "  background-color: #7accc4;\n",
       "  color: #000000;\n",
       "}\n",
       "#T_4452e_row0_col1, #T_4452e_row4_col1 {\n",
       "  background-color: #f1f9ea;\n",
       "  color: #000000;\n",
       "}\n",
       "#T_4452e_row1_col0, #T_4452e_row9_col1 {\n",
       "  background-color: #f4fbed;\n",
       "  color: #000000;\n",
       "}\n",
       "#T_4452e_row1_col1, #T_4452e_row5_col0 {\n",
       "  background-color: #e6f6e1;\n",
       "  color: #000000;\n",
       "}\n",
       "#T_4452e_row2_col0, #T_4452e_row4_col0, #T_4452e_row7_col0 {\n",
       "  background-color: #f7fcf0;\n",
       "  color: #000000;\n",
       "}\n",
       "#T_4452e_row2_col1, #T_4452e_row7_col1 {\n",
       "  background-color: #f2faeb;\n",
       "  color: #000000;\n",
       "}\n",
       "#T_4452e_row3_col0 {\n",
       "  background-color: #f1faeb;\n",
       "  color: #000000;\n",
       "}\n",
       "#T_4452e_row3_col1 {\n",
       "  background-color: #e1f3dc;\n",
       "  color: #000000;\n",
       "}\n",
       "#T_4452e_row5_col1 {\n",
       "  background-color: #c6e9c2;\n",
       "  color: #000000;\n",
       "}\n",
       "#T_4452e_row6_col0 {\n",
       "  background-color: #084081;\n",
       "  color: #f1f1f1;\n",
       "}\n",
       "#T_4452e_row6_col1 {\n",
       "  background-color: #d3eecd;\n",
       "  color: #000000;\n",
       "}\n",
       "#T_4452e_row8_col0 {\n",
       "  background-color: #eef9e8;\n",
       "  color: #000000;\n",
       "}\n",
       "#T_4452e_row8_col1 {\n",
       "  background-color: #eff9e9;\n",
       "  color: #000000;\n",
       "}\n",
       "#T_4452e_row9_col0 {\n",
       "  background-color: #e4f4de;\n",
       "  color: #000000;\n",
       "}\n",
       "</style>\n",
       "<table id=\"T_4452e\">\n",
       "  <thead>\n",
       "    <tr>\n",
       "      <th class=\"index_name level0\" >doc_label</th>\n",
       "      <th id=\"T_4452e_level0_col0\" class=\"col_heading level0 col0\" >N</th>\n",
       "      <th id=\"T_4452e_level0_col1\" class=\"col_heading level0 col1\" >P</th>\n",
       "    </tr>\n",
       "    <tr>\n",
       "      <th class=\"index_name level0\" >term_str</th>\n",
       "      <th class=\"blank col0\" >&nbsp;</th>\n",
       "      <th class=\"blank col1\" >&nbsp;</th>\n",
       "    </tr>\n",
       "  </thead>\n",
       "  <tbody>\n",
       "    <tr>\n",
       "      <th id=\"T_4452e_level0_row0\" class=\"row_heading level0 row0\" >attractively</th>\n",
       "      <td id=\"T_4452e_row0_col0\" class=\"data row0 col0\" >0.000196</td>\n",
       "      <td id=\"T_4452e_row0_col1\" class=\"data row0 col1\" >0.000015</td>\n",
       "    </tr>\n",
       "    <tr>\n",
       "      <th id=\"T_4452e_level0_row1\" class=\"row_heading level0 row1\" >huckleberry</th>\n",
       "      <td id=\"T_4452e_row1_col0\" class=\"data row1 col0\" >0.000007</td>\n",
       "      <td id=\"T_4452e_row1_col1\" class=\"data row1 col1\" >0.000037</td>\n",
       "    </tr>\n",
       "    <tr>\n",
       "      <th id=\"T_4452e_level0_row2\" class=\"row_heading level0 row2\" >croissant</th>\n",
       "      <td id=\"T_4452e_row2_col0\" class=\"data row2 col0\" >0.000001</td>\n",
       "      <td id=\"T_4452e_row2_col1\" class=\"data row2 col1\" >0.000011</td>\n",
       "    </tr>\n",
       "    <tr>\n",
       "      <th id=\"T_4452e_level0_row3\" class=\"row_heading level0 row3\" >threads</th>\n",
       "      <td id=\"T_4452e_row3_col0\" class=\"data row3 col0\" >0.000013</td>\n",
       "      <td id=\"T_4452e_row3_col1\" class=\"data row3 col1\" >0.000048</td>\n",
       "    </tr>\n",
       "    <tr>\n",
       "      <th id=\"T_4452e_level0_row4\" class=\"row_heading level0 row4\" >caps</th>\n",
       "      <td id=\"T_4452e_row4_col0\" class=\"data row4 col0\" >0.000001</td>\n",
       "      <td id=\"T_4452e_row4_col1\" class=\"data row4 col1\" >0.000015</td>\n",
       "    </tr>\n",
       "    <tr>\n",
       "      <th id=\"T_4452e_level0_row5\" class=\"row_heading level0 row5\" >fore</th>\n",
       "      <td id=\"T_4452e_row5_col0\" class=\"data row5 col0\" >0.000037</td>\n",
       "      <td id=\"T_4452e_row5_col1\" class=\"data row5 col1\" >0.000107</td>\n",
       "    </tr>\n",
       "    <tr>\n",
       "      <th id=\"T_4452e_level0_row6\" class=\"row_heading level0 row6\" >friendly</th>\n",
       "      <td id=\"T_4452e_row6_col0\" class=\"data row6 col0\" >0.000392</td>\n",
       "      <td id=\"T_4452e_row6_col1\" class=\"data row6 col1\" >0.000082</td>\n",
       "    </tr>\n",
       "    <tr>\n",
       "      <th id=\"T_4452e_level0_row7\" class=\"row_heading level0 row7\" >refreshes</th>\n",
       "      <td id=\"T_4452e_row7_col0\" class=\"data row7 col0\" >0.000001</td>\n",
       "      <td id=\"T_4452e_row7_col1\" class=\"data row7 col1\" >0.000011</td>\n",
       "    </tr>\n",
       "    <tr>\n",
       "      <th id=\"T_4452e_level0_row8\" class=\"row_heading level0 row8\" >jumps</th>\n",
       "      <td id=\"T_4452e_row8_col0\" class=\"data row8 col0\" >0.000019</td>\n",
       "      <td id=\"T_4452e_row8_col1\" class=\"data row8 col1\" >0.000019</td>\n",
       "    </tr>\n",
       "    <tr>\n",
       "      <th id=\"T_4452e_level0_row9\" class=\"row_heading level0 row9\" >cleanly</th>\n",
       "      <td id=\"T_4452e_row9_col0\" class=\"data row9 col0\" >0.000043</td>\n",
       "      <td id=\"T_4452e_row9_col1\" class=\"data row9 col1\" >0.000008</td>\n",
       "    </tr>\n",
       "  </tbody>\n",
       "</table>\n"
      ],
      "text/plain": [
       "<pandas.io.formats.style.Styler at 0x7fa9205da450>"
      ]
     },
     "execution_count": 42,
     "metadata": {},
     "output_type": "execute_result"
    }
   ],
   "source": [
    "class_likelihoods.sample(10).style.background_gradient(cmap='GnBu', axis=None)"
   ]
  },
  {
   "cell_type": "markdown",
   "metadata": {},
   "source": [
    "## Convert likelihoods to logs"
   ]
  },
  {
   "cell_type": "code",
   "execution_count": 43,
   "metadata": {},
   "outputs": [],
   "source": [
    "class_likelihoods_log = log(class_likelihoods)"
   ]
  },
  {
   "cell_type": "code",
   "execution_count": 44,
   "metadata": {},
   "outputs": [
    {
     "data": {
      "text/html": [
       "<style type=\"text/css\">\n",
       "#T_289b4_row0_col0, #T_289b4_row3_col1 {\n",
       "  background-color: #084081;\n",
       "  color: #f1f1f1;\n",
       "}\n",
       "#T_289b4_row0_col1, #T_289b4_row7_col0 {\n",
       "  background-color: #f7fcf0;\n",
       "  color: #000000;\n",
       "}\n",
       "#T_289b4_row1_col0 {\n",
       "  background-color: #0866a9;\n",
       "  color: #f1f1f1;\n",
       "}\n",
       "#T_289b4_row1_col1 {\n",
       "  background-color: #1f80b8;\n",
       "  color: #f1f1f1;\n",
       "}\n",
       "#T_289b4_row2_col0, #T_289b4_row9_col0 {\n",
       "  background-color: #9fdab8;\n",
       "  color: #000000;\n",
       "}\n",
       "#T_289b4_row2_col1 {\n",
       "  background-color: #3b9dc7;\n",
       "  color: #f1f1f1;\n",
       "}\n",
       "#T_289b4_row3_col0 {\n",
       "  background-color: #0b6cae;\n",
       "  color: #f1f1f1;\n",
       "}\n",
       "#T_289b4_row4_col0 {\n",
       "  background-color: #77cac5;\n",
       "  color: #000000;\n",
       "}\n",
       "#T_289b4_row4_col1 {\n",
       "  background-color: #67c1cb;\n",
       "  color: #000000;\n",
       "}\n",
       "#T_289b4_row5_col0 {\n",
       "  background-color: #4fb3d3;\n",
       "  color: #f1f1f1;\n",
       "}\n",
       "#T_289b4_row5_col1 {\n",
       "  background-color: #3395c3;\n",
       "  color: #f1f1f1;\n",
       "}\n",
       "#T_289b4_row6_col0 {\n",
       "  background-color: #5fbdcd;\n",
       "  color: #000000;\n",
       "}\n",
       "#T_289b4_row6_col1 {\n",
       "  background-color: #56b7d0;\n",
       "  color: #f1f1f1;\n",
       "}\n",
       "#T_289b4_row7_col1, #T_289b4_row9_col1 {\n",
       "  background-color: #72c7c7;\n",
       "  color: #000000;\n",
       "}\n",
       "#T_289b4_row8_col0 {\n",
       "  background-color: #2081b8;\n",
       "  color: #f1f1f1;\n",
       "}\n",
       "#T_289b4_row8_col1 {\n",
       "  background-color: #085ea1;\n",
       "  color: #f1f1f1;\n",
       "}\n",
       "</style>\n",
       "<table id=\"T_289b4\">\n",
       "  <thead>\n",
       "    <tr>\n",
       "      <th class=\"index_name level0\" >doc_label</th>\n",
       "      <th id=\"T_289b4_level0_col0\" class=\"col_heading level0 col0\" >N</th>\n",
       "      <th id=\"T_289b4_level0_col1\" class=\"col_heading level0 col1\" >P</th>\n",
       "    </tr>\n",
       "    <tr>\n",
       "      <th class=\"index_name level0\" >term_str</th>\n",
       "      <th class=\"blank col0\" >&nbsp;</th>\n",
       "      <th class=\"blank col1\" >&nbsp;</th>\n",
       "    </tr>\n",
       "  </thead>\n",
       "  <tbody>\n",
       "    <tr>\n",
       "      <th id=\"T_289b4_level0_row0\" class=\"row_heading level0 row0\" >volatile</th>\n",
       "      <td id=\"T_289b4_row0_col0\" class=\"data row0 col0\" >-12.029867</td>\n",
       "      <td id=\"T_289b4_row0_col1\" class=\"data row0 col1\" >-21.368384</td>\n",
       "    </tr>\n",
       "    <tr>\n",
       "      <th id=\"T_289b4_level0_row1\" class=\"row_heading level0 row1\" >wide</th>\n",
       "      <td id=\"T_289b4_row1_col0\" class=\"data row1 col0\" >-13.063463</td>\n",
       "      <td id=\"T_289b4_row1_col1\" class=\"data row1 col1\" >-13.340478</td>\n",
       "    </tr>\n",
       "    <tr>\n",
       "      <th id=\"T_289b4_level0_row2\" class=\"row_heading level0 row2\" >klipsun</th>\n",
       "      <td id=\"T_289b4_row2_col0\" class=\"data row2 col0\" >-17.181460</td>\n",
       "      <td id=\"T_289b4_row2_col1\" class=\"data row2 col1\" >-14.334961</td>\n",
       "    </tr>\n",
       "    <tr>\n",
       "      <th id=\"T_289b4_level0_row3\" class=\"row_heading level0 row3\" >perfectly</th>\n",
       "      <td id=\"T_289b4_row3_col0\" class=\"data row3 col0\" >-13.223039</td>\n",
       "      <td id=\"T_289b4_row3_col1\" class=\"data row3 col1\" >-11.199712</td>\n",
       "    </tr>\n",
       "    <tr>\n",
       "      <th id=\"T_289b4_level0_row4\" class=\"row_heading level0 row4\" >manage</th>\n",
       "      <td id=\"T_289b4_row4_col0\" class=\"data row4 col0\" >-16.248574</td>\n",
       "      <td id=\"T_289b4_row4_col1\" class=\"data row4 col1\" >-15.695959</td>\n",
       "    </tr>\n",
       "    <tr>\n",
       "      <th id=\"T_289b4_level0_row5\" class=\"row_heading level0 row5\" >reach</th>\n",
       "      <td id=\"T_289b4_row5_col0\" class=\"data row5 col0\" >-15.283340</td>\n",
       "      <td id=\"T_289b4_row5_col1\" class=\"data row5 col1\" >-14.037468</td>\n",
       "    </tr>\n",
       "    <tr>\n",
       "      <th id=\"T_289b4_level0_row6\" class=\"row_heading level0 row6\" >grit</th>\n",
       "      <td id=\"T_289b4_row6_col0\" class=\"data row6 col0\" >-15.686696</td>\n",
       "      <td id=\"T_289b4_row6_col1\" class=\"data row6 col1\" >-15.218637</td>\n",
       "    </tr>\n",
       "    <tr>\n",
       "      <th id=\"T_289b4_level0_row7\" class=\"row_heading level0 row7\" >glossy</th>\n",
       "      <td id=\"T_289b4_row7_col0\" class=\"data row7 col0\" >-20.640892</td>\n",
       "      <td id=\"T_289b4_row7_col1\" class=\"data row7 col1\" >-16.010832</td>\n",
       "    </tr>\n",
       "    <tr>\n",
       "      <th id=\"T_289b4_level0_row8\" class=\"row_heading level0 row8\" >potent</th>\n",
       "      <td id=\"T_289b4_row8_col0\" class=\"data row8 col0\" >-13.846476</td>\n",
       "      <td id=\"T_289b4_row8_col1\" class=\"data row8 col1\" >-12.185990</td>\n",
       "    </tr>\n",
       "    <tr>\n",
       "      <th id=\"T_289b4_level0_row9\" class=\"row_heading level0 row9\" >nevertheless</th>\n",
       "      <td id=\"T_289b4_row9_col0\" class=\"data row9 col0\" >-17.181460</td>\n",
       "      <td id=\"T_289b4_row9_col1\" class=\"data row9 col1\" >-16.010832</td>\n",
       "    </tr>\n",
       "  </tbody>\n",
       "</table>\n"
      ],
      "text/plain": [
       "<pandas.io.formats.style.Styler at 0x7fa920b62010>"
      ]
     },
     "execution_count": 44,
     "metadata": {},
     "output_type": "execute_result"
    }
   ],
   "source": [
    "class_likelihoods_log.sample(10).style.background_gradient(cmap='GnBu')"
   ]
  },
  {
   "cell_type": "markdown",
   "metadata": {},
   "source": [
    "# Testing"
   ]
  },
  {
   "cell_type": "markdown",
   "metadata": {},
   "source": [
    "## Add likelihood columns to test tokens table\n",
    "\n",
    "This is effectively how we apply our model to the test set."
   ]
  },
  {
   "cell_type": "code",
   "execution_count": 45,
   "metadata": {},
   "outputs": [
    {
     "data": {
      "text/html": [
       "<div>\n",
       "<style scoped>\n",
       "    .dataframe tbody tr th:only-of-type {\n",
       "        vertical-align: middle;\n",
       "    }\n",
       "\n",
       "    .dataframe tbody tr th {\n",
       "        vertical-align: top;\n",
       "    }\n",
       "\n",
       "    .dataframe thead th {\n",
       "        text-align: right;\n",
       "    }\n",
       "</style>\n",
       "<table border=\"1\" class=\"dataframe\">\n",
       "  <thead>\n",
       "    <tr style=\"text-align: right;\">\n",
       "      <th></th>\n",
       "      <th></th>\n",
       "      <th></th>\n",
       "      <th>term_str</th>\n",
       "    </tr>\n",
       "    <tr>\n",
       "      <th>doc_id</th>\n",
       "      <th>sent_id</th>\n",
       "      <th>token_id</th>\n",
       "      <th></th>\n",
       "    </tr>\n",
       "  </thead>\n",
       "  <tbody>\n",
       "    <tr>\n",
       "      <th rowspan=\"5\" valign=\"top\">337</th>\n",
       "      <th rowspan=\"5\" valign=\"top\">0</th>\n",
       "      <th>1</th>\n",
       "      <td>easy</td>\n",
       "    </tr>\n",
       "    <tr>\n",
       "      <th>3</th>\n",
       "      <td>inviting</td>\n",
       "    </tr>\n",
       "    <tr>\n",
       "      <th>4</th>\n",
       "      <td>selection</td>\n",
       "    </tr>\n",
       "    <tr>\n",
       "      <th>9</th>\n",
       "      <td>streak</td>\n",
       "    </tr>\n",
       "    <tr>\n",
       "      <th>12</th>\n",
       "      <td>soft</td>\n",
       "    </tr>\n",
       "  </tbody>\n",
       "</table>\n",
       "</div>"
      ],
      "text/plain": [
       "                          term_str\n",
       "doc_id sent_id token_id           \n",
       "337    0       1              easy\n",
       "               3          inviting\n",
       "               4         selection\n",
       "               9            streak\n",
       "               12             soft"
      ]
     },
     "execution_count": 45,
     "metadata": {},
     "output_type": "execute_result"
    }
   ],
   "source": [
    "testing_tokens.head()"
   ]
  },
  {
   "cell_type": "code",
   "execution_count": 46,
   "metadata": {},
   "outputs": [],
   "source": [
    "try:\n",
    "    testing_tokens = testing_tokens\\\n",
    "        .join(class_likelihoods_log[['P','N']], on='term_str', how='inner')\n",
    "except ValueError as e:\n",
    "    if \"columns overlap\" in str(e):\n",
    "        pass\n",
    "    else:\n",
    "        print(e)"
   ]
  },
  {
   "cell_type": "code",
   "execution_count": 47,
   "metadata": {},
   "outputs": [
    {
     "data": {
      "text/html": [
       "<div>\n",
       "<style scoped>\n",
       "    .dataframe tbody tr th:only-of-type {\n",
       "        vertical-align: middle;\n",
       "    }\n",
       "\n",
       "    .dataframe tbody tr th {\n",
       "        vertical-align: top;\n",
       "    }\n",
       "\n",
       "    .dataframe thead th {\n",
       "        text-align: right;\n",
       "    }\n",
       "</style>\n",
       "<table border=\"1\" class=\"dataframe\">\n",
       "  <thead>\n",
       "    <tr style=\"text-align: right;\">\n",
       "      <th></th>\n",
       "      <th></th>\n",
       "      <th></th>\n",
       "      <th>term_str</th>\n",
       "      <th>P</th>\n",
       "      <th>N</th>\n",
       "    </tr>\n",
       "    <tr>\n",
       "      <th>doc_id</th>\n",
       "      <th>sent_id</th>\n",
       "      <th>token_id</th>\n",
       "      <th></th>\n",
       "      <th></th>\n",
       "      <th></th>\n",
       "    </tr>\n",
       "  </thead>\n",
       "  <tbody>\n",
       "    <tr>\n",
       "      <th>52074</th>\n",
       "      <th>0</th>\n",
       "      <th>10</th>\n",
       "      <td>hints</td>\n",
       "      <td>-9.514685</td>\n",
       "      <td>-9.517417</td>\n",
       "    </tr>\n",
       "    <tr>\n",
       "      <th>118146</th>\n",
       "      <th>0</th>\n",
       "      <th>12</th>\n",
       "      <td>finish</td>\n",
       "      <td>-7.098746</td>\n",
       "      <td>-5.995290</td>\n",
       "    </tr>\n",
       "    <tr>\n",
       "      <th>94115</th>\n",
       "      <th>1</th>\n",
       "      <th>1</th>\n",
       "      <td>using</td>\n",
       "      <td>-13.396841</td>\n",
       "      <td>-14.491145</td>\n",
       "    </tr>\n",
       "    <tr>\n",
       "      <th>16656</th>\n",
       "      <th>1</th>\n",
       "      <th>10</th>\n",
       "      <td>lots</td>\n",
       "      <td>-11.237814</td>\n",
       "      <td>-10.549456</td>\n",
       "    </tr>\n",
       "    <tr>\n",
       "      <th>16633</th>\n",
       "      <th>0</th>\n",
       "      <th>16</th>\n",
       "      <td>notes</td>\n",
       "      <td>-7.856508</td>\n",
       "      <td>-7.398462</td>\n",
       "    </tr>\n",
       "  </tbody>\n",
       "</table>\n",
       "</div>"
      ],
      "text/plain": [
       "                        term_str          P          N\n",
       "doc_id sent_id token_id                               \n",
       "52074  0       10          hints  -9.514685  -9.517417\n",
       "118146 0       12         finish  -7.098746  -5.995290\n",
       "94115  1       1           using -13.396841 -14.491145\n",
       "16656  1       10           lots -11.237814 -10.549456\n",
       "16633  0       16          notes  -7.856508  -7.398462"
      ]
     },
     "execution_count": 47,
     "metadata": {},
     "output_type": "execute_result"
    }
   ],
   "source": [
    "testing_tokens.sample(5)"
   ]
  },
  {
   "cell_type": "markdown",
   "metadata": {},
   "source": [
    "## Compute posteriors $p(c|w)$\n",
    "\n",
    "$$\n",
    "c_{NB} = \\arg\\max \\log{P(c)} + \\sum_{id=1}^{id_{max}} \\log{P(token_{id}|c)}\n",
    "$$\n",
    "\n",
    "\n"
   ]
  },
  {
   "cell_type": "code",
   "execution_count": 48,
   "metadata": {},
   "outputs": [],
   "source": [
    "# testing_docs['prediction'] = testing_tokens.groupby('doc_id')\\\n",
    "#     .apply(lambda x: x[['P','N']].sum())\\\n",
    "#     .apply(lambda x: x + class_priors_log, axis=1)\\\n",
    "#     .idxmax(1)"
   ]
  },
  {
   "cell_type": "code",
   "execution_count": 49,
   "metadata": {},
   "outputs": [],
   "source": [
    "testing_docs['prediction'] = testing_tokens.groupby('doc_id')\\\n",
    "    .apply(lambda x: x[['P','N']].sum() + class_priors_log).idxmax(1)"
   ]
  },
  {
   "cell_type": "code",
   "execution_count": 50,
   "metadata": {},
   "outputs": [
    {
     "data": {
      "text/html": [
       "<div>\n",
       "<style scoped>\n",
       "    .dataframe tbody tr th:only-of-type {\n",
       "        vertical-align: middle;\n",
       "    }\n",
       "\n",
       "    .dataframe tbody tr th {\n",
       "        vertical-align: top;\n",
       "    }\n",
       "\n",
       "    .dataframe thead th {\n",
       "        text-align: right;\n",
       "    }\n",
       "</style>\n",
       "<table border=\"1\" class=\"dataframe\">\n",
       "  <thead>\n",
       "    <tr style=\"text-align: right;\">\n",
       "      <th></th>\n",
       "      <th>doc_content</th>\n",
       "      <th>doc_label</th>\n",
       "      <th>prediction</th>\n",
       "    </tr>\n",
       "    <tr>\n",
       "      <th>doc_id</th>\n",
       "      <th></th>\n",
       "      <th></th>\n",
       "      <th></th>\n",
       "    </tr>\n",
       "  </thead>\n",
       "  <tbody>\n",
       "    <tr>\n",
       "      <th>117857</th>\n",
       "      <td>From one of the top estates in Cahors, this co...</td>\n",
       "      <td>P</td>\n",
       "      <td>P</td>\n",
       "    </tr>\n",
       "    <tr>\n",
       "      <th>107738</th>\n",
       "      <td>This gorgeous blend of Cabernet Sauvignon, Mer...</td>\n",
       "      <td>P</td>\n",
       "      <td>P</td>\n",
       "    </tr>\n",
       "    <tr>\n",
       "      <th>112233</th>\n",
       "      <td>Soft, light and juicy, this is a fresh, strawb...</td>\n",
       "      <td>N</td>\n",
       "      <td>N</td>\n",
       "    </tr>\n",
       "    <tr>\n",
       "      <th>111957</th>\n",
       "      <td>Quite full bodied and obviously powerful in fl...</td>\n",
       "      <td>P</td>\n",
       "      <td>P</td>\n",
       "    </tr>\n",
       "    <tr>\n",
       "      <th>33995</th>\n",
       "      <td>Clove, black-licorice gumdrops, some mint and ...</td>\n",
       "      <td>N</td>\n",
       "      <td>N</td>\n",
       "    </tr>\n",
       "    <tr>\n",
       "      <th>124094</th>\n",
       "      <td>Soft, open wine, layering apricot and pear jui...</td>\n",
       "      <td>N</td>\n",
       "      <td>N</td>\n",
       "    </tr>\n",
       "    <tr>\n",
       "      <th>3644</th>\n",
       "      <td>95-97. Barrel sample. Showing new wood spice, ...</td>\n",
       "      <td>P</td>\n",
       "      <td>P</td>\n",
       "    </tr>\n",
       "    <tr>\n",
       "      <th>44001</th>\n",
       "      <td>92-94 Barrel sample. A powerful, but velvet te...</td>\n",
       "      <td>P</td>\n",
       "      <td>P</td>\n",
       "    </tr>\n",
       "    <tr>\n",
       "      <th>26883</th>\n",
       "      <td>This wine starts off with great aromas of baki...</td>\n",
       "      <td>N</td>\n",
       "      <td>N</td>\n",
       "    </tr>\n",
       "    <tr>\n",
       "      <th>104472</th>\n",
       "      <td>This single-vineyard-focused winery controls f...</td>\n",
       "      <td>P</td>\n",
       "      <td>P</td>\n",
       "    </tr>\n",
       "  </tbody>\n",
       "</table>\n",
       "</div>"
      ],
      "text/plain": [
       "                                              doc_content doc_label prediction\n",
       "doc_id                                                                        \n",
       "117857  From one of the top estates in Cahors, this co...         P          P\n",
       "107738  This gorgeous blend of Cabernet Sauvignon, Mer...         P          P\n",
       "112233  Soft, light and juicy, this is a fresh, strawb...         N          N\n",
       "111957  Quite full bodied and obviously powerful in fl...         P          P\n",
       "33995   Clove, black-licorice gumdrops, some mint and ...         N          N\n",
       "124094  Soft, open wine, layering apricot and pear jui...         N          N\n",
       "3644    95-97. Barrel sample. Showing new wood spice, ...         P          P\n",
       "44001   92-94 Barrel sample. A powerful, but velvet te...         P          P\n",
       "26883   This wine starts off with great aromas of baki...         N          N\n",
       "104472  This single-vineyard-focused winery controls f...         P          P"
      ]
     },
     "execution_count": 50,
     "metadata": {},
     "output_type": "execute_result"
    }
   ],
   "source": [
    "testing_docs.sample(10)"
   ]
  },
  {
   "cell_type": "markdown",
   "metadata": {
    "tags": []
   },
   "source": [
    "# Evaluation"
   ]
  },
  {
   "cell_type": "code",
   "execution_count": 51,
   "metadata": {},
   "outputs": [],
   "source": [
    "testing_docs['result'] = testing_docs.doc_label == testing_docs.prediction\n",
    "testing_docs['result_label'] = testing_docs.apply(lambda x: str(x.result)[0] + x.prediction, 1)"
   ]
  },
  {
   "cell_type": "code",
   "execution_count": 52,
   "metadata": {},
   "outputs": [
    {
     "data": {
      "text/html": [
       "<div>\n",
       "<style scoped>\n",
       "    .dataframe tbody tr th:only-of-type {\n",
       "        vertical-align: middle;\n",
       "    }\n",
       "\n",
       "    .dataframe tbody tr th {\n",
       "        vertical-align: top;\n",
       "    }\n",
       "\n",
       "    .dataframe thead th {\n",
       "        text-align: right;\n",
       "    }\n",
       "</style>\n",
       "<table border=\"1\" class=\"dataframe\">\n",
       "  <thead>\n",
       "    <tr style=\"text-align: right;\">\n",
       "      <th></th>\n",
       "      <th>doc_content</th>\n",
       "      <th>doc_label</th>\n",
       "      <th>prediction</th>\n",
       "      <th>result</th>\n",
       "      <th>result_label</th>\n",
       "    </tr>\n",
       "    <tr>\n",
       "      <th>doc_id</th>\n",
       "      <th></th>\n",
       "      <th></th>\n",
       "      <th></th>\n",
       "      <th></th>\n",
       "      <th></th>\n",
       "    </tr>\n",
       "  </thead>\n",
       "  <tbody>\n",
       "    <tr>\n",
       "      <th>93704</th>\n",
       "      <td>Amarone Bosan is a terrifically impressive win...</td>\n",
       "      <td>P</td>\n",
       "      <td>P</td>\n",
       "      <td>True</td>\n",
       "      <td>TP</td>\n",
       "    </tr>\n",
       "    <tr>\n",
       "      <th>99904</th>\n",
       "      <td>The nose offers white bread and pancake aromas...</td>\n",
       "      <td>N</td>\n",
       "      <td>N</td>\n",
       "      <td>True</td>\n",
       "      <td>TN</td>\n",
       "    </tr>\n",
       "    <tr>\n",
       "      <th>5495</th>\n",
       "      <td>The vintage was a good one for Sequum, which i...</td>\n",
       "      <td>P</td>\n",
       "      <td>P</td>\n",
       "      <td>True</td>\n",
       "      <td>TP</td>\n",
       "    </tr>\n",
       "    <tr>\n",
       "      <th>86462</th>\n",
       "      <td>Incredible purity rises from the glass, remini...</td>\n",
       "      <td>P</td>\n",
       "      <td>P</td>\n",
       "      <td>True</td>\n",
       "      <td>TP</td>\n",
       "    </tr>\n",
       "    <tr>\n",
       "      <th>38436</th>\n",
       "      <td>This opens with inviting, classic Sangiovese a...</td>\n",
       "      <td>P</td>\n",
       "      <td>P</td>\n",
       "      <td>True</td>\n",
       "      <td>TP</td>\n",
       "    </tr>\n",
       "    <tr>\n",
       "      <th>78588</th>\n",
       "      <td>The aromas are initially more fruit forward th...</td>\n",
       "      <td>P</td>\n",
       "      <td>P</td>\n",
       "      <td>True</td>\n",
       "      <td>TP</td>\n",
       "    </tr>\n",
       "    <tr>\n",
       "      <th>73281</th>\n",
       "      <td>Citric on the nose, with cherry and bland eart...</td>\n",
       "      <td>N</td>\n",
       "      <td>N</td>\n",
       "      <td>True</td>\n",
       "      <td>TN</td>\n",
       "    </tr>\n",
       "    <tr>\n",
       "      <th>38718</th>\n",
       "      <td>Grillo Parlante (“talking cricket”) is a pure ...</td>\n",
       "      <td>N</td>\n",
       "      <td>N</td>\n",
       "      <td>True</td>\n",
       "      <td>TN</td>\n",
       "    </tr>\n",
       "    <tr>\n",
       "      <th>28917</th>\n",
       "      <td>A simple Zinfandel, with sweet, spicy pie fill...</td>\n",
       "      <td>N</td>\n",
       "      <td>N</td>\n",
       "      <td>True</td>\n",
       "      <td>TN</td>\n",
       "    </tr>\n",
       "    <tr>\n",
       "      <th>125302</th>\n",
       "      <td>Powerful, yet beautiful and smoothly structure...</td>\n",
       "      <td>P</td>\n",
       "      <td>P</td>\n",
       "      <td>True</td>\n",
       "      <td>TP</td>\n",
       "    </tr>\n",
       "  </tbody>\n",
       "</table>\n",
       "</div>"
      ],
      "text/plain": [
       "                                              doc_content doc_label  \\\n",
       "doc_id                                                                \n",
       "93704   Amarone Bosan is a terrifically impressive win...         P   \n",
       "99904   The nose offers white bread and pancake aromas...         N   \n",
       "5495    The vintage was a good one for Sequum, which i...         P   \n",
       "86462   Incredible purity rises from the glass, remini...         P   \n",
       "38436   This opens with inviting, classic Sangiovese a...         P   \n",
       "78588   The aromas are initially more fruit forward th...         P   \n",
       "73281   Citric on the nose, with cherry and bland eart...         N   \n",
       "38718   Grillo Parlante (“talking cricket”) is a pure ...         N   \n",
       "28917   A simple Zinfandel, with sweet, spicy pie fill...         N   \n",
       "125302  Powerful, yet beautiful and smoothly structure...         P   \n",
       "\n",
       "       prediction  result result_label  \n",
       "doc_id                                  \n",
       "93704           P    True           TP  \n",
       "99904           N    True           TN  \n",
       "5495            P    True           TP  \n",
       "86462           P    True           TP  \n",
       "38436           P    True           TP  \n",
       "78588           P    True           TP  \n",
       "73281           N    True           TN  \n",
       "38718           N    True           TN  \n",
       "28917           N    True           TN  \n",
       "125302          P    True           TP  "
      ]
     },
     "execution_count": 52,
     "metadata": {},
     "output_type": "execute_result"
    }
   ],
   "source": [
    "testing_docs.sample(10)"
   ]
  },
  {
   "cell_type": "markdown",
   "metadata": {},
   "source": [
    "## Show raw T & F counts"
   ]
  },
  {
   "cell_type": "code",
   "execution_count": 53,
   "metadata": {},
   "outputs": [],
   "source": [
    "raw = testing_docs.result.value_counts()"
   ]
  },
  {
   "cell_type": "code",
   "execution_count": 54,
   "metadata": {},
   "outputs": [
    {
     "data": {
      "text/plain": [
       "True     5919\n",
       "False     219\n",
       "Name: result, dtype: int64"
      ]
     },
     "execution_count": 54,
     "metadata": {},
     "output_type": "execute_result"
    }
   ],
   "source": [
    "raw"
   ]
  },
  {
   "cell_type": "code",
   "execution_count": 55,
   "metadata": {},
   "outputs": [
    {
     "data": {
      "text/plain": [
       "27.027397260273972"
      ]
     },
     "execution_count": 55,
     "metadata": {},
     "output_type": "execute_result"
    }
   ],
   "source": [
    "raw[True] / raw[False]"
   ]
  },
  {
   "cell_type": "markdown",
   "metadata": {},
   "source": [
    "## Show raw TP, TN, FP, FN counts"
   ]
  },
  {
   "cell_type": "code",
   "execution_count": 56,
   "metadata": {},
   "outputs": [],
   "source": [
    "raw1 = testing_docs.result_label.value_counts()"
   ]
  },
  {
   "cell_type": "code",
   "execution_count": 57,
   "metadata": {},
   "outputs": [
    {
     "data": {
      "text/plain": [
       "TP    3013\n",
       "TN    2906\n",
       "FP     158\n",
       "FN      61\n",
       "Name: result_label, dtype: int64"
      ]
     },
     "execution_count": 57,
     "metadata": {},
     "output_type": "execute_result"
    }
   ],
   "source": [
    "raw1"
   ]
  },
  {
   "cell_type": "code",
   "execution_count": 58,
   "metadata": {},
   "outputs": [
    {
     "data": {
      "text/plain": [
       "0.9643206256109482"
      ]
     },
     "execution_count": 58,
     "metadata": {},
     "output_type": "execute_result"
    }
   ],
   "source": [
    "# Accuracy\n",
    "(raw1.TP + raw1.TN) / raw1.sum()"
   ]
  },
  {
   "cell_type": "markdown",
   "metadata": {},
   "source": [
    "## Create confusion matrix"
   ]
  },
  {
   "cell_type": "code",
   "execution_count": 59,
   "metadata": {},
   "outputs": [],
   "source": [
    "CM = testing_docs.reset_index().groupby(['prediction','doc_label'])\\\n",
    "    .doc_id.count().unstack().fillna(0)"
   ]
  },
  {
   "cell_type": "code",
   "execution_count": 60,
   "metadata": {},
   "outputs": [],
   "source": [
    "CM.columns.name = 'actual'"
   ]
  },
  {
   "cell_type": "code",
   "execution_count": 61,
   "metadata": {},
   "outputs": [
    {
     "data": {
      "text/html": [
       "<style type=\"text/css\">\n",
       "#T_73061_row0_col0 {\n",
       "  background-color: #034267;\n",
       "  color: #f1f1f1;\n",
       "}\n",
       "#T_73061_row0_col1 {\n",
       "  background-color: #fff7fb;\n",
       "  color: #000000;\n",
       "}\n",
       "#T_73061_row1_col0 {\n",
       "  background-color: #faf3f9;\n",
       "  color: #000000;\n",
       "}\n",
       "#T_73061_row1_col1 {\n",
       "  background-color: #023858;\n",
       "  color: #f1f1f1;\n",
       "}\n",
       "</style>\n",
       "<table id=\"T_73061\">\n",
       "  <thead>\n",
       "    <tr>\n",
       "      <th class=\"index_name level0\" >actual</th>\n",
       "      <th id=\"T_73061_level0_col0\" class=\"col_heading level0 col0\" >N</th>\n",
       "      <th id=\"T_73061_level0_col1\" class=\"col_heading level0 col1\" >P</th>\n",
       "    </tr>\n",
       "    <tr>\n",
       "      <th class=\"index_name level0\" >prediction</th>\n",
       "      <th class=\"blank col0\" >&nbsp;</th>\n",
       "      <th class=\"blank col1\" >&nbsp;</th>\n",
       "    </tr>\n",
       "  </thead>\n",
       "  <tbody>\n",
       "    <tr>\n",
       "      <th id=\"T_73061_level0_row0\" class=\"row_heading level0 row0\" >N</th>\n",
       "      <td id=\"T_73061_row0_col0\" class=\"data row0 col0\" >2906</td>\n",
       "      <td id=\"T_73061_row0_col1\" class=\"data row0 col1\" >61</td>\n",
       "    </tr>\n",
       "    <tr>\n",
       "      <th id=\"T_73061_level0_row1\" class=\"row_heading level0 row1\" >P</th>\n",
       "      <td id=\"T_73061_row1_col0\" class=\"data row1 col0\" >158</td>\n",
       "      <td id=\"T_73061_row1_col1\" class=\"data row1 col1\" >3013</td>\n",
       "    </tr>\n",
       "  </tbody>\n",
       "</table>\n"
      ],
      "text/plain": [
       "<pandas.io.formats.style.Styler at 0x7fa9212bc710>"
      ]
     },
     "execution_count": 61,
     "metadata": {},
     "output_type": "execute_result"
    }
   ],
   "source": [
    "CM.style.background_gradient(axis=None)"
   ]
  },
  {
   "cell_type": "code",
   "execution_count": 62,
   "metadata": {},
   "outputs": [],
   "source": [
    "def get_results(CM):\n",
    "\n",
    "    class Results():\n",
    "        \n",
    "        TP = CM.iloc[0,0] # hits\n",
    "        FP = CM.iloc[0,1] # Type I errors; false alarms\n",
    "        TN = CM.iloc[1,1] # correct rejections\n",
    "        FN = CM.iloc[1,0] # Type  II errors; misses\n",
    "        \n",
    "        T = TP + TN\n",
    "        F = FP + FN\n",
    "        ALL =  T + F\n",
    "        \n",
    "        ACC = T / ALL                       # Accuracy\n",
    "        TPR = TP / (TP + FN)                # Recall, Sensitivity\n",
    "        TNR = TN / (TN + FP)                # Specificity\n",
    "        PPV = TP / (TP + FP)                # Precision; Positive predictive value \n",
    "        BA = (TNR + TPR) / 2                # Balanced Accuracy\n",
    "        F1 = (2 *  TP) / (2 * TP + FP + FN) # F-score where F =  1\n",
    "\n",
    "        assert ALL == CM.sum().sum()\n",
    "                \n",
    "        def show_results(self):\n",
    "            print('TPR:', round(self.TPR, 2), '(sensitivity)')\n",
    "            print('TNR:', round(self.TNR, 2), '(specificity)')\n",
    "            print('F1: ', round(self.F1, 2), '<-- GRADE')\n",
    "            print('-'*9)\n",
    "            print('PPV:', round(self.PPV, 2),  '(precision)')\n",
    "            print('ACC:', round(self.ACC, 2), '(accuracy)')\n",
    "            \n",
    "    return Results()"
   ]
  },
  {
   "cell_type": "code",
   "execution_count": 63,
   "metadata": {},
   "outputs": [],
   "source": [
    "R = get_results(CM)"
   ]
  },
  {
   "cell_type": "code",
   "execution_count": 64,
   "metadata": {},
   "outputs": [
    {
     "name": "stdout",
     "output_type": "stream",
     "text": [
      "TPR: 0.95 (sensitivity)\n",
      "TNR: 0.98 (specificity)\n",
      "F1:  0.96 <-- GRADE\n",
      "---------\n",
      "PPV: 0.98 (precision)\n",
      "ACC: 0.96 (accuracy)\n"
     ]
    }
   ],
   "source": [
    "R.show_results()"
   ]
  },
  {
   "cell_type": "markdown",
   "metadata": {
    "toc-hr-collapsed": false
   },
   "source": [
    "# Exploration"
   ]
  },
  {
   "cell_type": "markdown",
   "metadata": {},
   "source": [
    "## Likelihoods as Sentiment Lexicon "
   ]
  },
  {
   "cell_type": "markdown",
   "metadata": {},
   "source": [
    "We make up a way to compute sentiment valence and polarity"
   ]
  },
  {
   "cell_type": "code",
   "execution_count": 65,
   "metadata": {},
   "outputs": [],
   "source": [
    "sentilex = (class_likelihoods_log.P - class_likelihoods_log.N).to_frame('valence')"
   ]
  },
  {
   "cell_type": "code",
   "execution_count": 66,
   "metadata": {},
   "outputs": [],
   "source": [
    "sentilex['polarity'] = np.sign(sentilex['valence'])"
   ]
  },
  {
   "cell_type": "markdown",
   "metadata": {
    "colab": {},
    "colab_type": "code",
    "id": "Hh3gYrVZ1Cas"
   },
   "source": [
    "**Ratio of positive to negative terms**"
   ]
  },
  {
   "cell_type": "code",
   "execution_count": 67,
   "metadata": {
    "colab": {},
    "colab_type": "code",
    "id": "Hh3gYrVZ1Cas"
   },
   "outputs": [
    {
     "data": {
      "image/png": "[encoded data removed]",
      "text/plain": [
       "<Figure size 640x480 with 1 Axes>"
      ]
     },
     "metadata": {},
     "output_type": "display_data"
    }
   ],
   "source": [
    "sentilex.polarity.value_counts().plot(kind='pie');"
   ]
  },
  {
   "cell_type": "markdown",
   "metadata": {
    "colab": {
     "base_uri": "https://localhost:8080/",
     "height": 381
    },
    "colab_type": "code",
    "executionInfo": {
     "elapsed": 453,
     "status": "ok",
     "timestamp": 1555682843465,
     "user": {
      "displayName": "Rafael Alvarado",
      "photoUrl": "https://lh3.googleusercontent.com/-gvKWs7zR4JY/AAAAAAAAAAI/AAAAAAABqfk/Q8O12g6M_T4/s64/photo.jpg",
      "userId": "11010075019714369526"
     },
     "user_tz": 240
    },
    "id": "DbsUOqAH5XVT",
    "outputId": "242afb34-a02a-413c-a52b-ddaa5f5509e5"
   },
   "source": [
    "## Top positive words"
   ]
  },
  {
   "cell_type": "code",
   "execution_count": 68,
   "metadata": {
    "colab": {
     "base_uri": "https://localhost:8080/",
     "height": 381
    },
    "colab_type": "code",
    "executionInfo": {
     "elapsed": 453,
     "status": "ok",
     "timestamp": 1555682843465,
     "user": {
      "displayName": "Rafael Alvarado",
      "photoUrl": "https://lh3.googleusercontent.com/-gvKWs7zR4JY/AAAAAAAAAAI/AAAAAAABqfk/Q8O12g6M_T4/s64/photo.jpg",
      "userId": "11010075019714369526"
     },
     "user_tz": 240
    },
    "id": "DbsUOqAH5XVT",
    "outputId": "242afb34-a02a-413c-a52b-ddaa5f5509e5"
   },
   "outputs": [
    {
     "data": {
      "text/html": [
       "<div>\n",
       "<style scoped>\n",
       "    .dataframe tbody tr th:only-of-type {\n",
       "        vertical-align: middle;\n",
       "    }\n",
       "\n",
       "    .dataframe tbody tr th {\n",
       "        vertical-align: top;\n",
       "    }\n",
       "\n",
       "    .dataframe thead th {\n",
       "        text-align: right;\n",
       "    }\n",
       "</style>\n",
       "<table border=\"1\" class=\"dataframe\">\n",
       "  <thead>\n",
       "    <tr style=\"text-align: right;\">\n",
       "      <th></th>\n",
       "      <th>valence</th>\n",
       "      <th>polarity</th>\n",
       "    </tr>\n",
       "    <tr>\n",
       "      <th>term_str</th>\n",
       "      <th></th>\n",
       "      <th></th>\n",
       "    </tr>\n",
       "  </thead>\n",
       "  <tbody>\n",
       "    <tr>\n",
       "      <th>superb</th>\n",
       "      <td>9.538122</td>\n",
       "      <td>1.0</td>\n",
       "    </tr>\n",
       "    <tr>\n",
       "      <th>immense</th>\n",
       "      <td>8.766363</td>\n",
       "      <td>1.0</td>\n",
       "    </tr>\n",
       "    <tr>\n",
       "      <th>dramatic</th>\n",
       "      <td>8.746213</td>\n",
       "      <td>1.0</td>\n",
       "    </tr>\n",
       "    <tr>\n",
       "      <th>premier</th>\n",
       "      <td>8.705049</td>\n",
       "      <td>1.0</td>\n",
       "    </tr>\n",
       "    <tr>\n",
       "      <th>sites</th>\n",
       "      <td>8.684018</td>\n",
       "      <td>1.0</td>\n",
       "    </tr>\n",
       "    <tr>\n",
       "      <th>parcel</th>\n",
       "      <td>8.574004</td>\n",
       "      <td>1.0</td>\n",
       "    </tr>\n",
       "    <tr>\n",
       "      <th>amazing</th>\n",
       "      <td>8.550957</td>\n",
       "      <td>1.0</td>\n",
       "    </tr>\n",
       "    <tr>\n",
       "      <th>exquisite</th>\n",
       "      <td>8.404364</td>\n",
       "      <td>1.0</td>\n",
       "    </tr>\n",
       "    <tr>\n",
       "      <th>sumptuous</th>\n",
       "      <td>8.351992</td>\n",
       "      <td>1.0</td>\n",
       "    </tr>\n",
       "    <tr>\n",
       "      <th>iris</th>\n",
       "      <td>8.351992</td>\n",
       "      <td>1.0</td>\n",
       "    </tr>\n",
       "  </tbody>\n",
       "</table>\n",
       "</div>"
      ],
      "text/plain": [
       "            valence  polarity\n",
       "term_str                     \n",
       "superb     9.538122       1.0\n",
       "immense    8.766363       1.0\n",
       "dramatic   8.746213       1.0\n",
       "premier    8.705049       1.0\n",
       "sites      8.684018       1.0\n",
       "parcel     8.574004       1.0\n",
       "amazing    8.550957       1.0\n",
       "exquisite  8.404364       1.0\n",
       "sumptuous  8.351992       1.0\n",
       "iris       8.351992       1.0"
      ]
     },
     "execution_count": 68,
     "metadata": {},
     "output_type": "execute_result"
    }
   ],
   "source": [
    "sentilex.sort_values('valence', ascending=False).head(10)"
   ]
  },
  {
   "cell_type": "markdown",
   "metadata": {
    "colab": {
     "base_uri": "https://localhost:8080/",
     "height": 381
    },
    "colab_type": "code",
    "executionInfo": {
     "elapsed": 403,
     "status": "ok",
     "timestamp": 1555682838113,
     "user": {
      "displayName": "Rafael Alvarado",
      "photoUrl": "https://lh3.googleusercontent.com/-gvKWs7zR4JY/AAAAAAAAAAI/AAAAAAABqfk/Q8O12g6M_T4/s64/photo.jpg",
      "userId": "11010075019714369526"
     },
     "user_tz": 240
    },
    "id": "y0qZIfrD7BYu",
    "outputId": "183f9da6-2970-40dc-f920-992c91998882"
   },
   "source": [
    "## Top negative words"
   ]
  },
  {
   "cell_type": "code",
   "execution_count": 69,
   "metadata": {
    "colab": {
     "base_uri": "https://localhost:8080/",
     "height": 381
    },
    "colab_type": "code",
    "executionInfo": {
     "elapsed": 403,
     "status": "ok",
     "timestamp": 1555682838113,
     "user": {
      "displayName": "Rafael Alvarado",
      "photoUrl": "https://lh3.googleusercontent.com/-gvKWs7zR4JY/AAAAAAAAAAI/AAAAAAABqfk/Q8O12g6M_T4/s64/photo.jpg",
      "userId": "11010075019714369526"
     },
     "user_tz": 240
    },
    "id": "y0qZIfrD7BYu",
    "outputId": "183f9da6-2970-40dc-f920-992c91998882"
   },
   "outputs": [
    {
     "data": {
      "text/html": [
       "<div>\n",
       "<style scoped>\n",
       "    .dataframe tbody tr th:only-of-type {\n",
       "        vertical-align: middle;\n",
       "    }\n",
       "\n",
       "    .dataframe tbody tr th {\n",
       "        vertical-align: top;\n",
       "    }\n",
       "\n",
       "    .dataframe thead th {\n",
       "        text-align: right;\n",
       "    }\n",
       "</style>\n",
       "<table border=\"1\" class=\"dataframe\">\n",
       "  <thead>\n",
       "    <tr style=\"text-align: right;\">\n",
       "      <th></th>\n",
       "      <th>valence</th>\n",
       "      <th>polarity</th>\n",
       "    </tr>\n",
       "    <tr>\n",
       "      <th>term_str</th>\n",
       "      <th></th>\n",
       "      <th></th>\n",
       "    </tr>\n",
       "  </thead>\n",
       "  <tbody>\n",
       "    <tr>\n",
       "      <th>everyday</th>\n",
       "      <td>-11.407852</td>\n",
       "      <td>-1.0</td>\n",
       "    </tr>\n",
       "    <tr>\n",
       "      <th>dull</th>\n",
       "      <td>-11.179734</td>\n",
       "      <td>-1.0</td>\n",
       "    </tr>\n",
       "    <tr>\n",
       "      <th>bland</th>\n",
       "      <td>-10.981340</td>\n",
       "      <td>-1.0</td>\n",
       "    </tr>\n",
       "    <tr>\n",
       "      <th>watery</th>\n",
       "      <td>-10.969476</td>\n",
       "      <td>-1.0</td>\n",
       "    </tr>\n",
       "    <tr>\n",
       "      <th>dilute</th>\n",
       "      <td>-10.709060</td>\n",
       "      <td>-1.0</td>\n",
       "    </tr>\n",
       "    <tr>\n",
       "      <th>mealy</th>\n",
       "      <td>-10.665602</td>\n",
       "      <td>-1.0</td>\n",
       "    </tr>\n",
       "    <tr>\n",
       "      <th>pickled</th>\n",
       "      <td>-10.605543</td>\n",
       "      <td>-1.0</td>\n",
       "    </tr>\n",
       "    <tr>\n",
       "      <th>weedy</th>\n",
       "      <td>-10.477362</td>\n",
       "      <td>-1.0</td>\n",
       "    </tr>\n",
       "    <tr>\n",
       "      <th>strange</th>\n",
       "      <td>-10.241220</td>\n",
       "      <td>-1.0</td>\n",
       "    </tr>\n",
       "    <tr>\n",
       "      <th>murky</th>\n",
       "      <td>-10.160034</td>\n",
       "      <td>-1.0</td>\n",
       "    </tr>\n",
       "  </tbody>\n",
       "</table>\n",
       "</div>"
      ],
      "text/plain": [
       "            valence  polarity\n",
       "term_str                     \n",
       "everyday -11.407852      -1.0\n",
       "dull     -11.179734      -1.0\n",
       "bland    -10.981340      -1.0\n",
       "watery   -10.969476      -1.0\n",
       "dilute   -10.709060      -1.0\n",
       "mealy    -10.665602      -1.0\n",
       "pickled  -10.605543      -1.0\n",
       "weedy    -10.477362      -1.0\n",
       "strange  -10.241220      -1.0\n",
       "murky    -10.160034      -1.0"
      ]
     },
     "execution_count": 69,
     "metadata": {},
     "output_type": "execute_result"
    }
   ],
   "source": [
    "sentilex.sort_values('valence', ascending=True).head(10)"
   ]
  },
  {
   "cell_type": "code",
   "execution_count": 70,
   "metadata": {
    "colab": {
     "base_uri": "https://localhost:8080/",
     "height": 381
    },
    "colab_type": "code",
    "executionInfo": {
     "elapsed": 403,
     "status": "ok",
     "timestamp": 1555682838113,
     "user": {
      "displayName": "Rafael Alvarado",
      "photoUrl": "https://lh3.googleusercontent.com/-gvKWs7zR4JY/AAAAAAAAAAI/AAAAAAABqfk/Q8O12g6M_T4/s64/photo.jpg",
      "userId": "11010075019714369526"
     },
     "user_tz": 240
    },
    "id": "y0qZIfrD7BYu",
    "outputId": "183f9da6-2970-40dc-f920-992c91998882"
   },
   "outputs": [
    {
     "data": {
      "image/png": "[encoded data removed]",
      "text/plain": [
       "<Figure size 500x700 with 1 Axes>"
      ]
     },
     "metadata": {},
     "output_type": "display_data"
    }
   ],
   "source": [
    "wpos = sentilex.valence.sort_values().tail(10)\n",
    "wneg = sentilex.valence.sort_values().head(10)\n",
    "pd.concat([wneg,wpos]).plot.barh(figsize=(5,7));"
   ]
  },
  {
   "cell_type": "markdown",
   "metadata": {},
   "source": [
    "# Save"
   ]
  },
  {
   "cell_type": "code",
   "execution_count": 71,
   "metadata": {},
   "outputs": [],
   "source": [
    "sentilex .to_csv(f\"{data_out}/{prefix}/{prefix}-NB_SALEX.csv\", index=True)\n",
    "training_docs.to_csv(f\"{data_out}/{prefix}/{prefix}-DOCS_training.csv\", index=True)\n",
    "testing_docs.to_csv(f\"{data_out}/{prefix}/{prefix}-DOCS_testing.csv\", index=True)\n",
    "training_bow.to_csv(f\"{data_out}/{prefix}/{prefix}-BOW_training.csv\", index=True)\n",
    "testing_bow.to_csv(f\"{data_out}/{prefix}/{prefix}-BOW_testing.csv\", index=True)\n",
    "vocab.to_csv(f\"{data_out}/{prefix}/{prefix}-VOCAB.csv\", index=True)"
   ]
  },
  {
   "cell_type": "code",
   "execution_count": null,
   "metadata": {},
   "outputs": [],
   "source": []
  }
 ],
 "metadata": {
  "colab": {
   "collapsed_sections": [],
   "name": "DS5559_NaiveBayes_WineReviews.ipynb",
   "provenance": [],
   "toc_visible": true,
   "version": "0.3.2"
  },
  "hide_input": false,
  "kernelspec": {
   "display_name": "Python 3 (ipykernel)",
   "language": "python",
   "name": "python3"
  },
  "language_info": {
   "codemirror_mode": {
    "name": "ipython",
    "version": 3
   },
   "file_extension": ".py",
   "mimetype": "text/x-python",
   "name": "python",
   "nbconvert_exporter": "python",
   "pygments_lexer": "ipython3",
   "version": "3.11.4"
  },
  "latex_envs": {
   "LaTeX_envs_menu_present": true,
   "autoclose": true,
   "autocomplete": true,
   "bibliofile": "biblio.bib",
   "cite_by": "apalike",
   "current_citInitial": 1,
   "eqLabelWithNumbers": true,
   "eqNumInitial": 1,
   "hotkeys": {
    "equation": "Ctrl-E",
    "itemize": "Ctrl-I"
   },
   "labels_anchors": false,
   "latex_user_defs": false,
   "report_style_numbering": false,
   "user_envs_cfg": false
  },
  "toc": {
   "base_numbering": 1,
   "nav_menu": {},
   "number_sections": true,
   "sideBar": true,
   "skip_h1_title": true,
   "title_cell": "Table of Contents",
   "title_sidebar": "Contents",
   "toc_cell": false,
   "toc_position": {},
   "toc_section_display": true,
   "toc_window_display": true
  },
  "toc-autonumbering": false,
  "toc-showcode": false,
  "toc-showmarkdowntxt": false,
  "varInspector": {
   "cols": {
    "lenName": 16,
    "lenType": 16,
    "lenVar": 40
   },
   "kernels_config": {
    "python": {
     "delete_cmd_postfix": "",
     "delete_cmd_prefix": "del ",
     "library": "var_list.py",
     "varRefreshCmd": "print(var_dic_list())"
    },
    "r": {
     "delete_cmd_postfix": ") ",
     "delete_cmd_prefix": "rm(",
     "library": "var_list.r",
     "varRefreshCmd": "cat(var_dic_list()) "
    }
   },
   "position": {
    "height": "782.85px",
    "left": "699px",
    "right": "20px",
    "top": "19px",
    "width": "650px"
   },
   "types_to_exclude": [
    "module",
    "function",
    "builtin_function_or_method",
    "instance",
    "_Feature"
   ],
   "window_display": false
  },
  "widgets": {
   "application/vnd.jupyter.widget-state+json": {
    "state": {},
    "version_major": 2,
    "version_minor": 0
   }
  }
 },
 "nbformat": 4,
 "nbformat_minor": 4
}
