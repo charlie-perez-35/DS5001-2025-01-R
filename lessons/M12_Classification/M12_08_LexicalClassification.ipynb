{
 "cells": [
  {
   "cell_type": "markdown",
   "metadata": {
    "colab_type": "text",
    "id": "hMvHK6QDmPy9",
    "slideshow": {
     "slide_type": "slide"
    }
   },
   "source": [
    "# Classification by Lexicon\n",
    "\n",
    "DS 5001 Text as Data"
   ]
  },
  {
   "cell_type": "markdown",
   "metadata": {
    "colab_type": "text",
    "id": "gEg4USFAmPzB",
    "slideshow": {
     "slide_type": "-"
    }
   },
   "source": [
    "# Set Up"
   ]
  },
  {
   "cell_type": "markdown",
   "metadata": {},
   "source": [
    "## Config"
   ]
  },
  {
   "cell_type": "code",
   "execution_count": 1,
   "metadata": {
    "tags": []
   },
   "outputs": [],
   "source": [
    "import configparser\n",
    "config = configparser.ConfigParser()\n",
    "config.read(\"../../../env.ini\")\n",
    "data_home = config['DEFAULT']['data_home']\n",
    "output_dir = config['DEFAULT']['output_dir']\n",
    "local_lib = config['DEFAULT']['local_lib']"
   ]
  },
  {
   "cell_type": "code",
   "execution_count": 2,
   "metadata": {
    "tags": []
   },
   "outputs": [],
   "source": [
    "data_prefix = 'winereviews'\n",
    "data_path = f\"{data_home}/{data_prefix}/{data_prefix}\"\n",
    "smooth_alpha = .1"
   ]
  },
  {
   "cell_type": "code",
   "execution_count": 3,
   "metadata": {
    "colab": {},
    "colab_type": "code",
    "id": "CSP6e43amPzP",
    "tags": []
   },
   "outputs": [],
   "source": [
    "import pandas as pd\n",
    "import numpy as np\n",
    "import plotly_express as px"
   ]
  },
  {
   "cell_type": "markdown",
   "metadata": {},
   "source": [
    "# Get Data"
   ]
  },
  {
   "cell_type": "code",
   "execution_count": 4,
   "metadata": {
    "tags": []
   },
   "outputs": [],
   "source": [
    "X_test = pd.read_pickle(f\"{data_path}-X_test.csv.pickle\").sort_index()\n",
    "X_train = pd.read_pickle(f\"{data_path}-X_train.csv.pickle\").sort_index()\n",
    "y_test = pd.read_pickle(f\"{data_path}-y_test.csv.pickle\").sort_index()\n",
    "y_train = pd.read_pickle(f\"{data_path}-y_train.csv.pickle\").sort_index()"
   ]
  },
  {
   "cell_type": "code",
   "execution_count": 5,
   "metadata": {
    "tags": []
   },
   "outputs": [],
   "source": [
    "DOC = pd.read_csv(f\"{data_path}-DOC_UNSPLIT.csv\").set_index('doc_id')"
   ]
  },
  {
   "cell_type": "markdown",
   "metadata": {},
   "source": [
    "# Create Model"
   ]
  },
  {
   "cell_type": "code",
   "execution_count": 6,
   "metadata": {},
   "outputs": [],
   "source": [
    "TOKEN_CLASS = X_train.join(y_train).groupby('doc_label').sum().T"
   ]
  },
  {
   "cell_type": "code",
   "execution_count": 42,
   "metadata": {
    "tags": []
   },
   "outputs": [
    {
     "data": {
      "text/html": [
       "<style type=\"text/css\">\n",
       "#T_2ae4b_row0_col0, #T_2ae4b_row1_col1, #T_2ae4b_row2_col1, #T_2ae4b_row3_col0, #T_2ae4b_row3_col1, #T_2ae4b_row4_col0, #T_2ae4b_row5_col0, #T_2ae4b_row6_col0, #T_2ae4b_row7_col1, #T_2ae4b_row8_col0, #T_2ae4b_row9_col1 {\n",
       "  background-color: #ffffd9;\n",
       "  color: #000000;\n",
       "}\n",
       "#T_2ae4b_row0_col1, #T_2ae4b_row1_col0, #T_2ae4b_row2_col0, #T_2ae4b_row4_col1, #T_2ae4b_row5_col1, #T_2ae4b_row6_col1, #T_2ae4b_row7_col0, #T_2ae4b_row8_col1, #T_2ae4b_row9_col0 {\n",
       "  background-color: #081d58;\n",
       "  color: #f1f1f1;\n",
       "}\n",
       "</style>\n",
       "<table id=\"T_2ae4b\">\n",
       "  <thead>\n",
       "    <tr>\n",
       "      <th class=\"index_name level0\" >doc_label</th>\n",
       "      <th id=\"T_2ae4b_level0_col0\" class=\"col_heading level0 col0\" >N</th>\n",
       "      <th id=\"T_2ae4b_level0_col1\" class=\"col_heading level0 col1\" >P</th>\n",
       "    </tr>\n",
       "    <tr>\n",
       "      <th class=\"index_name level0\" >term_str</th>\n",
       "      <th class=\"blank col0\" >&nbsp;</th>\n",
       "      <th class=\"blank col1\" >&nbsp;</th>\n",
       "    </tr>\n",
       "  </thead>\n",
       "  <tbody>\n",
       "    <tr>\n",
       "      <th id=\"T_2ae4b_level0_row0\" class=\"row_heading level0 row0\" >buffer</th>\n",
       "      <td id=\"T_2ae4b_row0_col0\" class=\"data row0 col0\" >0.100000</td>\n",
       "      <td id=\"T_2ae4b_row0_col1\" class=\"data row0 col1\" >2.100000</td>\n",
       "    </tr>\n",
       "    <tr>\n",
       "      <th id=\"T_2ae4b_level0_row1\" class=\"row_heading level0 row1\" >bocce</th>\n",
       "      <td id=\"T_2ae4b_row1_col0\" class=\"data row1 col0\" >1.100000</td>\n",
       "      <td id=\"T_2ae4b_row1_col1\" class=\"data row1 col1\" >0.100000</td>\n",
       "    </tr>\n",
       "    <tr>\n",
       "      <th id=\"T_2ae4b_level0_row2\" class=\"row_heading level0 row2\" >iowa</th>\n",
       "      <td id=\"T_2ae4b_row2_col0\" class=\"data row2 col0\" >1.100000</td>\n",
       "      <td id=\"T_2ae4b_row2_col1\" class=\"data row2 col1\" >0.100000</td>\n",
       "    </tr>\n",
       "    <tr>\n",
       "      <th id=\"T_2ae4b_level0_row3\" class=\"row_heading level0 row3\" >whiile</th>\n",
       "      <td id=\"T_2ae4b_row3_col0\" class=\"data row3 col0\" >0.100000</td>\n",
       "      <td id=\"T_2ae4b_row3_col1\" class=\"data row3 col1\" >0.100000</td>\n",
       "    </tr>\n",
       "    <tr>\n",
       "      <th id=\"T_2ae4b_level0_row4\" class=\"row_heading level0 row4\" >dumangin</th>\n",
       "      <td id=\"T_2ae4b_row4_col0\" class=\"data row4 col0\" >1.100000</td>\n",
       "      <td id=\"T_2ae4b_row4_col1\" class=\"data row4 col1\" >3.100000</td>\n",
       "    </tr>\n",
       "    <tr>\n",
       "      <th id=\"T_2ae4b_level0_row5\" class=\"row_heading level0 row5\" >dancer</th>\n",
       "      <td id=\"T_2ae4b_row5_col0\" class=\"data row5 col0\" >1.100000</td>\n",
       "      <td id=\"T_2ae4b_row5_col1\" class=\"data row5 col1\" >2.100000</td>\n",
       "    </tr>\n",
       "    <tr>\n",
       "      <th id=\"T_2ae4b_level0_row6\" class=\"row_heading level0 row6\" >pioneered</th>\n",
       "      <td id=\"T_2ae4b_row6_col0\" class=\"data row6 col0\" >1.100000</td>\n",
       "      <td id=\"T_2ae4b_row6_col1\" class=\"data row6 col1\" >3.100000</td>\n",
       "    </tr>\n",
       "    <tr>\n",
       "      <th id=\"T_2ae4b_level0_row7\" class=\"row_heading level0 row7\" >beaumes</th>\n",
       "      <td id=\"T_2ae4b_row7_col0\" class=\"data row7 col0\" >1.100000</td>\n",
       "      <td id=\"T_2ae4b_row7_col1\" class=\"data row7 col1\" >0.100000</td>\n",
       "    </tr>\n",
       "    <tr>\n",
       "      <th id=\"T_2ae4b_level0_row8\" class=\"row_heading level0 row8\" >shows</th>\n",
       "      <td id=\"T_2ae4b_row8_col0\" class=\"data row8 col0\" >1190.100000</td>\n",
       "      <td id=\"T_2ae4b_row8_col1\" class=\"data row8 col1\" >1690.100000</td>\n",
       "    </tr>\n",
       "    <tr>\n",
       "      <th id=\"T_2ae4b_level0_row9\" class=\"row_heading level0 row9\" >loose</th>\n",
       "      <td id=\"T_2ae4b_row9_col0\" class=\"data row9 col0\" >19.100000</td>\n",
       "      <td id=\"T_2ae4b_row9_col1\" class=\"data row9 col1\" >4.100000</td>\n",
       "    </tr>\n",
       "  </tbody>\n",
       "</table>\n"
      ],
      "text/plain": [
       "<pandas.io.formats.style.Styler at 0x7f9471727eb0>"
      ]
     },
     "execution_count": 42,
     "metadata": {},
     "output_type": "execute_result"
    }
   ],
   "source": [
    "TOKEN_CLASS.sample(10).style.background_gradient(cmap=\"YlGnBu\", axis=1)"
   ]
  },
  {
   "cell_type": "code",
   "execution_count": 6,
   "metadata": {},
   "outputs": [],
   "source": [
    "TOKEN_CLASS = TOKEN_CLASS + smooth_alpha\n",
    "TOKEN_CLASS_LOG = np.log2(TOKEN_CLASS / TOKEN_CLASS.sum())"
   ]
  },
  {
   "cell_type": "code",
   "execution_count": 39,
   "metadata": {
    "tags": []
   },
   "outputs": [
    {
     "data": {
      "text/html": [
       "<style type=\"text/css\">\n",
       "#T_0ea00_row0_col0, #T_0ea00_row1_col1, #T_0ea00_row2_col1, #T_0ea00_row3_col0, #T_0ea00_row4_col1, #T_0ea00_row5_col0, #T_0ea00_row6_col1, #T_0ea00_row7_col0, #T_0ea00_row8_col0, #T_0ea00_row9_col1 {\n",
       "  background-color: #081d58;\n",
       "  color: #f1f1f1;\n",
       "}\n",
       "#T_0ea00_row0_col1, #T_0ea00_row1_col0, #T_0ea00_row2_col0, #T_0ea00_row3_col1, #T_0ea00_row4_col0, #T_0ea00_row5_col1, #T_0ea00_row6_col0, #T_0ea00_row7_col1, #T_0ea00_row8_col1, #T_0ea00_row9_col0 {\n",
       "  background-color: #ffffd9;\n",
       "  color: #000000;\n",
       "}\n",
       "</style>\n",
       "<table id=\"T_0ea00\">\n",
       "  <thead>\n",
       "    <tr>\n",
       "      <th class=\"index_name level0\" >doc_label</th>\n",
       "      <th id=\"T_0ea00_level0_col0\" class=\"col_heading level0 col0\" >N</th>\n",
       "      <th id=\"T_0ea00_level0_col1\" class=\"col_heading level0 col1\" >P</th>\n",
       "    </tr>\n",
       "    <tr>\n",
       "      <th class=\"index_name level0\" >term_str</th>\n",
       "      <th class=\"blank col0\" >&nbsp;</th>\n",
       "      <th class=\"blank col1\" >&nbsp;</th>\n",
       "    </tr>\n",
       "  </thead>\n",
       "  <tbody>\n",
       "    <tr>\n",
       "      <th id=\"T_0ea00_level0_row0\" class=\"row_heading level0 row0\" >withstand</th>\n",
       "      <td id=\"T_0ea00_row0_col0\" class=\"data row0 col0\" >-16.749042</td>\n",
       "      <td id=\"T_0ea00_row0_col1\" class=\"data row0 col1\" >-17.667643</td>\n",
       "    </tr>\n",
       "    <tr>\n",
       "      <th id=\"T_0ea00_level0_row1\" class=\"row_heading level0 row1\" >haag</th>\n",
       "      <td id=\"T_0ea00_row1_col0\" class=\"data row1 col0\" >-21.703238</td>\n",
       "      <td id=\"T_0ea00_row1_col1\" class=\"data row1 col1\" >-18.600529</td>\n",
       "    </tr>\n",
       "    <tr>\n",
       "      <th id=\"T_0ea00_level0_row2\" class=\"row_heading level0 row2\" >prospects</th>\n",
       "      <td id=\"T_0ea00_row2_col0\" class=\"data row2 col0\" >-21.703238</td>\n",
       "      <td id=\"T_0ea00_row2_col1\" class=\"data row2 col1\" >-18.600529</td>\n",
       "    </tr>\n",
       "    <tr>\n",
       "      <th id=\"T_0ea00_level0_row3\" class=\"row_heading level0 row3\" >rouillac</th>\n",
       "      <td id=\"T_0ea00_row3_col0\" class=\"data row3 col0\" >-18.243807</td>\n",
       "      <td id=\"T_0ea00_row3_col1\" class=\"data row3 col1\" >-22.059961</td>\n",
       "    </tr>\n",
       "    <tr>\n",
       "      <th id=\"T_0ea00_level0_row4\" class=\"row_heading level0 row4\" >holds</th>\n",
       "      <td id=\"T_0ea00_row4_col0\" class=\"data row4 col0\" >-12.448210</td>\n",
       "      <td id=\"T_0ea00_row4_col1\" class=\"data row4 col1\" >-12.050132</td>\n",
       "    </tr>\n",
       "    <tr>\n",
       "      <th id=\"T_0ea00_level0_row5\" class=\"row_heading level0 row5\" >establishing</th>\n",
       "      <td id=\"T_0ea00_row5_col0\" class=\"data row5 col0\" >-17.310921</td>\n",
       "      <td id=\"T_0ea00_row5_col1\" class=\"data row5 col1\" >-22.059961</td>\n",
       "    </tr>\n",
       "    <tr>\n",
       "      <th id=\"T_0ea00_level0_row6\" class=\"row_heading level0 row6\" >riddle</th>\n",
       "      <td id=\"T_0ea00_row6_col0\" class=\"data row6 col0\" >-21.703238</td>\n",
       "      <td id=\"T_0ea00_row6_col1\" class=\"data row6 col1\" >-17.667643</td>\n",
       "    </tr>\n",
       "    <tr>\n",
       "      <th id=\"T_0ea00_level0_row7\" class=\"row_heading level0 row7\" >burger</th>\n",
       "      <td id=\"T_0ea00_row7_col0\" class=\"data row7 col0\" >-15.045027</td>\n",
       "      <td id=\"T_0ea00_row7_col1\" class=\"data row7 col1\" >-16.387535</td>\n",
       "    </tr>\n",
       "    <tr>\n",
       "      <th id=\"T_0ea00_level0_row8\" class=\"row_heading level0 row8\" >chewier</th>\n",
       "      <td id=\"T_0ea00_row8_col0\" class=\"data row8 col0\" >-21.703238</td>\n",
       "      <td id=\"T_0ea00_row8_col1\" class=\"data row8 col1\" >-22.059961</td>\n",
       "    </tr>\n",
       "    <tr>\n",
       "      <th id=\"T_0ea00_level0_row9\" class=\"row_heading level0 row9\" >baguette</th>\n",
       "      <td id=\"T_0ea00_row9_col0\" class=\"data row9 col0\" >-15.772501</td>\n",
       "      <td id=\"T_0ea00_row9_col1\" class=\"data row9 col1\" >-14.821556</td>\n",
       "    </tr>\n",
       "  </tbody>\n",
       "</table>\n"
      ],
      "text/plain": [
       "<pandas.io.formats.style.Styler at 0x7f9471727c70>"
      ]
     },
     "execution_count": 39,
     "metadata": {},
     "output_type": "execute_result"
    }
   ],
   "source": [
    "TOKEN_CLASS_LOG.sample(10).style.background_gradient(cmap=\"YlGnBu\", axis=1)"
   ]
  },
  {
   "cell_type": "code",
   "execution_count": 8,
   "metadata": {
    "tags": []
   },
   "outputs": [],
   "source": [
    "MODEL = (TOKEN_CLASS_LOG.P - TOKEN_CLASS_LOG.N).to_frame('valence')\n",
    "MODEL.index.name = 'term_str'"
   ]
  },
  {
   "cell_type": "code",
   "execution_count": 68,
   "metadata": {
    "tags": []
   },
   "outputs": [],
   "source": [
    "MODEL['polarity'] = None\n",
    "# thresh = MODEL.valence.median()\n",
    "# thresh = MODEL.valence.mean()\n",
    "thresh = 0\n",
    "MODEL.loc[MODEL.valence >= thresh, 'polarity'] = 1\n",
    "MODEL.loc[MODEL.valence < thresh, 'polarity'] = -1"
   ]
  },
  {
   "cell_type": "code",
   "execution_count": 69,
   "metadata": {
    "tags": []
   },
   "outputs": [],
   "source": [
    "from sklearn.preprocessing import MinMaxScaler"
   ]
  },
  {
   "cell_type": "code",
   "execution_count": 70,
   "metadata": {
    "tags": []
   },
   "outputs": [],
   "source": [
    "scaler = MinMaxScaler(feature_range=(-1, 1))\n",
    "MODEL['normalized'] = scaler.fit_transform(MODEL[['valence']])"
   ]
  },
  {
   "cell_type": "code",
   "execution_count": 71,
   "metadata": {
    "tags": []
   },
   "outputs": [
    {
     "data": {
      "text/html": [
       "<div>\n",
       "<style scoped>\n",
       "    .dataframe tbody tr th:only-of-type {\n",
       "        vertical-align: middle;\n",
       "    }\n",
       "\n",
       "    .dataframe tbody tr th {\n",
       "        vertical-align: top;\n",
       "    }\n",
       "\n",
       "    .dataframe thead th {\n",
       "        text-align: right;\n",
       "    }\n",
       "</style>\n",
       "<table border=\"1\" class=\"dataframe\">\n",
       "  <thead>\n",
       "    <tr style=\"text-align: right;\">\n",
       "      <th></th>\n",
       "      <th>valence</th>\n",
       "      <th>polarity</th>\n",
       "      <th>normalized</th>\n",
       "    </tr>\n",
       "    <tr>\n",
       "      <th>term_str</th>\n",
       "      <th></th>\n",
       "      <th></th>\n",
       "      <th></th>\n",
       "    </tr>\n",
       "  </thead>\n",
       "  <tbody>\n",
       "    <tr>\n",
       "      <th>000</th>\n",
       "      <td>-0.498277</td>\n",
       "      <td>-1</td>\n",
       "      <td>-0.033041</td>\n",
       "    </tr>\n",
       "    <tr>\n",
       "      <th>01</th>\n",
       "      <td>0.608512</td>\n",
       "      <td>1</td>\n",
       "      <td>0.082948</td>\n",
       "    </tr>\n",
       "    <tr>\n",
       "      <th>02</th>\n",
       "      <td>-0.356722</td>\n",
       "      <td>-1</td>\n",
       "      <td>-0.018206</td>\n",
       "    </tr>\n",
       "    <tr>\n",
       "      <th>03</th>\n",
       "      <td>-1.321957</td>\n",
       "      <td>-1</td>\n",
       "      <td>-0.119360</td>\n",
       "    </tr>\n",
       "    <tr>\n",
       "      <th>04</th>\n",
       "      <td>-0.356722</td>\n",
       "      <td>-1</td>\n",
       "      <td>-0.018206</td>\n",
       "    </tr>\n",
       "    <tr>\n",
       "      <th>...</th>\n",
       "      <td>...</td>\n",
       "      <td>...</td>\n",
       "      <td>...</td>\n",
       "    </tr>\n",
       "    <tr>\n",
       "      <th>émilion</th>\n",
       "      <td>0.625576</td>\n",
       "      <td>1</td>\n",
       "      <td>0.084736</td>\n",
       "    </tr>\n",
       "    <tr>\n",
       "      <th>öküzgözü</th>\n",
       "      <td>-0.356722</td>\n",
       "      <td>-1</td>\n",
       "      <td>-0.018206</td>\n",
       "    </tr>\n",
       "    <tr>\n",
       "      <th>über</th>\n",
       "      <td>-0.356722</td>\n",
       "      <td>-1</td>\n",
       "      <td>-0.018206</td>\n",
       "    </tr>\n",
       "    <tr>\n",
       "      <th>überaromatic</th>\n",
       "      <td>3.102709</td>\n",
       "      <td>1</td>\n",
       "      <td>0.344333</td>\n",
       "    </tr>\n",
       "    <tr>\n",
       "      <th>žilavka</th>\n",
       "      <td>-0.356722</td>\n",
       "      <td>-1</td>\n",
       "      <td>-0.018206</td>\n",
       "    </tr>\n",
       "  </tbody>\n",
       "</table>\n",
       "<p>20809 rows × 3 columns</p>\n",
       "</div>"
      ],
      "text/plain": [
       "               valence polarity  normalized\n",
       "term_str                                   \n",
       "000          -0.498277       -1   -0.033041\n",
       "01            0.608512        1    0.082948\n",
       "02           -0.356722       -1   -0.018206\n",
       "03           -1.321957       -1   -0.119360\n",
       "04           -0.356722       -1   -0.018206\n",
       "...                ...      ...         ...\n",
       "émilion       0.625576        1    0.084736\n",
       "öküzgözü     -0.356722       -1   -0.018206\n",
       "über         -0.356722       -1   -0.018206\n",
       "überaromatic  3.102709        1    0.344333\n",
       "žilavka      -0.356722       -1   -0.018206\n",
       "\n",
       "[20809 rows x 3 columns]"
      ]
     },
     "execution_count": 71,
     "metadata": {},
     "output_type": "execute_result"
    }
   ],
   "source": [
    "MODEL"
   ]
  },
  {
   "cell_type": "markdown",
   "metadata": {},
   "source": [
    "# Model Stats"
   ]
  },
  {
   "cell_type": "code",
   "execution_count": 72,
   "metadata": {
    "tags": []
   },
   "outputs": [
    {
     "data": {
      "text/plain": [
       "count    20809.000000\n",
       "mean         0.367935\n",
       "std          2.844002\n",
       "min         -9.725229\n",
       "25%         -1.162675\n",
       "50%          0.233843\n",
       "75%          3.102709\n",
       "max          9.359240\n",
       "Name: valence, dtype: float64"
      ]
     },
     "execution_count": 72,
     "metadata": {},
     "output_type": "execute_result"
    }
   ],
   "source": [
    "MODEL.valence.describe()"
   ]
  },
  {
   "cell_type": "code",
   "execution_count": 73,
   "metadata": {
    "tags": []
   },
   "outputs": [
    {
     "data": {
      "text/plain": [
       "count    20809.000000\n",
       "mean         0.057736\n",
       "std          0.298044\n",
       "min         -1.000000\n",
       "25%         -0.102668\n",
       "50%          0.043683\n",
       "75%          0.344333\n",
       "max          1.000000\n",
       "Name: normalized, dtype: float64"
      ]
     },
     "execution_count": 73,
     "metadata": {},
     "output_type": "execute_result"
    }
   ],
   "source": [
    "MODEL.normalized.describe()"
   ]
  },
  {
   "cell_type": "code",
   "execution_count": 74,
   "metadata": {
    "tags": []
   },
   "outputs": [
    {
     "data": {
      "text/plain": [
       "0.04368342179719466"
      ]
     },
     "execution_count": 74,
     "metadata": {},
     "output_type": "execute_result"
    }
   ],
   "source": [
    "MODEL.normalized.median()"
   ]
  },
  {
   "cell_type": "code",
   "execution_count": 98,
   "metadata": {
    "tags": []
   },
   "outputs": [
    {
     "data": {
      "image/png": "[encoded data removed]",
      "text/plain": [
       "<Figure size 640x480 with 1 Axes>"
      ]
     },
     "metadata": {},
     "output_type": "display_data"
    }
   ],
   "source": [
    "MODEL.normalized.hist(bins=30);"
   ]
  },
  {
   "cell_type": "code",
   "execution_count": 76,
   "metadata": {
    "tags": []
   },
   "outputs": [
    {
     "data": {
      "image/png": "[encoded data removed]",
      "text/plain": [
       "<Figure size 200x200 with 1 Axes>"
      ]
     },
     "metadata": {},
     "output_type": "display_data"
    }
   ],
   "source": [
    "MODEL.polarity.value_counts().plot.pie(figsize=(2,2));"
   ]
  },
  {
   "cell_type": "markdown",
   "metadata": {},
   "source": [
    "# Test Model"
   ]
  },
  {
   "cell_type": "code",
   "execution_count": 77,
   "metadata": {
    "tags": []
   },
   "outputs": [],
   "source": [
    "RESULT = X_test.dot(MODEL.normalized).to_frame('y_hat1')\n",
    "RESULT['y_hat2'] = np.sign(RESULT.y_hat1)\n",
    "RESULT['doc_label'] = y_test"
   ]
  },
  {
   "cell_type": "code",
   "execution_count": 78,
   "metadata": {
    "tags": []
   },
   "outputs": [
    {
     "data": {
      "text/html": [
       "<div>\n",
       "<style scoped>\n",
       "    .dataframe tbody tr th:only-of-type {\n",
       "        vertical-align: middle;\n",
       "    }\n",
       "\n",
       "    .dataframe tbody tr th {\n",
       "        vertical-align: top;\n",
       "    }\n",
       "\n",
       "    .dataframe thead th {\n",
       "        text-align: right;\n",
       "    }\n",
       "</style>\n",
       "<table border=\"1\" class=\"dataframe\">\n",
       "  <thead>\n",
       "    <tr style=\"text-align: right;\">\n",
       "      <th></th>\n",
       "      <th>y_hat1</th>\n",
       "      <th>y_hat2</th>\n",
       "      <th>doc_label</th>\n",
       "    </tr>\n",
       "    <tr>\n",
       "      <th>doc_id</th>\n",
       "      <th></th>\n",
       "      <th></th>\n",
       "      <th></th>\n",
       "    </tr>\n",
       "  </thead>\n",
       "  <tbody>\n",
       "    <tr>\n",
       "      <th>38</th>\n",
       "      <td>0.313152</td>\n",
       "      <td>1.0</td>\n",
       "      <td>N</td>\n",
       "    </tr>\n",
       "    <tr>\n",
       "      <th>115</th>\n",
       "      <td>0.415103</td>\n",
       "      <td>1.0</td>\n",
       "      <td>N</td>\n",
       "    </tr>\n",
       "    <tr>\n",
       "      <th>122</th>\n",
       "      <td>1.685138</td>\n",
       "      <td>1.0</td>\n",
       "      <td>P</td>\n",
       "    </tr>\n",
       "    <tr>\n",
       "      <th>128</th>\n",
       "      <td>1.457144</td>\n",
       "      <td>1.0</td>\n",
       "      <td>P</td>\n",
       "    </tr>\n",
       "    <tr>\n",
       "      <th>136</th>\n",
       "      <td>0.537275</td>\n",
       "      <td>1.0</td>\n",
       "      <td>P</td>\n",
       "    </tr>\n",
       "    <tr>\n",
       "      <th>...</th>\n",
       "      <td>...</td>\n",
       "      <td>...</td>\n",
       "      <td>...</td>\n",
       "    </tr>\n",
       "    <tr>\n",
       "      <th>129939</th>\n",
       "      <td>1.046527</td>\n",
       "      <td>1.0</td>\n",
       "      <td>P</td>\n",
       "    </tr>\n",
       "    <tr>\n",
       "      <th>129948</th>\n",
       "      <td>-0.702037</td>\n",
       "      <td>-1.0</td>\n",
       "      <td>P</td>\n",
       "    </tr>\n",
       "    <tr>\n",
       "      <th>129949</th>\n",
       "      <td>0.965782</td>\n",
       "      <td>1.0</td>\n",
       "      <td>P</td>\n",
       "    </tr>\n",
       "    <tr>\n",
       "      <th>129961</th>\n",
       "      <td>1.045140</td>\n",
       "      <td>1.0</td>\n",
       "      <td>P</td>\n",
       "    </tr>\n",
       "    <tr>\n",
       "      <th>129966</th>\n",
       "      <td>0.259153</td>\n",
       "      <td>1.0</td>\n",
       "      <td>P</td>\n",
       "    </tr>\n",
       "  </tbody>\n",
       "</table>\n",
       "<p>8000 rows × 3 columns</p>\n",
       "</div>"
      ],
      "text/plain": [
       "          y_hat1  y_hat2 doc_label\n",
       "doc_id                            \n",
       "38      0.313152     1.0         N\n",
       "115     0.415103     1.0         N\n",
       "122     1.685138     1.0         P\n",
       "128     1.457144     1.0         P\n",
       "136     0.537275     1.0         P\n",
       "...          ...     ...       ...\n",
       "129939  1.046527     1.0         P\n",
       "129948 -0.702037    -1.0         P\n",
       "129949  0.965782     1.0         P\n",
       "129961  1.045140     1.0         P\n",
       "129966  0.259153     1.0         P\n",
       "\n",
       "[8000 rows x 3 columns]"
      ]
     },
     "execution_count": 78,
     "metadata": {},
     "output_type": "execute_result"
    }
   ],
   "source": [
    "RESULT"
   ]
  },
  {
   "cell_type": "code",
   "execution_count": 79,
   "metadata": {
    "tags": []
   },
   "outputs": [],
   "source": [
    "RESULT.loc[RESULT.y_hat2 >= 0, 'y_hat'] = 'P'\n",
    "RESULT.loc[RESULT.y_hat2 < 0, 'y_hat'] = 'N'"
   ]
  },
  {
   "cell_type": "code",
   "execution_count": 80,
   "metadata": {
    "tags": []
   },
   "outputs": [
    {
     "data": {
      "text/html": [
       "<div>\n",
       "<style scoped>\n",
       "    .dataframe tbody tr th:only-of-type {\n",
       "        vertical-align: middle;\n",
       "    }\n",
       "\n",
       "    .dataframe tbody tr th {\n",
       "        vertical-align: top;\n",
       "    }\n",
       "\n",
       "    .dataframe thead th {\n",
       "        text-align: right;\n",
       "    }\n",
       "</style>\n",
       "<table border=\"1\" class=\"dataframe\">\n",
       "  <thead>\n",
       "    <tr style=\"text-align: right;\">\n",
       "      <th></th>\n",
       "      <th>y_hat1</th>\n",
       "      <th>y_hat2</th>\n",
       "      <th>doc_label</th>\n",
       "      <th>y_hat</th>\n",
       "    </tr>\n",
       "    <tr>\n",
       "      <th>doc_id</th>\n",
       "      <th></th>\n",
       "      <th></th>\n",
       "      <th></th>\n",
       "      <th></th>\n",
       "    </tr>\n",
       "  </thead>\n",
       "  <tbody>\n",
       "    <tr>\n",
       "      <th>38</th>\n",
       "      <td>0.313152</td>\n",
       "      <td>1.0</td>\n",
       "      <td>N</td>\n",
       "      <td>P</td>\n",
       "    </tr>\n",
       "    <tr>\n",
       "      <th>115</th>\n",
       "      <td>0.415103</td>\n",
       "      <td>1.0</td>\n",
       "      <td>N</td>\n",
       "      <td>P</td>\n",
       "    </tr>\n",
       "    <tr>\n",
       "      <th>122</th>\n",
       "      <td>1.685138</td>\n",
       "      <td>1.0</td>\n",
       "      <td>P</td>\n",
       "      <td>P</td>\n",
       "    </tr>\n",
       "    <tr>\n",
       "      <th>128</th>\n",
       "      <td>1.457144</td>\n",
       "      <td>1.0</td>\n",
       "      <td>P</td>\n",
       "      <td>P</td>\n",
       "    </tr>\n",
       "    <tr>\n",
       "      <th>136</th>\n",
       "      <td>0.537275</td>\n",
       "      <td>1.0</td>\n",
       "      <td>P</td>\n",
       "      <td>P</td>\n",
       "    </tr>\n",
       "    <tr>\n",
       "      <th>...</th>\n",
       "      <td>...</td>\n",
       "      <td>...</td>\n",
       "      <td>...</td>\n",
       "      <td>...</td>\n",
       "    </tr>\n",
       "    <tr>\n",
       "      <th>129939</th>\n",
       "      <td>1.046527</td>\n",
       "      <td>1.0</td>\n",
       "      <td>P</td>\n",
       "      <td>P</td>\n",
       "    </tr>\n",
       "    <tr>\n",
       "      <th>129948</th>\n",
       "      <td>-0.702037</td>\n",
       "      <td>-1.0</td>\n",
       "      <td>P</td>\n",
       "      <td>N</td>\n",
       "    </tr>\n",
       "    <tr>\n",
       "      <th>129949</th>\n",
       "      <td>0.965782</td>\n",
       "      <td>1.0</td>\n",
       "      <td>P</td>\n",
       "      <td>P</td>\n",
       "    </tr>\n",
       "    <tr>\n",
       "      <th>129961</th>\n",
       "      <td>1.045140</td>\n",
       "      <td>1.0</td>\n",
       "      <td>P</td>\n",
       "      <td>P</td>\n",
       "    </tr>\n",
       "    <tr>\n",
       "      <th>129966</th>\n",
       "      <td>0.259153</td>\n",
       "      <td>1.0</td>\n",
       "      <td>P</td>\n",
       "      <td>P</td>\n",
       "    </tr>\n",
       "  </tbody>\n",
       "</table>\n",
       "<p>8000 rows × 4 columns</p>\n",
       "</div>"
      ],
      "text/plain": [
       "          y_hat1  y_hat2 doc_label y_hat\n",
       "doc_id                                  \n",
       "38      0.313152     1.0         N     P\n",
       "115     0.415103     1.0         N     P\n",
       "122     1.685138     1.0         P     P\n",
       "128     1.457144     1.0         P     P\n",
       "136     0.537275     1.0         P     P\n",
       "...          ...     ...       ...   ...\n",
       "129939  1.046527     1.0         P     P\n",
       "129948 -0.702037    -1.0         P     N\n",
       "129949  0.965782     1.0         P     P\n",
       "129961  1.045140     1.0         P     P\n",
       "129966  0.259153     1.0         P     P\n",
       "\n",
       "[8000 rows x 4 columns]"
      ]
     },
     "execution_count": 80,
     "metadata": {},
     "output_type": "execute_result"
    }
   ],
   "source": [
    "RESULT"
   ]
  },
  {
   "cell_type": "code",
   "execution_count": 81,
   "metadata": {
    "tags": []
   },
   "outputs": [],
   "source": [
    "# RESULT.value_counts('y_hat1').sort_index().plot.bar(rot=45, figsize=(10,2));"
   ]
  },
  {
   "cell_type": "code",
   "execution_count": 82,
   "metadata": {
    "tags": []
   },
   "outputs": [],
   "source": [
    "# RESULT.value_counts('y_hat2').sort_index().plot.bar(rot=0);"
   ]
  },
  {
   "cell_type": "markdown",
   "metadata": {},
   "source": [
    "# Evaluate Model"
   ]
  },
  {
   "cell_type": "code",
   "execution_count": 83,
   "metadata": {
    "tags": []
   },
   "outputs": [],
   "source": [
    "RESULT['result'] = RESULT.doc_label == RESULT.y_hat"
   ]
  },
  {
   "cell_type": "code",
   "execution_count": 84,
   "metadata": {
    "tags": []
   },
   "outputs": [],
   "source": [
    "CM = RESULT.value_counts(['y_hat', 'doc_label']).unstack()"
   ]
  },
  {
   "cell_type": "code",
   "execution_count": 85,
   "metadata": {
    "tags": []
   },
   "outputs": [
    {
     "data": {
      "text/html": [
       "<style type=\"text/css\">\n",
       "#T_bf78c_row0_col0 {\n",
       "  background-color: #3d93c2;\n",
       "  color: #f1f1f1;\n",
       "}\n",
       "#T_bf78c_row0_col1 {\n",
       "  background-color: #fff7fb;\n",
       "  color: #000000;\n",
       "}\n",
       "#T_bf78c_row1_col0 {\n",
       "  background-color: #8eb3d5;\n",
       "  color: #000000;\n",
       "}\n",
       "#T_bf78c_row1_col1 {\n",
       "  background-color: #023858;\n",
       "  color: #f1f1f1;\n",
       "}\n",
       "</style>\n",
       "<table id=\"T_bf78c\">\n",
       "  <thead>\n",
       "    <tr>\n",
       "      <th class=\"index_name level0\" >doc_label</th>\n",
       "      <th id=\"T_bf78c_level0_col0\" class=\"col_heading level0 col0\" >N</th>\n",
       "      <th id=\"T_bf78c_level0_col1\" class=\"col_heading level0 col1\" >P</th>\n",
       "    </tr>\n",
       "    <tr>\n",
       "      <th class=\"index_name level0\" >y_hat</th>\n",
       "      <th class=\"blank col0\" >&nbsp;</th>\n",
       "      <th class=\"blank col1\" >&nbsp;</th>\n",
       "    </tr>\n",
       "  </thead>\n",
       "  <tbody>\n",
       "    <tr>\n",
       "      <th id=\"T_bf78c_level0_row0\" class=\"row_heading level0 row0\" >N</th>\n",
       "      <td id=\"T_bf78c_row0_col0\" class=\"data row0 col0\" >2330</td>\n",
       "      <td id=\"T_bf78c_row0_col1\" class=\"data row0 col1\" >282</td>\n",
       "    </tr>\n",
       "    <tr>\n",
       "      <th id=\"T_bf78c_level0_row1\" class=\"row_heading level0 row1\" >P</th>\n",
       "      <td id=\"T_bf78c_row1_col0\" class=\"data row1 col0\" >1749</td>\n",
       "      <td id=\"T_bf78c_row1_col1\" class=\"data row1 col1\" >3639</td>\n",
       "    </tr>\n",
       "  </tbody>\n",
       "</table>\n"
      ],
      "text/plain": [
       "<pandas.io.formats.style.Styler at 0x7f94712b1250>"
      ]
     },
     "execution_count": 85,
     "metadata": {},
     "output_type": "execute_result"
    }
   ],
   "source": [
    "CM.style.background_gradient(axis=None)"
   ]
  },
  {
   "cell_type": "markdown",
   "metadata": {},
   "source": [
    "## Recall"
   ]
  },
  {
   "cell_type": "code",
   "execution_count": 86,
   "metadata": {
    "tags": []
   },
   "outputs": [
    {
     "data": {
      "text/html": [
       "<style type=\"text/css\">\n",
       "#T_eee20_row0_col0, #T_eee20_row1_col1 {\n",
       "  background-color: #023858;\n",
       "  color: #f1f1f1;\n",
       "}\n",
       "#T_eee20_row0_col1, #T_eee20_row1_col0 {\n",
       "  background-color: #fff7fb;\n",
       "  color: #000000;\n",
       "}\n",
       "</style>\n",
       "<table id=\"T_eee20\">\n",
       "  <thead>\n",
       "    <tr>\n",
       "      <th class=\"index_name level0\" >doc_label</th>\n",
       "      <th id=\"T_eee20_level0_col0\" class=\"col_heading level0 col0\" >N</th>\n",
       "      <th id=\"T_eee20_level0_col1\" class=\"col_heading level0 col1\" >P</th>\n",
       "    </tr>\n",
       "    <tr>\n",
       "      <th class=\"index_name level0\" >y_hat</th>\n",
       "      <th class=\"blank col0\" >&nbsp;</th>\n",
       "      <th class=\"blank col1\" >&nbsp;</th>\n",
       "    </tr>\n",
       "  </thead>\n",
       "  <tbody>\n",
       "    <tr>\n",
       "      <th id=\"T_eee20_level0_row0\" class=\"row_heading level0 row0\" >N</th>\n",
       "      <td id=\"T_eee20_row0_col0\" class=\"data row0 col0\" >0.57</td>\n",
       "      <td id=\"T_eee20_row0_col1\" class=\"data row0 col1\" >0.07</td>\n",
       "    </tr>\n",
       "    <tr>\n",
       "      <th id=\"T_eee20_level0_row1\" class=\"row_heading level0 row1\" >P</th>\n",
       "      <td id=\"T_eee20_row1_col0\" class=\"data row1 col0\" >0.43</td>\n",
       "      <td id=\"T_eee20_row1_col1\" class=\"data row1 col1\" >0.93</td>\n",
       "    </tr>\n",
       "  </tbody>\n",
       "</table>\n"
      ],
      "text/plain": [
       "<pandas.io.formats.style.Styler at 0x7f94712b15e0>"
      ]
     },
     "execution_count": 86,
     "metadata": {},
     "output_type": "execute_result"
    }
   ],
   "source": [
    "(CM / CM.sum()).style.format(precision=2).background_gradient(axis=0)"
   ]
  },
  {
   "cell_type": "markdown",
   "metadata": {},
   "source": [
    "## Precision"
   ]
  },
  {
   "cell_type": "code",
   "execution_count": 87,
   "metadata": {
    "tags": []
   },
   "outputs": [
    {
     "data": {
      "text/html": [
       "<style type=\"text/css\">\n",
       "#T_53f36_row0_col0, #T_53f36_row1_col1 {\n",
       "  background-color: #023858;\n",
       "  color: #f1f1f1;\n",
       "}\n",
       "#T_53f36_row0_col1, #T_53f36_row1_col0 {\n",
       "  background-color: #fff7fb;\n",
       "  color: #000000;\n",
       "}\n",
       "</style>\n",
       "<table id=\"T_53f36\">\n",
       "  <thead>\n",
       "    <tr>\n",
       "      <th class=\"index_name level0\" >doc_label</th>\n",
       "      <th id=\"T_53f36_level0_col0\" class=\"col_heading level0 col0\" >N</th>\n",
       "      <th id=\"T_53f36_level0_col1\" class=\"col_heading level0 col1\" >P</th>\n",
       "    </tr>\n",
       "    <tr>\n",
       "      <th class=\"index_name level0\" >y_hat</th>\n",
       "      <th class=\"blank col0\" >&nbsp;</th>\n",
       "      <th class=\"blank col1\" >&nbsp;</th>\n",
       "    </tr>\n",
       "  </thead>\n",
       "  <tbody>\n",
       "    <tr>\n",
       "      <th id=\"T_53f36_level0_row0\" class=\"row_heading level0 row0\" >N</th>\n",
       "      <td id=\"T_53f36_row0_col0\" class=\"data row0 col0\" >0.89</td>\n",
       "      <td id=\"T_53f36_row0_col1\" class=\"data row0 col1\" >0.11</td>\n",
       "    </tr>\n",
       "    <tr>\n",
       "      <th id=\"T_53f36_level0_row1\" class=\"row_heading level0 row1\" >P</th>\n",
       "      <td id=\"T_53f36_row1_col0\" class=\"data row1 col0\" >0.32</td>\n",
       "      <td id=\"T_53f36_row1_col1\" class=\"data row1 col1\" >0.68</td>\n",
       "    </tr>\n",
       "  </tbody>\n",
       "</table>\n"
      ],
      "text/plain": [
       "<pandas.io.formats.style.Styler at 0x7f94712b14f0>"
      ]
     },
     "execution_count": 87,
     "metadata": {},
     "output_type": "execute_result"
    }
   ],
   "source": [
    "(CM.T / CM.T.sum()).T.style.format(precision=2).background_gradient(axis=1)"
   ]
  },
  {
   "cell_type": "code",
   "execution_count": 93,
   "metadata": {
    "tags": []
   },
   "outputs": [],
   "source": [
    "# px.scatter(RESULT.join(DOC[['doc_content','points','doc_len']], how='inner', rsuffix='_x').reset_index(), \n",
    "#            'doc_len', 'points', color='result', symbol='y_hat',\n",
    "#            height=900, width=1000, marginal_x='histogram', marginal_y='histogram')"
   ]
  },
  {
   "cell_type": "code",
   "execution_count": 94,
   "metadata": {},
   "outputs": [],
   "source": [
    "def get_results(CM, model_id):\n",
    "    \n",
    "    R = pd.DataFrame(index=[model_id])\n",
    "    R.index.name = 'model_id'\n",
    "    \n",
    "    # COUNTS\n",
    "    R['TN'] = CM.iloc[0,0]   # correct rejections\n",
    "    R['FN'] = CM.iloc[0,1]   # Type II errors or misses\n",
    "    R['TP'] = CM.iloc[1,1]   # hits\n",
    "    R['FP'] = CM.iloc[1,0]   # Type I errors or false alarms\n",
    "    R['T'] = R.TP + R.TN     # All True\n",
    "    R['F'] = R.FP + R.FN     # All False\n",
    "    R['ALL'] = R['T'] + R.F  # All\n",
    "    \n",
    "    assert R.ALL.values[0] == CM.sum().sum()\n",
    "    \n",
    "    # RATIOS\n",
    "    R['ACC'] = R['T'] / R.ALL                        # (Simple) Accuracy\n",
    "    R['TPR'] = R.TP / (R.TP + R.FN)                  # Recall or Sensitivity\n",
    "    R['TNR'] = R.TN / (R.TN + R.FP)                  # Specificity\n",
    "    R['PPV'] = R.TP / (R.TP + R.FP)                  # Precision or Positive predictive value \n",
    "    R['BA'] = (R.TNR + R.TPR) / 2                    # Balanced Accuracy\n",
    "    R['F1'] = (2 *  R.TP) / (2 * R.TP + R.FP + R.FN) # F-score where F = 1\n",
    "\n",
    "    return R"
   ]
  },
  {
   "cell_type": "code",
   "execution_count": 95,
   "metadata": {},
   "outputs": [],
   "source": [
    "R = get_results(CM, 'salex')"
   ]
  },
  {
   "cell_type": "code",
   "execution_count": 96,
   "metadata": {
    "tags": []
   },
   "outputs": [
    {
     "data": {
      "text/html": [
       "<style type=\"text/css\">\n",
       "</style>\n",
       "<table id=\"T_c04da\">\n",
       "  <thead>\n",
       "    <tr>\n",
       "      <th class=\"index_name level0\" >model_id</th>\n",
       "      <th id=\"T_c04da_level0_col0\" class=\"col_heading level0 col0\" >salex</th>\n",
       "    </tr>\n",
       "  </thead>\n",
       "  <tbody>\n",
       "    <tr>\n",
       "      <th id=\"T_c04da_level0_row0\" class=\"row_heading level0 row0\" >TN</th>\n",
       "      <td id=\"T_c04da_row0_col0\" class=\"data row0 col0\" >2330.00</td>\n",
       "    </tr>\n",
       "    <tr>\n",
       "      <th id=\"T_c04da_level0_row1\" class=\"row_heading level0 row1\" >FN</th>\n",
       "      <td id=\"T_c04da_row1_col0\" class=\"data row1 col0\" >282.00</td>\n",
       "    </tr>\n",
       "    <tr>\n",
       "      <th id=\"T_c04da_level0_row2\" class=\"row_heading level0 row2\" >TP</th>\n",
       "      <td id=\"T_c04da_row2_col0\" class=\"data row2 col0\" >3639.00</td>\n",
       "    </tr>\n",
       "    <tr>\n",
       "      <th id=\"T_c04da_level0_row3\" class=\"row_heading level0 row3\" >FP</th>\n",
       "      <td id=\"T_c04da_row3_col0\" class=\"data row3 col0\" >1749.00</td>\n",
       "    </tr>\n",
       "    <tr>\n",
       "      <th id=\"T_c04da_level0_row4\" class=\"row_heading level0 row4\" >T</th>\n",
       "      <td id=\"T_c04da_row4_col0\" class=\"data row4 col0\" >5969.00</td>\n",
       "    </tr>\n",
       "    <tr>\n",
       "      <th id=\"T_c04da_level0_row5\" class=\"row_heading level0 row5\" >F</th>\n",
       "      <td id=\"T_c04da_row5_col0\" class=\"data row5 col0\" >2031.00</td>\n",
       "    </tr>\n",
       "    <tr>\n",
       "      <th id=\"T_c04da_level0_row6\" class=\"row_heading level0 row6\" >ALL</th>\n",
       "      <td id=\"T_c04da_row6_col0\" class=\"data row6 col0\" >8000.00</td>\n",
       "    </tr>\n",
       "    <tr>\n",
       "      <th id=\"T_c04da_level0_row7\" class=\"row_heading level0 row7\" >ACC</th>\n",
       "      <td id=\"T_c04da_row7_col0\" class=\"data row7 col0\" >0.75</td>\n",
       "    </tr>\n",
       "    <tr>\n",
       "      <th id=\"T_c04da_level0_row8\" class=\"row_heading level0 row8\" >TPR</th>\n",
       "      <td id=\"T_c04da_row8_col0\" class=\"data row8 col0\" >0.93</td>\n",
       "    </tr>\n",
       "    <tr>\n",
       "      <th id=\"T_c04da_level0_row9\" class=\"row_heading level0 row9\" >TNR</th>\n",
       "      <td id=\"T_c04da_row9_col0\" class=\"data row9 col0\" >0.57</td>\n",
       "    </tr>\n",
       "    <tr>\n",
       "      <th id=\"T_c04da_level0_row10\" class=\"row_heading level0 row10\" >PPV</th>\n",
       "      <td id=\"T_c04da_row10_col0\" class=\"data row10 col0\" >0.68</td>\n",
       "    </tr>\n",
       "    <tr>\n",
       "      <th id=\"T_c04da_level0_row11\" class=\"row_heading level0 row11\" >BA</th>\n",
       "      <td id=\"T_c04da_row11_col0\" class=\"data row11 col0\" >0.75</td>\n",
       "    </tr>\n",
       "    <tr>\n",
       "      <th id=\"T_c04da_level0_row12\" class=\"row_heading level0 row12\" >F1</th>\n",
       "      <td id=\"T_c04da_row12_col0\" class=\"data row12 col0\" >0.78</td>\n",
       "    </tr>\n",
       "  </tbody>\n",
       "</table>\n"
      ],
      "text/plain": [
       "<pandas.io.formats.style.Styler at 0x7f94715067c0>"
      ]
     },
     "execution_count": 96,
     "metadata": {},
     "output_type": "execute_result"
    }
   ],
   "source": [
    "R.T.style.format(precision=2)"
   ]
  },
  {
   "cell_type": "code",
   "execution_count": null,
   "metadata": {},
   "outputs": [],
   "source": []
  }
 ],
 "metadata": {
  "colab": {
   "collapsed_sections": [],
   "name": "DS5559_NaiveBayes_WineReviews.ipynb",
   "provenance": [],
   "toc_visible": true,
   "version": "0.3.2"
  },
  "hide_input": false,
  "kernelspec": {
   "display_name": "eta",
   "language": "python",
   "name": "eta"
  },
  "language_info": {
   "codemirror_mode": {
    "name": "ipython",
    "version": 3
   },
   "file_extension": ".py",
   "mimetype": "text/x-python",
   "name": "python",
   "nbconvert_exporter": "python",
   "pygments_lexer": "ipython3",
   "version": "3.9.19"
  },
  "latex_envs": {
   "LaTeX_envs_menu_present": true,
   "autoclose": true,
   "autocomplete": true,
   "bibliofile": "biblio.bib",
   "cite_by": "apalike",
   "current_citInitial": 1,
   "eqLabelWithNumbers": true,
   "eqNumInitial": 1,
   "hotkeys": {
    "equation": "Ctrl-E",
    "itemize": "Ctrl-I"
   },
   "labels_anchors": false,
   "latex_user_defs": false,
   "report_style_numbering": false,
   "user_envs_cfg": false
  },
  "toc": {
   "base_numbering": 1,
   "nav_menu": {},
   "number_sections": true,
   "sideBar": true,
   "skip_h1_title": true,
   "title_cell": "Table of Contents",
   "title_sidebar": "Contents",
   "toc_cell": false,
   "toc_position": {},
   "toc_section_display": true,
   "toc_window_display": true
  },
  "toc-autonumbering": false,
  "toc-showcode": false,
  "toc-showmarkdowntxt": false,
  "varInspector": {
   "cols": {
    "lenName": 16,
    "lenType": 16,
    "lenVar": 40
   },
   "kernels_config": {
    "python": {
     "delete_cmd_postfix": "",
     "delete_cmd_prefix": "del ",
     "library": "var_list.py",
     "varRefreshCmd": "print(var_dic_list())"
    },
    "r": {
     "delete_cmd_postfix": ") ",
     "delete_cmd_prefix": "rm(",
     "library": "var_list.r",
     "varRefreshCmd": "cat(var_dic_list()) "
    }
   },
   "position": {
    "height": "782.85px",
    "left": "699px",
    "right": "20px",
    "top": "19px",
    "width": "650px"
   },
   "types_to_exclude": [
    "module",
    "function",
    "builtin_function_or_method",
    "instance",
    "_Feature"
   ],
   "window_display": false
  },
  "widgets": {
   "application/vnd.jupyter.widget-state+json": {
    "state": {},
    "version_major": 2,
    "version_minor": 0
   }
  }
 },
 "nbformat": 4,
 "nbformat_minor": 4
}
