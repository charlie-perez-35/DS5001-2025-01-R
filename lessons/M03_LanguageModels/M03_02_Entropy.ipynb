{
 "cells": [
  {
   "cell_type": "markdown",
   "id": "159babaf-3e3a-4cc7-92ce-1cc6f58dabad",
   "metadata": {},
   "source": [
    "# Entropy Examples\n",
    "\n",
    "DS 5001 Text as Data"
   ]
  },
  {
   "cell_type": "markdown",
   "id": "1609288a",
   "metadata": {},
   "source": [
    "## Purpose\n",
    "\n",
    "To demonstrate entropy by way of simple examples, drawn from Manning and Schutz."
   ]
  },
  {
   "cell_type": "code",
   "execution_count": 1,
   "id": "d1ea7dc0-8474-4fe8-931c-1fd42dce0024",
   "metadata": {},
   "outputs": [],
   "source": [
    "import pandas as pd\n",
    "import numpy as np\n",
    "import seaborn as sns"
   ]
  },
  {
   "cell_type": "code",
   "execution_count": 2,
   "id": "404a5522-b130-4b38-8268-dc4f13c0d96a",
   "metadata": {},
   "outputs": [],
   "source": [
    "sns.set()"
   ]
  },
  {
   "cell_type": "markdown",
   "id": "3edf2db7-218b-4e31-9206-e13dfa083357",
   "metadata": {
    "tags": []
   },
   "source": [
    "## Entropy of a Die"
   ]
  },
  {
   "cell_type": "markdown",
   "id": "b1736b48-35e5-4606-a35a-43d429a31575",
   "metadata": {},
   "source": [
    "<img src=\"media/ex7.png\">"
   ]
  },
  {
   "cell_type": "markdown",
   "id": "77266452-bb9f-401d-a49c-195684c78606",
   "metadata": {},
   "source": [
    "NOTE: In the following code, $i$ does not mean the same thing as in the example above."
   ]
  },
  {
   "cell_type": "code",
   "execution_count": 3,
   "id": "348db3a7-d122-486d-b674-57215debf195",
   "metadata": {},
   "outputs": [],
   "source": [
    "def die_entropy(sides=8):\n",
    "    die = pd.DataFrame([n+1 for n in range(sides)], columns=['face']).set_index('face')\n",
    "    die['p'] = 1/die.shape[0]   # Probability (equiprobability)\n",
    "    die['i'] = np.log2(1/die.p) # Information\n",
    "    die['h'] = die.p * die.i    # Self entropy\n",
    "    H_die = die.h.sum()         # Etropy\n",
    "    return die, H_die"
   ]
  },
  {
   "cell_type": "code",
   "execution_count": 4,
   "id": "0ec3db91-0625-4605-96cd-4ec50a543331",
   "metadata": {},
   "outputs": [],
   "source": [
    "die8, H8 = die_entropy()"
   ]
  },
  {
   "cell_type": "code",
   "execution_count": 5,
   "id": "f965857c-8190-49b0-a6b4-1ba5264e2dda",
   "metadata": {},
   "outputs": [
    {
     "data": {
      "text/html": [
       "<div>\n",
       "<style scoped>\n",
       "    .dataframe tbody tr th:only-of-type {\n",
       "        vertical-align: middle;\n",
       "    }\n",
       "\n",
       "    .dataframe tbody tr th {\n",
       "        vertical-align: top;\n",
       "    }\n",
       "\n",
       "    .dataframe thead th {\n",
       "        text-align: right;\n",
       "    }\n",
       "</style>\n",
       "<table border=\"1\" class=\"dataframe\">\n",
       "  <thead>\n",
       "    <tr style=\"text-align: right;\">\n",
       "      <th></th>\n",
       "      <th>p</th>\n",
       "      <th>i</th>\n",
       "      <th>h</th>\n",
       "    </tr>\n",
       "    <tr>\n",
       "      <th>face</th>\n",
       "      <th></th>\n",
       "      <th></th>\n",
       "      <th></th>\n",
       "    </tr>\n",
       "  </thead>\n",
       "  <tbody>\n",
       "    <tr>\n",
       "      <th>1</th>\n",
       "      <td>0.125</td>\n",
       "      <td>3.0</td>\n",
       "      <td>0.375</td>\n",
       "    </tr>\n",
       "    <tr>\n",
       "      <th>2</th>\n",
       "      <td>0.125</td>\n",
       "      <td>3.0</td>\n",
       "      <td>0.375</td>\n",
       "    </tr>\n",
       "    <tr>\n",
       "      <th>3</th>\n",
       "      <td>0.125</td>\n",
       "      <td>3.0</td>\n",
       "      <td>0.375</td>\n",
       "    </tr>\n",
       "    <tr>\n",
       "      <th>4</th>\n",
       "      <td>0.125</td>\n",
       "      <td>3.0</td>\n",
       "      <td>0.375</td>\n",
       "    </tr>\n",
       "    <tr>\n",
       "      <th>5</th>\n",
       "      <td>0.125</td>\n",
       "      <td>3.0</td>\n",
       "      <td>0.375</td>\n",
       "    </tr>\n",
       "    <tr>\n",
       "      <th>6</th>\n",
       "      <td>0.125</td>\n",
       "      <td>3.0</td>\n",
       "      <td>0.375</td>\n",
       "    </tr>\n",
       "    <tr>\n",
       "      <th>7</th>\n",
       "      <td>0.125</td>\n",
       "      <td>3.0</td>\n",
       "      <td>0.375</td>\n",
       "    </tr>\n",
       "    <tr>\n",
       "      <th>8</th>\n",
       "      <td>0.125</td>\n",
       "      <td>3.0</td>\n",
       "      <td>0.375</td>\n",
       "    </tr>\n",
       "  </tbody>\n",
       "</table>\n",
       "</div>"
      ],
      "text/plain": [
       "          p    i      h\n",
       "face                   \n",
       "1     0.125  3.0  0.375\n",
       "2     0.125  3.0  0.375\n",
       "3     0.125  3.0  0.375\n",
       "4     0.125  3.0  0.375\n",
       "5     0.125  3.0  0.375\n",
       "6     0.125  3.0  0.375\n",
       "7     0.125  3.0  0.375\n",
       "8     0.125  3.0  0.375"
      ]
     },
     "execution_count": 5,
     "metadata": {},
     "output_type": "execute_result"
    }
   ],
   "source": [
    "die8"
   ]
  },
  {
   "cell_type": "code",
   "execution_count": 6,
   "id": "9f497628-bf7b-44ad-b546-70e10a7339c4",
   "metadata": {},
   "outputs": [
    {
     "data": {
      "text/plain": [
       "3.0"
      ]
     },
     "execution_count": 6,
     "metadata": {},
     "output_type": "execute_result"
    }
   ],
   "source": [
    "H8"
   ]
  },
  {
   "cell_type": "code",
   "execution_count": 7,
   "id": "b31a0bdf-0f6e-4002-8125-f8bcb83dfba0",
   "metadata": {},
   "outputs": [],
   "source": [
    "assert H8 == np.log2(len(die8)) # Works with equiprobable distributions"
   ]
  },
  {
   "cell_type": "markdown",
   "id": "5dfcd6d9-9b90-4cd5-98e7-0738def7f402",
   "metadata": {},
   "source": [
    "## Insight about $i$"
   ]
  },
  {
   "cell_type": "markdown",
   "id": "a8f33f93-d85f-434c-ab48-085fe3a1c9d8",
   "metadata": {},
   "source": [
    "Note that we can just use $i$ to get the encoding scheme, i.e. the number of characters (bits) to use for each event."
   ]
  },
  {
   "cell_type": "markdown",
   "id": "1d3d7ad7-d7d7-46a0-b805-1171d642ad72",
   "metadata": {},
   "source": [
    "## Entropy of a Fair Coin"
   ]
  },
  {
   "cell_type": "code",
   "execution_count": 8,
   "id": "b99ef49a-eb2b-4103-acf5-d2f6a9610a88",
   "metadata": {},
   "outputs": [],
   "source": [
    "coin, H_coin = die_entropy(2)"
   ]
  },
  {
   "cell_type": "code",
   "execution_count": 9,
   "id": "a89be74a-16e8-41e5-b921-414e7785c809",
   "metadata": {},
   "outputs": [
    {
     "data": {
      "text/html": [
       "<div>\n",
       "<style scoped>\n",
       "    .dataframe tbody tr th:only-of-type {\n",
       "        vertical-align: middle;\n",
       "    }\n",
       "\n",
       "    .dataframe tbody tr th {\n",
       "        vertical-align: top;\n",
       "    }\n",
       "\n",
       "    .dataframe thead th {\n",
       "        text-align: right;\n",
       "    }\n",
       "</style>\n",
       "<table border=\"1\" class=\"dataframe\">\n",
       "  <thead>\n",
       "    <tr style=\"text-align: right;\">\n",
       "      <th></th>\n",
       "      <th>p</th>\n",
       "      <th>i</th>\n",
       "      <th>h</th>\n",
       "    </tr>\n",
       "    <tr>\n",
       "      <th>face</th>\n",
       "      <th></th>\n",
       "      <th></th>\n",
       "      <th></th>\n",
       "    </tr>\n",
       "  </thead>\n",
       "  <tbody>\n",
       "    <tr>\n",
       "      <th>1</th>\n",
       "      <td>0.5</td>\n",
       "      <td>1.0</td>\n",
       "      <td>0.5</td>\n",
       "    </tr>\n",
       "    <tr>\n",
       "      <th>2</th>\n",
       "      <td>0.5</td>\n",
       "      <td>1.0</td>\n",
       "      <td>0.5</td>\n",
       "    </tr>\n",
       "  </tbody>\n",
       "</table>\n",
       "</div>"
      ],
      "text/plain": [
       "        p    i    h\n",
       "face               \n",
       "1     0.5  1.0  0.5\n",
       "2     0.5  1.0  0.5"
      ]
     },
     "execution_count": 9,
     "metadata": {},
     "output_type": "execute_result"
    }
   ],
   "source": [
    "coin"
   ]
  },
  {
   "cell_type": "code",
   "execution_count": 10,
   "id": "9dbd0f9c-6a74-4d85-9237-90ff35d797a2",
   "metadata": {},
   "outputs": [
    {
     "data": {
      "text/plain": [
       "1.0"
      ]
     },
     "execution_count": 10,
     "metadata": {},
     "output_type": "execute_result"
    }
   ],
   "source": [
    "H_coin"
   ]
  },
  {
   "cell_type": "markdown",
   "id": "3ec193ab-5a77-40fe-97a3-5de79071dcdb",
   "metadata": {
    "tags": []
   },
   "source": [
    "## Entropies of All Coins\n",
    "\n",
    "<!--\n",
    "<img src=\"media/binary-entropy-curve.png\" width=350/>\n",
    "-->\n",
    "\n",
    "**Distribution of entropies** for coins with weights ranging from $0$ to $1$ for a given side.\n",
    "\n",
    "Maximum entropy is reached when both sides are equiprobable ($.5$). \n",
    "\n",
    "`DICE` represents the sample spaces for $101$ coins with heads weights ranging from $0$ to $1$ and tail weights $=1 - head$."
   ]
  },
  {
   "cell_type": "code",
   "execution_count": 11,
   "id": "980dfc66-8475-4d2d-96bf-620c4305dd6b",
   "metadata": {
    "tags": []
   },
   "outputs": [],
   "source": [
    "n = 100\n",
    "DICE = pd.DataFrame([(x, n - x) for x in range(n+1)], columns=['heads','tails'])\n",
    "DICE.index.name = 'die_id'\n",
    "DICE = DICE / n"
   ]
  },
  {
   "cell_type": "code",
   "execution_count": 12,
   "id": "172248b2-71d9-4920-850c-1738419411c1",
   "metadata": {
    "tags": []
   },
   "outputs": [
    {
     "data": {
      "text/html": [
       "<div>\n",
       "<style scoped>\n",
       "    .dataframe tbody tr th:only-of-type {\n",
       "        vertical-align: middle;\n",
       "    }\n",
       "\n",
       "    .dataframe tbody tr th {\n",
       "        vertical-align: top;\n",
       "    }\n",
       "\n",
       "    .dataframe thead th {\n",
       "        text-align: right;\n",
       "    }\n",
       "</style>\n",
       "<table border=\"1\" class=\"dataframe\">\n",
       "  <thead>\n",
       "    <tr style=\"text-align: right;\">\n",
       "      <th></th>\n",
       "      <th>heads</th>\n",
       "      <th>tails</th>\n",
       "    </tr>\n",
       "    <tr>\n",
       "      <th>die_id</th>\n",
       "      <th></th>\n",
       "      <th></th>\n",
       "    </tr>\n",
       "  </thead>\n",
       "  <tbody>\n",
       "    <tr>\n",
       "      <th>0</th>\n",
       "      <td>0.00</td>\n",
       "      <td>1.00</td>\n",
       "    </tr>\n",
       "    <tr>\n",
       "      <th>1</th>\n",
       "      <td>0.01</td>\n",
       "      <td>0.99</td>\n",
       "    </tr>\n",
       "    <tr>\n",
       "      <th>2</th>\n",
       "      <td>0.02</td>\n",
       "      <td>0.98</td>\n",
       "    </tr>\n",
       "    <tr>\n",
       "      <th>3</th>\n",
       "      <td>0.03</td>\n",
       "      <td>0.97</td>\n",
       "    </tr>\n",
       "    <tr>\n",
       "      <th>4</th>\n",
       "      <td>0.04</td>\n",
       "      <td>0.96</td>\n",
       "    </tr>\n",
       "    <tr>\n",
       "      <th>...</th>\n",
       "      <td>...</td>\n",
       "      <td>...</td>\n",
       "    </tr>\n",
       "    <tr>\n",
       "      <th>96</th>\n",
       "      <td>0.96</td>\n",
       "      <td>0.04</td>\n",
       "    </tr>\n",
       "    <tr>\n",
       "      <th>97</th>\n",
       "      <td>0.97</td>\n",
       "      <td>0.03</td>\n",
       "    </tr>\n",
       "    <tr>\n",
       "      <th>98</th>\n",
       "      <td>0.98</td>\n",
       "      <td>0.02</td>\n",
       "    </tr>\n",
       "    <tr>\n",
       "      <th>99</th>\n",
       "      <td>0.99</td>\n",
       "      <td>0.01</td>\n",
       "    </tr>\n",
       "    <tr>\n",
       "      <th>100</th>\n",
       "      <td>1.00</td>\n",
       "      <td>0.00</td>\n",
       "    </tr>\n",
       "  </tbody>\n",
       "</table>\n",
       "<p>101 rows × 2 columns</p>\n",
       "</div>"
      ],
      "text/plain": [
       "        heads  tails\n",
       "die_id              \n",
       "0        0.00   1.00\n",
       "1        0.01   0.99\n",
       "2        0.02   0.98\n",
       "3        0.03   0.97\n",
       "4        0.04   0.96\n",
       "...       ...    ...\n",
       "96       0.96   0.04\n",
       "97       0.97   0.03\n",
       "98       0.98   0.02\n",
       "99       0.99   0.01\n",
       "100      1.00   0.00\n",
       "\n",
       "[101 rows x 2 columns]"
      ]
     },
     "execution_count": 12,
     "metadata": {},
     "output_type": "execute_result"
    }
   ],
   "source": [
    "DICE"
   ]
  },
  {
   "cell_type": "code",
   "execution_count": 13,
   "id": "ba0c61e5-a606-49fa-b0f7-90d076fa4438",
   "metadata": {
    "tags": []
   },
   "outputs": [],
   "source": [
    "DICE['H(die)'] = DICE.heads * np.log2(1/DICE.heads) + DICE.tails * np.log2(1/DICE.tails)"
   ]
  },
  {
   "cell_type": "code",
   "execution_count": 14,
   "id": "8c6d3b3e-76c9-416c-8920-7f2a6b2c71be",
   "metadata": {
    "tags": []
   },
   "outputs": [
    {
     "data": {
      "text/html": [
       "<div>\n",
       "<style scoped>\n",
       "    .dataframe tbody tr th:only-of-type {\n",
       "        vertical-align: middle;\n",
       "    }\n",
       "\n",
       "    .dataframe tbody tr th {\n",
       "        vertical-align: top;\n",
       "    }\n",
       "\n",
       "    .dataframe thead th {\n",
       "        text-align: right;\n",
       "    }\n",
       "</style>\n",
       "<table border=\"1\" class=\"dataframe\">\n",
       "  <thead>\n",
       "    <tr style=\"text-align: right;\">\n",
       "      <th></th>\n",
       "      <th>heads</th>\n",
       "      <th>tails</th>\n",
       "      <th>H(die)</th>\n",
       "    </tr>\n",
       "    <tr>\n",
       "      <th>die_id</th>\n",
       "      <th></th>\n",
       "      <th></th>\n",
       "      <th></th>\n",
       "    </tr>\n",
       "  </thead>\n",
       "  <tbody>\n",
       "    <tr>\n",
       "      <th>0</th>\n",
       "      <td>0.00</td>\n",
       "      <td>1.00</td>\n",
       "      <td>0.000000</td>\n",
       "    </tr>\n",
       "    <tr>\n",
       "      <th>1</th>\n",
       "      <td>0.01</td>\n",
       "      <td>0.99</td>\n",
       "      <td>0.080793</td>\n",
       "    </tr>\n",
       "    <tr>\n",
       "      <th>2</th>\n",
       "      <td>0.02</td>\n",
       "      <td>0.98</td>\n",
       "      <td>0.141441</td>\n",
       "    </tr>\n",
       "    <tr>\n",
       "      <th>3</th>\n",
       "      <td>0.03</td>\n",
       "      <td>0.97</td>\n",
       "      <td>0.194392</td>\n",
       "    </tr>\n",
       "    <tr>\n",
       "      <th>4</th>\n",
       "      <td>0.04</td>\n",
       "      <td>0.96</td>\n",
       "      <td>0.242292</td>\n",
       "    </tr>\n",
       "    <tr>\n",
       "      <th>...</th>\n",
       "      <td>...</td>\n",
       "      <td>...</td>\n",
       "      <td>...</td>\n",
       "    </tr>\n",
       "    <tr>\n",
       "      <th>96</th>\n",
       "      <td>0.96</td>\n",
       "      <td>0.04</td>\n",
       "      <td>0.242292</td>\n",
       "    </tr>\n",
       "    <tr>\n",
       "      <th>97</th>\n",
       "      <td>0.97</td>\n",
       "      <td>0.03</td>\n",
       "      <td>0.194392</td>\n",
       "    </tr>\n",
       "    <tr>\n",
       "      <th>98</th>\n",
       "      <td>0.98</td>\n",
       "      <td>0.02</td>\n",
       "      <td>0.141441</td>\n",
       "    </tr>\n",
       "    <tr>\n",
       "      <th>99</th>\n",
       "      <td>0.99</td>\n",
       "      <td>0.01</td>\n",
       "      <td>0.080793</td>\n",
       "    </tr>\n",
       "    <tr>\n",
       "      <th>100</th>\n",
       "      <td>1.00</td>\n",
       "      <td>0.00</td>\n",
       "      <td>0.000000</td>\n",
       "    </tr>\n",
       "  </tbody>\n",
       "</table>\n",
       "<p>101 rows × 3 columns</p>\n",
       "</div>"
      ],
      "text/plain": [
       "        heads  tails    H(die)\n",
       "die_id                        \n",
       "0        0.00   1.00  0.000000\n",
       "1        0.01   0.99  0.080793\n",
       "2        0.02   0.98  0.141441\n",
       "3        0.03   0.97  0.194392\n",
       "4        0.04   0.96  0.242292\n",
       "...       ...    ...       ...\n",
       "96       0.96   0.04  0.242292\n",
       "97       0.97   0.03  0.194392\n",
       "98       0.98   0.02  0.141441\n",
       "99       0.99   0.01  0.080793\n",
       "100      1.00   0.00  0.000000\n",
       "\n",
       "[101 rows x 3 columns]"
      ]
     },
     "execution_count": 14,
     "metadata": {},
     "output_type": "execute_result"
    }
   ],
   "source": [
    "DICE.fillna(0)"
   ]
  },
  {
   "cell_type": "code",
   "execution_count": 15,
   "id": "b3877c83-1947-40ad-878d-e0a5e789304c",
   "metadata": {
    "tags": []
   },
   "outputs": [
    {
     "data": {
      "image/png": "[encoded data removed]",
      "text/plain": [
       "<Figure size 640x480 with 1 Axes>"
      ]
     },
     "metadata": {},
     "output_type": "display_data"
    }
   ],
   "source": [
    "DICE.fillna(0).plot('heads','H(die)');"
   ]
  },
  {
   "cell_type": "markdown",
   "id": "a4ed5cad-17f4-47dd-87ad-3dc5dcd241d9",
   "metadata": {},
   "source": [
    "## Entropy of Simplified Polynesian"
   ]
  },
  {
   "cell_type": "markdown",
   "id": "b0b7e7c2-271e-446a-aed1-bb91e2cb9f8c",
   "metadata": {},
   "source": [
    "<img src=\"media/ex8.png\">"
   ]
  },
  {
   "cell_type": "code",
   "execution_count": 16,
   "id": "e6cdeeaa-1608-45b6-89a7-953107d2005f",
   "metadata": {},
   "outputs": [],
   "source": [
    "poly = pd.DataFrame([row.split(',') for row in \"\"\"\n",
    "p,1/8,100\n",
    "t,1/4,00\n",
    "k,1/8,101\n",
    "a,1/4,01\n",
    "i,1/8,110\n",
    "u,1/8,111\n",
    "\"\"\".split(\"\\n\")[1:-1]], columns=['char','p', 'enc']).set_index('char')"
   ]
  },
  {
   "cell_type": "code",
   "execution_count": 17,
   "id": "8eb3502f-6213-4e18-bc26-6c1a28ef697b",
   "metadata": {
    "tags": []
   },
   "outputs": [
    {
     "data": {
      "text/html": [
       "<div>\n",
       "<style scoped>\n",
       "    .dataframe tbody tr th:only-of-type {\n",
       "        vertical-align: middle;\n",
       "    }\n",
       "\n",
       "    .dataframe tbody tr th {\n",
       "        vertical-align: top;\n",
       "    }\n",
       "\n",
       "    .dataframe thead th {\n",
       "        text-align: right;\n",
       "    }\n",
       "</style>\n",
       "<table border=\"1\" class=\"dataframe\">\n",
       "  <thead>\n",
       "    <tr style=\"text-align: right;\">\n",
       "      <th>char</th>\n",
       "      <th>p</th>\n",
       "      <th>t</th>\n",
       "      <th>k</th>\n",
       "      <th>a</th>\n",
       "      <th>i</th>\n",
       "      <th>u</th>\n",
       "    </tr>\n",
       "  </thead>\n",
       "  <tbody>\n",
       "    <tr>\n",
       "      <th>p</th>\n",
       "      <td>1/8</td>\n",
       "      <td>1/4</td>\n",
       "      <td>1/8</td>\n",
       "      <td>1/4</td>\n",
       "      <td>1/8</td>\n",
       "      <td>1/8</td>\n",
       "    </tr>\n",
       "    <tr>\n",
       "      <th>enc</th>\n",
       "      <td>100</td>\n",
       "      <td>00</td>\n",
       "      <td>101</td>\n",
       "      <td>01</td>\n",
       "      <td>110</td>\n",
       "      <td>111</td>\n",
       "    </tr>\n",
       "  </tbody>\n",
       "</table>\n",
       "</div>"
      ],
      "text/plain": [
       "char    p    t    k    a    i    u\n",
       "p     1/8  1/4  1/8  1/4  1/8  1/8\n",
       "enc   100   00  101   01  110  111"
      ]
     },
     "execution_count": 17,
     "metadata": {},
     "output_type": "execute_result"
    }
   ],
   "source": [
    "poly.T"
   ]
  },
  {
   "cell_type": "code",
   "execution_count": 18,
   "id": "4ea2f88f-7456-4a14-a0ec-601c5769154f",
   "metadata": {},
   "outputs": [],
   "source": [
    "poly.p = poly.p.apply(eval)\n",
    "poly['i'] = np.log2(1/poly.p)\n",
    "poly['h'] = poly.p * np.log2(1/poly.p)"
   ]
  },
  {
   "cell_type": "code",
   "execution_count": 19,
   "id": "3f8b43cc-2771-4661-b661-74c124e3865e",
   "metadata": {},
   "outputs": [],
   "source": [
    "poly['bits'] = poly.enc.str.strip().str.len()\n",
    "poly['test'] = poly.i == poly.bits"
   ]
  },
  {
   "cell_type": "code",
   "execution_count": 20,
   "id": "81ce9f9e-835c-40f0-bcfa-d032d9c0f02f",
   "metadata": {},
   "outputs": [
    {
     "data": {
      "text/html": [
       "<div>\n",
       "<style scoped>\n",
       "    .dataframe tbody tr th:only-of-type {\n",
       "        vertical-align: middle;\n",
       "    }\n",
       "\n",
       "    .dataframe tbody tr th {\n",
       "        vertical-align: top;\n",
       "    }\n",
       "\n",
       "    .dataframe thead th {\n",
       "        text-align: right;\n",
       "    }\n",
       "</style>\n",
       "<table border=\"1\" class=\"dataframe\">\n",
       "  <thead>\n",
       "    <tr style=\"text-align: right;\">\n",
       "      <th></th>\n",
       "      <th>p</th>\n",
       "      <th>enc</th>\n",
       "      <th>i</th>\n",
       "      <th>h</th>\n",
       "      <th>bits</th>\n",
       "      <th>test</th>\n",
       "    </tr>\n",
       "    <tr>\n",
       "      <th>char</th>\n",
       "      <th></th>\n",
       "      <th></th>\n",
       "      <th></th>\n",
       "      <th></th>\n",
       "      <th></th>\n",
       "      <th></th>\n",
       "    </tr>\n",
       "  </thead>\n",
       "  <tbody>\n",
       "    <tr>\n",
       "      <th>p</th>\n",
       "      <td>0.125</td>\n",
       "      <td>100</td>\n",
       "      <td>3.0</td>\n",
       "      <td>0.375</td>\n",
       "      <td>3</td>\n",
       "      <td>True</td>\n",
       "    </tr>\n",
       "    <tr>\n",
       "      <th>t</th>\n",
       "      <td>0.250</td>\n",
       "      <td>00</td>\n",
       "      <td>2.0</td>\n",
       "      <td>0.500</td>\n",
       "      <td>2</td>\n",
       "      <td>True</td>\n",
       "    </tr>\n",
       "    <tr>\n",
       "      <th>k</th>\n",
       "      <td>0.125</td>\n",
       "      <td>101</td>\n",
       "      <td>3.0</td>\n",
       "      <td>0.375</td>\n",
       "      <td>3</td>\n",
       "      <td>True</td>\n",
       "    </tr>\n",
       "    <tr>\n",
       "      <th>a</th>\n",
       "      <td>0.250</td>\n",
       "      <td>01</td>\n",
       "      <td>2.0</td>\n",
       "      <td>0.500</td>\n",
       "      <td>2</td>\n",
       "      <td>True</td>\n",
       "    </tr>\n",
       "    <tr>\n",
       "      <th>i</th>\n",
       "      <td>0.125</td>\n",
       "      <td>110</td>\n",
       "      <td>3.0</td>\n",
       "      <td>0.375</td>\n",
       "      <td>3</td>\n",
       "      <td>True</td>\n",
       "    </tr>\n",
       "    <tr>\n",
       "      <th>u</th>\n",
       "      <td>0.125</td>\n",
       "      <td>111</td>\n",
       "      <td>3.0</td>\n",
       "      <td>0.375</td>\n",
       "      <td>3</td>\n",
       "      <td>True</td>\n",
       "    </tr>\n",
       "  </tbody>\n",
       "</table>\n",
       "</div>"
      ],
      "text/plain": [
       "          p  enc    i      h  bits  test\n",
       "char                                    \n",
       "p     0.125  100  3.0  0.375     3  True\n",
       "t     0.250   00  2.0  0.500     2  True\n",
       "k     0.125  101  3.0  0.375     3  True\n",
       "a     0.250   01  2.0  0.500     2  True\n",
       "i     0.125  110  3.0  0.375     3  True\n",
       "u     0.125  111  3.0  0.375     3  True"
      ]
     },
     "execution_count": 20,
     "metadata": {},
     "output_type": "execute_result"
    }
   ],
   "source": [
    "poly"
   ]
  },
  {
   "cell_type": "code",
   "execution_count": 21,
   "id": "cc75a0ce-f97e-4e26-99e5-8cce909ee477",
   "metadata": {},
   "outputs": [],
   "source": [
    "H_poly = poly.h.sum()"
   ]
  },
  {
   "cell_type": "code",
   "execution_count": 22,
   "id": "a9da7ac1-e039-48c6-87d0-a5a795066870",
   "metadata": {},
   "outputs": [
    {
     "data": {
      "text/plain": [
       "2.5"
      ]
     },
     "execution_count": 22,
     "metadata": {},
     "output_type": "execute_result"
    }
   ],
   "source": [
    "H_poly"
   ]
  },
  {
   "cell_type": "code",
   "execution_count": 23,
   "id": "d9fbc35a-c736-490b-aeb5-d0a6f4747f4f",
   "metadata": {
    "tags": []
   },
   "outputs": [],
   "source": [
    "poly['len'] = poly.enc.str.len()"
   ]
  },
  {
   "cell_type": "code",
   "execution_count": 24,
   "id": "ec43436e-f611-4749-a604-fa3af7c91093",
   "metadata": {
    "tags": []
   },
   "outputs": [
    {
     "data": {
      "text/plain": [
       "2.67"
      ]
     },
     "execution_count": 24,
     "metadata": {},
     "output_type": "execute_result"
    }
   ],
   "source": [
    "np.round(poly.len.mean(), 2)"
   ]
  },
  {
   "cell_type": "markdown",
   "id": "c19dd4ed-4f02-4e51-b564-cba967df09ac",
   "metadata": {
    "tags": []
   },
   "source": [
    "## Polynesian Syllables\n",
    "\n",
    "<img src=\"media/poly2a.png\">\n",
    "<img src=\"media/poly2b.png\">\n",
    "<img src=\"media/poly2c.png\">"
   ]
  },
  {
   "cell_type": "code",
   "execution_count": 40,
   "id": "89c4b73d-101c-4c89-a628-2ff1ce04d5c6",
   "metadata": {
    "editable": true,
    "slideshow": {
     "slide_type": ""
    },
    "tags": []
   },
   "outputs": [],
   "source": [
    "poly2 = pd.DataFrame([row.split(\",\") for row in \"\"\"\n",
    "a,p,1/16\n",
    "a,t,3/8\n",
    "a,k,1/16\n",
    "i,p,1/16\n",
    "i,t,3/16\n",
    "i,k,0\n",
    "u,p,0\n",
    "u,t,3/16\n",
    "u,k,1/16\n",
    "\"\"\".split(\"\\n\")[1:-1]], columns=['v','c','f']).set_index(['c','v']).f.apply(eval).to_frame('p')"
   ]
  },
  {
   "cell_type": "code",
   "execution_count": 41,
   "id": "110e7d99-4804-4f7f-8a75-681ac0ab023e",
   "metadata": {},
   "outputs": [
    {
     "data": {
      "text/html": [
       "<div>\n",
       "<style scoped>\n",
       "    .dataframe tbody tr th:only-of-type {\n",
       "        vertical-align: middle;\n",
       "    }\n",
       "\n",
       "    .dataframe tbody tr th {\n",
       "        vertical-align: top;\n",
       "    }\n",
       "\n",
       "    .dataframe thead th {\n",
       "        text-align: right;\n",
       "    }\n",
       "</style>\n",
       "<table border=\"1\" class=\"dataframe\">\n",
       "  <thead>\n",
       "    <tr style=\"text-align: right;\">\n",
       "      <th></th>\n",
       "      <th></th>\n",
       "      <th>p</th>\n",
       "    </tr>\n",
       "    <tr>\n",
       "      <th>c</th>\n",
       "      <th>v</th>\n",
       "      <th></th>\n",
       "    </tr>\n",
       "  </thead>\n",
       "  <tbody>\n",
       "    <tr>\n",
       "      <th>p</th>\n",
       "      <th>a</th>\n",
       "      <td>0.0625</td>\n",
       "    </tr>\n",
       "    <tr>\n",
       "      <th>t</th>\n",
       "      <th>a</th>\n",
       "      <td>0.3750</td>\n",
       "    </tr>\n",
       "    <tr>\n",
       "      <th>k</th>\n",
       "      <th>a</th>\n",
       "      <td>0.0625</td>\n",
       "    </tr>\n",
       "    <tr>\n",
       "      <th>p</th>\n",
       "      <th>i</th>\n",
       "      <td>0.0625</td>\n",
       "    </tr>\n",
       "    <tr>\n",
       "      <th>t</th>\n",
       "      <th>i</th>\n",
       "      <td>0.1875</td>\n",
       "    </tr>\n",
       "    <tr>\n",
       "      <th>k</th>\n",
       "      <th>i</th>\n",
       "      <td>0.0000</td>\n",
       "    </tr>\n",
       "    <tr>\n",
       "      <th>p</th>\n",
       "      <th>u</th>\n",
       "      <td>0.0000</td>\n",
       "    </tr>\n",
       "    <tr>\n",
       "      <th>t</th>\n",
       "      <th>u</th>\n",
       "      <td>0.1875</td>\n",
       "    </tr>\n",
       "    <tr>\n",
       "      <th>k</th>\n",
       "      <th>u</th>\n",
       "      <td>0.0625</td>\n",
       "    </tr>\n",
       "  </tbody>\n",
       "</table>\n",
       "</div>"
      ],
      "text/plain": [
       "          p\n",
       "c v        \n",
       "p a  0.0625\n",
       "t a  0.3750\n",
       "k a  0.0625\n",
       "p i  0.0625\n",
       "t i  0.1875\n",
       "k i  0.0000\n",
       "p u  0.0000\n",
       "t u  0.1875\n",
       "k u  0.0625"
      ]
     },
     "execution_count": 41,
     "metadata": {},
     "output_type": "execute_result"
    }
   ],
   "source": [
    "poly2"
   ]
  },
  {
   "cell_type": "code",
   "execution_count": 42,
   "id": "1282ac29-fcac-402a-9a48-d023f74922b9",
   "metadata": {},
   "outputs": [
    {
     "data": {
      "text/plain": [
       "p    1.0\n",
       "dtype: float64"
      ]
     },
     "execution_count": 42,
     "metadata": {},
     "output_type": "execute_result"
    }
   ],
   "source": [
    "poly2.sum()"
   ]
  },
  {
   "cell_type": "code",
   "execution_count": 45,
   "id": "41d88a7a-c803-467f-b67b-a1bc3b672c33",
   "metadata": {},
   "outputs": [
    {
     "data": {
      "text/html": [
       "<div>\n",
       "<style scoped>\n",
       "    .dataframe tbody tr th:only-of-type {\n",
       "        vertical-align: middle;\n",
       "    }\n",
       "\n",
       "    .dataframe tbody tr th {\n",
       "        vertical-align: top;\n",
       "    }\n",
       "\n",
       "    .dataframe thead th {\n",
       "        text-align: right;\n",
       "    }\n",
       "</style>\n",
       "<table border=\"1\" class=\"dataframe\">\n",
       "  <thead>\n",
       "    <tr style=\"text-align: right;\">\n",
       "      <th></th>\n",
       "      <th>c</th>\n",
       "      <th>k</th>\n",
       "      <th>p</th>\n",
       "      <th>t</th>\n",
       "    </tr>\n",
       "    <tr>\n",
       "      <th></th>\n",
       "      <th>v</th>\n",
       "      <th></th>\n",
       "      <th></th>\n",
       "      <th></th>\n",
       "    </tr>\n",
       "  </thead>\n",
       "  <tbody>\n",
       "    <tr>\n",
       "      <th rowspan=\"3\" valign=\"top\">p</th>\n",
       "      <th>a</th>\n",
       "      <td>0.0625</td>\n",
       "      <td>0.0625</td>\n",
       "      <td>0.3750</td>\n",
       "    </tr>\n",
       "    <tr>\n",
       "      <th>i</th>\n",
       "      <td>0.0000</td>\n",
       "      <td>0.0625</td>\n",
       "      <td>0.1875</td>\n",
       "    </tr>\n",
       "    <tr>\n",
       "      <th>u</th>\n",
       "      <td>0.0625</td>\n",
       "      <td>0.0000</td>\n",
       "      <td>0.1875</td>\n",
       "    </tr>\n",
       "  </tbody>\n",
       "</table>\n",
       "</div>"
      ],
      "text/plain": [
       "c         k       p       t\n",
       "  v                        \n",
       "p a  0.0625  0.0625  0.3750\n",
       "  i  0.0000  0.0625  0.1875\n",
       "  u  0.0625  0.0000  0.1875"
      ]
     },
     "execution_count": 45,
     "metadata": {},
     "output_type": "execute_result"
    }
   ],
   "source": [
    "poly2.unstack().T"
   ]
  },
  {
   "cell_type": "code",
   "execution_count": 48,
   "id": "c73bd6e9-bf3e-489d-a487-56d1bdb75a05",
   "metadata": {},
   "outputs": [],
   "source": [
    "poly2['i'] = np.log2(1/poly2.p)\n",
    "poly2['h'] = poly2.p * poly2.i"
   ]
  },
  {
   "cell_type": "code",
   "execution_count": 49,
   "id": "878a53cf-eec4-4669-8aaa-cf15adeaac6d",
   "metadata": {},
   "outputs": [
    {
     "data": {
      "text/html": [
       "<div>\n",
       "<style scoped>\n",
       "    .dataframe tbody tr th:only-of-type {\n",
       "        vertical-align: middle;\n",
       "    }\n",
       "\n",
       "    .dataframe tbody tr th {\n",
       "        vertical-align: top;\n",
       "    }\n",
       "\n",
       "    .dataframe thead th {\n",
       "        text-align: right;\n",
       "    }\n",
       "</style>\n",
       "<table border=\"1\" class=\"dataframe\">\n",
       "  <thead>\n",
       "    <tr style=\"text-align: right;\">\n",
       "      <th></th>\n",
       "      <th></th>\n",
       "      <th>p</th>\n",
       "      <th>i</th>\n",
       "      <th>h</th>\n",
       "    </tr>\n",
       "    <tr>\n",
       "      <th>c</th>\n",
       "      <th>v</th>\n",
       "      <th></th>\n",
       "      <th></th>\n",
       "      <th></th>\n",
       "    </tr>\n",
       "  </thead>\n",
       "  <tbody>\n",
       "    <tr>\n",
       "      <th>p</th>\n",
       "      <th>a</th>\n",
       "      <td>0.0625</td>\n",
       "      <td>4.000000</td>\n",
       "      <td>0.250000</td>\n",
       "    </tr>\n",
       "    <tr>\n",
       "      <th>t</th>\n",
       "      <th>a</th>\n",
       "      <td>0.3750</td>\n",
       "      <td>1.415037</td>\n",
       "      <td>0.530639</td>\n",
       "    </tr>\n",
       "    <tr>\n",
       "      <th>k</th>\n",
       "      <th>a</th>\n",
       "      <td>0.0625</td>\n",
       "      <td>4.000000</td>\n",
       "      <td>0.250000</td>\n",
       "    </tr>\n",
       "    <tr>\n",
       "      <th>p</th>\n",
       "      <th>i</th>\n",
       "      <td>0.0625</td>\n",
       "      <td>4.000000</td>\n",
       "      <td>0.250000</td>\n",
       "    </tr>\n",
       "    <tr>\n",
       "      <th>t</th>\n",
       "      <th>i</th>\n",
       "      <td>0.1875</td>\n",
       "      <td>2.415037</td>\n",
       "      <td>0.452820</td>\n",
       "    </tr>\n",
       "    <tr>\n",
       "      <th>k</th>\n",
       "      <th>i</th>\n",
       "      <td>0.0000</td>\n",
       "      <td>inf</td>\n",
       "      <td>NaN</td>\n",
       "    </tr>\n",
       "    <tr>\n",
       "      <th>p</th>\n",
       "      <th>u</th>\n",
       "      <td>0.0000</td>\n",
       "      <td>inf</td>\n",
       "      <td>NaN</td>\n",
       "    </tr>\n",
       "    <tr>\n",
       "      <th>t</th>\n",
       "      <th>u</th>\n",
       "      <td>0.1875</td>\n",
       "      <td>2.415037</td>\n",
       "      <td>0.452820</td>\n",
       "    </tr>\n",
       "    <tr>\n",
       "      <th>k</th>\n",
       "      <th>u</th>\n",
       "      <td>0.0625</td>\n",
       "      <td>4.000000</td>\n",
       "      <td>0.250000</td>\n",
       "    </tr>\n",
       "  </tbody>\n",
       "</table>\n",
       "</div>"
      ],
      "text/plain": [
       "          p         i         h\n",
       "c v                            \n",
       "p a  0.0625  4.000000  0.250000\n",
       "t a  0.3750  1.415037  0.530639\n",
       "k a  0.0625  4.000000  0.250000\n",
       "p i  0.0625  4.000000  0.250000\n",
       "t i  0.1875  2.415037  0.452820\n",
       "k i  0.0000       inf       NaN\n",
       "p u  0.0000       inf       NaN\n",
       "t u  0.1875  2.415037  0.452820\n",
       "k u  0.0625  4.000000  0.250000"
      ]
     },
     "execution_count": 49,
     "metadata": {},
     "output_type": "execute_result"
    }
   ],
   "source": [
    "poly2"
   ]
  },
  {
   "cell_type": "code",
   "execution_count": 57,
   "id": "3d09860d-1890-4696-94bd-a55a9ef0a5b8",
   "metadata": {},
   "outputs": [],
   "source": [
    "poly2['bits'] = poly2.i.round(0)"
   ]
  },
  {
   "cell_type": "code",
   "execution_count": 58,
   "id": "a55b7152-b5cf-43c5-a610-aeec36d592ed",
   "metadata": {},
   "outputs": [
    {
     "data": {
      "text/html": [
       "<div>\n",
       "<style scoped>\n",
       "    .dataframe tbody tr th:only-of-type {\n",
       "        vertical-align: middle;\n",
       "    }\n",
       "\n",
       "    .dataframe tbody tr th {\n",
       "        vertical-align: top;\n",
       "    }\n",
       "\n",
       "    .dataframe thead th {\n",
       "        text-align: right;\n",
       "    }\n",
       "</style>\n",
       "<table border=\"1\" class=\"dataframe\">\n",
       "  <thead>\n",
       "    <tr style=\"text-align: right;\">\n",
       "      <th></th>\n",
       "      <th></th>\n",
       "      <th>p</th>\n",
       "      <th>i</th>\n",
       "      <th>h</th>\n",
       "      <th>bits</th>\n",
       "    </tr>\n",
       "    <tr>\n",
       "      <th>c</th>\n",
       "      <th>v</th>\n",
       "      <th></th>\n",
       "      <th></th>\n",
       "      <th></th>\n",
       "      <th></th>\n",
       "    </tr>\n",
       "  </thead>\n",
       "  <tbody>\n",
       "    <tr>\n",
       "      <th>p</th>\n",
       "      <th>a</th>\n",
       "      <td>0.0625</td>\n",
       "      <td>4.000000</td>\n",
       "      <td>0.250000</td>\n",
       "      <td>4.0</td>\n",
       "    </tr>\n",
       "    <tr>\n",
       "      <th>t</th>\n",
       "      <th>a</th>\n",
       "      <td>0.3750</td>\n",
       "      <td>1.415037</td>\n",
       "      <td>0.530639</td>\n",
       "      <td>1.0</td>\n",
       "    </tr>\n",
       "    <tr>\n",
       "      <th>k</th>\n",
       "      <th>a</th>\n",
       "      <td>0.0625</td>\n",
       "      <td>4.000000</td>\n",
       "      <td>0.250000</td>\n",
       "      <td>4.0</td>\n",
       "    </tr>\n",
       "    <tr>\n",
       "      <th>p</th>\n",
       "      <th>i</th>\n",
       "      <td>0.0625</td>\n",
       "      <td>4.000000</td>\n",
       "      <td>0.250000</td>\n",
       "      <td>4.0</td>\n",
       "    </tr>\n",
       "    <tr>\n",
       "      <th>t</th>\n",
       "      <th>i</th>\n",
       "      <td>0.1875</td>\n",
       "      <td>2.415037</td>\n",
       "      <td>0.452820</td>\n",
       "      <td>2.0</td>\n",
       "    </tr>\n",
       "    <tr>\n",
       "      <th>k</th>\n",
       "      <th>i</th>\n",
       "      <td>0.0000</td>\n",
       "      <td>inf</td>\n",
       "      <td>NaN</td>\n",
       "      <td>inf</td>\n",
       "    </tr>\n",
       "    <tr>\n",
       "      <th>p</th>\n",
       "      <th>u</th>\n",
       "      <td>0.0000</td>\n",
       "      <td>inf</td>\n",
       "      <td>NaN</td>\n",
       "      <td>inf</td>\n",
       "    </tr>\n",
       "    <tr>\n",
       "      <th>t</th>\n",
       "      <th>u</th>\n",
       "      <td>0.1875</td>\n",
       "      <td>2.415037</td>\n",
       "      <td>0.452820</td>\n",
       "      <td>2.0</td>\n",
       "    </tr>\n",
       "    <tr>\n",
       "      <th>k</th>\n",
       "      <th>u</th>\n",
       "      <td>0.0625</td>\n",
       "      <td>4.000000</td>\n",
       "      <td>0.250000</td>\n",
       "      <td>4.0</td>\n",
       "    </tr>\n",
       "  </tbody>\n",
       "</table>\n",
       "</div>"
      ],
      "text/plain": [
       "          p         i         h  bits\n",
       "c v                                  \n",
       "p a  0.0625  4.000000  0.250000   4.0\n",
       "t a  0.3750  1.415037  0.530639   1.0\n",
       "k a  0.0625  4.000000  0.250000   4.0\n",
       "p i  0.0625  4.000000  0.250000   4.0\n",
       "t i  0.1875  2.415037  0.452820   2.0\n",
       "k i  0.0000       inf       NaN   inf\n",
       "p u  0.0000       inf       NaN   inf\n",
       "t u  0.1875  2.415037  0.452820   2.0\n",
       "k u  0.0625  4.000000  0.250000   4.0"
      ]
     },
     "execution_count": 58,
     "metadata": {},
     "output_type": "execute_result"
    }
   ],
   "source": [
    "poly2"
   ]
  },
  {
   "cell_type": "code",
   "execution_count": 59,
   "id": "b60134cb-1854-42ca-98a4-47970bf6a074",
   "metadata": {},
   "outputs": [],
   "source": [
    "H_poly2 = poly2.h.sum().round(2)"
   ]
  },
  {
   "cell_type": "code",
   "execution_count": 60,
   "id": "ee65ca9c-f2ec-4f1e-ae9a-45d21e83b9cf",
   "metadata": {},
   "outputs": [
    {
     "data": {
      "text/plain": [
       "2.44"
      ]
     },
     "execution_count": 60,
     "metadata": {},
     "output_type": "execute_result"
    }
   ],
   "source": [
    "H_poly2"
   ]
  },
  {
   "cell_type": "markdown",
   "id": "802e5a6b-b024-4c1e-9fa1-ea07f1cecaf5",
   "metadata": {
    "tags": []
   },
   "source": [
    "## Entropy as Tree\n",
    "\n",
    "Note how the encoding of the repeated rolls of fair die is just the product of ancestor probabilities in a decision tree."
   ]
  },
  {
   "cell_type": "markdown",
   "id": "baa26687-6b2f-42b6-a173-4474e6533652",
   "metadata": {},
   "source": [
    "<img src=\"media/entropy-tree.png\">"
   ]
  },
  {
   "cell_type": "markdown",
   "id": "d0ba2121-d62f-4ec1-b1c1-bc7ba8121690",
   "metadata": {},
   "source": [
    "# Extra"
   ]
  },
  {
   "cell_type": "code",
   "execution_count": 61,
   "id": "9157a4da-e431-4040-94cd-b29eadde2559",
   "metadata": {},
   "outputs": [],
   "source": [
    "X = {\n",
    "    'H': .4,\n",
    "    'T': .6\n",
    "}"
   ]
  },
  {
   "cell_type": "code",
   "execution_count": 62,
   "id": "ba0732e6-011c-4430-ab24-53e3ea88de2f",
   "metadata": {},
   "outputs": [],
   "source": [
    "D = []\n",
    "for f1 in X.keys():\n",
    "    for f2 in X.keys():\n",
    "        for f3 in X.keys():\n",
    "            p = round(X[f1] * X[f2] * X[f3], 3)\n",
    "            D.append((f1,f2,f3,p))"
   ]
  },
  {
   "cell_type": "code",
   "execution_count": 63,
   "id": "8e5415b3-4f6b-4e82-a66e-93ca608d2f65",
   "metadata": {},
   "outputs": [],
   "source": [
    "unfair = pd.DataFrame(D, columns=['f1','f2','f3','p']).set_index(['f1','f2','f3'])"
   ]
  },
  {
   "cell_type": "code",
   "execution_count": 64,
   "id": "ba0107de-9b68-4ab0-a7de-5fa7347ec2e1",
   "metadata": {},
   "outputs": [
    {
     "data": {
      "text/html": [
       "<div>\n",
       "<style scoped>\n",
       "    .dataframe tbody tr th:only-of-type {\n",
       "        vertical-align: middle;\n",
       "    }\n",
       "\n",
       "    .dataframe tbody tr th {\n",
       "        vertical-align: top;\n",
       "    }\n",
       "\n",
       "    .dataframe thead th {\n",
       "        text-align: right;\n",
       "    }\n",
       "</style>\n",
       "<table border=\"1\" class=\"dataframe\">\n",
       "  <thead>\n",
       "    <tr style=\"text-align: right;\">\n",
       "      <th></th>\n",
       "      <th></th>\n",
       "      <th></th>\n",
       "      <th>p</th>\n",
       "    </tr>\n",
       "    <tr>\n",
       "      <th>f1</th>\n",
       "      <th>f2</th>\n",
       "      <th>f3</th>\n",
       "      <th></th>\n",
       "    </tr>\n",
       "  </thead>\n",
       "  <tbody>\n",
       "    <tr>\n",
       "      <th rowspan=\"4\" valign=\"top\">H</th>\n",
       "      <th rowspan=\"2\" valign=\"top\">H</th>\n",
       "      <th>H</th>\n",
       "      <td>0.064</td>\n",
       "    </tr>\n",
       "    <tr>\n",
       "      <th>T</th>\n",
       "      <td>0.096</td>\n",
       "    </tr>\n",
       "    <tr>\n",
       "      <th rowspan=\"2\" valign=\"top\">T</th>\n",
       "      <th>H</th>\n",
       "      <td>0.096</td>\n",
       "    </tr>\n",
       "    <tr>\n",
       "      <th>T</th>\n",
       "      <td>0.144</td>\n",
       "    </tr>\n",
       "    <tr>\n",
       "      <th rowspan=\"4\" valign=\"top\">T</th>\n",
       "      <th rowspan=\"2\" valign=\"top\">H</th>\n",
       "      <th>H</th>\n",
       "      <td>0.096</td>\n",
       "    </tr>\n",
       "    <tr>\n",
       "      <th>T</th>\n",
       "      <td>0.144</td>\n",
       "    </tr>\n",
       "    <tr>\n",
       "      <th rowspan=\"2\" valign=\"top\">T</th>\n",
       "      <th>H</th>\n",
       "      <td>0.144</td>\n",
       "    </tr>\n",
       "    <tr>\n",
       "      <th>T</th>\n",
       "      <td>0.216</td>\n",
       "    </tr>\n",
       "  </tbody>\n",
       "</table>\n",
       "</div>"
      ],
      "text/plain": [
       "              p\n",
       "f1 f2 f3       \n",
       "H  H  H   0.064\n",
       "      T   0.096\n",
       "   T  H   0.096\n",
       "      T   0.144\n",
       "T  H  H   0.096\n",
       "      T   0.144\n",
       "   T  H   0.144\n",
       "      T   0.216"
      ]
     },
     "execution_count": 64,
     "metadata": {},
     "output_type": "execute_result"
    }
   ],
   "source": [
    "unfair"
   ]
  },
  {
   "cell_type": "code",
   "execution_count": 65,
   "id": "e4afe1d2-9758-43a6-9fdd-09c0579556da",
   "metadata": {},
   "outputs": [],
   "source": [
    "unfair['i'] = np.log2(1/unfair.p)\n",
    "unfair['h'] = unfair.p * unfair.i\n",
    "unfair['bits'] = unfair.i.round(0).astype('int')\n",
    "H_unfair = unfair.h.sum()\n",
    "Q_unfair = unfair.i.mean()"
   ]
  },
  {
   "cell_type": "code",
   "execution_count": 66,
   "id": "e83f0398-ab93-4409-93ba-bc40025c0f84",
   "metadata": {},
   "outputs": [
    {
     "data": {
      "text/html": [
       "<div>\n",
       "<style scoped>\n",
       "    .dataframe tbody tr th:only-of-type {\n",
       "        vertical-align: middle;\n",
       "    }\n",
       "\n",
       "    .dataframe tbody tr th {\n",
       "        vertical-align: top;\n",
       "    }\n",
       "\n",
       "    .dataframe thead th {\n",
       "        text-align: right;\n",
       "    }\n",
       "</style>\n",
       "<table border=\"1\" class=\"dataframe\">\n",
       "  <thead>\n",
       "    <tr style=\"text-align: right;\">\n",
       "      <th></th>\n",
       "      <th></th>\n",
       "      <th></th>\n",
       "      <th>p</th>\n",
       "      <th>i</th>\n",
       "      <th>h</th>\n",
       "      <th>bits</th>\n",
       "    </tr>\n",
       "    <tr>\n",
       "      <th>f1</th>\n",
       "      <th>f2</th>\n",
       "      <th>f3</th>\n",
       "      <th></th>\n",
       "      <th></th>\n",
       "      <th></th>\n",
       "      <th></th>\n",
       "    </tr>\n",
       "  </thead>\n",
       "  <tbody>\n",
       "    <tr>\n",
       "      <th rowspan=\"4\" valign=\"top\">H</th>\n",
       "      <th rowspan=\"2\" valign=\"top\">H</th>\n",
       "      <th>H</th>\n",
       "      <td>0.064</td>\n",
       "      <td>3.965784</td>\n",
       "      <td>0.253810</td>\n",
       "      <td>4</td>\n",
       "    </tr>\n",
       "    <tr>\n",
       "      <th>T</th>\n",
       "      <td>0.096</td>\n",
       "      <td>3.380822</td>\n",
       "      <td>0.324559</td>\n",
       "      <td>3</td>\n",
       "    </tr>\n",
       "    <tr>\n",
       "      <th rowspan=\"2\" valign=\"top\">T</th>\n",
       "      <th>H</th>\n",
       "      <td>0.096</td>\n",
       "      <td>3.380822</td>\n",
       "      <td>0.324559</td>\n",
       "      <td>3</td>\n",
       "    </tr>\n",
       "    <tr>\n",
       "      <th>T</th>\n",
       "      <td>0.144</td>\n",
       "      <td>2.795859</td>\n",
       "      <td>0.402604</td>\n",
       "      <td>3</td>\n",
       "    </tr>\n",
       "    <tr>\n",
       "      <th rowspan=\"4\" valign=\"top\">T</th>\n",
       "      <th rowspan=\"2\" valign=\"top\">H</th>\n",
       "      <th>H</th>\n",
       "      <td>0.096</td>\n",
       "      <td>3.380822</td>\n",
       "      <td>0.324559</td>\n",
       "      <td>3</td>\n",
       "    </tr>\n",
       "    <tr>\n",
       "      <th>T</th>\n",
       "      <td>0.144</td>\n",
       "      <td>2.795859</td>\n",
       "      <td>0.402604</td>\n",
       "      <td>3</td>\n",
       "    </tr>\n",
       "    <tr>\n",
       "      <th rowspan=\"2\" valign=\"top\">T</th>\n",
       "      <th>H</th>\n",
       "      <td>0.144</td>\n",
       "      <td>2.795859</td>\n",
       "      <td>0.402604</td>\n",
       "      <td>3</td>\n",
       "    </tr>\n",
       "    <tr>\n",
       "      <th>T</th>\n",
       "      <td>0.216</td>\n",
       "      <td>2.210897</td>\n",
       "      <td>0.477554</td>\n",
       "      <td>2</td>\n",
       "    </tr>\n",
       "  </tbody>\n",
       "</table>\n",
       "</div>"
      ],
      "text/plain": [
       "              p         i         h  bits\n",
       "f1 f2 f3                                 \n",
       "H  H  H   0.064  3.965784  0.253810     4\n",
       "      T   0.096  3.380822  0.324559     3\n",
       "   T  H   0.096  3.380822  0.324559     3\n",
       "      T   0.144  2.795859  0.402604     3\n",
       "T  H  H   0.096  3.380822  0.324559     3\n",
       "      T   0.144  2.795859  0.402604     3\n",
       "   T  H   0.144  2.795859  0.402604     3\n",
       "      T   0.216  2.210897  0.477554     2"
      ]
     },
     "execution_count": 66,
     "metadata": {},
     "output_type": "execute_result"
    }
   ],
   "source": [
    "unfair"
   ]
  },
  {
   "cell_type": "code",
   "execution_count": 67,
   "id": "7960b84a-c6fc-4295-bb10-9d1581732d6a",
   "metadata": {},
   "outputs": [
    {
     "data": {
      "text/plain": [
       "(2.912851783364006, 3.088340533580353)"
      ]
     },
     "execution_count": 67,
     "metadata": {},
     "output_type": "execute_result"
    }
   ],
   "source": [
    "H_unfair, Q_unfair"
   ]
  },
  {
   "cell_type": "markdown",
   "id": "38576e5c-020f-4b3a-8d67-d0cf8d351806",
   "metadata": {},
   "source": [
    "<img src=\"media/entropy-tree-2.png\"/>"
   ]
  },
  {
   "cell_type": "code",
   "execution_count": null,
   "id": "28a1e58d-aed7-4e34-b06c-0463fc5bb40c",
   "metadata": {},
   "outputs": [],
   "source": []
  }
 ],
 "metadata": {
  "kernelspec": {
   "display_name": "Python 3 (ipykernel)",
   "language": "python",
   "name": "python3"
  },
  "language_info": {
   "codemirror_mode": {
    "name": "ipython",
    "version": 3
   },
   "file_extension": ".py",
   "mimetype": "text/x-python",
   "name": "python",
   "nbconvert_exporter": "python",
   "pygments_lexer": "ipython3",
   "version": "3.11.4"
  },
  "toc": {
   "base_numbering": 1
  },
  "widgets": {
   "application/vnd.jupyter.widget-state+json": {
    "state": {},
    "version_major": 2,
    "version_minor": 0
   }
  }
 },
 "nbformat": 4,
 "nbformat_minor": 5
}
