{
 "cells": [
  {
   "cell_type": "markdown",
   "id": "77641f7b-1f29-4b72-a6d4-022cacc2727d",
   "metadata": {},
   "source": [
    "# HW 03\n",
    "\n",
    "Charlie Perez (cwp5xyj)"
   ]
  },
  {
   "cell_type": "markdown",
   "id": "92346151-8172-4f96-9c5d-ae8514436517",
   "metadata": {},
   "source": [
    "## Part 1: Creating TOKENS and VOCAB"
   ]
  },
  {
   "cell_type": "code",
   "execution_count": 1,
   "id": "9f6d85d0-f7de-4ca9-8c4b-d2f8b98de25d",
   "metadata": {
    "tags": []
   },
   "outputs": [
    {
     "data": {
      "text/plain": [
       "('/home/cwp5xyj/Documents/MSDS/DS5001/data',\n",
       " '/home/cwp5xyj/Documents/MSDS/DS5001/output')"
      ]
     },
     "execution_count": 1,
     "metadata": {},
     "output_type": "execute_result"
    }
   ],
   "source": [
    "import pandas as pd\n",
    "import numpy as np\n",
    "\n",
    "import configparser\n",
    "config = configparser.ConfigParser()\n",
    "config.read(\"../../../env.ini\")\n",
    "data_dir = config['DEFAULT']['data_home']\n",
    "output_dir = config['DEFAULT']['output_dir']\n",
    "\n",
    "data_dir, output_dir"
   ]
  },
  {
   "cell_type": "code",
   "execution_count": 48,
   "id": "86b29be0-f910-44a3-9e7f-cb0ec0c62519",
   "metadata": {
    "tags": []
   },
   "outputs": [],
   "source": [
    "frankenstein_text = f\"{data_dir}/pg42324.txt\"\n",
    "OHCO = ['chap_id','para_num','sent_num','token_num']"
   ]
  },
  {
   "cell_type": "code",
   "execution_count": 35,
   "id": "9f65fa00-1d19-4778-b6cd-d34727ec672f",
   "metadata": {
    "tags": []
   },
   "outputs": [],
   "source": [
    "# hmmmm okkk let's import textimporter\n",
    "\n",
    "import sys\n",
    "import os\n",
    "\n",
    "sys.path.append(os.path.abspath('/home/cwp5xyj/Documents/MSDS/DS5001/repo-main/lessons/lib'))\n",
    "from textimporter import TextImporter"
   ]
  },
  {
   "cell_type": "code",
   "execution_count": 39,
   "id": "87475e78-f5d6-42be-8bb9-9e93c148ad6e",
   "metadata": {
    "tags": []
   },
   "outputs": [
    {
     "name": "stdout",
     "output_type": "stream",
     "text": [
      "Importing  /home/cwp5xyj/Documents/MSDS/DS5001/data/pg42324.txt\n",
      "Clipping text\n",
      "Parsing OHCO level 0 chap_id by milestone ^(?:PREFACE|LETTER|CHAPTER)\\b\n",
      "Parsing OHCO level 1 para_num by delimitter \\n\\n\n",
      "Parsing OHCO level 2 sent_num by delimitter [.?!;:]+\n",
      "Parsing OHCO level 3 token_num by delimitter [\\s',-]+\n"
     ]
    },
    {
     "data": {
      "text/html": [
       "<div>\n",
       "<style scoped>\n",
       "    .dataframe tbody tr th:only-of-type {\n",
       "        vertical-align: middle;\n",
       "    }\n",
       "\n",
       "    .dataframe tbody tr th {\n",
       "        vertical-align: top;\n",
       "    }\n",
       "\n",
       "    .dataframe thead th {\n",
       "        text-align: right;\n",
       "    }\n",
       "</style>\n",
       "<table border=\"1\" class=\"dataframe\">\n",
       "  <thead>\n",
       "    <tr style=\"text-align: right;\">\n",
       "      <th></th>\n",
       "      <th></th>\n",
       "      <th></th>\n",
       "      <th></th>\n",
       "      <th>token_str</th>\n",
       "      <th>term_str</th>\n",
       "    </tr>\n",
       "    <tr>\n",
       "      <th>chap_id</th>\n",
       "      <th>para_num</th>\n",
       "      <th>sent_num</th>\n",
       "      <th>token_num</th>\n",
       "      <th></th>\n",
       "      <th></th>\n",
       "    </tr>\n",
       "  </thead>\n",
       "  <tbody>\n",
       "    <tr>\n",
       "      <th rowspan=\"5\" valign=\"top\">1</th>\n",
       "      <th rowspan=\"5\" valign=\"top\">0</th>\n",
       "      <th rowspan=\"5\" valign=\"top\">0</th>\n",
       "      <th>0</th>\n",
       "      <td>The</td>\n",
       "      <td>the</td>\n",
       "    </tr>\n",
       "    <tr>\n",
       "      <th>1</th>\n",
       "      <td>event</td>\n",
       "      <td>event</td>\n",
       "    </tr>\n",
       "    <tr>\n",
       "      <th>2</th>\n",
       "      <td>on</td>\n",
       "      <td>on</td>\n",
       "    </tr>\n",
       "    <tr>\n",
       "      <th>3</th>\n",
       "      <td>which</td>\n",
       "      <td>which</td>\n",
       "    </tr>\n",
       "    <tr>\n",
       "      <th>4</th>\n",
       "      <td>this</td>\n",
       "      <td>this</td>\n",
       "    </tr>\n",
       "  </tbody>\n",
       "</table>\n",
       "</div>"
      ],
      "text/plain": [
       "                                    token_str term_str\n",
       "chap_id para_num sent_num token_num                   \n",
       "1       0        0        0               The      the\n",
       "                          1             event    event\n",
       "                          2                on       on\n",
       "                          3             which    which\n",
       "                          4              this     this"
      ]
     },
     "execution_count": 39,
     "metadata": {},
     "output_type": "execute_result"
    }
   ],
   "source": [
    "ohco_pats = [('chap', r'^(?:PREFACE|LETTER|CHAPTER)\\b', 'm')]\n",
    "clip_pats = [r'START', r'END']\n",
    "frankenstein = TextImporter(src_file=frankenstein_text, ohco_pats=ohco_pats, clip_pats=clip_pats)\n",
    "frankenstein.import_source().parse_tokens()\n",
    "frankenstein.TOKENS.head()"
   ]
  },
  {
   "cell_type": "code",
   "execution_count": 40,
   "id": "58eb3131-599f-43f7-9009-c7ab3ccdb6ef",
   "metadata": {
    "tags": []
   },
   "outputs": [
    {
     "data": {
      "text/html": [
       "<div>\n",
       "<style scoped>\n",
       "    .dataframe tbody tr th:only-of-type {\n",
       "        vertical-align: middle;\n",
       "    }\n",
       "\n",
       "    .dataframe tbody tr th {\n",
       "        vertical-align: top;\n",
       "    }\n",
       "\n",
       "    .dataframe thead th {\n",
       "        text-align: right;\n",
       "    }\n",
       "</style>\n",
       "<table border=\"1\" class=\"dataframe\">\n",
       "  <thead>\n",
       "    <tr style=\"text-align: right;\">\n",
       "      <th></th>\n",
       "      <th></th>\n",
       "      <th></th>\n",
       "      <th></th>\n",
       "      <th>token_str</th>\n",
       "      <th>term_str</th>\n",
       "    </tr>\n",
       "    <tr>\n",
       "      <th>chap_id</th>\n",
       "      <th>para_num</th>\n",
       "      <th>sent_num</th>\n",
       "      <th>token_num</th>\n",
       "      <th></th>\n",
       "      <th></th>\n",
       "    </tr>\n",
       "  </thead>\n",
       "  <tbody>\n",
       "    <tr>\n",
       "      <th rowspan=\"5\" valign=\"top\">31</th>\n",
       "      <th rowspan=\"5\" valign=\"top\">82</th>\n",
       "      <th rowspan=\"5\" valign=\"top\">1</th>\n",
       "      <th>10</th>\n",
       "      <td>lost</td>\n",
       "      <td>lost</td>\n",
       "    </tr>\n",
       "    <tr>\n",
       "      <th>11</th>\n",
       "      <td>in</td>\n",
       "      <td>in</td>\n",
       "    </tr>\n",
       "    <tr>\n",
       "      <th>12</th>\n",
       "      <td>darkness</td>\n",
       "      <td>darkness</td>\n",
       "    </tr>\n",
       "    <tr>\n",
       "      <th>13</th>\n",
       "      <td>and</td>\n",
       "      <td>and</td>\n",
       "    </tr>\n",
       "    <tr>\n",
       "      <th>14</th>\n",
       "      <td>distance</td>\n",
       "      <td>distance</td>\n",
       "    </tr>\n",
       "  </tbody>\n",
       "</table>\n",
       "</div>"
      ],
      "text/plain": [
       "                                    token_str  term_str\n",
       "chap_id para_num sent_num token_num                    \n",
       "31      82       1        10             lost      lost\n",
       "                          11               in        in\n",
       "                          12         darkness  darkness\n",
       "                          13              and       and\n",
       "                          14         distance  distance"
      ]
     },
     "execution_count": 40,
     "metadata": {},
     "output_type": "execute_result"
    }
   ],
   "source": [
    "frankenstein.TOKENS.tail()"
   ]
  },
  {
   "cell_type": "code",
   "execution_count": 41,
   "id": "234f6e53-488b-45b6-a93f-0a368ce424e0",
   "metadata": {
    "tags": []
   },
   "outputs": [],
   "source": [
    "# looks good\n",
    "\n",
    "TOKENS = frankenstein.TOKENS"
   ]
  },
  {
   "cell_type": "code",
   "execution_count": 44,
   "id": "5ec99f56-b9f1-4db9-82f1-9a1b87c4930b",
   "metadata": {
    "tags": []
   },
   "outputs": [
    {
     "data": {
      "text/html": [
       "<div>\n",
       "<style scoped>\n",
       "    .dataframe tbody tr th:only-of-type {\n",
       "        vertical-align: middle;\n",
       "    }\n",
       "\n",
       "    .dataframe tbody tr th {\n",
       "        vertical-align: top;\n",
       "    }\n",
       "\n",
       "    .dataframe thead th {\n",
       "        text-align: right;\n",
       "    }\n",
       "</style>\n",
       "<table border=\"1\" class=\"dataframe\">\n",
       "  <thead>\n",
       "    <tr style=\"text-align: right;\">\n",
       "      <th></th>\n",
       "      <th>n</th>\n",
       "      <th>n_chars</th>\n",
       "      <th>p</th>\n",
       "      <th>s</th>\n",
       "      <th>i</th>\n",
       "      <th>h</th>\n",
       "    </tr>\n",
       "    <tr>\n",
       "      <th>term_str</th>\n",
       "      <th></th>\n",
       "      <th></th>\n",
       "      <th></th>\n",
       "      <th></th>\n",
       "      <th></th>\n",
       "      <th></th>\n",
       "    </tr>\n",
       "  </thead>\n",
       "  <tbody>\n",
       "    <tr>\n",
       "      <th>the</th>\n",
       "      <td>4248</td>\n",
       "      <td>3</td>\n",
       "      <td>0.055695</td>\n",
       "      <td>17.955038</td>\n",
       "      <td>4.166317</td>\n",
       "      <td>0.232042</td>\n",
       "    </tr>\n",
       "    <tr>\n",
       "      <th>and</th>\n",
       "      <td>2991</td>\n",
       "      <td>3</td>\n",
       "      <td>0.039214</td>\n",
       "      <td>25.500836</td>\n",
       "      <td>4.672473</td>\n",
       "      <td>0.183228</td>\n",
       "    </tr>\n",
       "    <tr>\n",
       "      <th>i</th>\n",
       "      <td>2858</td>\n",
       "      <td>1</td>\n",
       "      <td>0.037471</td>\n",
       "      <td>26.687544</td>\n",
       "      <td>4.738095</td>\n",
       "      <td>0.177540</td>\n",
       "    </tr>\n",
       "    <tr>\n",
       "      <th>of</th>\n",
       "      <td>2683</td>\n",
       "      <td>2</td>\n",
       "      <td>0.035176</td>\n",
       "      <td>28.428252</td>\n",
       "      <td>4.829253</td>\n",
       "      <td>0.169875</td>\n",
       "    </tr>\n",
       "    <tr>\n",
       "      <th>to</th>\n",
       "      <td>2118</td>\n",
       "      <td>2</td>\n",
       "      <td>0.027769</td>\n",
       "      <td>36.011804</td>\n",
       "      <td>5.170398</td>\n",
       "      <td>0.143575</td>\n",
       "    </tr>\n",
       "  </tbody>\n",
       "</table>\n",
       "</div>"
      ],
      "text/plain": [
       "             n  n_chars         p          s         i         h\n",
       "term_str                                                        \n",
       "the       4248        3  0.055695  17.955038  4.166317  0.232042\n",
       "and       2991        3  0.039214  25.500836  4.672473  0.183228\n",
       "i         2858        1  0.037471  26.687544  4.738095  0.177540\n",
       "of        2683        2  0.035176  28.428252  4.829253  0.169875\n",
       "to        2118        2  0.027769  36.011804  5.170398  0.143575"
      ]
     },
     "execution_count": 44,
     "metadata": {},
     "output_type": "execute_result"
    }
   ],
   "source": [
    "frankenstein.extract_vocab()\n",
    "frankenstein.VOCAB.head()"
   ]
  },
  {
   "cell_type": "code",
   "execution_count": 45,
   "id": "ca1b3d87-787f-42b1-8ec2-b00c49ef84b6",
   "metadata": {
    "tags": []
   },
   "outputs": [],
   "source": [
    "VOCAB = frankenstein.VOCAB"
   ]
  },
  {
   "cell_type": "code",
   "execution_count": 50,
   "id": "1955917d-96dd-4e5b-b029-4b7df75d772d",
   "metadata": {
    "tags": []
   },
   "outputs": [],
   "source": [
    "VOCAB['modified_term_str'] = VOCAB.index\n",
    "VOCAB.loc[(VOCAB.n == 1) & (VOCAB.n_chars < 3), 'modified_term_str'] = \"<UNK>\""
   ]
  },
  {
   "cell_type": "code",
   "execution_count": 53,
   "id": "46909900-d203-4340-ba3b-a96024066673",
   "metadata": {
    "tags": []
   },
   "outputs": [
    {
     "data": {
      "text/html": [
       "<div>\n",
       "<style scoped>\n",
       "    .dataframe tbody tr th:only-of-type {\n",
       "        vertical-align: middle;\n",
       "    }\n",
       "\n",
       "    .dataframe tbody tr th {\n",
       "        vertical-align: top;\n",
       "    }\n",
       "\n",
       "    .dataframe thead th {\n",
       "        text-align: right;\n",
       "    }\n",
       "</style>\n",
       "<table border=\"1\" class=\"dataframe\">\n",
       "  <thead>\n",
       "    <tr style=\"text-align: right;\">\n",
       "      <th></th>\n",
       "      <th>n</th>\n",
       "      <th>n_chars</th>\n",
       "      <th>p</th>\n",
       "      <th>s</th>\n",
       "      <th>i</th>\n",
       "      <th>h</th>\n",
       "      <th>modified_term_str</th>\n",
       "    </tr>\n",
       "    <tr>\n",
       "      <th>term_str</th>\n",
       "      <th></th>\n",
       "      <th></th>\n",
       "      <th></th>\n",
       "      <th></th>\n",
       "      <th></th>\n",
       "      <th></th>\n",
       "      <th></th>\n",
       "    </tr>\n",
       "  </thead>\n",
       "  <tbody>\n",
       "    <tr>\n",
       "      <th>2d</th>\n",
       "      <td>1</td>\n",
       "      <td>2</td>\n",
       "      <td>0.000013</td>\n",
       "      <td>76273.0</td>\n",
       "      <td>16.218885</td>\n",
       "      <td>0.000213</td>\n",
       "      <td>&lt;UNK&gt;</td>\n",
       "    </tr>\n",
       "    <tr>\n",
       "      <th>3</th>\n",
       "      <td>1</td>\n",
       "      <td>1</td>\n",
       "      <td>0.000013</td>\n",
       "      <td>76273.0</td>\n",
       "      <td>16.218885</td>\n",
       "      <td>0.000213</td>\n",
       "      <td>&lt;UNK&gt;</td>\n",
       "    </tr>\n",
       "    <tr>\n",
       "      <th>du</th>\n",
       "      <td>1</td>\n",
       "      <td>2</td>\n",
       "      <td>0.000013</td>\n",
       "      <td>76273.0</td>\n",
       "      <td>16.218885</td>\n",
       "      <td>0.000213</td>\n",
       "      <td>&lt;UNK&gt;</td>\n",
       "    </tr>\n",
       "    <tr>\n",
       "      <th>la</th>\n",
       "      <td>1</td>\n",
       "      <td>2</td>\n",
       "      <td>0.000013</td>\n",
       "      <td>76273.0</td>\n",
       "      <td>16.218885</td>\n",
       "      <td>0.000213</td>\n",
       "      <td>&lt;UNK&gt;</td>\n",
       "    </tr>\n",
       "    <tr>\n",
       "      <th>dr</th>\n",
       "      <td>1</td>\n",
       "      <td>2</td>\n",
       "      <td>0.000013</td>\n",
       "      <td>76273.0</td>\n",
       "      <td>16.218885</td>\n",
       "      <td>0.000213</td>\n",
       "      <td>&lt;UNK&gt;</td>\n",
       "    </tr>\n",
       "    <tr>\n",
       "      <th>19</th>\n",
       "      <td>1</td>\n",
       "      <td>2</td>\n",
       "      <td>0.000013</td>\n",
       "      <td>76273.0</td>\n",
       "      <td>16.218885</td>\n",
       "      <td>0.000213</td>\n",
       "      <td>&lt;UNK&gt;</td>\n",
       "    </tr>\n",
       "    <tr>\n",
       "      <th>w</th>\n",
       "      <td>1</td>\n",
       "      <td>1</td>\n",
       "      <td>0.000013</td>\n",
       "      <td>76273.0</td>\n",
       "      <td>16.218885</td>\n",
       "      <td>0.000213</td>\n",
       "      <td>&lt;UNK&gt;</td>\n",
       "    </tr>\n",
       "    <tr>\n",
       "      <th>ne</th>\n",
       "      <td>1</td>\n",
       "      <td>2</td>\n",
       "      <td>0.000013</td>\n",
       "      <td>76273.0</td>\n",
       "      <td>16.218885</td>\n",
       "      <td>0.000213</td>\n",
       "      <td>&lt;UNK&gt;</td>\n",
       "    </tr>\n",
       "    <tr>\n",
       "      <th>er</th>\n",
       "      <td>1</td>\n",
       "      <td>2</td>\n",
       "      <td>0.000013</td>\n",
       "      <td>76273.0</td>\n",
       "      <td>16.218885</td>\n",
       "      <td>0.000213</td>\n",
       "      <td>&lt;UNK&gt;</td>\n",
       "    </tr>\n",
       "    <tr>\n",
       "      <th>n</th>\n",
       "      <td>1</td>\n",
       "      <td>1</td>\n",
       "      <td>0.000013</td>\n",
       "      <td>76273.0</td>\n",
       "      <td>16.218885</td>\n",
       "      <td>0.000213</td>\n",
       "      <td>&lt;UNK&gt;</td>\n",
       "    </tr>\n",
       "  </tbody>\n",
       "</table>\n",
       "</div>"
      ],
      "text/plain": [
       "          n  n_chars         p        s          i         h modified_term_str\n",
       "term_str                                                                      \n",
       "2d        1        2  0.000013  76273.0  16.218885  0.000213             <UNK>\n",
       "3         1        1  0.000013  76273.0  16.218885  0.000213             <UNK>\n",
       "du        1        2  0.000013  76273.0  16.218885  0.000213             <UNK>\n",
       "la        1        2  0.000013  76273.0  16.218885  0.000213             <UNK>\n",
       "dr        1        2  0.000013  76273.0  16.218885  0.000213             <UNK>\n",
       "19        1        2  0.000013  76273.0  16.218885  0.000213             <UNK>\n",
       "w         1        1  0.000013  76273.0  16.218885  0.000213             <UNK>\n",
       "ne        1        2  0.000013  76273.0  16.218885  0.000213             <UNK>\n",
       "er        1        2  0.000013  76273.0  16.218885  0.000213             <UNK>\n",
       "n         1        1  0.000013  76273.0  16.218885  0.000213             <UNK>"
      ]
     },
     "execution_count": 53,
     "metadata": {},
     "output_type": "execute_result"
    }
   ],
   "source": [
    "VOCAB[VOCAB.modified_term_str=='<UNK>']"
   ]
  },
  {
   "cell_type": "code",
   "execution_count": 56,
   "id": "5d642386-961c-49c3-b6e7-cfa091080e30",
   "metadata": {
    "tags": []
   },
   "outputs": [],
   "source": [
    "TOKENS['modified_term_str'] = TOKENS.term_str.map(VOCAB.modified_term_str)"
   ]
  },
  {
   "cell_type": "markdown",
   "id": "cc5466d5-f134-4c0e-bb42-95b7cbaccfe3",
   "metadata": {},
   "source": [
    "## Part 2: making N-grams"
   ]
  },
  {
   "cell_type": "code",
   "execution_count": 58,
   "id": "d7abab06-cec9-4a91-bb10-fe5306d64f31",
   "metadata": {
    "tags": []
   },
   "outputs": [
    {
     "data": {
      "text/html": [
       "<div>\n",
       "<style scoped>\n",
       "    .dataframe tbody tr th:only-of-type {\n",
       "        vertical-align: middle;\n",
       "    }\n",
       "\n",
       "    .dataframe tbody tr th {\n",
       "        vertical-align: top;\n",
       "    }\n",
       "\n",
       "    .dataframe thead th {\n",
       "        text-align: right;\n",
       "    }\n",
       "</style>\n",
       "<table border=\"1\" class=\"dataframe\">\n",
       "  <thead>\n",
       "    <tr style=\"text-align: right;\">\n",
       "      <th></th>\n",
       "      <th></th>\n",
       "      <th></th>\n",
       "      <th></th>\n",
       "      <th>term_str</th>\n",
       "    </tr>\n",
       "    <tr>\n",
       "      <th>chap_id</th>\n",
       "      <th>para_num</th>\n",
       "      <th>sent_num</th>\n",
       "      <th>token_num</th>\n",
       "      <th></th>\n",
       "    </tr>\n",
       "  </thead>\n",
       "  <tbody>\n",
       "    <tr>\n",
       "      <th rowspan=\"5\" valign=\"top\">1</th>\n",
       "      <th rowspan=\"5\" valign=\"top\">0</th>\n",
       "      <th rowspan=\"5\" valign=\"top\">0</th>\n",
       "      <th>0</th>\n",
       "      <td>&lt;s&gt;</td>\n",
       "    </tr>\n",
       "    <tr>\n",
       "      <th>1</th>\n",
       "      <td>the</td>\n",
       "    </tr>\n",
       "    <tr>\n",
       "      <th>2</th>\n",
       "      <td>event</td>\n",
       "    </tr>\n",
       "    <tr>\n",
       "      <th>3</th>\n",
       "      <td>on</td>\n",
       "    </tr>\n",
       "    <tr>\n",
       "      <th>4</th>\n",
       "      <td>which</td>\n",
       "    </tr>\n",
       "  </tbody>\n",
       "</table>\n",
       "</div>"
      ],
      "text/plain": [
       "                                    term_str\n",
       "chap_id para_num sent_num token_num         \n",
       "1       0        0        0              <s>\n",
       "                          1              the\n",
       "                          2            event\n",
       "                          3               on\n",
       "                          4            which"
      ]
     },
     "execution_count": 58,
     "metadata": {},
     "output_type": "execute_result"
    }
   ],
   "source": [
    "ngrams = 3\n",
    "widx = [f\"w{i}\" for i in range(ngrams)]\n",
    "\n",
    "def token_to_padded(token, grouper=['sent_num'], term_str='term_str'):\n",
    "    ohco = token.index.names # We preserve these since they get lost in the shuffle\n",
    "    padded = token.groupby(grouper)\\\n",
    "        .apply(lambda x: '<s> ' + ' '.join(x[term_str]) + ' </s>')\\\n",
    "        .apply(lambda x: pd.Series(x.split()))\\\n",
    "        .stack().to_frame('term_str')\n",
    "    padded.index.names = ohco\n",
    "    return padded\n",
    "\n",
    "PADDED = token_to_padded(TOKENS, grouper=OHCO[:3], term_str='modified_term_str')\n",
    "PADDED.head()"
   ]
  },
  {
   "cell_type": "code",
   "execution_count": 59,
   "id": "bb1da857-2c43-4774-afee-eacf115502a0",
   "metadata": {
    "tags": []
   },
   "outputs": [],
   "source": [
    "def padded_to_ngrams(padded, grouper=['sent_num'], n=2):\n",
    "    \n",
    "    ohco = padded.index.names\n",
    "    ngrams = padded.groupby(grouper)\\\n",
    "        .apply(lambda x: pd.concat([x.shift(0-i) for i in range(n)], axis=1))\\\n",
    "        .reset_index(drop=True)\n",
    "    ngrams.index = padded.index\n",
    "    ngrams.columns = widx\n",
    "\n",
    "    # ngrams = pd.concat([padded.shift(0-i) for i in range(n)], axis=1)\n",
    "    # ngrams.index.name = 'ngram_num'\n",
    "    # ngrams.columns = widx\n",
    "    # ngrams = ngrams.fillna('<EOF>')\n",
    "    \n",
    "    return ngrams"
   ]
  },
  {
   "cell_type": "code",
   "execution_count": 61,
   "id": "91fe84c5-9af3-4d09-9270-bed99bcbdd31",
   "metadata": {
    "tags": []
   },
   "outputs": [],
   "source": [
    "NGRAMS = padded_to_ngrams(PADDED, OHCO[:3], ngrams)"
   ]
  },
  {
   "cell_type": "code",
   "execution_count": 63,
   "id": "b34e673f-4509-4d6d-8ddb-77d7940eb4f0",
   "metadata": {
    "tags": []
   },
   "outputs": [
    {
     "data": {
      "text/html": [
       "<div>\n",
       "<style scoped>\n",
       "    .dataframe tbody tr th:only-of-type {\n",
       "        vertical-align: middle;\n",
       "    }\n",
       "\n",
       "    .dataframe tbody tr th {\n",
       "        vertical-align: top;\n",
       "    }\n",
       "\n",
       "    .dataframe thead th {\n",
       "        text-align: right;\n",
       "    }\n",
       "</style>\n",
       "<table border=\"1\" class=\"dataframe\">\n",
       "  <thead>\n",
       "    <tr style=\"text-align: right;\">\n",
       "      <th></th>\n",
       "      <th></th>\n",
       "      <th></th>\n",
       "      <th></th>\n",
       "      <th>w0</th>\n",
       "      <th>w1</th>\n",
       "      <th>w2</th>\n",
       "    </tr>\n",
       "    <tr>\n",
       "      <th>chap_id</th>\n",
       "      <th>para_num</th>\n",
       "      <th>sent_num</th>\n",
       "      <th>token_num</th>\n",
       "      <th></th>\n",
       "      <th></th>\n",
       "      <th></th>\n",
       "    </tr>\n",
       "  </thead>\n",
       "  <tbody>\n",
       "    <tr>\n",
       "      <th rowspan=\"5\" valign=\"top\">1</th>\n",
       "      <th rowspan=\"5\" valign=\"top\">0</th>\n",
       "      <th rowspan=\"5\" valign=\"top\">0</th>\n",
       "      <th>0</th>\n",
       "      <td>&lt;s&gt;</td>\n",
       "      <td>the</td>\n",
       "      <td>event</td>\n",
       "    </tr>\n",
       "    <tr>\n",
       "      <th>1</th>\n",
       "      <td>the</td>\n",
       "      <td>event</td>\n",
       "      <td>on</td>\n",
       "    </tr>\n",
       "    <tr>\n",
       "      <th>2</th>\n",
       "      <td>event</td>\n",
       "      <td>on</td>\n",
       "      <td>which</td>\n",
       "    </tr>\n",
       "    <tr>\n",
       "      <th>3</th>\n",
       "      <td>on</td>\n",
       "      <td>which</td>\n",
       "      <td>this</td>\n",
       "    </tr>\n",
       "    <tr>\n",
       "      <th>4</th>\n",
       "      <td>which</td>\n",
       "      <td>this</td>\n",
       "      <td>fiction</td>\n",
       "    </tr>\n",
       "  </tbody>\n",
       "</table>\n",
       "</div>"
      ],
      "text/plain": [
       "                                        w0     w1       w2\n",
       "chap_id para_num sent_num token_num                       \n",
       "1       0        0        0            <s>    the    event\n",
       "                          1            the  event       on\n",
       "                          2          event     on    which\n",
       "                          3             on  which     this\n",
       "                          4          which   this  fiction"
      ]
     },
     "execution_count": 63,
     "metadata": {},
     "output_type": "execute_result"
    }
   ],
   "source": [
    "NGRAMS.head()"
   ]
  },
  {
   "cell_type": "code",
   "execution_count": 64,
   "id": "c0923675-9729-4078-b875-33823a5aa555",
   "metadata": {
    "tags": []
   },
   "outputs": [],
   "source": [
    "# looking good, looking good\n",
    "\n",
    "def ngrams_to_models(ngrams):\n",
    "    global widx\n",
    "    n = len(ngrams.columns)\n",
    "    model = [None for i in range(n)]\n",
    "    for i in range(n):\n",
    "        if i == 0:\n",
    "            model[i] = ngrams.value_counts('w0').to_frame('n')\n",
    "            model[i]['p'] = model[i].n / model[i].n.sum()\n",
    "            model[i]['i'] = np.log2(1/model[i].p)\n",
    "        else:\n",
    "            model[i] = ngrams.value_counts(widx[:i+1]).to_frame('n')    \n",
    "            model[i]['cp'] = model[i].n / model[i-1].n\n",
    "            model[i]['i'] = np.log2(1/model[i].cp)\n",
    "        model[i] = model[i].sort_index()\n",
    "    return model"
   ]
  },
  {
   "cell_type": "code",
   "execution_count": 65,
   "id": "9045f293-365f-42b5-9e00-162e3c8015e5",
   "metadata": {
    "tags": []
   },
   "outputs": [],
   "source": [
    "M = ngrams_to_models(NGRAMS)"
   ]
  },
  {
   "cell_type": "code",
   "execution_count": 68,
   "id": "47f271c3-1811-428d-9b7f-a9e0ced1a258",
   "metadata": {
    "tags": []
   },
   "outputs": [
    {
     "data": {
      "text/html": [
       "<div>\n",
       "<style scoped>\n",
       "    .dataframe tbody tr th:only-of-type {\n",
       "        vertical-align: middle;\n",
       "    }\n",
       "\n",
       "    .dataframe tbody tr th {\n",
       "        vertical-align: top;\n",
       "    }\n",
       "\n",
       "    .dataframe thead th {\n",
       "        text-align: right;\n",
       "    }\n",
       "</style>\n",
       "<table border=\"1\" class=\"dataframe\">\n",
       "  <thead>\n",
       "    <tr style=\"text-align: right;\">\n",
       "      <th></th>\n",
       "      <th>n</th>\n",
       "      <th>p</th>\n",
       "      <th>i</th>\n",
       "    </tr>\n",
       "    <tr>\n",
       "      <th>w0</th>\n",
       "      <th></th>\n",
       "      <th></th>\n",
       "      <th></th>\n",
       "    </tr>\n",
       "  </thead>\n",
       "  <tbody>\n",
       "    <tr>\n",
       "      <th>1</th>\n",
       "      <td>2</td>\n",
       "      <td>0.000023</td>\n",
       "      <td>15.396504</td>\n",
       "    </tr>\n",
       "    <tr>\n",
       "      <th>11th</th>\n",
       "      <td>2</td>\n",
       "      <td>0.000023</td>\n",
       "      <td>15.396504</td>\n",
       "    </tr>\n",
       "    <tr>\n",
       "      <th>12th</th>\n",
       "      <td>2</td>\n",
       "      <td>0.000023</td>\n",
       "      <td>15.396504</td>\n",
       "    </tr>\n",
       "    <tr>\n",
       "      <th>13th</th>\n",
       "      <td>1</td>\n",
       "      <td>0.000012</td>\n",
       "      <td>16.396504</td>\n",
       "    </tr>\n",
       "    <tr>\n",
       "      <th>17</th>\n",
       "      <td>10</td>\n",
       "      <td>0.000116</td>\n",
       "      <td>13.074576</td>\n",
       "    </tr>\n",
       "  </tbody>\n",
       "</table>\n",
       "</div>"
      ],
      "text/plain": [
       "       n         p          i\n",
       "w0                           \n",
       "1      2  0.000023  15.396504\n",
       "11th   2  0.000023  15.396504\n",
       "12th   2  0.000023  15.396504\n",
       "13th   1  0.000012  16.396504\n",
       "17    10  0.000116  13.074576"
      ]
     },
     "execution_count": 68,
     "metadata": {},
     "output_type": "execute_result"
    }
   ],
   "source": [
    "M[0].head()"
   ]
  },
  {
   "cell_type": "code",
   "execution_count": 70,
   "id": "edd44620-90b1-4ed9-99f0-90247ce3f1ee",
   "metadata": {
    "tags": []
   },
   "outputs": [
    {
     "data": {
      "text/html": [
       "<div>\n",
       "<style scoped>\n",
       "    .dataframe tbody tr th:only-of-type {\n",
       "        vertical-align: middle;\n",
       "    }\n",
       "\n",
       "    .dataframe tbody tr th {\n",
       "        vertical-align: top;\n",
       "    }\n",
       "\n",
       "    .dataframe thead th {\n",
       "        text-align: right;\n",
       "    }\n",
       "</style>\n",
       "<table border=\"1\" class=\"dataframe\">\n",
       "  <thead>\n",
       "    <tr style=\"text-align: right;\">\n",
       "      <th></th>\n",
       "      <th></th>\n",
       "      <th>n</th>\n",
       "      <th>cp</th>\n",
       "      <th>i</th>\n",
       "    </tr>\n",
       "    <tr>\n",
       "      <th>w0</th>\n",
       "      <th>w1</th>\n",
       "      <th></th>\n",
       "      <th></th>\n",
       "      <th></th>\n",
       "    </tr>\n",
       "  </thead>\n",
       "  <tbody>\n",
       "    <tr>\n",
       "      <th>1</th>\n",
       "      <th>&lt;/s&gt;</th>\n",
       "      <td>2</td>\n",
       "      <td>1.0</td>\n",
       "      <td>0.0</td>\n",
       "    </tr>\n",
       "    <tr>\n",
       "      <th rowspan=\"2\" valign=\"top\">11th</th>\n",
       "      <th>17</th>\n",
       "      <td>1</td>\n",
       "      <td>0.5</td>\n",
       "      <td>1.0</td>\n",
       "    </tr>\n",
       "    <tr>\n",
       "      <th>the</th>\n",
       "      <td>1</td>\n",
       "      <td>0.5</td>\n",
       "      <td>1.0</td>\n",
       "    </tr>\n",
       "    <tr>\n",
       "      <th rowspan=\"2\" valign=\"top\">12th</th>\n",
       "      <th>17</th>\n",
       "      <td>1</td>\n",
       "      <td>0.5</td>\n",
       "      <td>1.0</td>\n",
       "    </tr>\n",
       "    <tr>\n",
       "      <th>&lt;/s&gt;</th>\n",
       "      <td>1</td>\n",
       "      <td>0.5</td>\n",
       "      <td>1.0</td>\n",
       "    </tr>\n",
       "    <tr>\n",
       "      <th>13th</th>\n",
       "      <th>17</th>\n",
       "      <td>1</td>\n",
       "      <td>1.0</td>\n",
       "      <td>0.0</td>\n",
       "    </tr>\n",
       "    <tr>\n",
       "      <th>17</th>\n",
       "      <th>&lt;/s&gt;</th>\n",
       "      <td>10</td>\n",
       "      <td>1.0</td>\n",
       "      <td>0.0</td>\n",
       "    </tr>\n",
       "    <tr>\n",
       "      <th>1816</th>\n",
       "      <th>in</th>\n",
       "      <td>1</td>\n",
       "      <td>1.0</td>\n",
       "      <td>0.0</td>\n",
       "    </tr>\n",
       "    <tr>\n",
       "      <th>1817</th>\n",
       "      <th>&lt;/s&gt;</th>\n",
       "      <td>1</td>\n",
       "      <td>1.0</td>\n",
       "      <td>0.0</td>\n",
       "    </tr>\n",
       "    <tr>\n",
       "      <th>18th</th>\n",
       "      <th>17</th>\n",
       "      <td>2</td>\n",
       "      <td>1.0</td>\n",
       "      <td>0.0</td>\n",
       "    </tr>\n",
       "  </tbody>\n",
       "</table>\n",
       "</div>"
      ],
      "text/plain": [
       "            n   cp    i\n",
       "w0   w1                \n",
       "1    </s>   2  1.0  0.0\n",
       "11th 17     1  0.5  1.0\n",
       "     the    1  0.5  1.0\n",
       "12th 17     1  0.5  1.0\n",
       "     </s>   1  0.5  1.0\n",
       "13th 17     1  1.0  0.0\n",
       "17   </s>  10  1.0  0.0\n",
       "1816 in     1  1.0  0.0\n",
       "1817 </s>   1  1.0  0.0\n",
       "18th 17     2  1.0  0.0"
      ]
     },
     "execution_count": 70,
     "metadata": {},
     "output_type": "execute_result"
    }
   ],
   "source": [
    "M[1].head(10)"
   ]
  },
  {
   "cell_type": "code",
   "execution_count": 74,
   "id": "dd2a5352-a6b0-40d5-a95f-2e9da8a6d770",
   "metadata": {
    "tags": []
   },
   "outputs": [
    {
     "data": {
      "text/html": [
       "<div>\n",
       "<style scoped>\n",
       "    .dataframe tbody tr th:only-of-type {\n",
       "        vertical-align: middle;\n",
       "    }\n",
       "\n",
       "    .dataframe tbody tr th {\n",
       "        vertical-align: top;\n",
       "    }\n",
       "\n",
       "    .dataframe thead th {\n",
       "        text-align: right;\n",
       "    }\n",
       "</style>\n",
       "<table border=\"1\" class=\"dataframe\">\n",
       "  <thead>\n",
       "    <tr style=\"text-align: right;\">\n",
       "      <th></th>\n",
       "      <th></th>\n",
       "      <th></th>\n",
       "      <th>n</th>\n",
       "      <th>cp</th>\n",
       "      <th>i</th>\n",
       "    </tr>\n",
       "    <tr>\n",
       "      <th>w0</th>\n",
       "      <th>w1</th>\n",
       "      <th>w2</th>\n",
       "      <th></th>\n",
       "      <th></th>\n",
       "      <th></th>\n",
       "    </tr>\n",
       "  </thead>\n",
       "  <tbody>\n",
       "    <tr>\n",
       "      <th rowspan=\"20\" valign=\"top\">&lt;s&gt;</th>\n",
       "      <th rowspan=\"20\" valign=\"top\">and</th>\n",
       "      <th>i</th>\n",
       "      <td>62</td>\n",
       "      <td>0.147268</td>\n",
       "      <td>2.763480</td>\n",
       "    </tr>\n",
       "    <tr>\n",
       "      <th>if</th>\n",
       "      <td>15</td>\n",
       "      <td>0.035629</td>\n",
       "      <td>4.810786</td>\n",
       "    </tr>\n",
       "    <tr>\n",
       "      <th>immediately</th>\n",
       "      <td>1</td>\n",
       "      <td>0.002375</td>\n",
       "      <td>8.717676</td>\n",
       "    </tr>\n",
       "    <tr>\n",
       "      <th>in</th>\n",
       "      <td>11</td>\n",
       "      <td>0.026128</td>\n",
       "      <td>5.258245</td>\n",
       "    </tr>\n",
       "    <tr>\n",
       "      <th>indeed</th>\n",
       "      <td>2</td>\n",
       "      <td>0.004751</td>\n",
       "      <td>7.717676</td>\n",
       "    </tr>\n",
       "    <tr>\n",
       "      <th>instead</th>\n",
       "      <td>2</td>\n",
       "      <td>0.004751</td>\n",
       "      <td>7.717676</td>\n",
       "    </tr>\n",
       "    <tr>\n",
       "      <th>it</th>\n",
       "      <td>8</td>\n",
       "      <td>0.019002</td>\n",
       "      <td>5.717676</td>\n",
       "    </tr>\n",
       "    <tr>\n",
       "      <th>leaning</th>\n",
       "      <td>1</td>\n",
       "      <td>0.002375</td>\n",
       "      <td>8.717676</td>\n",
       "    </tr>\n",
       "    <tr>\n",
       "      <th>like</th>\n",
       "      <td>1</td>\n",
       "      <td>0.002375</td>\n",
       "      <td>8.717676</td>\n",
       "    </tr>\n",
       "    <tr>\n",
       "      <th>may</th>\n",
       "      <td>1</td>\n",
       "      <td>0.002375</td>\n",
       "      <td>8.717676</td>\n",
       "    </tr>\n",
       "    <tr>\n",
       "      <th>my</th>\n",
       "      <td>18</td>\n",
       "      <td>0.042755</td>\n",
       "      <td>4.547751</td>\n",
       "    </tr>\n",
       "    <tr>\n",
       "      <th>no</th>\n",
       "      <td>1</td>\n",
       "      <td>0.002375</td>\n",
       "      <td>8.717676</td>\n",
       "    </tr>\n",
       "    <tr>\n",
       "      <th>not</th>\n",
       "      <td>1</td>\n",
       "      <td>0.002375</td>\n",
       "      <td>8.717676</td>\n",
       "    </tr>\n",
       "    <tr>\n",
       "      <th>now</th>\n",
       "      <td>11</td>\n",
       "      <td>0.026128</td>\n",
       "      <td>5.258245</td>\n",
       "    </tr>\n",
       "    <tr>\n",
       "      <th>often</th>\n",
       "      <td>1</td>\n",
       "      <td>0.002375</td>\n",
       "      <td>8.717676</td>\n",
       "    </tr>\n",
       "    <tr>\n",
       "      <th>oh</th>\n",
       "      <td>1</td>\n",
       "      <td>0.002375</td>\n",
       "      <td>8.717676</td>\n",
       "    </tr>\n",
       "    <tr>\n",
       "      <th>on</th>\n",
       "      <td>7</td>\n",
       "      <td>0.016627</td>\n",
       "      <td>5.910322</td>\n",
       "    </tr>\n",
       "    <tr>\n",
       "      <th>once</th>\n",
       "      <td>3</td>\n",
       "      <td>0.007126</td>\n",
       "      <td>7.132714</td>\n",
       "    </tr>\n",
       "    <tr>\n",
       "      <th>one</th>\n",
       "      <td>1</td>\n",
       "      <td>0.002375</td>\n",
       "      <td>8.717676</td>\n",
       "    </tr>\n",
       "    <tr>\n",
       "      <th>partly</th>\n",
       "      <td>1</td>\n",
       "      <td>0.002375</td>\n",
       "      <td>8.717676</td>\n",
       "    </tr>\n",
       "  </tbody>\n",
       "</table>\n",
       "</div>"
      ],
      "text/plain": [
       "                      n        cp         i\n",
       "w0  w1  w2                                 \n",
       "<s> and i            62  0.147268  2.763480\n",
       "        if           15  0.035629  4.810786\n",
       "        immediately   1  0.002375  8.717676\n",
       "        in           11  0.026128  5.258245\n",
       "        indeed        2  0.004751  7.717676\n",
       "        instead       2  0.004751  7.717676\n",
       "        it            8  0.019002  5.717676\n",
       "        leaning       1  0.002375  8.717676\n",
       "        like          1  0.002375  8.717676\n",
       "        may           1  0.002375  8.717676\n",
       "        my           18  0.042755  4.547751\n",
       "        no            1  0.002375  8.717676\n",
       "        not           1  0.002375  8.717676\n",
       "        now          11  0.026128  5.258245\n",
       "        often         1  0.002375  8.717676\n",
       "        oh            1  0.002375  8.717676\n",
       "        on            7  0.016627  5.910322\n",
       "        once          3  0.007126  7.132714\n",
       "        one           1  0.002375  8.717676\n",
       "        partly        1  0.002375  8.717676"
      ]
     },
     "execution_count": 74,
     "metadata": {},
     "output_type": "execute_result"
    }
   ],
   "source": [
    "M[2].iloc[200:220]"
   ]
  },
  {
   "cell_type": "markdown",
   "id": "89db052f-091c-4ab3-b80f-1133325ba9b8",
   "metadata": {},
   "source": [
    "## Part 3: The Questions"
   ]
  },
  {
   "cell_type": "markdown",
   "id": "f5f9719e-a475-4b1e-ba0d-79f76b1d8cfe",
   "metadata": {},
   "source": [
    "### Q1: what are six words that precede 'monster'?"
   ]
  },
  {
   "cell_type": "code",
   "execution_count": 78,
   "id": "2db75060-d099-43f3-b7bd-c02cd6e6bae2",
   "metadata": {
    "tags": []
   },
   "outputs": [
    {
     "data": {
      "text/html": [
       "<div>\n",
       "<style scoped>\n",
       "    .dataframe tbody tr th:only-of-type {\n",
       "        vertical-align: middle;\n",
       "    }\n",
       "\n",
       "    .dataframe tbody tr th {\n",
       "        vertical-align: top;\n",
       "    }\n",
       "\n",
       "    .dataframe thead th {\n",
       "        text-align: right;\n",
       "    }\n",
       "</style>\n",
       "<table border=\"1\" class=\"dataframe\">\n",
       "  <thead>\n",
       "    <tr style=\"text-align: right;\">\n",
       "      <th></th>\n",
       "      <th></th>\n",
       "      <th>n</th>\n",
       "      <th>cp</th>\n",
       "      <th>i</th>\n",
       "    </tr>\n",
       "    <tr>\n",
       "      <th>w0</th>\n",
       "      <th>w1</th>\n",
       "      <th></th>\n",
       "      <th></th>\n",
       "      <th></th>\n",
       "    </tr>\n",
       "  </thead>\n",
       "  <tbody>\n",
       "    <tr>\n",
       "      <th>&lt;s&gt;</th>\n",
       "      <th>monster</th>\n",
       "      <td>1</td>\n",
       "      <td>0.000193</td>\n",
       "      <td>12.336507</td>\n",
       "    </tr>\n",
       "    <tr>\n",
       "      <th>a</th>\n",
       "      <th>monster</th>\n",
       "      <td>3</td>\n",
       "      <td>0.002141</td>\n",
       "      <td>8.867279</td>\n",
       "    </tr>\n",
       "    <tr>\n",
       "      <th>abhorred</th>\n",
       "      <th>monster</th>\n",
       "      <td>1</td>\n",
       "      <td>0.083333</td>\n",
       "      <td>3.584963</td>\n",
       "    </tr>\n",
       "    <tr>\n",
       "      <th>detestable</th>\n",
       "      <th>monster</th>\n",
       "      <td>1</td>\n",
       "      <td>0.500000</td>\n",
       "      <td>1.000000</td>\n",
       "    </tr>\n",
       "    <tr>\n",
       "      <th>gigantic</th>\n",
       "      <th>monster</th>\n",
       "      <td>1</td>\n",
       "      <td>0.166667</td>\n",
       "      <td>2.584963</td>\n",
       "    </tr>\n",
       "    <tr>\n",
       "      <th>hellish</th>\n",
       "      <th>monster</th>\n",
       "      <td>1</td>\n",
       "      <td>0.142857</td>\n",
       "      <td>2.807355</td>\n",
       "    </tr>\n",
       "    <tr>\n",
       "      <th>hideous</th>\n",
       "      <th>monster</th>\n",
       "      <td>1</td>\n",
       "      <td>0.090909</td>\n",
       "      <td>3.459432</td>\n",
       "    </tr>\n",
       "    <tr>\n",
       "      <th>miserable</th>\n",
       "      <th>monster</th>\n",
       "      <td>1</td>\n",
       "      <td>0.015385</td>\n",
       "      <td>6.022368</td>\n",
       "    </tr>\n",
       "    <tr>\n",
       "      <th>the</th>\n",
       "      <th>monster</th>\n",
       "      <td>20</td>\n",
       "      <td>0.004708</td>\n",
       "      <td>7.730640</td>\n",
       "    </tr>\n",
       "    <tr>\n",
       "      <th>this</th>\n",
       "      <th>monster</th>\n",
       "      <td>1</td>\n",
       "      <td>0.002463</td>\n",
       "      <td>8.665336</td>\n",
       "    </tr>\n",
       "  </tbody>\n",
       "</table>\n",
       "</div>"
      ],
      "text/plain": [
       "                     n        cp          i\n",
       "w0         w1                              \n",
       "<s>        monster   1  0.000193  12.336507\n",
       "a          monster   3  0.002141   8.867279\n",
       "abhorred   monster   1  0.083333   3.584963\n",
       "detestable monster   1  0.500000   1.000000\n",
       "gigantic   monster   1  0.166667   2.584963\n",
       "hellish    monster   1  0.142857   2.807355\n",
       "hideous    monster   1  0.090909   3.459432\n",
       "miserable  monster   1  0.015385   6.022368\n",
       "the        monster  20  0.004708   7.730640\n",
       "this       monster   1  0.002463   8.665336"
      ]
     },
     "execution_count": 78,
     "metadata": {},
     "output_type": "execute_result"
    }
   ],
   "source": [
    "# using the bigram model, querying the second word (w1)\n",
    "query_1 = M[1].query('w1==\"monster\"')\n",
    "query_1"
   ]
  },
  {
   "cell_type": "markdown",
   "id": "75319183-af18-4812-bbba-2d882f022a46",
   "metadata": {},
   "source": [
    "I could get a bit more creative and extract the words in `w0`, but I think writing it out will suffice. There appear to be only 6 words that are not stop words or sentence boundary markers that precede \"monster\": **\"abhorred\", \"detestable\", \"gigantic\", \"hellish\", \"hideous\", and \"miserable\".** The poor guy."
   ]
  },
  {
   "cell_type": "markdown",
   "id": "9b46c0f3-2bc8-403b-b1c3-9ca2868aea15",
   "metadata": {},
   "source": [
    "### Q2: List the following sentences in order of bigram perplexity:\n",
    "\n",
    "`The monster is on the ice.`\n",
    "\n",
    "`Flowers are happy things.`\n",
    "\n",
    "`I have never seen the aurora borealis.`\n",
    "\n",
    "`He never knew the love of a family.`"
   ]
  },
  {
   "cell_type": "code",
   "execution_count": 80,
   "id": "8f2f90a3-4c0e-4aa2-b6ad-448250aaf4d1",
   "metadata": {
    "tags": []
   },
   "outputs": [],
   "source": [
    "def sentence_to_token(sent_list, file=True):\n",
    "    \n",
    "    # Convert list of sentences to dataframe\n",
    "    if file:\n",
    "        S = pd.read_csv(\"test_sentences.txt\", header=None, names=['sent_str'])\n",
    "    else:\n",
    "        S = pd.DataFrame(sent_list, columns=['sent_str'])\n",
    "    S.index.name = 'sent_num'\n",
    "    \n",
    "    # Convert dataframe of sentences to TOKEN with normalized terms\n",
    "    K = S.sent_str.apply(lambda x: pd.Series(x.split())).stack().to_frame('token_str')\n",
    "    K['term_str'] = K.token_str.str.replace(r\"[\\W_]+\", \"\", regex=True).str.lower()\n",
    "    K.index.names = ['sent_num', 'token_num']\n",
    "    \n",
    "    return S, K"
   ]
  },
  {
   "cell_type": "code",
   "execution_count": 82,
   "id": "d9000e0e-3dbe-4e5a-a1fb-8b1aae9e2888",
   "metadata": {
    "tags": []
   },
   "outputs": [
    {
     "data": {
      "text/html": [
       "<div>\n",
       "<style scoped>\n",
       "    .dataframe tbody tr th:only-of-type {\n",
       "        vertical-align: middle;\n",
       "    }\n",
       "\n",
       "    .dataframe tbody tr th {\n",
       "        vertical-align: top;\n",
       "    }\n",
       "\n",
       "    .dataframe thead th {\n",
       "        text-align: right;\n",
       "    }\n",
       "</style>\n",
       "<table border=\"1\" class=\"dataframe\">\n",
       "  <thead>\n",
       "    <tr style=\"text-align: right;\">\n",
       "      <th></th>\n",
       "      <th>sent_str</th>\n",
       "    </tr>\n",
       "    <tr>\n",
       "      <th>sent_num</th>\n",
       "      <th></th>\n",
       "    </tr>\n",
       "  </thead>\n",
       "  <tbody>\n",
       "    <tr>\n",
       "      <th>0</th>\n",
       "      <td>The monster is on the ice.</td>\n",
       "    </tr>\n",
       "    <tr>\n",
       "      <th>1</th>\n",
       "      <td>Flowers are happy things.</td>\n",
       "    </tr>\n",
       "    <tr>\n",
       "      <th>2</th>\n",
       "      <td>I have never seen the aurora borealis.</td>\n",
       "    </tr>\n",
       "    <tr>\n",
       "      <th>3</th>\n",
       "      <td>He never knew the love of a family.</td>\n",
       "    </tr>\n",
       "  </tbody>\n",
       "</table>\n",
       "</div>"
      ],
      "text/plain": [
       "                                        sent_str\n",
       "sent_num                                        \n",
       "0                     The monster is on the ice.\n",
       "1                      Flowers are happy things.\n",
       "2         I have never seen the aurora borealis.\n",
       "3            He never knew the love of a family."
      ]
     },
     "execution_count": 82,
     "metadata": {},
     "output_type": "execute_result"
    }
   ],
   "source": [
    "sents = ['The monster is on the ice.',\n",
    "         'Flowers are happy things.', \n",
    "         'I have never seen the aurora borealis.',\n",
    "         'He never knew the love of a family.']\n",
    "TEST_SENTS, TEST_TOKENS = sentence_to_token(sents, file=False)\n",
    "TEST_SENTS"
   ]
  },
  {
   "cell_type": "code",
   "execution_count": 84,
   "id": "c3741a87-f0c8-47a1-a705-318cb8922b4f",
   "metadata": {
    "tags": []
   },
   "outputs": [
    {
     "data": {
      "text/html": [
       "<div>\n",
       "<style scoped>\n",
       "    .dataframe tbody tr th:only-of-type {\n",
       "        vertical-align: middle;\n",
       "    }\n",
       "\n",
       "    .dataframe tbody tr th {\n",
       "        vertical-align: top;\n",
       "    }\n",
       "\n",
       "    .dataframe thead th {\n",
       "        text-align: right;\n",
       "    }\n",
       "</style>\n",
       "<table border=\"1\" class=\"dataframe\">\n",
       "  <thead>\n",
       "    <tr style=\"text-align: right;\">\n",
       "      <th></th>\n",
       "      <th></th>\n",
       "      <th>term_str</th>\n",
       "    </tr>\n",
       "    <tr>\n",
       "      <th>sent_num</th>\n",
       "      <th>token_num</th>\n",
       "      <th></th>\n",
       "    </tr>\n",
       "  </thead>\n",
       "  <tbody>\n",
       "    <tr>\n",
       "      <th rowspan=\"5\" valign=\"top\">0</th>\n",
       "      <th>0</th>\n",
       "      <td>&lt;s&gt;</td>\n",
       "    </tr>\n",
       "    <tr>\n",
       "      <th>1</th>\n",
       "      <td>the</td>\n",
       "    </tr>\n",
       "    <tr>\n",
       "      <th>2</th>\n",
       "      <td>monster</td>\n",
       "    </tr>\n",
       "    <tr>\n",
       "      <th>3</th>\n",
       "      <td>is</td>\n",
       "    </tr>\n",
       "    <tr>\n",
       "      <th>4</th>\n",
       "      <td>on</td>\n",
       "    </tr>\n",
       "  </tbody>\n",
       "</table>\n",
       "</div>"
      ],
      "text/plain": [
       "                   term_str\n",
       "sent_num token_num         \n",
       "0        0              <s>\n",
       "         1              the\n",
       "         2          monster\n",
       "         3               is\n",
       "         4               on"
      ]
     },
     "execution_count": 84,
     "metadata": {},
     "output_type": "execute_result"
    }
   ],
   "source": [
    "TEST_PADDED = token_to_padded(TEST_TOKENS)\n",
    "TEST_PADDED.head()"
   ]
  },
  {
   "cell_type": "code",
   "execution_count": 85,
   "id": "1c245611-5dc6-4dc0-9346-bea8ad1b9a39",
   "metadata": {
    "tags": []
   },
   "outputs": [],
   "source": [
    "TEST_NGRAMS = padded_to_ngrams(TEST_PADDED, 'sent_num', ngrams)"
   ]
  },
  {
   "cell_type": "code",
   "execution_count": 86,
   "id": "4de64d1c-8ea7-4d0c-b269-c271280fb2fd",
   "metadata": {
    "tags": []
   },
   "outputs": [],
   "source": [
    "def test_model(model, ngrams, sents):\n",
    "    \n",
    "    global widx\n",
    "    \n",
    "    assert len(model) == len(ngrams.columns)\n",
    "    \n",
    "    n = len(model)\n",
    "    ohco = ngrams.index.names\n",
    "    \n",
    "    R = []\n",
    "    for i in range(n):\n",
    "        T = ngrams.merge(M[i], on=widx[:i+1], how='left')\n",
    "        T.index = ngrams.index\n",
    "        T = T.reset_index().set_index(ohco + widx).i #.to_frame(f\"i{i}\")\n",
    "        \n",
    "        # This how we handle unseen combos\n",
    "        T[T.isna()] = T.max()\n",
    "        R.append(T.to_frame(f\"i{i}\"))\n",
    "                \n",
    "    return pd.concat(R, axis=1)"
   ]
  },
  {
   "cell_type": "code",
   "execution_count": 87,
   "id": "2323376f-e829-45bb-b955-c6ace515c5a9",
   "metadata": {
    "tags": []
   },
   "outputs": [],
   "source": [
    "R = test_model(M,TEST_NGRAMS, TEST_SENTS)"
   ]
  },
  {
   "cell_type": "code",
   "execution_count": 88,
   "id": "1b58ae10-35d2-45f8-8fde-f2ddccff8202",
   "metadata": {
    "tags": []
   },
   "outputs": [],
   "source": [
    "def compute_perplexity(results, test_sents, n=3):\n",
    "    for i in range(n):\n",
    "        test_sents[f\"pp{i}\"] = np.exp2(results.groupby('sent_num')[f\"i{i}\"].mean())\n",
    "    return test_sents"
   ]
  },
  {
   "cell_type": "code",
   "execution_count": 89,
   "id": "05c697f6-ea05-4194-b805-ad762ff233d8",
   "metadata": {
    "tags": []
   },
   "outputs": [
    {
     "data": {
      "text/html": [
       "<div>\n",
       "<style scoped>\n",
       "    .dataframe tbody tr th:only-of-type {\n",
       "        vertical-align: middle;\n",
       "    }\n",
       "\n",
       "    .dataframe tbody tr th {\n",
       "        vertical-align: top;\n",
       "    }\n",
       "\n",
       "    .dataframe thead th {\n",
       "        text-align: right;\n",
       "    }\n",
       "</style>\n",
       "<table border=\"1\" class=\"dataframe\">\n",
       "  <thead>\n",
       "    <tr style=\"text-align: right;\">\n",
       "      <th></th>\n",
       "      <th>sent_str</th>\n",
       "      <th>pp0</th>\n",
       "      <th>pp1</th>\n",
       "      <th>pp2</th>\n",
       "    </tr>\n",
       "    <tr>\n",
       "      <th>sent_num</th>\n",
       "      <th></th>\n",
       "      <th></th>\n",
       "      <th></th>\n",
       "      <th></th>\n",
       "    </tr>\n",
       "  </thead>\n",
       "  <tbody>\n",
       "    <tr>\n",
       "      <th>0</th>\n",
       "      <td>The monster is on the ice.</td>\n",
       "      <td>116.015855</td>\n",
       "      <td>81.183632</td>\n",
       "      <td>70.041494</td>\n",
       "    </tr>\n",
       "    <tr>\n",
       "      <th>1</th>\n",
       "      <td>Flowers are happy things.</td>\n",
       "      <td>590.254971</td>\n",
       "      <td>538.146514</td>\n",
       "      <td>187.000000</td>\n",
       "    </tr>\n",
       "    <tr>\n",
       "      <th>2</th>\n",
       "      <td>I have never seen the aurora borealis.</td>\n",
       "      <td>341.992368</td>\n",
       "      <td>139.094175</td>\n",
       "      <td>82.690599</td>\n",
       "    </tr>\n",
       "    <tr>\n",
       "      <th>3</th>\n",
       "      <td>He never knew the love of a family.</td>\n",
       "      <td>171.277620</td>\n",
       "      <td>137.566400</td>\n",
       "      <td>65.905218</td>\n",
       "    </tr>\n",
       "  </tbody>\n",
       "</table>\n",
       "</div>"
      ],
      "text/plain": [
       "                                        sent_str         pp0         pp1  \\\n",
       "sent_num                                                                   \n",
       "0                     The monster is on the ice.  116.015855   81.183632   \n",
       "1                      Flowers are happy things.  590.254971  538.146514   \n",
       "2         I have never seen the aurora borealis.  341.992368  139.094175   \n",
       "3            He never knew the love of a family.  171.277620  137.566400   \n",
       "\n",
       "                 pp2  \n",
       "sent_num              \n",
       "0          70.041494  \n",
       "1         187.000000  \n",
       "2          82.690599  \n",
       "3          65.905218  "
      ]
     },
     "execution_count": 89,
     "metadata": {},
     "output_type": "execute_result"
    }
   ],
   "source": [
    "PP = compute_perplexity(R, TEST_SENTS)\n",
    "PP"
   ]
  },
  {
   "cell_type": "code",
   "execution_count": 93,
   "id": "14058d7e-3c7a-4d37-b289-528e7990a95f",
   "metadata": {
    "tags": []
   },
   "outputs": [
    {
     "data": {
      "text/plain": [
       "sent_num\n",
       "0                The monster is on the ice.\n",
       "3       He never knew the love of a family.\n",
       "2    I have never seen the aurora borealis.\n",
       "1                 Flowers are happy things.\n",
       "Name: sent_str, dtype: object"
      ]
     },
     "execution_count": 93,
     "metadata": {},
     "output_type": "execute_result"
    }
   ],
   "source": [
    "PP.sort_values('pp1', ascending=True)['sent_str']"
   ]
  },
  {
   "cell_type": "markdown",
   "id": "38d72d67-a795-438a-92ad-008c4302bb2b",
   "metadata": {},
   "source": [
    "### Q3: Exploring relationships between bigram pairs"
   ]
  },
  {
   "cell_type": "code",
   "execution_count": 99,
   "id": "6b7ce401-1c45-4b18-b03d-ffde39ca169e",
   "metadata": {
    "tags": []
   },
   "outputs": [
    {
     "data": {
      "text/html": [
       "<div>\n",
       "<style scoped>\n",
       "    .dataframe tbody tr th:only-of-type {\n",
       "        vertical-align: middle;\n",
       "    }\n",
       "\n",
       "    .dataframe tbody tr th {\n",
       "        vertical-align: top;\n",
       "    }\n",
       "\n",
       "    .dataframe thead th {\n",
       "        text-align: right;\n",
       "    }\n",
       "</style>\n",
       "<table border=\"1\" class=\"dataframe\">\n",
       "  <thead>\n",
       "    <tr style=\"text-align: right;\">\n",
       "      <th></th>\n",
       "      <th></th>\n",
       "      <th>n</th>\n",
       "      <th>cp</th>\n",
       "      <th>i</th>\n",
       "    </tr>\n",
       "    <tr>\n",
       "      <th>w0</th>\n",
       "      <th>w1</th>\n",
       "      <th></th>\n",
       "      <th></th>\n",
       "      <th></th>\n",
       "    </tr>\n",
       "  </thead>\n",
       "  <tbody>\n",
       "    <tr>\n",
       "      <th>1</th>\n",
       "      <th>&lt;/s&gt;</th>\n",
       "      <td>2</td>\n",
       "      <td>1.0</td>\n",
       "      <td>0.0</td>\n",
       "    </tr>\n",
       "    <tr>\n",
       "      <th rowspan=\"2\" valign=\"top\">11th</th>\n",
       "      <th>17</th>\n",
       "      <td>1</td>\n",
       "      <td>0.5</td>\n",
       "      <td>1.0</td>\n",
       "    </tr>\n",
       "    <tr>\n",
       "      <th>the</th>\n",
       "      <td>1</td>\n",
       "      <td>0.5</td>\n",
       "      <td>1.0</td>\n",
       "    </tr>\n",
       "    <tr>\n",
       "      <th rowspan=\"2\" valign=\"top\">12th</th>\n",
       "      <th>17</th>\n",
       "      <td>1</td>\n",
       "      <td>0.5</td>\n",
       "      <td>1.0</td>\n",
       "    </tr>\n",
       "    <tr>\n",
       "      <th>&lt;/s&gt;</th>\n",
       "      <td>1</td>\n",
       "      <td>0.5</td>\n",
       "      <td>1.0</td>\n",
       "    </tr>\n",
       "  </tbody>\n",
       "</table>\n",
       "</div>"
      ],
      "text/plain": [
       "           n   cp    i\n",
       "w0   w1               \n",
       "1    </s>  2  1.0  0.0\n",
       "11th 17    1  0.5  1.0\n",
       "     the   1  0.5  1.0\n",
       "12th 17    1  0.5  1.0\n",
       "     </s>  1  0.5  1.0"
      ]
     },
     "execution_count": 99,
     "metadata": {},
     "output_type": "execute_result"
    }
   ],
   "source": [
    "M[1].head()"
   ]
  },
  {
   "cell_type": "code",
   "execution_count": 101,
   "id": "3f081ec2-af41-42e1-b270-24d91bbfd4ce",
   "metadata": {
    "tags": []
   },
   "outputs": [
    {
     "data": {
      "text/html": [
       "<div>\n",
       "<style scoped>\n",
       "    .dataframe tbody tr th:only-of-type {\n",
       "        vertical-align: middle;\n",
       "    }\n",
       "\n",
       "    .dataframe tbody tr th {\n",
       "        vertical-align: top;\n",
       "    }\n",
       "\n",
       "    .dataframe thead th {\n",
       "        text-align: right;\n",
       "    }\n",
       "</style>\n",
       "<table border=\"1\" class=\"dataframe\">\n",
       "  <thead>\n",
       "    <tr style=\"text-align: right;\">\n",
       "      <th>w1</th>\n",
       "      <th>said</th>\n",
       "      <th>heard</th>\n",
       "    </tr>\n",
       "    <tr>\n",
       "      <th>w0</th>\n",
       "      <th></th>\n",
       "      <th></th>\n",
       "    </tr>\n",
       "  </thead>\n",
       "  <tbody>\n",
       "    <tr>\n",
       "      <th>he</th>\n",
       "      <td>21.0</td>\n",
       "      <td>5.0</td>\n",
       "    </tr>\n",
       "    <tr>\n",
       "      <th>she</th>\n",
       "      <td>3.0</td>\n",
       "      <td>3.0</td>\n",
       "    </tr>\n",
       "  </tbody>\n",
       "</table>\n",
       "</div>"
      ],
      "text/plain": [
       "w1   said  heard\n",
       "w0              \n",
       "he   21.0    5.0\n",
       "she   3.0    3.0"
      ]
     },
     "execution_count": 101,
     "metadata": {},
     "output_type": "execute_result"
    }
   ],
   "source": [
    "# M[1]['n'].unstack()\n",
    "mat = M[1]['n'].unstack()\n",
    "mat.loc[['he','she'],['said','heard']]"
   ]
  },
  {
   "cell_type": "markdown",
   "id": "0fac5188-de48-4bed-9920-2e161ab5d447",
   "metadata": {},
   "source": [
    "So, more males than females in the text, and males are often talking than listening in terms of relative percentages (21/26 for males versus 3/6 for females). But it is a fairly small sample size, particularly for females."
   ]
  },
  {
   "cell_type": "markdown",
   "id": "15797d18-a5fb-4155-b09d-8d639936fdd3",
   "metadata": {},
   "source": [
    "### Q4: Generate 20 sentences"
   ]
  },
  {
   "cell_type": "code",
   "execution_count": 116,
   "id": "3ac85429-0795-4508-83ec-e92916bc6f91",
   "metadata": {
    "tags": []
   },
   "outputs": [],
   "source": [
    "def generate_text(M, n=250):\n",
    "    \n",
    "    if len(M) < 3:\n",
    "        raise ValueError(\"Must have trigram model generated.\")\n",
    "    \n",
    "    # Start list of words\n",
    "    first_word = M[1].loc['<s>'].sample(weights='cp').index[0]\n",
    "    \n",
    "    words = ['<s>', first_word]\n",
    "    \n",
    "    for i in range(n):\n",
    "        \n",
    "        bg = tuple(words[-2:])\n",
    "\n",
    "        # Try trigram model\n",
    "        try:\n",
    "            next_word = M[2].loc[bg].sample(weights='cp').index[0]\n",
    "\n",
    "        # If not found in model, back off ...\n",
    "        except KeyError as e1:\n",
    "            try:\n",
    "                # Get the last word in the bigram\n",
    "                ug = bg[1]\n",
    "                next_word = M[1].loc[ug].sample(weights='cp').index[0]\n",
    "            \n",
    "            except KeyError as e2:\n",
    "                next_word = M[0].sample(weights='p').index[0]\n",
    "                \n",
    "        words.append(next_word)\n",
    "    \n",
    "    \n",
    "    text = ' '.join(words[2:])\n",
    "    return text"
   ]
  },
  {
   "cell_type": "code",
   "execution_count": 117,
   "id": "9489fefe-5bf0-4808-87fa-cd7442658b5e",
   "metadata": {
    "tags": []
   },
   "outputs": [],
   "source": [
    "# setting seed seems to do nothing here. it generates different things each time\n",
    "# so what we're gonna do is edit generate_text() to return `text`\n",
    "# then make the text too long and then cut it\n",
    "text = generate_text(M, 400)"
   ]
  },
  {
   "cell_type": "code",
   "execution_count": 118,
   "id": "29954c3e-c383-4c42-899a-0ceb4a4696a2",
   "metadata": {
    "tags": []
   },
   "outputs": [
    {
     "name": "stdout",
     "output_type": "stream",
     "text": [
      "1 MEANS OF EXTRACTING IT\n",
      "\n",
      "2 ME AND NOW THAT FALSEHOOD LIES HEAVIER AT MY FEET\n",
      "\n",
      "3 CONCERNING MY STUDIES DISCONTENTED AND UNSATISFIED\n",
      "\n",
      "4 \n",
      "\n",
      "5 NOT KNOW THE NAMES THAT WERE BEGINNING TO CONJECTURE THAT SOME FORTUNATE CHANCE HAD INTERVENED TO PREVENT HER\n",
      "\n",
      "6 LIFE AND FIXED THEMSELVES IN THEIR SECONDARY AND TERTIARY GRADES WERE UTTERLY UNKNOWN TO THEM BEEN FOR EVER\n",
      "\n",
      "7 OF THEMSELVES YOU KNOW NOT WHETHER THE RESULT OF MY BEING IS WOUND TO ITS CLOSE\n",
      "\n",
      "8 PURSUE AND DESTROY THE SAVIOUR OF HIS MACHINATIONS\n",
      "\n",
      "9 ALTHOUGH UNHAPPY HE IS THUS NOBLE AND GODLIKE\n",
      "\n",
      "10 A TINGLING LONG LOST SENSE OF MORTAL AGONY CREPT OVER ME AND MY VIRTUES WILL NECESSARILY ARISE WHEN I NEED NOT HAVE BEEN PASSED IN CONSIDERABLE SECLUSION\n",
      "\n",
      "11 WAFTED TO A HEAVY STORM OF RAIN DESCENDED\n",
      "\n",
      "12 HER MOTHER WAS DEAD BUT WE ARRIVED IN A DETERMINATION OF NOT CREATING YOU A COMPANION IN THE WORKS OF THE DEED\n",
      "\n",
      "13 AT LENGTH HID AND I CEASED TO REMONSTRATE\n",
      "\n",
      "14 \n",
      "\n",
      "15 ASCERTAINING THE SECRET TO ELIZABETH THIS STRUGGLE MAY OCCASION THE POIGNANT MISERY WHICH NOTHING BUT LET US TRY OUR STRENGTH IN A CHEERFUL ACCENT AND THE GLENS OF THE OLD MAN AT SOME DISTANCE ADVANCING TOWARDS ME FOR THE NIGHT ADVANCED A FIERCE WIND AROSE FROM THE CHARACTER AND SITUATION OF MY FRIEND COULD IN NO WAY BE AN IMPEDIMENT AND TRULY I REJOICED THAT THUS I RELIEVE THEE MY CREATOR BUT I LEARNED FROM YOUR LIPS\n",
      "\n",
      "16 \n",
      "\n",
      "17 TO ENSLAVE IT\n",
      "\n",
      "18 THE TERMS OF HER MEDICAL ATTENDANTS PROGNOSTICATED THE WORST\n",
      "\n",
      "19 DEATH\n",
      "\n",
      "20 PRECEDED MY CREATION AND THIS EXERTION GREATLY FATIGUED ME\n"
     ]
    }
   ],
   "source": [
    "print('\\n\\n'.join([str(i+1) + ' ' + line.replace('<s>','')\\\n",
    "    .strip().upper() for i, line in enumerate(text.split('</s>')) if i < 20]))"
   ]
  },
  {
   "cell_type": "markdown",
   "id": "ddf0fb5b-90e0-4bbb-a566-2ca284ed184c",
   "metadata": {},
   "source": [
    "There are a couple of blank lines, but this seems altogether acceptable."
   ]
  },
  {
   "cell_type": "markdown",
   "id": "c3f6ca3a-31ed-4bc9-89d0-4c41e4b8713a",
   "metadata": {},
   "source": [
    "### Q5: Compute the redundancy *R* for each of the n-gram models"
   ]
  },
  {
   "cell_type": "markdown",
   "id": "2bc4a01e-f38e-4ccd-ad04-916adfdfceed",
   "metadata": {},
   "source": [
    "We know that $log{\\frac{1}{x}} = -log{x}$. So, I think that all I need to do to calculate H for each is this:"
   ]
  },
  {
   "cell_type": "code",
   "execution_count": 135,
   "id": "b1239cfb-f550-4cff-8b64-9642e49f8446",
   "metadata": {
    "tags": []
   },
   "outputs": [],
   "source": [
    "def find_entropy(model, unigram=True):\n",
    "    # unigram is to signify whether unigram or bi/tri\n",
    "    if unigram == False:\n",
    "        mle = model['n'] / model['n'].sum()\n",
    "    else:\n",
    "        mle = model['p']\n",
    "    entropy = -np.sum(mle*np.log2(mle))\n",
    "    return entropy"
   ]
  },
  {
   "cell_type": "code",
   "execution_count": 136,
   "id": "4d9dc0a4-1fbf-4035-a0eb-a6224c9a6428",
   "metadata": {
    "tags": []
   },
   "outputs": [],
   "source": [
    "H_uni = find_entropy(M[0])\n",
    "H_bi = find_entropy(M[1], False)\n",
    "H_tri = find_entropy(M[2], False)"
   ]
  },
  {
   "cell_type": "code",
   "execution_count": 137,
   "id": "10256c2a-1050-4b51-a60a-2c4c7c5bd0dd",
   "metadata": {
    "tags": []
   },
   "outputs": [],
   "source": [
    "Hmax_uni = np.log2(len(M[0].index))\n",
    "Hmax_bi = np.log2(len(M[0].index) ** 2)\n",
    "Hmax_tri = np.log2(len(M[0].index) ** 3)"
   ]
  },
  {
   "cell_type": "code",
   "execution_count": 138,
   "id": "8e0d5cc1-c1e3-4c3a-bf98-091d6bd76448",
   "metadata": {
    "tags": []
   },
   "outputs": [],
   "source": [
    "R_uni = 1 - (H_uni / Hmax_uni)\n",
    "R_bi = 1 - (H_bi / Hmax_bi)\n",
    "R_tri = 1 - (H_tri / Hmax_tri)"
   ]
  },
  {
   "cell_type": "code",
   "execution_count": 139,
   "id": "9577dfe8-0358-4f33-8406-670f494752f9",
   "metadata": {
    "tags": []
   },
   "outputs": [
    {
     "data": {
      "text/plain": [
       "(0.3085563849837749, 0.44661619331888225, 0.5876206389812256)"
      ]
     },
     "execution_count": 139,
     "metadata": {},
     "output_type": "execute_result"
    }
   ],
   "source": [
    "R_uni, R_bi, R_tri"
   ]
  },
  {
   "cell_type": "markdown",
   "id": "236eea2e-bdb0-449f-a4db-2e614016b4cd",
   "metadata": {},
   "source": [
    "*R* appears to increase as the choice of n-gram increases in length. This makes sense given what we know - the unigram model will be the most random while, because every sentence that we used to create our model was written in the same style, that style will become more important for the bi- and tri-gram models."
   ]
  }
 ],
 "metadata": {
  "kernelspec": {
   "display_name": "Python 3 (ipykernel)",
   "language": "python",
   "name": "python3"
  },
  "language_info": {
   "codemirror_mode": {
    "name": "ipython",
    "version": 3
   },
   "file_extension": ".py",
   "mimetype": "text/x-python",
   "name": "python",
   "nbconvert_exporter": "python",
   "pygments_lexer": "ipython3",
   "version": "3.11.4"
  }
 },
 "nbformat": 4,
 "nbformat_minor": 5
}
