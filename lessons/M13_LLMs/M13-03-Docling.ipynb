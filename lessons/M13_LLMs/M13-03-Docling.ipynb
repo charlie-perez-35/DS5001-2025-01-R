{
 "cells": [
  {
   "cell_type": "markdown",
   "id": "203f5d5f-ef4d-4a66-af3a-bc7f1ac802e2",
   "metadata": {},
   "source": [
    "# Docling Demo\n",
    "\n",
    "DS 5001 Text as Data"
   ]
  },
  {
   "cell_type": "markdown",
   "id": "e9deec11-00df-4245-a331-39b10a3957c4",
   "metadata": {
    "editable": true,
    "slideshow": {
     "slide_type": ""
    },
    "tags": []
   },
   "source": [
    "See https://docling-project.github.io/docling/examples "
   ]
  },
  {
   "cell_type": "code",
   "execution_count": 1,
   "id": "a5017864-0464-449b-a667-b0191f673871",
   "metadata": {
    "editable": true,
    "slideshow": {
     "slide_type": ""
    },
    "tags": []
   },
   "outputs": [],
   "source": [
    "# !pip install docling"
   ]
  },
  {
   "cell_type": "markdown",
   "id": "3ded4c56-d399-4441-a502-893910b90551",
   "metadata": {
    "editable": true,
    "slideshow": {
     "slide_type": ""
    },
    "tags": []
   },
   "source": [
    "## Import Docling"
   ]
  },
  {
   "cell_type": "code",
   "execution_count": 2,
   "id": "10b2c4b3-c819-428e-a393-0e2b6e0db4fa",
   "metadata": {
    "editable": true,
    "slideshow": {
     "slide_type": ""
    },
    "tags": []
   },
   "outputs": [],
   "source": [
    "from docling.document_converter import DocumentConverter"
   ]
  },
  {
   "cell_type": "markdown",
   "id": "68636f38-d2d5-40ba-b3c8-4949c11e88d7",
   "metadata": {
    "editable": true,
    "slideshow": {
     "slide_type": ""
    },
    "tags": []
   },
   "source": [
    "## Initialize Converter"
   ]
  },
  {
   "cell_type": "code",
   "execution_count": null,
   "id": "f2953f31-634f-4304-86fc-25efe459c090",
   "metadata": {
    "editable": true,
    "slideshow": {
     "slide_type": ""
    },
    "tags": []
   },
   "outputs": [],
   "source": [
    "converter = DocumentConverter()"
   ]
  },
  {
   "cell_type": "markdown",
   "id": "011e3a60-a346-4319-904c-3ff80f7a3193",
   "metadata": {
    "editable": true,
    "slideshow": {
     "slide_type": ""
    },
    "tags": []
   },
   "source": [
    "## Import Sample PDF"
   ]
  },
  {
   "cell_type": "code",
   "execution_count": null,
   "id": "1f44e57d-428e-4d5b-a74f-f6d7dc20a77e",
   "metadata": {
    "editable": true,
    "slideshow": {
     "slide_type": ""
    },
    "tags": []
   },
   "outputs": [],
   "source": [
    "source = \"https://arxiv.org/pdf/2408.09869\"  # document per local path or URL"
   ]
  },
  {
   "cell_type": "code",
   "execution_count": null,
   "id": "360fbd9b-12b2-4e9f-b13a-e0e2384f7130",
   "metadata": {
    "editable": true,
    "slideshow": {
     "slide_type": ""
    },
    "tags": []
   },
   "outputs": [],
   "source": [
    "result = converter.convert(source)"
   ]
  },
  {
   "cell_type": "markdown",
   "id": "ab36afc3-68bf-40a0-bc5c-3e23494ef835",
   "metadata": {
    "editable": true,
    "slideshow": {
     "slide_type": ""
    },
    "tags": []
   },
   "source": [
    "## Export to Markdown"
   ]
  },
  {
   "cell_type": "code",
   "execution_count": null,
   "id": "6d66efb3-1ad4-4c68-a7d7-6e6033b91730",
   "metadata": {
    "editable": true,
    "slideshow": {
     "slide_type": ""
    },
    "tags": []
   },
   "outputs": [],
   "source": [
    "md = result.document.export_to_markdown()"
   ]
  },
  {
   "cell_type": "code",
   "execution_count": 8,
   "id": "b199f345-7e87-49ca-8c25-3f386ab1ea5c",
   "metadata": {
    "editable": true,
    "slideshow": {
     "slide_type": ""
    },
    "tags": []
   },
   "outputs": [],
   "source": [
    "with open('docling-report.md', 'w') as output:\n",
    "    output.write(md)"
   ]
  },
  {
   "cell_type": "markdown",
   "id": "0bf5c47d-89d7-46e5-84cd-c4c1ed3b1e3f",
   "metadata": {
    "editable": true,
    "slideshow": {
     "slide_type": ""
    },
    "tags": []
   },
   "source": [
    "## Extract Tables"
   ]
  },
  {
   "cell_type": "code",
   "execution_count": 27,
   "id": "57097998-2935-4b12-ba3b-8d0ab287b1bd",
   "metadata": {
    "editable": true,
    "slideshow": {
     "slide_type": ""
    },
    "tags": []
   },
   "outputs": [],
   "source": [
    "TABLE = [table.export_to_dataframe() for table in result.document.tables]"
   ]
  },
  {
   "cell_type": "code",
   "execution_count": 28,
   "id": "23b9282c-51c4-471e-b4fe-3678424b3c03",
   "metadata": {
    "editable": true,
    "slideshow": {
     "slide_type": ""
    },
    "tags": []
   },
   "outputs": [
    {
     "data": {
      "text/html": [
       "<div>\n",
       "<style scoped>\n",
       "    .dataframe tbody tr th:only-of-type {\n",
       "        vertical-align: middle;\n",
       "    }\n",
       "\n",
       "    .dataframe tbody tr th {\n",
       "        vertical-align: top;\n",
       "    }\n",
       "\n",
       "    .dataframe thead th {\n",
       "        text-align: right;\n",
       "    }\n",
       "</style>\n",
       "<table border=\"1\" class=\"dataframe\">\n",
       "  <thead>\n",
       "    <tr style=\"text-align: right;\">\n",
       "      <th></th>\n",
       "      <th>CPU.</th>\n",
       "      <th>Thread budget.</th>\n",
       "      <th>native backend.TTS</th>\n",
       "      <th>native backend.Pages/s</th>\n",
       "      <th>native backend.Mem</th>\n",
       "      <th>pypdfium backend.TTS</th>\n",
       "      <th>pypdfium backend.Pages/s</th>\n",
       "      <th>pypdfium backend.Mem</th>\n",
       "    </tr>\n",
       "  </thead>\n",
       "  <tbody>\n",
       "    <tr>\n",
       "      <th>0</th>\n",
       "      <td>Apple M3 Max</td>\n",
       "      <td>4</td>\n",
       "      <td>177 s 167 s</td>\n",
       "      <td>1.27 1.34</td>\n",
       "      <td>6.20 GB</td>\n",
       "      <td>103 s 92 s</td>\n",
       "      <td>2.18 2.45</td>\n",
       "      <td>2.56 GB</td>\n",
       "    </tr>\n",
       "    <tr>\n",
       "      <th>1</th>\n",
       "      <td>(16 cores) Intel(R) E5-2690</td>\n",
       "      <td>16 4 16</td>\n",
       "      <td>375 s 244 s</td>\n",
       "      <td>0.60 0.92</td>\n",
       "      <td>6.16 GB</td>\n",
       "      <td>239 s 143 s</td>\n",
       "      <td>0.94 1.57</td>\n",
       "      <td>2.42 GB</td>\n",
       "    </tr>\n",
       "  </tbody>\n",
       "</table>\n",
       "</div>"
      ],
      "text/plain": [
       "                          CPU. Thread budget. native backend.TTS  \\\n",
       "0                 Apple M3 Max              4        177 s 167 s   \n",
       "1  (16 cores) Intel(R) E5-2690        16 4 16        375 s 244 s   \n",
       "\n",
       "  native backend.Pages/s native backend.Mem pypdfium backend.TTS  \\\n",
       "0              1.27 1.34            6.20 GB           103 s 92 s   \n",
       "1              0.60 0.92            6.16 GB          239 s 143 s   \n",
       "\n",
       "  pypdfium backend.Pages/s pypdfium backend.Mem  \n",
       "0                2.18 2.45              2.56 GB  \n",
       "1                0.94 1.57              2.42 GB  "
      ]
     },
     "execution_count": 28,
     "metadata": {},
     "output_type": "execute_result"
    }
   ],
   "source": [
    "TABLE[0]"
   ]
  },
  {
   "cell_type": "code",
   "execution_count": 29,
   "id": "57912282-9d97-4ba0-a9e0-b1bccb998b76",
   "metadata": {
    "editable": true,
    "slideshow": {
     "slide_type": ""
    },
    "tags": []
   },
   "outputs": [
    {
     "data": {
      "text/html": [
       "<div>\n",
       "<style scoped>\n",
       "    .dataframe tbody tr th:only-of-type {\n",
       "        vertical-align: middle;\n",
       "    }\n",
       "\n",
       "    .dataframe tbody tr th {\n",
       "        vertical-align: top;\n",
       "    }\n",
       "\n",
       "    .dataframe thead th {\n",
       "        text-align: right;\n",
       "    }\n",
       "</style>\n",
       "<table border=\"1\" class=\"dataframe\">\n",
       "  <thead>\n",
       "    <tr style=\"text-align: right;\">\n",
       "      <th></th>\n",
       "      <th></th>\n",
       "      <th>human</th>\n",
       "      <th>MRCNN R50 R101</th>\n",
       "      <th>FRCNN R101</th>\n",
       "      <th>YOLO v5x6</th>\n",
       "    </tr>\n",
       "  </thead>\n",
       "  <tbody>\n",
       "    <tr>\n",
       "      <th>0</th>\n",
       "      <td>Caption Footnote Formula List-item Page-footer...</td>\n",
       "      <td>84-89 83-91 83-85 87-88 93-94 85-89 69-71 83-8...</td>\n",
       "      <td>68.4 71.5 70.9 71.8 60.1 63.4 81.2 80.8 61.6 5...</td>\n",
       "      <td>70.1 73.7 63.5 81.0 58.9 72.0 72.0 68.4 82.2 8...</td>\n",
       "      <td>77.7 77.2 66.2 86.2 61.1 67.9 77.1 74.6 86.3 8...</td>\n",
       "    </tr>\n",
       "  </tbody>\n",
       "</table>\n",
       "</div>"
      ],
      "text/plain": [
       "                                                      \\\n",
       "0  Caption Footnote Formula List-item Page-footer...   \n",
       "\n",
       "                                               human  \\\n",
       "0  84-89 83-91 83-85 87-88 93-94 85-89 69-71 83-8...   \n",
       "\n",
       "                                      MRCNN R50 R101  \\\n",
       "0  68.4 71.5 70.9 71.8 60.1 63.4 81.2 80.8 61.6 5...   \n",
       "\n",
       "                                          FRCNN R101  \\\n",
       "0  70.1 73.7 63.5 81.0 58.9 72.0 72.0 68.4 82.2 8...   \n",
       "\n",
       "                                           YOLO v5x6  \n",
       "0  77.7 77.2 66.2 86.2 61.1 67.9 77.1 74.6 86.3 8...  "
      ]
     },
     "execution_count": 29,
     "metadata": {},
     "output_type": "execute_result"
    }
   ],
   "source": [
    "TABLE[1]"
   ]
  },
  {
   "cell_type": "code",
   "execution_count": 30,
   "id": "bf3a74de-441a-42f9-a099-8cf54d24c8dd",
   "metadata": {
    "editable": true,
    "slideshow": {
     "slide_type": ""
    },
    "tags": []
   },
   "outputs": [
    {
     "data": {
      "text/html": [
       "<div>\n",
       "<style scoped>\n",
       "    .dataframe tbody tr th:only-of-type {\n",
       "        vertical-align: middle;\n",
       "    }\n",
       "\n",
       "    .dataframe tbody tr th {\n",
       "        vertical-align: top;\n",
       "    }\n",
       "\n",
       "    .dataframe thead th {\n",
       "        text-align: right;\n",
       "    }\n",
       "</style>\n",
       "<table border=\"1\" class=\"dataframe\">\n",
       "  <thead>\n",
       "    <tr style=\"text-align: right;\">\n",
       "      <th></th>\n",
       "    </tr>\n",
       "  </thead>\n",
       "  <tbody>\n",
       "  </tbody>\n",
       "</table>\n",
       "</div>"
      ],
      "text/plain": [
       "Empty DataFrame\n",
       "Columns: []\n",
       "Index: []"
      ]
     },
     "execution_count": 30,
     "metadata": {},
     "output_type": "execute_result"
    }
   ],
   "source": [
    "TABLE[2]"
   ]
  },
  {
   "cell_type": "code",
   "execution_count": 31,
   "id": "3f86f670-70a7-4656-9baf-fc5338d61159",
   "metadata": {
    "editable": true,
    "slideshow": {
     "slide_type": ""
    },
    "tags": []
   },
   "outputs": [
    {
     "data": {
      "text/html": [
       "<div>\n",
       "<style scoped>\n",
       "    .dataframe tbody tr th:only-of-type {\n",
       "        vertical-align: middle;\n",
       "    }\n",
       "\n",
       "    .dataframe tbody tr th {\n",
       "        vertical-align: top;\n",
       "    }\n",
       "\n",
       "    .dataframe thead th {\n",
       "        text-align: right;\n",
       "    }\n",
       "</style>\n",
       "<table border=\"1\" class=\"dataframe\">\n",
       "  <thead>\n",
       "    <tr style=\"text-align: right;\">\n",
       "      <th></th>\n",
       "      <th>class label.class label</th>\n",
       "      <th>Count.Count</th>\n",
       "      <th>% of Total.Train</th>\n",
       "      <th>% of Total.Test</th>\n",
       "      <th>% of Total.Val</th>\n",
       "      <th>triple inter-annotator mAP @0.5-0.95 (%).All</th>\n",
       "      <th>triple inter-annotator mAP @0.5-0.95 (%).Fin</th>\n",
       "      <th>triple inter-annotator mAP @0.5-0.95 (%).Man</th>\n",
       "      <th>triple inter-annotator mAP @0.5-0.95 (%).Sci</th>\n",
       "      <th>triple inter-annotator mAP @0.5-0.95 (%).Law</th>\n",
       "      <th>triple inter-annotator mAP @0.5-0.95 (%).Pat</th>\n",
       "      <th>triple inter-annotator mAP @0.5-0.95 (%).Ten</th>\n",
       "    </tr>\n",
       "  </thead>\n",
       "  <tbody>\n",
       "    <tr>\n",
       "      <th>0</th>\n",
       "      <td>Caption</td>\n",
       "      <td>22524</td>\n",
       "      <td>2.04</td>\n",
       "      <td>1.77</td>\n",
       "      <td>2.32</td>\n",
       "      <td>84-89</td>\n",
       "      <td>40-61</td>\n",
       "      <td>86-92</td>\n",
       "      <td>94-99</td>\n",
       "      <td>95-99</td>\n",
       "      <td>69-78</td>\n",
       "      <td>n/a</td>\n",
       "    </tr>\n",
       "    <tr>\n",
       "      <th>1</th>\n",
       "      <td>Footnote</td>\n",
       "      <td>6318</td>\n",
       "      <td>0.60</td>\n",
       "      <td>0.31</td>\n",
       "      <td>0.58</td>\n",
       "      <td>83-91</td>\n",
       "      <td>n/a</td>\n",
       "      <td>100</td>\n",
       "      <td>62-88</td>\n",
       "      <td>85-94</td>\n",
       "      <td>n/a</td>\n",
       "      <td>82-97</td>\n",
       "    </tr>\n",
       "    <tr>\n",
       "      <th>2</th>\n",
       "      <td>Formula</td>\n",
       "      <td>25027</td>\n",
       "      <td>2.25</td>\n",
       "      <td>1.90</td>\n",
       "      <td>2.96</td>\n",
       "      <td>83-85</td>\n",
       "      <td>n/a</td>\n",
       "      <td>n/a</td>\n",
       "      <td>84-87</td>\n",
       "      <td>86-96</td>\n",
       "      <td>n/a</td>\n",
       "      <td>n/a</td>\n",
       "    </tr>\n",
       "    <tr>\n",
       "      <th>3</th>\n",
       "      <td>List-item</td>\n",
       "      <td>185660</td>\n",
       "      <td>17.19</td>\n",
       "      <td>13.34</td>\n",
       "      <td>15.82</td>\n",
       "      <td>87-88</td>\n",
       "      <td>74-83</td>\n",
       "      <td>90-92</td>\n",
       "      <td>97-97</td>\n",
       "      <td>81-85</td>\n",
       "      <td>75-88</td>\n",
       "      <td>93-95</td>\n",
       "    </tr>\n",
       "    <tr>\n",
       "      <th>4</th>\n",
       "      <td>Page-footer</td>\n",
       "      <td>70878</td>\n",
       "      <td>6.51</td>\n",
       "      <td>5.58</td>\n",
       "      <td>6.00</td>\n",
       "      <td>93-94</td>\n",
       "      <td>88-90</td>\n",
       "      <td>95-96</td>\n",
       "      <td>100</td>\n",
       "      <td>92-97</td>\n",
       "      <td>100</td>\n",
       "      <td>96-98</td>\n",
       "    </tr>\n",
       "    <tr>\n",
       "      <th>5</th>\n",
       "      <td>Page-header</td>\n",
       "      <td>58022</td>\n",
       "      <td>5.10</td>\n",
       "      <td>6.70</td>\n",
       "      <td>5.06</td>\n",
       "      <td>85-89</td>\n",
       "      <td>66-76</td>\n",
       "      <td>90-94</td>\n",
       "      <td>98-100</td>\n",
       "      <td>91-92</td>\n",
       "      <td>97-99</td>\n",
       "      <td>81-86</td>\n",
       "    </tr>\n",
       "    <tr>\n",
       "      <th>6</th>\n",
       "      <td>Picture</td>\n",
       "      <td>45976</td>\n",
       "      <td>4.21</td>\n",
       "      <td>2.78</td>\n",
       "      <td>5.31</td>\n",
       "      <td>69-71</td>\n",
       "      <td>56-59</td>\n",
       "      <td>82-86</td>\n",
       "      <td>69-82</td>\n",
       "      <td>80-95</td>\n",
       "      <td>66-71</td>\n",
       "      <td>59-76</td>\n",
       "    </tr>\n",
       "    <tr>\n",
       "      <th>7</th>\n",
       "      <td>Section-header</td>\n",
       "      <td>142884</td>\n",
       "      <td>12.60</td>\n",
       "      <td>15.77</td>\n",
       "      <td>12.85</td>\n",
       "      <td>83-84</td>\n",
       "      <td>76-81</td>\n",
       "      <td>90-92</td>\n",
       "      <td>94-95</td>\n",
       "      <td>87-94</td>\n",
       "      <td>69-73</td>\n",
       "      <td>78-86</td>\n",
       "    </tr>\n",
       "    <tr>\n",
       "      <th>8</th>\n",
       "      <td>Table</td>\n",
       "      <td>34733</td>\n",
       "      <td>3.20</td>\n",
       "      <td>2.27</td>\n",
       "      <td>3.60</td>\n",
       "      <td>77-81</td>\n",
       "      <td>75-80</td>\n",
       "      <td>83-86</td>\n",
       "      <td>98-99</td>\n",
       "      <td>58-80</td>\n",
       "      <td>79-84</td>\n",
       "      <td>70-85</td>\n",
       "    </tr>\n",
       "    <tr>\n",
       "      <th>9</th>\n",
       "      <td>Text</td>\n",
       "      <td>510377</td>\n",
       "      <td>45.82</td>\n",
       "      <td>49.28</td>\n",
       "      <td>45.00</td>\n",
       "      <td>84-86</td>\n",
       "      <td>81-86</td>\n",
       "      <td>88-93</td>\n",
       "      <td>89-93</td>\n",
       "      <td>87-92</td>\n",
       "      <td>71-79</td>\n",
       "      <td>87-95</td>\n",
       "    </tr>\n",
       "    <tr>\n",
       "      <th>10</th>\n",
       "      <td>Title</td>\n",
       "      <td>5071</td>\n",
       "      <td>0.47</td>\n",
       "      <td>0.30</td>\n",
       "      <td>0.50</td>\n",
       "      <td>60-72</td>\n",
       "      <td>24-63</td>\n",
       "      <td>50-63</td>\n",
       "      <td>94-100</td>\n",
       "      <td>82-96</td>\n",
       "      <td>68-79</td>\n",
       "      <td>24-56</td>\n",
       "    </tr>\n",
       "    <tr>\n",
       "      <th>11</th>\n",
       "      <td>Total</td>\n",
       "      <td>1107470</td>\n",
       "      <td>941123</td>\n",
       "      <td>99816</td>\n",
       "      <td>66531</td>\n",
       "      <td>82-83</td>\n",
       "      <td>71-74</td>\n",
       "      <td>79-81</td>\n",
       "      <td>89-94</td>\n",
       "      <td>86-91</td>\n",
       "      <td>71-76</td>\n",
       "      <td>68-85</td>\n",
       "    </tr>\n",
       "  </tbody>\n",
       "</table>\n",
       "</div>"
      ],
      "text/plain": [
       "   class label.class label Count.Count % of Total.Train % of Total.Test  \\\n",
       "0                  Caption       22524             2.04            1.77   \n",
       "1                 Footnote        6318             0.60            0.31   \n",
       "2                  Formula       25027             2.25            1.90   \n",
       "3                List-item      185660            17.19           13.34   \n",
       "4              Page-footer       70878             6.51            5.58   \n",
       "5              Page-header       58022             5.10            6.70   \n",
       "6                  Picture       45976             4.21            2.78   \n",
       "7           Section-header      142884            12.60           15.77   \n",
       "8                    Table       34733             3.20            2.27   \n",
       "9                     Text      510377            45.82           49.28   \n",
       "10                   Title        5071             0.47            0.30   \n",
       "11                   Total     1107470           941123           99816   \n",
       "\n",
       "   % of Total.Val triple inter-annotator mAP @0.5-0.95 (%).All  \\\n",
       "0            2.32                                        84-89   \n",
       "1            0.58                                        83-91   \n",
       "2            2.96                                        83-85   \n",
       "3           15.82                                        87-88   \n",
       "4            6.00                                        93-94   \n",
       "5            5.06                                        85-89   \n",
       "6            5.31                                        69-71   \n",
       "7           12.85                                        83-84   \n",
       "8            3.60                                        77-81   \n",
       "9           45.00                                        84-86   \n",
       "10           0.50                                        60-72   \n",
       "11          66531                                        82-83   \n",
       "\n",
       "   triple inter-annotator mAP @0.5-0.95 (%).Fin  \\\n",
       "0                                         40-61   \n",
       "1                                           n/a   \n",
       "2                                           n/a   \n",
       "3                                         74-83   \n",
       "4                                         88-90   \n",
       "5                                         66-76   \n",
       "6                                         56-59   \n",
       "7                                         76-81   \n",
       "8                                         75-80   \n",
       "9                                         81-86   \n",
       "10                                        24-63   \n",
       "11                                        71-74   \n",
       "\n",
       "   triple inter-annotator mAP @0.5-0.95 (%).Man  \\\n",
       "0                                         86-92   \n",
       "1                                           100   \n",
       "2                                           n/a   \n",
       "3                                         90-92   \n",
       "4                                         95-96   \n",
       "5                                         90-94   \n",
       "6                                         82-86   \n",
       "7                                         90-92   \n",
       "8                                         83-86   \n",
       "9                                         88-93   \n",
       "10                                        50-63   \n",
       "11                                        79-81   \n",
       "\n",
       "   triple inter-annotator mAP @0.5-0.95 (%).Sci  \\\n",
       "0                                         94-99   \n",
       "1                                         62-88   \n",
       "2                                         84-87   \n",
       "3                                         97-97   \n",
       "4                                           100   \n",
       "5                                        98-100   \n",
       "6                                         69-82   \n",
       "7                                         94-95   \n",
       "8                                         98-99   \n",
       "9                                         89-93   \n",
       "10                                       94-100   \n",
       "11                                        89-94   \n",
       "\n",
       "   triple inter-annotator mAP @0.5-0.95 (%).Law  \\\n",
       "0                                         95-99   \n",
       "1                                         85-94   \n",
       "2                                         86-96   \n",
       "3                                         81-85   \n",
       "4                                         92-97   \n",
       "5                                         91-92   \n",
       "6                                         80-95   \n",
       "7                                         87-94   \n",
       "8                                         58-80   \n",
       "9                                         87-92   \n",
       "10                                        82-96   \n",
       "11                                        86-91   \n",
       "\n",
       "   triple inter-annotator mAP @0.5-0.95 (%).Pat  \\\n",
       "0                                         69-78   \n",
       "1                                           n/a   \n",
       "2                                           n/a   \n",
       "3                                         75-88   \n",
       "4                                           100   \n",
       "5                                         97-99   \n",
       "6                                         66-71   \n",
       "7                                         69-73   \n",
       "8                                         79-84   \n",
       "9                                         71-79   \n",
       "10                                        68-79   \n",
       "11                                        71-76   \n",
       "\n",
       "   triple inter-annotator mAP @0.5-0.95 (%).Ten  \n",
       "0                                           n/a  \n",
       "1                                         82-97  \n",
       "2                                           n/a  \n",
       "3                                         93-95  \n",
       "4                                         96-98  \n",
       "5                                         81-86  \n",
       "6                                         59-76  \n",
       "7                                         78-86  \n",
       "8                                         70-85  \n",
       "9                                         87-95  \n",
       "10                                        24-56  \n",
       "11                                        68-85  "
      ]
     },
     "execution_count": 31,
     "metadata": {},
     "output_type": "execute_result"
    }
   ],
   "source": [
    "TABLE[3]"
   ]
  },
  {
   "cell_type": "markdown",
   "id": "fc311202-2e1d-45fa-a8ba-e6da4559f827",
   "metadata": {
    "editable": true,
    "slideshow": {
     "slide_type": ""
    },
    "tags": []
   },
   "source": [
    "## Another Example"
   ]
  },
  {
   "cell_type": "code",
   "execution_count": null,
   "id": "8c1cc244-50fc-4a5d-9df6-9f70f00e075d",
   "metadata": {},
   "outputs": [],
   "source": []
  }
 ],
 "metadata": {
  "kernelspec": {
   "display_name": "eta",
   "language": "python",
   "name": "eta"
  },
  "language_info": {
   "codemirror_mode": {
    "name": "ipython",
    "version": 3
   },
   "file_extension": ".py",
   "mimetype": "text/x-python",
   "name": "python",
   "nbconvert_exporter": "python",
   "pygments_lexer": "ipython3",
   "version": "3.9.19"
  }
 },
 "nbformat": 4,
 "nbformat_minor": 5
}
