{
 "cells": [
  {
   "cell_type": "markdown",
   "id": "9c22abc6-c1ae-4caf-8a44-1f349dc7d226",
   "metadata": {
    "editable": true,
    "jp-MarkdownHeadingCollapsed": true,
    "slideshow": {
     "slide_type": "slide"
    },
    "tags": []
   },
   "source": [
    "# Attention Mechanism Demo\n",
    "\n",
    "DS 5001 Text as Data"
   ]
  },
  {
   "cell_type": "markdown",
   "id": "7fb81cec-f8f9-4394-8ec4-24fe8eee13cb",
   "metadata": {
    "editable": true,
    "slideshow": {
     "slide_type": "slide"
    },
    "tags": []
   },
   "source": [
    "# Overview\n",
    "\n",
    "This is an attempt to show what attention is and how it is computed.\n",
    "\n",
    "It only scratches the surface :-)\n",
    "\n",
    "It is designed to give you a sense the data operations involved.\n",
    "\n",
    "For more information about the topic, consult the chapter on Transformers in [Jurafsky and Martin's updated book](https://web.stanford.edu/~jurafsky/slp3/). \n",
    "\n",
    "I also generated a helper with Huggingface's [Deepsite](https://enzostvs-deepsite.hf.space/): https://huggingface.co/spaces/ontoligent/ds-5001-text-as-data "
   ]
  },
  {
   "cell_type": "markdown",
   "id": "99a80073-3b27-49e1-aaae-c1c475b12855",
   "metadata": {
    "editable": true,
    "slideshow": {
     "slide_type": "slide"
    },
    "tags": []
   },
   "source": [
    "## Intuition\n",
    "\n",
    "Imagine you’re reading a sentence like:\n",
    "\n",
    "> “The cat sat on the mat because it was tired.”\n",
    "\n",
    "When you get to the word “it”, you need to figure out what “it” refers to. \n",
    "\n",
    "To do this, your brain **attends** to earlier words &mdash; maybe “cat” &mdash; and gives it more **weight** since it is more relevant for understanding “it”.\n",
    "\n",
    "Based on this, you guess that \"it\" refers to \"cat.\"  "
   ]
  },
  {
   "cell_type": "markdown",
   "id": "0b2e5cbc-b668-4645-8b57-8849fa3d6ef1",
   "metadata": {
    "editable": true,
    "jp-MarkdownHeadingCollapsed": true,
    "slideshow": {
     "slide_type": "slide"
    },
    "tags": []
   },
   "source": [
    "## Operationalization\n",
    "\n",
    "Now, the attention mechanism models this process to estimate how much attention each word in a sentence should get when interpreting a particular word.\n",
    "\n",
    "It uses **word embeddings** as the primary source of data to compute this.\n",
    "\n",
    "To compute attention, we first embed each word of a sentence. This results in a table of tokens and embedding features.\n",
    "\n",
    "For example, with the sentence above, we might get this (using GloVe):\n",
    "\n",
    "<img src=\"images/embedding-figure-01.png\" width=\"50%\"/>"
   ]
  },
  {
   "cell_type": "markdown",
   "id": "aff1c264-e256-4e30-bd78-d5e176f308c7",
   "metadata": {
    "editable": true,
    "jp-MarkdownHeadingCollapsed": true,
    "slideshow": {
     "slide_type": "slide"
    },
    "tags": []
   },
   "source": [
    "##  Pairwise Relevance\n",
    "\n",
    "Now, we want to decide **how much each token should attend to every other token** in the sequence.\n",
    "\t\n",
    "- That means we need to compute **pairwise relevance** between the current token and all others.\n",
    "\n",
    "- This could be done with just dot products of the raw embeddings.\n",
    "\n",
    "But that would **not be context-aware**: \n",
    "\n",
    "- The dot product of “cat” and “sat” would be the same in every sentence.\n",
    "\n",
    "We want something that is **context-sensitive** and **learnable**. \n",
    "\n",
    "- It should also be **asymmetric**, just like conditional probabilities.\n",
    "\n",
    "- For example, “cat” might attend to “sat” more than “sat” attends to “cat”."
   ]
  },
  {
   "cell_type": "markdown",
   "id": "c638b67c-6f7f-4c09-af77-9f90f27dbe14",
   "metadata": {
    "editable": true,
    "slideshow": {
     "slide_type": "slide"
    },
    "tags": []
   },
   "source": [
    "## Enter Q, K, and V\n",
    "\n",
    "Once we have an embedded sentence, we convert the data into **three other vectors** for each word.\n",
    "\n",
    "These are:\n",
    "\n",
    "1. **Query** vector ($Q$): Represents the **informational requirements** of the word we’re focusing on — what it needs from context.\n",
    "2. **Key** vector ($K$): Represents a word’s **potential to satisfy** those requirements — what it can contribute to other words’ understanding.\n",
    "3. **Value** vector ($V$): Represents the **information that will be passed along** if this word is attended to — the content to be weighted and aggregated.\n",
    "\n",
    "In a trained languague model, such as GPT or BERT, these weights in these vectors are learned through gradient descent during pretraining of the LLM."
   ]
  },
  {
   "cell_type": "markdown",
   "id": "e890a66f-ab8c-40d0-a7fd-db3fea6ee81c",
   "metadata": {
    "editable": true,
    "jp-MarkdownHeadingCollapsed": true,
    "slideshow": {
     "slide_type": "slide"
    },
    "tags": []
   },
   "source": [
    "## Why We Need All Three\n",
    "\n",
    "The separation of $Q$, $K$, and $V$ provides the following qualities to the attention mechanism:\n",
    "\n",
    "**Decoupling**: Allows different representations for what to look for ($Q$) versus what to retrieve ($V$).\n",
    "\n",
    "**Flexibility**: Enables different types of attention patterns (e.g., looking ahead vs. looking back).\n",
    "\n",
    "**Efficiency**: Permits caching of $K$ and $V$ for autoregressive generation.\n",
    "\n",
    "**Interpretability**: Makes attention patterns more meaningful and analyzable."
   ]
  },
  {
   "cell_type": "markdown",
   "id": "b3083df9-00ce-4fae-b2e1-ae53d5b7242a",
   "metadata": {
    "editable": true,
    "slideshow": {
     "slide_type": "slide"
    },
    "tags": []
   },
   "source": [
    "## $d_k$\n",
    "\n",
    "For computational reasons, $Q$, $K$, and $V$ have a shared feature space smaller than the embedding space.\n",
    "\n",
    "This is refered to by the parameter $\\Large d_k$.\n",
    "\n",
    "This is done to stabilize the softmax, which is used in the final representation of attention."
   ]
  },
  {
   "attachments": {},
   "cell_type": "markdown",
   "id": "27cb3f28-889d-4ce5-8bd5-96d21d658df0",
   "metadata": {
    "editable": true,
    "jp-MarkdownHeadingCollapsed": true,
    "slideshow": {
     "slide_type": "slide"
    },
    "tags": []
   },
   "source": [
    "## Computing Attention\n",
    "\n",
    "Once these models have been learned, attention can be comptued for a given sentence.\n",
    "\n",
    "If the trained models are called $W_q$, $W_k$, and $W_c$ respectively, then we apply these to our sentence $X$.\n",
    "\n",
    "This results in three vectors for each word in the source sentence: $Q_i$, $K_j$, and $C_j$.\n",
    "\n",
    "Not that $i$ stands for the word in question, and $j$ stands for an other word in the sentence/context.\n",
    "\n",
    "To compute attention, we need to compute **similarity** and **weighting**."
   ]
  },
  {
   "cell_type": "markdown",
   "id": "89cd3680-c808-41e0-a9d4-d1787c987e3b",
   "metadata": {
    "editable": true,
    "jp-MarkdownHeadingCollapsed": true,
    "slideshow": {
     "slide_type": "slide"
    },
    "tags": []
   },
   "source": [
    "## Similarity \n",
    "\n",
    "Now, similarity refers to how similar $Q_i$ is to $K_i$.\n",
    "\n",
    "For this we use dot product: \n",
    "\n",
    "- $\\text{score}_{i,j} = Q_i \\cdot K_j$\n",
    "\n",
    "The result is a scalar similarity score between those words."
   ]
  },
  {
   "cell_type": "markdown",
   "id": "f1d5232e-0db4-4776-b763-10b8ce77c28c",
   "metadata": {
    "editable": true,
    "slideshow": {
     "slide_type": "slide"
    },
    "tags": []
   },
   "source": [
    "## Weighting\n",
    "\n",
    "For weighting, we apply a softmax across all these scores for each query:\n",
    "\n",
    "- $\\alpha_{i,j} = \\text{softmax}_j\\left( \\frac{Q_i \\cdot K_j}{\\sqrt{d_k}} \\right)$\n",
    "\n",
    "This turns similarity scores into weights &mdash; how much word $i$ should attend to word $j$.\n",
    "\n",
    "Note the use of $\\sqrt d_k$ for scaling."
   ]
  },
  {
   "cell_type": "markdown",
   "id": "c494f910-c3ea-4d91-b366-d12a9cda3386",
   "metadata": {
    "editable": true,
    "jp-MarkdownHeadingCollapsed": true,
    "slideshow": {
     "slide_type": "slide"
    },
    "tags": []
   },
   "source": [
    "## Aggregation\n",
    "\n",
    "Finally, we use these weights to compute a weighted sum of the Value vectors:\n",
    "\n",
    "- $\\text{output}_i = \\sum_j \\alpha{i,j} \\cdot V_j$"
   ]
  },
  {
   "cell_type": "markdown",
   "id": "8ed03b11-c114-4fc4-8f3b-c31f9c3dacf6",
   "metadata": {
    "editable": true,
    "jp-MarkdownHeadingCollapsed": true,
    "slideshow": {
     "slide_type": "slide"
    },
    "tags": []
   },
   "source": [
    "**END OF SHOW**"
   ]
  },
  {
   "cell_type": "markdown",
   "id": "60839cce-c435-431d-a8a4-221268aefc46",
   "metadata": {
    "colab_type": "text",
    "editable": true,
    "id": "gEg4USFAmPzB",
    "slideshow": {
     "slide_type": "slide"
    },
    "tags": []
   },
   "source": [
    "# Set Up"
   ]
  },
  {
   "cell_type": "markdown",
   "id": "01aa56d9-6dcc-49a6-8667-7140e58be176",
   "metadata": {
    "colab_type": "text",
    "id": "gEg4USFAmPzB",
    "slideshow": {
     "slide_type": "-"
    }
   },
   "source": [
    "## Configure"
   ]
  },
  {
   "cell_type": "code",
   "execution_count": 22,
   "id": "267a78ae-205a-49c6-8c44-00e9478c7ee9",
   "metadata": {
    "editable": true,
    "slideshow": {
     "slide_type": ""
    },
    "tags": []
   },
   "outputs": [],
   "source": [
    "import configparser\n",
    "config = configparser.ConfigParser()\n",
    "config.read(\"../../../env.ini\")\n",
    "data_home = config['DEFAULT']['data_home']\n",
    "output_dir = config['DEFAULT']['output_dir']\n",
    "local_lib = config['DEFAULT']['local_lib']"
   ]
  },
  {
   "cell_type": "markdown",
   "id": "878e752a-4304-4782-9d6d-dfad15cb6f6f",
   "metadata": {
    "colab_type": "text",
    "editable": true,
    "id": "a1evEJDGmPzN",
    "slideshow": {
     "slide_type": ""
    },
    "tags": []
   },
   "source": [
    "## Import"
   ]
  },
  {
   "cell_type": "code",
   "execution_count": 2,
   "id": "d19086ee-0f5b-4be0-b600-8a539c0d86de",
   "metadata": {
    "editable": true,
    "slideshow": {
     "slide_type": ""
    },
    "tags": []
   },
   "outputs": [],
   "source": [
    "import pandas as pd\n",
    "import numpy as np\n",
    "import matplotlib.pyplot as plt\n",
    "import seaborn as sns\n",
    "import torch\n",
    "import torch.nn as nn\n",
    "import torch.nn.functional as F"
   ]
  },
  {
   "cell_type": "markdown",
   "id": "a105f2a1-aa1a-49a5-9e8c-1842bad4593e",
   "metadata": {
    "editable": true,
    "slideshow": {
     "slide_type": ""
    },
    "tags": []
   },
   "source": [
    "# Get Embeddings"
   ]
  },
  {
   "cell_type": "code",
   "execution_count": 3,
   "id": "af3f3169-06be-4487-9df1-a7e16f4489de",
   "metadata": {
    "editable": true,
    "slideshow": {
     "slide_type": ""
    },
    "tags": []
   },
   "outputs": [],
   "source": [
    "glove_path = f\"{data_home}/glove/glove.6B/glove.6B.50d.txt\""
   ]
  },
  {
   "cell_type": "code",
   "execution_count": 23,
   "id": "8f71376f-5980-48b7-ae58-5a10b056b9dc",
   "metadata": {
    "editable": true,
    "slideshow": {
     "slide_type": ""
    },
    "tags": []
   },
   "outputs": [],
   "source": [
    "# glove_path"
   ]
  },
  {
   "cell_type": "code",
   "execution_count": 4,
   "id": "932ad56e-7f8b-4f8f-a7a8-35c726cb7149",
   "metadata": {
    "editable": true,
    "slideshow": {
     "slide_type": ""
    },
    "tags": []
   },
   "outputs": [],
   "source": [
    "glove_lines = open(glove_path, 'r', encoding='utf8').readlines()\n",
    "idx = []\n",
    "data = []\n",
    "for line in glove_lines:\n",
    "    row = line.split()\n",
    "    idx.append(row[0])\n",
    "    data.append(row[1:])"
   ]
  },
  {
   "cell_type": "code",
   "execution_count": 5,
   "id": "dd299c32-f731-4458-9ec2-5479ad6184ba",
   "metadata": {
    "editable": true,
    "slideshow": {
     "slide_type": ""
    },
    "tags": []
   },
   "outputs": [],
   "source": [
    "E = pd.DataFrame(data, index=idx).astype(float)"
   ]
  },
  {
   "cell_type": "code",
   "execution_count": 6,
   "id": "5b26e1fa-965c-45f5-bc9a-c9cacb2a4772",
   "metadata": {
    "editable": true,
    "slideshow": {
     "slide_type": ""
    },
    "tags": []
   },
   "outputs": [],
   "source": [
    "E = E.div(np.linalg.norm(E, axis=1), axis=0)  # row-wise L2 norm"
   ]
  },
  {
   "cell_type": "code",
   "execution_count": 7,
   "id": "3fece8a5-ccfc-4a30-ad44-7481dde450b3",
   "metadata": {
    "editable": true,
    "slideshow": {
     "slide_type": ""
    },
    "tags": []
   },
   "outputs": [
    {
     "data": {
      "text/html": [
       "<div>\n",
       "<style scoped>\n",
       "    .dataframe tbody tr th:only-of-type {\n",
       "        vertical-align: middle;\n",
       "    }\n",
       "\n",
       "    .dataframe tbody tr th {\n",
       "        vertical-align: top;\n",
       "    }\n",
       "\n",
       "    .dataframe thead th {\n",
       "        text-align: right;\n",
       "    }\n",
       "</style>\n",
       "<table border=\"1\" class=\"dataframe\">\n",
       "  <thead>\n",
       "    <tr style=\"text-align: right;\">\n",
       "      <th></th>\n",
       "      <th>0</th>\n",
       "      <th>1</th>\n",
       "      <th>2</th>\n",
       "      <th>3</th>\n",
       "      <th>4</th>\n",
       "      <th>5</th>\n",
       "      <th>6</th>\n",
       "      <th>7</th>\n",
       "      <th>8</th>\n",
       "      <th>9</th>\n",
       "      <th>...</th>\n",
       "      <th>40</th>\n",
       "      <th>41</th>\n",
       "      <th>42</th>\n",
       "      <th>43</th>\n",
       "      <th>44</th>\n",
       "      <th>45</th>\n",
       "      <th>46</th>\n",
       "      <th>47</th>\n",
       "      <th>48</th>\n",
       "      <th>49</th>\n",
       "    </tr>\n",
       "  </thead>\n",
       "  <tbody>\n",
       "    <tr>\n",
       "      <th>the</th>\n",
       "      <td>0.084141</td>\n",
       "      <td>0.050259</td>\n",
       "      <td>-0.083018</td>\n",
       "      <td>0.024498</td>\n",
       "      <td>0.069501</td>\n",
       "      <td>-0.008949</td>\n",
       "      <td>-0.100020</td>\n",
       "      <td>-0.035955</td>\n",
       "      <td>-0.000133</td>\n",
       "      <td>-0.132170</td>\n",
       "      <td>...</td>\n",
       "      <td>-0.060129</td>\n",
       "      <td>-0.031702</td>\n",
       "      <td>-0.069966</td>\n",
       "      <td>-0.009187</td>\n",
       "      <td>-0.089075</td>\n",
       "      <td>0.037813</td>\n",
       "      <td>0.000561</td>\n",
       "      <td>-0.037060</td>\n",
       "      <td>-0.023177</td>\n",
       "      <td>-0.158180</td>\n",
       "    </tr>\n",
       "    <tr>\n",
       "      <th>,</th>\n",
       "      <td>0.003002</td>\n",
       "      <td>0.052887</td>\n",
       "      <td>-0.037739</td>\n",
       "      <td>0.091452</td>\n",
       "      <td>0.142506</td>\n",
       "      <td>0.106544</td>\n",
       "      <td>-0.095698</td>\n",
       "      <td>-0.124258</td>\n",
       "      <td>-0.081289</td>\n",
       "      <td>-0.053459</td>\n",
       "      <td>...</td>\n",
       "      <td>-0.017924</td>\n",
       "      <td>0.140699</td>\n",
       "      <td>0.071711</td>\n",
       "      <td>-0.104436</td>\n",
       "      <td>0.050886</td>\n",
       "      <td>0.080472</td>\n",
       "      <td>-0.084456</td>\n",
       "      <td>-0.126527</td>\n",
       "      <td>0.009980</td>\n",
       "      <td>0.067872</td>\n",
       "    </tr>\n",
       "    <tr>\n",
       "      <th>.</th>\n",
       "      <td>0.034101</td>\n",
       "      <td>0.067863</td>\n",
       "      <td>-0.037697</td>\n",
       "      <td>0.039768</td>\n",
       "      <td>0.071331</td>\n",
       "      <td>0.076399</td>\n",
       "      <td>-0.097775</td>\n",
       "      <td>-0.069907</td>\n",
       "      <td>-0.101195</td>\n",
       "      <td>-0.066309</td>\n",
       "      <td>...</td>\n",
       "      <td>-0.000014</td>\n",
       "      <td>0.015514</td>\n",
       "      <td>0.019776</td>\n",
       "      <td>-0.023129</td>\n",
       "      <td>-0.031328</td>\n",
       "      <td>0.050180</td>\n",
       "      <td>-0.018171</td>\n",
       "      <td>-0.080175</td>\n",
       "      <td>0.003691</td>\n",
       "      <td>0.022974</td>\n",
       "    </tr>\n",
       "    <tr>\n",
       "      <th>of</th>\n",
       "      <td>0.142961</td>\n",
       "      <td>0.115187</td>\n",
       "      <td>-0.095156</td>\n",
       "      <td>0.036416</td>\n",
       "      <td>0.109863</td>\n",
       "      <td>0.146492</td>\n",
       "      <td>0.036636</td>\n",
       "      <td>-0.105714</td>\n",
       "      <td>0.020946</td>\n",
       "      <td>-0.035443</td>\n",
       "      <td>...</td>\n",
       "      <td>-0.070069</td>\n",
       "      <td>0.057471</td>\n",
       "      <td>0.015273</td>\n",
       "      <td>-0.012546</td>\n",
       "      <td>-0.078667</td>\n",
       "      <td>0.046210</td>\n",
       "      <td>-0.043617</td>\n",
       "      <td>-0.045524</td>\n",
       "      <td>-0.018950</td>\n",
       "      <td>-0.162174</td>\n",
       "    </tr>\n",
       "    <tr>\n",
       "      <th>to</th>\n",
       "      <td>0.137278</td>\n",
       "      <td>-0.007921</td>\n",
       "      <td>0.060897</td>\n",
       "      <td>-0.035894</td>\n",
       "      <td>0.086672</td>\n",
       "      <td>0.006505</td>\n",
       "      <td>-0.083472</td>\n",
       "      <td>0.026686</td>\n",
       "      <td>-0.060213</td>\n",
       "      <td>-0.017199</td>\n",
       "      <td>...</td>\n",
       "      <td>-0.019039</td>\n",
       "      <td>0.003697</td>\n",
       "      <td>0.042462</td>\n",
       "      <td>-0.006230</td>\n",
       "      <td>-0.039787</td>\n",
       "      <td>0.016599</td>\n",
       "      <td>-0.019032</td>\n",
       "      <td>-0.014787</td>\n",
       "      <td>-0.013052</td>\n",
       "      <td>-0.052541</td>\n",
       "    </tr>\n",
       "  </tbody>\n",
       "</table>\n",
       "<p>5 rows × 50 columns</p>\n",
       "</div>"
      ],
      "text/plain": [
       "           0         1         2         3         4         5         6   \\\n",
       "the  0.084141  0.050259 -0.083018  0.024498  0.069501 -0.008949 -0.100020   \n",
       ",    0.003002  0.052887 -0.037739  0.091452  0.142506  0.106544 -0.095698   \n",
       ".    0.034101  0.067863 -0.037697  0.039768  0.071331  0.076399 -0.097775   \n",
       "of   0.142961  0.115187 -0.095156  0.036416  0.109863  0.146492  0.036636   \n",
       "to   0.137278 -0.007921  0.060897 -0.035894  0.086672  0.006505 -0.083472   \n",
       "\n",
       "           7         8         9   ...        40        41        42  \\\n",
       "the -0.035955 -0.000133 -0.132170  ... -0.060129 -0.031702 -0.069966   \n",
       ",   -0.124258 -0.081289 -0.053459  ... -0.017924  0.140699  0.071711   \n",
       ".   -0.069907 -0.101195 -0.066309  ... -0.000014  0.015514  0.019776   \n",
       "of  -0.105714  0.020946 -0.035443  ... -0.070069  0.057471  0.015273   \n",
       "to   0.026686 -0.060213 -0.017199  ... -0.019039  0.003697  0.042462   \n",
       "\n",
       "           43        44        45        46        47        48        49  \n",
       "the -0.009187 -0.089075  0.037813  0.000561 -0.037060 -0.023177 -0.158180  \n",
       ",   -0.104436  0.050886  0.080472 -0.084456 -0.126527  0.009980  0.067872  \n",
       ".   -0.023129 -0.031328  0.050180 -0.018171 -0.080175  0.003691  0.022974  \n",
       "of  -0.012546 -0.078667  0.046210 -0.043617 -0.045524 -0.018950 -0.162174  \n",
       "to  -0.006230 -0.039787  0.016599 -0.019032 -0.014787 -0.013052 -0.052541  \n",
       "\n",
       "[5 rows x 50 columns]"
      ]
     },
     "execution_count": 7,
     "metadata": {},
     "output_type": "execute_result"
    }
   ],
   "source": [
    "E.head()"
   ]
  },
  {
   "cell_type": "markdown",
   "id": "901e4560-962f-4e76-8149-b1263a4fe440",
   "metadata": {
    "editable": true,
    "slideshow": {
     "slide_type": ""
    },
    "tags": []
   },
   "source": [
    "# Embed a Test Sentence"
   ]
  },
  {
   "cell_type": "code",
   "execution_count": 137,
   "id": "0dfb1363-f679-4cd1-8b9f-6450634b5663",
   "metadata": {
    "editable": true,
    "slideshow": {
     "slide_type": ""
    },
    "tags": []
   },
   "outputs": [],
   "source": [
    "test_sentence = \"The cat sat on the mat because it was tired\".lower().split()"
   ]
  },
  {
   "cell_type": "code",
   "execution_count": 138,
   "id": "dac4ee94-7dee-4889-8a2e-25afb4d8d10a",
   "metadata": {},
   "outputs": [],
   "source": [
    "def embed_sentence(setence):\n",
    "    X = E.loc[sentence]\n",
    "    X.index.name = 'token_str'\n",
    "    X = X.reset_index().reset_index().set_index(['index','token_str'])\n",
    "    return X"
   ]
  },
  {
   "cell_type": "code",
   "execution_count": 139,
   "id": "8dfaf8cf-b46f-4203-8abd-39e7d8ce8c66",
   "metadata": {},
   "outputs": [
    {
     "data": {
      "text/html": [
       "<div>\n",
       "<style scoped>\n",
       "    .dataframe tbody tr th:only-of-type {\n",
       "        vertical-align: middle;\n",
       "    }\n",
       "\n",
       "    .dataframe tbody tr th {\n",
       "        vertical-align: top;\n",
       "    }\n",
       "\n",
       "    .dataframe thead th {\n",
       "        text-align: right;\n",
       "    }\n",
       "</style>\n",
       "<table border=\"1\" class=\"dataframe\">\n",
       "  <thead>\n",
       "    <tr style=\"text-align: right;\">\n",
       "      <th></th>\n",
       "      <th></th>\n",
       "      <th>0</th>\n",
       "      <th>1</th>\n",
       "      <th>2</th>\n",
       "      <th>3</th>\n",
       "      <th>4</th>\n",
       "      <th>5</th>\n",
       "      <th>6</th>\n",
       "      <th>7</th>\n",
       "      <th>8</th>\n",
       "      <th>9</th>\n",
       "      <th>...</th>\n",
       "      <th>40</th>\n",
       "      <th>41</th>\n",
       "      <th>42</th>\n",
       "      <th>43</th>\n",
       "      <th>44</th>\n",
       "      <th>45</th>\n",
       "      <th>46</th>\n",
       "      <th>47</th>\n",
       "      <th>48</th>\n",
       "      <th>49</th>\n",
       "    </tr>\n",
       "    <tr>\n",
       "      <th>index</th>\n",
       "      <th>token_str</th>\n",
       "      <th></th>\n",
       "      <th></th>\n",
       "      <th></th>\n",
       "      <th></th>\n",
       "      <th></th>\n",
       "      <th></th>\n",
       "      <th></th>\n",
       "      <th></th>\n",
       "      <th></th>\n",
       "      <th></th>\n",
       "      <th></th>\n",
       "      <th></th>\n",
       "      <th></th>\n",
       "      <th></th>\n",
       "      <th></th>\n",
       "      <th></th>\n",
       "      <th></th>\n",
       "      <th></th>\n",
       "      <th></th>\n",
       "      <th></th>\n",
       "      <th></th>\n",
       "    </tr>\n",
       "  </thead>\n",
       "  <tbody>\n",
       "    <tr>\n",
       "      <th>0</th>\n",
       "      <th>the</th>\n",
       "      <td>0.084141</td>\n",
       "      <td>0.050259</td>\n",
       "      <td>-0.083018</td>\n",
       "      <td>0.024498</td>\n",
       "      <td>0.069501</td>\n",
       "      <td>-0.008949</td>\n",
       "      <td>-0.100020</td>\n",
       "      <td>-0.035955</td>\n",
       "      <td>-0.000133</td>\n",
       "      <td>-0.132170</td>\n",
       "      <td>...</td>\n",
       "      <td>-0.060129</td>\n",
       "      <td>-0.031702</td>\n",
       "      <td>-0.069966</td>\n",
       "      <td>-0.009187</td>\n",
       "      <td>-0.089075</td>\n",
       "      <td>0.037813</td>\n",
       "      <td>0.000561</td>\n",
       "      <td>-0.037060</td>\n",
       "      <td>-0.023177</td>\n",
       "      <td>-0.158180</td>\n",
       "    </tr>\n",
       "    <tr>\n",
       "      <th>1</th>\n",
       "      <th>cat</th>\n",
       "      <td>0.102728</td>\n",
       "      <td>-0.113679</td>\n",
       "      <td>-0.121859</td>\n",
       "      <td>-0.003561</td>\n",
       "      <td>0.050344</td>\n",
       "      <td>0.123874</td>\n",
       "      <td>-0.152684</td>\n",
       "      <td>-0.156334</td>\n",
       "      <td>0.144045</td>\n",
       "      <td>-0.044752</td>\n",
       "      <td>...</td>\n",
       "      <td>-0.022115</td>\n",
       "      <td>0.109209</td>\n",
       "      <td>-0.098352</td>\n",
       "      <td>0.157571</td>\n",
       "      <td>0.206547</td>\n",
       "      <td>-0.063915</td>\n",
       "      <td>0.094461</td>\n",
       "      <td>-0.286057</td>\n",
       "      <td>0.161706</td>\n",
       "      <td>0.053954</td>\n",
       "    </tr>\n",
       "    <tr>\n",
       "      <th>2</th>\n",
       "      <th>sat</th>\n",
       "      <td>-0.147525</td>\n",
       "      <td>0.148672</td>\n",
       "      <td>0.060289</td>\n",
       "      <td>-0.172100</td>\n",
       "      <td>0.268094</td>\n",
       "      <td>-0.148795</td>\n",
       "      <td>-0.148104</td>\n",
       "      <td>0.008912</td>\n",
       "      <td>-0.202746</td>\n",
       "      <td>-0.300344</td>\n",
       "      <td>...</td>\n",
       "      <td>-0.040883</td>\n",
       "      <td>0.025060</td>\n",
       "      <td>-0.061873</td>\n",
       "      <td>0.210501</td>\n",
       "      <td>-0.040814</td>\n",
       "      <td>0.002442</td>\n",
       "      <td>0.062892</td>\n",
       "      <td>-0.272380</td>\n",
       "      <td>0.019152</td>\n",
       "      <td>-0.097795</td>\n",
       "    </tr>\n",
       "    <tr>\n",
       "      <th>3</th>\n",
       "      <th>on</th>\n",
       "      <td>0.060805</td>\n",
       "      <td>0.050607</td>\n",
       "      <td>-0.033781</td>\n",
       "      <td>0.038917</td>\n",
       "      <td>0.005448</td>\n",
       "      <td>-0.016086</td>\n",
       "      <td>-0.184939</td>\n",
       "      <td>-0.039949</td>\n",
       "      <td>-0.010810</td>\n",
       "      <td>-0.082663</td>\n",
       "      <td>...</td>\n",
       "      <td>-0.018018</td>\n",
       "      <td>0.012548</td>\n",
       "      <td>-0.040366</td>\n",
       "      <td>-0.078650</td>\n",
       "      <td>-0.036898</td>\n",
       "      <td>0.012295</td>\n",
       "      <td>0.019955</td>\n",
       "      <td>-0.014432</td>\n",
       "      <td>0.046652</td>\n",
       "      <td>-0.105113</td>\n",
       "    </tr>\n",
       "    <tr>\n",
       "      <th>4</th>\n",
       "      <th>the</th>\n",
       "      <td>0.084141</td>\n",
       "      <td>0.050259</td>\n",
       "      <td>-0.083018</td>\n",
       "      <td>0.024498</td>\n",
       "      <td>0.069501</td>\n",
       "      <td>-0.008949</td>\n",
       "      <td>-0.100020</td>\n",
       "      <td>-0.035955</td>\n",
       "      <td>-0.000133</td>\n",
       "      <td>-0.132170</td>\n",
       "      <td>...</td>\n",
       "      <td>-0.060129</td>\n",
       "      <td>-0.031702</td>\n",
       "      <td>-0.069966</td>\n",
       "      <td>-0.009187</td>\n",
       "      <td>-0.089075</td>\n",
       "      <td>0.037813</td>\n",
       "      <td>0.000561</td>\n",
       "      <td>-0.037060</td>\n",
       "      <td>-0.023177</td>\n",
       "      <td>-0.158180</td>\n",
       "    </tr>\n",
       "    <tr>\n",
       "      <th>5</th>\n",
       "      <th>mat</th>\n",
       "      <td>-0.244232</td>\n",
       "      <td>-0.002061</td>\n",
       "      <td>-0.053103</td>\n",
       "      <td>0.046738</td>\n",
       "      <td>0.020867</td>\n",
       "      <td>-0.115777</td>\n",
       "      <td>0.128086</td>\n",
       "      <td>-0.260565</td>\n",
       "      <td>0.206520</td>\n",
       "      <td>-0.056202</td>\n",
       "      <td>...</td>\n",
       "      <td>0.108483</td>\n",
       "      <td>0.186118</td>\n",
       "      <td>-0.251197</td>\n",
       "      <td>0.140972</td>\n",
       "      <td>0.213509</td>\n",
       "      <td>-0.082331</td>\n",
       "      <td>0.059638</td>\n",
       "      <td>-0.334776</td>\n",
       "      <td>0.035965</td>\n",
       "      <td>-0.070794</td>\n",
       "    </tr>\n",
       "    <tr>\n",
       "      <th>6</th>\n",
       "      <th>because</th>\n",
       "      <td>0.103980</td>\n",
       "      <td>-0.059247</td>\n",
       "      <td>0.011044</td>\n",
       "      <td>-0.035191</td>\n",
       "      <td>0.030792</td>\n",
       "      <td>0.064746</td>\n",
       "      <td>-0.090228</td>\n",
       "      <td>0.073524</td>\n",
       "      <td>-0.014316</td>\n",
       "      <td>0.051311</td>\n",
       "      <td>...</td>\n",
       "      <td>-0.130782</td>\n",
       "      <td>0.031401</td>\n",
       "      <td>0.034518</td>\n",
       "      <td>0.148937</td>\n",
       "      <td>-0.002531</td>\n",
       "      <td>-0.015782</td>\n",
       "      <td>-0.097303</td>\n",
       "      <td>0.013357</td>\n",
       "      <td>-0.021484</td>\n",
       "      <td>0.033728</td>\n",
       "    </tr>\n",
       "    <tr>\n",
       "      <th>7</th>\n",
       "      <th>it</th>\n",
       "      <td>0.117910</td>\n",
       "      <td>-0.042537</td>\n",
       "      <td>-0.021002</td>\n",
       "      <td>-0.010208</td>\n",
       "      <td>0.097908</td>\n",
       "      <td>0.066842</td>\n",
       "      <td>-0.064672</td>\n",
       "      <td>-0.036909</td>\n",
       "      <td>-0.006912</td>\n",
       "      <td>0.020255</td>\n",
       "      <td>...</td>\n",
       "      <td>0.009647</td>\n",
       "      <td>-0.019383</td>\n",
       "      <td>-0.003451</td>\n",
       "      <td>0.021473</td>\n",
       "      <td>-0.138367</td>\n",
       "      <td>0.094624</td>\n",
       "      <td>-0.019267</td>\n",
       "      <td>-0.008419</td>\n",
       "      <td>-0.018871</td>\n",
       "      <td>0.032388</td>\n",
       "    </tr>\n",
       "    <tr>\n",
       "      <th>8</th>\n",
       "      <th>was</th>\n",
       "      <td>0.017340</td>\n",
       "      <td>-0.038748</td>\n",
       "      <td>-0.048429</td>\n",
       "      <td>-0.066637</td>\n",
       "      <td>0.113216</td>\n",
       "      <td>0.079393</td>\n",
       "      <td>-0.195193</td>\n",
       "      <td>0.006304</td>\n",
       "      <td>-0.122671</td>\n",
       "      <td>-0.062676</td>\n",
       "      <td>...</td>\n",
       "      <td>-0.023968</td>\n",
       "      <td>0.019185</td>\n",
       "      <td>-0.087805</td>\n",
       "      <td>-0.096851</td>\n",
       "      <td>-0.103535</td>\n",
       "      <td>-0.061406</td>\n",
       "      <td>-0.149730</td>\n",
       "      <td>-0.153666</td>\n",
       "      <td>0.078729</td>\n",
       "      <td>-0.033800</td>\n",
       "    </tr>\n",
       "    <tr>\n",
       "      <th>9</th>\n",
       "      <th>tired</th>\n",
       "      <td>-0.024356</td>\n",
       "      <td>-0.146497</td>\n",
       "      <td>-0.029554</td>\n",
       "      <td>-0.229858</td>\n",
       "      <td>0.047218</td>\n",
       "      <td>-0.080961</td>\n",
       "      <td>-0.058476</td>\n",
       "      <td>0.185955</td>\n",
       "      <td>-0.189218</td>\n",
       "      <td>-0.015906</td>\n",
       "      <td>...</td>\n",
       "      <td>-0.091641</td>\n",
       "      <td>0.019129</td>\n",
       "      <td>0.010854</td>\n",
       "      <td>0.142129</td>\n",
       "      <td>0.119668</td>\n",
       "      <td>-0.010700</td>\n",
       "      <td>-0.037982</td>\n",
       "      <td>-0.123478</td>\n",
       "      <td>-0.037279</td>\n",
       "      <td>0.121526</td>\n",
       "    </tr>\n",
       "  </tbody>\n",
       "</table>\n",
       "<p>10 rows × 50 columns</p>\n",
       "</div>"
      ],
      "text/plain": [
       "                       0         1         2         3         4         5   \\\n",
       "index token_str                                                               \n",
       "0     the        0.084141  0.050259 -0.083018  0.024498  0.069501 -0.008949   \n",
       "1     cat        0.102728 -0.113679 -0.121859 -0.003561  0.050344  0.123874   \n",
       "2     sat       -0.147525  0.148672  0.060289 -0.172100  0.268094 -0.148795   \n",
       "3     on         0.060805  0.050607 -0.033781  0.038917  0.005448 -0.016086   \n",
       "4     the        0.084141  0.050259 -0.083018  0.024498  0.069501 -0.008949   \n",
       "5     mat       -0.244232 -0.002061 -0.053103  0.046738  0.020867 -0.115777   \n",
       "6     because    0.103980 -0.059247  0.011044 -0.035191  0.030792  0.064746   \n",
       "7     it         0.117910 -0.042537 -0.021002 -0.010208  0.097908  0.066842   \n",
       "8     was        0.017340 -0.038748 -0.048429 -0.066637  0.113216  0.079393   \n",
       "9     tired     -0.024356 -0.146497 -0.029554 -0.229858  0.047218 -0.080961   \n",
       "\n",
       "                       6         7         8         9   ...        40  \\\n",
       "index token_str                                          ...             \n",
       "0     the       -0.100020 -0.035955 -0.000133 -0.132170  ... -0.060129   \n",
       "1     cat       -0.152684 -0.156334  0.144045 -0.044752  ... -0.022115   \n",
       "2     sat       -0.148104  0.008912 -0.202746 -0.300344  ... -0.040883   \n",
       "3     on        -0.184939 -0.039949 -0.010810 -0.082663  ... -0.018018   \n",
       "4     the       -0.100020 -0.035955 -0.000133 -0.132170  ... -0.060129   \n",
       "5     mat        0.128086 -0.260565  0.206520 -0.056202  ...  0.108483   \n",
       "6     because   -0.090228  0.073524 -0.014316  0.051311  ... -0.130782   \n",
       "7     it        -0.064672 -0.036909 -0.006912  0.020255  ...  0.009647   \n",
       "8     was       -0.195193  0.006304 -0.122671 -0.062676  ... -0.023968   \n",
       "9     tired     -0.058476  0.185955 -0.189218 -0.015906  ... -0.091641   \n",
       "\n",
       "                       41        42        43        44        45        46  \\\n",
       "index token_str                                                               \n",
       "0     the       -0.031702 -0.069966 -0.009187 -0.089075  0.037813  0.000561   \n",
       "1     cat        0.109209 -0.098352  0.157571  0.206547 -0.063915  0.094461   \n",
       "2     sat        0.025060 -0.061873  0.210501 -0.040814  0.002442  0.062892   \n",
       "3     on         0.012548 -0.040366 -0.078650 -0.036898  0.012295  0.019955   \n",
       "4     the       -0.031702 -0.069966 -0.009187 -0.089075  0.037813  0.000561   \n",
       "5     mat        0.186118 -0.251197  0.140972  0.213509 -0.082331  0.059638   \n",
       "6     because    0.031401  0.034518  0.148937 -0.002531 -0.015782 -0.097303   \n",
       "7     it        -0.019383 -0.003451  0.021473 -0.138367  0.094624 -0.019267   \n",
       "8     was        0.019185 -0.087805 -0.096851 -0.103535 -0.061406 -0.149730   \n",
       "9     tired      0.019129  0.010854  0.142129  0.119668 -0.010700 -0.037982   \n",
       "\n",
       "                       47        48        49  \n",
       "index token_str                                \n",
       "0     the       -0.037060 -0.023177 -0.158180  \n",
       "1     cat       -0.286057  0.161706  0.053954  \n",
       "2     sat       -0.272380  0.019152 -0.097795  \n",
       "3     on        -0.014432  0.046652 -0.105113  \n",
       "4     the       -0.037060 -0.023177 -0.158180  \n",
       "5     mat       -0.334776  0.035965 -0.070794  \n",
       "6     because    0.013357 -0.021484  0.033728  \n",
       "7     it        -0.008419 -0.018871  0.032388  \n",
       "8     was       -0.153666  0.078729 -0.033800  \n",
       "9     tired     -0.123478 -0.037279  0.121526  \n",
       "\n",
       "[10 rows x 50 columns]"
      ]
     },
     "execution_count": 139,
     "metadata": {},
     "output_type": "execute_result"
    }
   ],
   "source": [
    "embed_sentence(test_sentence)"
   ]
  },
  {
   "cell_type": "markdown",
   "id": "aeacf35a-1d3a-4df8-b50d-d5edcfe64ccf",
   "metadata": {
    "editable": true,
    "slideshow": {
     "slide_type": ""
    },
    "tags": []
   },
   "source": [
    "# Get $Q$, $K$, and $V$\n",
    "\n",
    "In a real model (like GPT, BERT, etc.), these weights are not random — they are learned through gradient descent during training."
   ]
  },
  {
   "cell_type": "markdown",
   "id": "86a4fae1-3528-4ffd-9a7b-768d79c4ca7b",
   "metadata": {
    "editable": true,
    "slideshow": {
     "slide_type": ""
    },
    "tags": []
   },
   "source": [
    "Define $\\Large d_k$."
   ]
  },
  {
   "cell_type": "code",
   "execution_count": 37,
   "id": "19549b4f-94c1-407b-bbbe-212921ed85a0",
   "metadata": {
    "editable": true,
    "slideshow": {
     "slide_type": ""
    },
    "tags": []
   },
   "outputs": [],
   "source": [
    "embedding_dim = E.shape[1]\n",
    "d_k = embedding_dim // 3"
   ]
  },
  {
   "cell_type": "code",
   "execution_count": 38,
   "id": "5c13a011-d5be-4668-bce8-4b78eb17becc",
   "metadata": {
    "editable": true,
    "slideshow": {
     "slide_type": ""
    },
    "tags": []
   },
   "outputs": [
    {
     "data": {
      "text/plain": [
       "16"
      ]
     },
     "execution_count": 38,
     "metadata": {},
     "output_type": "execute_result"
    }
   ],
   "source": [
    "d_k"
   ]
  },
  {
   "cell_type": "markdown",
   "id": "2ff0ad6e-5f8a-4a31-9c6b-a9d460ef6f80",
   "metadata": {},
   "source": [
    "# Trained Version"
   ]
  },
  {
   "cell_type": "code",
   "execution_count": 220,
   "id": "32e8ae05-f9b8-4ab9-ad9d-545163184651",
   "metadata": {
    "editable": true,
    "slideshow": {
     "slide_type": ""
    },
    "tags": []
   },
   "outputs": [],
   "source": [
    "class SelfAttention(nn.Module):\n",
    "    \n",
    "    def __init__(self, embedding_dim, d_k):\n",
    "        super().__init__()\n",
    "\n",
    "        # We create simple linear models\n",
    "        self.W_q = nn.Linear(embedding_dim, d_k)\n",
    "        self.W_k = nn.Linear(embedding_dim, d_k)\n",
    "        self.W_v = nn.Linear(embedding_dim, d_k)\n",
    "\n",
    "    def forward(self, sentence):\n",
    "\n",
    "        x_df = embed_sentence(sentence)\n",
    "        x = torch.tensor(x_df.values, dtype=torch.float32)  # convert to PyTorch tensor\n",
    "\n",
    "        Q = self.W_q(x)\n",
    "        K = self.W_k(x)\n",
    "        V = self.W_v(x)\n",
    "        \n",
    "        self.scores = Q @ K.T / np.sqrt(d_k)\n",
    "        self.weights = F.softmax(self.scores, dim=-1)\n",
    "        self.output = self.weights @ V\n",
    "\n",
    "        self.x = x\n",
    "        self.Q = Q\n",
    "        self.K = K\n",
    "        self.V = V\n",
    "\n",
    "    def plot(self):\n",
    "\n",
    "        w = h = len(self.x) * .5\n",
    "\n",
    "        plt.figure(figsize=(w,h))\n",
    "        sns.heatmap(self.weights.detach().numpy(), \n",
    "                    annot=False, \n",
    "                    cbar=True,\n",
    "                    square=True,\n",
    "                    cmap=\"YlGnBu\",\n",
    "                    xticklabels=sentence, \n",
    "                    yticklabels=sentence)\n",
    "        plt.title(\"Attention Weights Heatmap\")\n",
    "        plt.xlabel(\"Key\")\n",
    "        plt.ylabel(\"Query\")\n",
    "        plt.tight_layout()\n",
    "        plt.show()\n",
    "        "
   ]
  },
  {
   "cell_type": "code",
   "execution_count": 221,
   "id": "8805194f-78e3-4fc3-961a-539d56f25677",
   "metadata": {
    "editable": true,
    "slideshow": {
     "slide_type": ""
    },
    "tags": []
   },
   "outputs": [
    {
     "data": {
      "image/png": "[encoded data removed]",
      "text/plain": [
       "<Figure size 500x500 with 2 Axes>"
      ]
     },
     "metadata": {},
     "output_type": "display_data"
    }
   ],
   "source": [
    "attention_layer = SelfAttention(embedding_dim, d_k)\n",
    "attention_layer(\"The cat sat on the mat because it was tired\")\n",
    "attention_layer.plot()"
   ]
  },
  {
   "cell_type": "markdown",
   "id": "d626dd04-236d-4a0e-947c-90896a383042",
   "metadata": {
    "editable": true,
    "slideshow": {
     "slide_type": ""
    },
    "tags": []
   },
   "source": [
    "# Untrained Version"
   ]
  },
  {
   "cell_type": "code",
   "execution_count": 212,
   "id": "0e10e816-c852-4574-847e-d79740eb2371",
   "metadata": {
    "editable": true,
    "slideshow": {
     "slide_type": ""
    },
    "tags": []
   },
   "outputs": [],
   "source": [
    "def softmax(df):\n",
    "    # Subtract row-wise max for numerical stability\n",
    "    max_per_row = df.max(axis=1)\n",
    "    exps = np.exp(df.sub(max_per_row, axis=0))\n",
    "    return exps.div(exps.sum(axis=1), axis=0)\n",
    "    \n",
    "def compute_attention(sentence):\n",
    "\n",
    "    global E\n",
    "    \n",
    "    embedding_dim = E.shape[1]\n",
    "    d_k = embedding_dim // 2\n",
    "\n",
    "    sentence = sentence.lower().split()\n",
    "    X = embed_sentence(sentence)\n",
    "\n",
    "    # np.random.seed(42)\n",
    "    W_q = pd.DataFrame(np.random.randn(embedding_dim, d_k))\n",
    "    W_k = pd.DataFrame(np.random.randn(embedding_dim, d_k))\n",
    "    W_v = pd.DataFrame(np.random.randn(embedding_dim, d_k))\n",
    "    Q = X @ W_q\n",
    "    K = X @ W_k\n",
    "    V = X @ W_v\n",
    "\n",
    "    attention_scores = Q @ K.T\n",
    "    attention_weights = softmax(attention_scores) / np.sqrt(d_k)\n",
    "    context = attention_weights @ V\n",
    "\n",
    "    w = h = len(X) * .5\n",
    "\n",
    "    plt.figure(figsize=(w, h))\n",
    "    sns.heatmap(attention_weights, annot=False, cmap='Spectral', cbar=False, center=0, xticklabels=sentence, yticklabels=sentence, square=True)\n",
    "    plt.title(\"Attention Weights Heatmap\")\n",
    "    plt.xlabel(\"Key\")\n",
    "    plt.ylabel(\"Query\")\n",
    "    plt.tight_layout()\n",
    "    plt.show()\n",
    "\n",
    "\n",
    "    return attention_scores, attention_weights, context"
   ]
  },
  {
   "cell_type": "code",
   "execution_count": 213,
   "id": "f51dd3f5-6e4e-44da-bb56-a690917888db",
   "metadata": {
    "editable": true,
    "slideshow": {
     "slide_type": ""
    },
    "tags": []
   },
   "outputs": [
    {
     "data": {
      "image/png": "[encoded data removed]",
      "text/plain": [
       "<Figure size 500x500 with 1 Axes>"
      ]
     },
     "metadata": {},
     "output_type": "display_data"
    }
   ],
   "source": [
    "s, w, c = compute_attention(\"The cat sat on the mat because it was tired\")"
   ]
  },
  {
   "cell_type": "code",
   "execution_count": 214,
   "id": "704f1361-966b-4dfe-8b04-aec5a80f1d0f",
   "metadata": {
    "editable": true,
    "slideshow": {
     "slide_type": ""
    },
    "tags": []
   },
   "outputs": [
    {
     "data": {
      "image/png": "[encoded data removed]",
      "text/plain": [
       "<Figure size 500x500 with 1 Axes>"
      ]
     },
     "metadata": {},
     "output_type": "display_data"
    }
   ],
   "source": [
    "s, w, c = compute_attention(\"man is to king as woman is to queen\")"
   ]
  },
  {
   "cell_type": "code",
   "execution_count": 215,
   "id": "7761ebd6-d7b0-487f-af05-6a836401bdf1",
   "metadata": {
    "editable": true,
    "slideshow": {
     "slide_type": ""
    },
    "tags": []
   },
   "outputs": [
    {
     "data": {
      "image/png": "[encoded data removed]",
      "text/plain": [
       "<Figure size 500x500 with 1 Axes>"
      ]
     },
     "metadata": {},
     "output_type": "display_data"
    }
   ],
   "source": [
    "x,y,z = compute_attention(\"He told me not worry but I should have asked her first\")"
   ]
  },
  {
   "cell_type": "code",
   "execution_count": 216,
   "id": "e36ad645-e10d-4f18-ba6a-77f12bf89a2c",
   "metadata": {
    "editable": true,
    "slideshow": {
     "slide_type": ""
    },
    "tags": []
   },
   "outputs": [
    {
     "data": {
      "image/png": "[encoded data removed]",
      "text/plain": [
       "<Figure size 500x500 with 1 Axes>"
      ]
     },
     "metadata": {},
     "output_type": "display_data"
    }
   ],
   "source": [
    "_ = compute_attention(\"The spirit was willing but the flesh was weak\")"
   ]
  },
  {
   "cell_type": "code",
   "execution_count": 217,
   "id": "a1839db9-127b-4fc3-8833-f19ce1552bbf",
   "metadata": {
    "editable": true,
    "slideshow": {
     "slide_type": ""
    },
    "tags": []
   },
   "outputs": [
    {
     "data": {
      "image/png": "[encoded data removed]",
      "text/plain": [
       "<Figure size 500x500 with 1 Axes>"
      ]
     },
     "metadata": {},
     "output_type": "display_data"
    }
   ],
   "source": [
    "_ = compute_attention(\"The car slide down the mountain but it was not steep\")"
   ]
  },
  {
   "cell_type": "code",
   "execution_count": 218,
   "id": "6952fdf6-03d5-4b9b-b51c-728441b3908d",
   "metadata": {
    "editable": true,
    "slideshow": {
     "slide_type": ""
    },
    "tags": []
   },
   "outputs": [
    {
     "data": {
      "image/png": "[encoded data removed]",
      "text/plain": [
       "<Figure size 500x500 with 1 Axes>"
      ]
     },
     "metadata": {},
     "output_type": "display_data"
    }
   ],
   "source": [
    "_ = compute_attention(\"The car slide down the mountain but it was not moving fast\")"
   ]
  },
  {
   "cell_type": "code",
   "execution_count": 219,
   "id": "be11a48f-0899-4cd6-abaa-c274eabc5456",
   "metadata": {},
   "outputs": [
    {
     "data": {
      "image/png": "[encoded data removed]",
      "text/plain": [
       "<Figure size 500x500 with 1 Axes>"
      ]
     },
     "metadata": {},
     "output_type": "display_data"
    }
   ],
   "source": [
    "_ = compute_attention(\"You are not going to the store with her\")"
   ]
  },
  {
   "cell_type": "code",
   "execution_count": null,
   "id": "dedd5993-252e-4b31-99e5-79fbb0a66a15",
   "metadata": {},
   "outputs": [],
   "source": []
  }
 ],
 "metadata": {
  "kernelspec": {
   "display_name": "PyTorch 2.4.0",
   "language": "python",
   "name": "pytorch-2.4.0"
  },
  "language_info": {
   "codemirror_mode": {
    "name": "ipython",
    "version": 3
   },
   "file_extension": ".py",
   "mimetype": "text/x-python",
   "name": "python",
   "nbconvert_exporter": "python",
   "pygments_lexer": "ipython3",
   "version": "3.10.12"
  }
 },
 "nbformat": 4,
 "nbformat_minor": 5
}
