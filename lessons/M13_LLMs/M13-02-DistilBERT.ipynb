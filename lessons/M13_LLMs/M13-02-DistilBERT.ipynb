{
 "cells": [
  {
   "cell_type": "markdown",
   "id": "a6a13f1f-f9af-4e4c-ad1e-55add0ac8266",
   "metadata": {},
   "source": [
    "# Embeddings and Similarity with DistilBERT\n",
    "\n",
    "DS 5001 Text as Data"
   ]
  },
  {
   "cell_type": "code",
   "execution_count": 2,
   "id": "af7887d1-6cb2-4e76-8686-d8b9afe9f5bd",
   "metadata": {},
   "outputs": [],
   "source": [
    "# pip install transformers"
   ]
  },
  {
   "cell_type": "code",
   "execution_count": 32,
   "id": "863f2046-e559-4ed3-9dc1-31b3726eca0b",
   "metadata": {},
   "outputs": [],
   "source": [
    "import torch\n",
    "from transformers import AutoTokenizer, AutoModel\n",
    "from sklearn.metrics.pairwise import cosine_similarity\n",
    "import numpy as np\n",
    "import pandas as pd"
   ]
  },
  {
   "cell_type": "markdown",
   "id": "c3337938-501c-425a-b373-20cc1ab82d5f",
   "metadata": {},
   "source": [
    "# Load DistilBERT"
   ]
  },
  {
   "cell_type": "code",
   "execution_count": 21,
   "id": "ce429c66-d9ef-431a-bc4d-4f54219727aa",
   "metadata": {},
   "outputs": [
    {
     "data": {
      "application/vnd.jupyter.widget-view+json": {
       "model_id": "a561ecc4c0f14b1db66885b72875535d",
       "version_major": 2,
       "version_minor": 0
      },
      "text/plain": [
       "tokenizer_config.json:   0%|          | 0.00/48.0 [00:00<?, ?B/s]"
      ]
     },
     "metadata": {},
     "output_type": "display_data"
    },
    {
     "data": {
      "application/vnd.jupyter.widget-view+json": {
       "model_id": "15cc2c0e24d24f26a7cd07182bb89d49",
       "version_major": 2,
       "version_minor": 0
      },
      "text/plain": [
       "config.json:   0%|          | 0.00/483 [00:00<?, ?B/s]"
      ]
     },
     "metadata": {},
     "output_type": "display_data"
    },
    {
     "data": {
      "application/vnd.jupyter.widget-view+json": {
       "model_id": "ae827b1f0c2542ce8bcdb9345f448faa",
       "version_major": 2,
       "version_minor": 0
      },
      "text/plain": [
       "vocab.txt:   0%|          | 0.00/232k [00:00<?, ?B/s]"
      ]
     },
     "metadata": {},
     "output_type": "display_data"
    },
    {
     "data": {
      "application/vnd.jupyter.widget-view+json": {
       "model_id": "10fc8cb3c5104672861ced12d5539b4f",
       "version_major": 2,
       "version_minor": 0
      },
      "text/plain": [
       "tokenizer.json:   0%|          | 0.00/466k [00:00<?, ?B/s]"
      ]
     },
     "metadata": {},
     "output_type": "display_data"
    },
    {
     "name": "stderr",
     "output_type": "stream",
     "text": [
      "Xet Storage is enabled for this repo, but the 'hf_xet' package is not installed. Falling back to regular HTTP download. For better performance, install the package with: `pip install huggingface_hub[hf_xet]` or `pip install hf_xet`\n"
     ]
    },
    {
     "data": {
      "application/vnd.jupyter.widget-view+json": {
       "model_id": "41bcaea9a0be4f188a7f654e56808ac5",
       "version_major": 2,
       "version_minor": 0
      },
      "text/plain": [
       "model.safetensors:   0%|          | 0.00/268M [00:00<?, ?B/s]"
      ]
     },
     "metadata": {},
     "output_type": "display_data"
    }
   ],
   "source": [
    "model_name = \"distilbert-base-uncased\"\n",
    "tokenizer = AutoTokenizer.from_pretrained(model_name)\n",
    "model = AutoModel.from_pretrained(model_name)\n",
    "model.eval();"
   ]
  },
  {
   "cell_type": "markdown",
   "id": "cd7fe09b-e7fa-4077-8d77-5883303d5f77",
   "metadata": {},
   "source": [
    "# Define a helper to compute embeddings"
   ]
  },
  {
   "cell_type": "code",
   "execution_count": 22,
   "id": "599f5346-9499-4c26-a222-0616974a8898",
   "metadata": {},
   "outputs": [],
   "source": [
    "def get_embedding(text):\n",
    "    inputs = tokenizer(text, return_tensors=\"pt\", truncation=True, padding=True)\n",
    "    with torch.no_grad():\n",
    "        outputs = model(**inputs)\n",
    "    return outputs.last_hidden_state[:, 0, :].numpy()  # Use [CLS] token embedding"
   ]
  },
  {
   "cell_type": "markdown",
   "id": "26863106-fbcb-46d3-b1b7-284f9f85d08e",
   "metadata": {},
   "source": [
    "# Load a few lines from a text"
   ]
  },
  {
   "cell_type": "code",
   "execution_count": 23,
   "id": "721b110d-be50-4bb7-b3f8-ebff3f90e93f",
   "metadata": {},
   "outputs": [],
   "source": [
    "src_file = \"data/frankenstein.txt\""
   ]
  },
  {
   "cell_type": "code",
   "execution_count": 47,
   "id": "270c72e1-a376-4e78-bd2c-d49ade1e4086",
   "metadata": {},
   "outputs": [],
   "source": [
    "DOC = pd.DataFrame([line.strip() for line in open(src_file, 'r').readlines() if line.strip() != \"\"])\n",
    "DOC.columns = ['line_str']\n",
    "DOC.index.name = 'line_num'"
   ]
  },
  {
   "cell_type": "code",
   "execution_count": 48,
   "id": "9f4467b9-9f33-480f-9283-285af35d462c",
   "metadata": {},
   "outputs": [
    {
     "data": {
      "text/html": [
       "<div>\n",
       "<style scoped>\n",
       "    .dataframe tbody tr th:only-of-type {\n",
       "        vertical-align: middle;\n",
       "    }\n",
       "\n",
       "    .dataframe tbody tr th {\n",
       "        vertical-align: top;\n",
       "    }\n",
       "\n",
       "    .dataframe thead th {\n",
       "        text-align: right;\n",
       "    }\n",
       "</style>\n",
       "<table border=\"1\" class=\"dataframe\">\n",
       "  <thead>\n",
       "    <tr style=\"text-align: right;\">\n",
       "      <th></th>\n",
       "      <th>line_str</th>\n",
       "    </tr>\n",
       "    <tr>\n",
       "      <th>line_num</th>\n",
       "      <th></th>\n",
       "    </tr>\n",
       "  </thead>\n",
       "  <tbody>\n",
       "    <tr>\n",
       "      <th>0</th>\n",
       "      <td>Letter 1</td>\n",
       "    </tr>\n",
       "    <tr>\n",
       "      <th>1</th>\n",
       "      <td>_To Mrs. Saville, England._</td>\n",
       "    </tr>\n",
       "    <tr>\n",
       "      <th>2</th>\n",
       "      <td>St. Petersburgh, Dec. 11th, 17—.</td>\n",
       "    </tr>\n",
       "    <tr>\n",
       "      <th>3</th>\n",
       "      <td>You will rejoice to hear that no disaster has accompanied the</td>\n",
       "    </tr>\n",
       "    <tr>\n",
       "      <th>4</th>\n",
       "      <td>commencement of an enterprise which you have regarded with such evil</td>\n",
       "    </tr>\n",
       "    <tr>\n",
       "      <th>...</th>\n",
       "      <td>...</td>\n",
       "    </tr>\n",
       "    <tr>\n",
       "      <th>6382</th>\n",
       "      <td>will sleep in peace, or if it thinks, it will not surely think thus.</td>\n",
       "    </tr>\n",
       "    <tr>\n",
       "      <th>6383</th>\n",
       "      <td>Farewell.”</td>\n",
       "    </tr>\n",
       "    <tr>\n",
       "      <th>6384</th>\n",
       "      <td>He sprang from the cabin-window as he said this, upon the ice raft</td>\n",
       "    </tr>\n",
       "    <tr>\n",
       "      <th>6385</th>\n",
       "      <td>which lay close to the vessel.  He was soon borne away by the waves and</td>\n",
       "    </tr>\n",
       "    <tr>\n",
       "      <th>6386</th>\n",
       "      <td>lost in darkness and distance.</td>\n",
       "    </tr>\n",
       "  </tbody>\n",
       "</table>\n",
       "<p>6387 rows × 1 columns</p>\n",
       "</div>"
      ],
      "text/plain": [
       "                                                                         line_str\n",
       "line_num                                                                         \n",
       "0                                                                        Letter 1\n",
       "1                                                     _To Mrs. Saville, England._\n",
       "2                                                St. Petersburgh, Dec. 11th, 17—.\n",
       "3                   You will rejoice to hear that no disaster has accompanied the\n",
       "4            commencement of an enterprise which you have regarded with such evil\n",
       "...                                                                           ...\n",
       "6382         will sleep in peace, or if it thinks, it will not surely think thus.\n",
       "6383                                                                   Farewell.”\n",
       "6384           He sprang from the cabin-window as he said this, upon the ice raft\n",
       "6385      which lay close to the vessel.  He was soon borne away by the waves and\n",
       "6386                                               lost in darkness and distance.\n",
       "\n",
       "[6387 rows x 1 columns]"
      ]
     },
     "execution_count": 48,
     "metadata": {},
     "output_type": "execute_result"
    }
   ],
   "source": [
    "DOC"
   ]
  },
  {
   "cell_type": "code",
   "execution_count": 24,
   "id": "05009b18-ef7d-4f35-a796-c0f2c9021c31",
   "metadata": {},
   "outputs": [],
   "source": [
    "# with open(src_file, encoding=\"utf-8\") as f:\n",
    "#     lines = [line.strip() for line in f if line.strip() != \"\"]"
   ]
  },
  {
   "cell_type": "code",
   "execution_count": 49,
   "id": "6460866b-6dd2-46b4-8fbc-f26809d818fb",
   "metadata": {},
   "outputs": [],
   "source": [
    "# sample_passages = lines[:5]  # Choose first five paragraphs for demo"
   ]
  },
  {
   "cell_type": "code",
   "execution_count": 50,
   "id": "4380c5de-8f0d-412a-a986-26a29f8ccb00",
   "metadata": {},
   "outputs": [],
   "source": [
    "# sample_passages"
   ]
  },
  {
   "cell_type": "markdown",
   "id": "90ffda9c-ad78-48ea-8000-3718a4d152de",
   "metadata": {},
   "source": [
    "# Compute embeddings"
   ]
  },
  {
   "cell_type": "code",
   "execution_count": null,
   "id": "c578cb7a-ab86-44e1-ac80-57638b9d9c8d",
   "metadata": {
    "editable": true,
    "slideshow": {
     "slide_type": ""
    },
    "tags": []
   },
   "outputs": [],
   "source": [
    "EMB = DOC.line_str.apply(get_embedding)\n",
    "EMB = pd.DataFrame([pd.Series(row[0]) for row in EMB.values])"
   ]
  },
  {
   "cell_type": "markdown",
   "id": "d6848b1a-bbf0-4fcc-9120-f74fcfde3953",
   "metadata": {
    "editable": true,
    "slideshow": {
     "slide_type": ""
    },
    "tags": []
   },
   "source": [
    "# Pairwise similarity"
   ]
  },
  {
   "cell_type": "code",
   "execution_count": 34,
   "id": "f50541b1-2bf7-40d1-b608-88a1d9b3eab4",
   "metadata": {
    "editable": true,
    "slideshow": {
     "slide_type": ""
    },
    "tags": []
   },
   "outputs": [],
   "source": [
    "sim_matrix = cosine_similarity(embeddings)"
   ]
  },
  {
   "cell_type": "code",
   "execution_count": 77,
   "id": "5930b06e-1a1b-4779-90a2-13e965351e08",
   "metadata": {
    "editable": true,
    "slideshow": {
     "slide_type": ""
    },
    "tags": []
   },
   "outputs": [],
   "source": [
    "SIMS = pd.DataFrame(cosine_similarity(EMB))"
   ]
  },
  {
   "cell_type": "code",
   "execution_count": 78,
   "id": "8fce19b3-d8ea-4100-a4b6-5689d75e7448",
   "metadata": {
    "editable": true,
    "slideshow": {
     "slide_type": ""
    },
    "tags": []
   },
   "outputs": [
    {
     "data": {
      "text/html": [
       "<div>\n",
       "<style scoped>\n",
       "    .dataframe tbody tr th:only-of-type {\n",
       "        vertical-align: middle;\n",
       "    }\n",
       "\n",
       "    .dataframe tbody tr th {\n",
       "        vertical-align: top;\n",
       "    }\n",
       "\n",
       "    .dataframe thead th {\n",
       "        text-align: right;\n",
       "    }\n",
       "</style>\n",
       "<table border=\"1\" class=\"dataframe\">\n",
       "  <thead>\n",
       "    <tr style=\"text-align: right;\">\n",
       "      <th></th>\n",
       "      <th>0</th>\n",
       "      <th>1</th>\n",
       "      <th>2</th>\n",
       "      <th>3</th>\n",
       "      <th>4</th>\n",
       "      <th>5</th>\n",
       "      <th>6</th>\n",
       "      <th>7</th>\n",
       "      <th>8</th>\n",
       "      <th>9</th>\n",
       "      <th>...</th>\n",
       "      <th>6377</th>\n",
       "      <th>6378</th>\n",
       "      <th>6379</th>\n",
       "      <th>6380</th>\n",
       "      <th>6381</th>\n",
       "      <th>6382</th>\n",
       "      <th>6383</th>\n",
       "      <th>6384</th>\n",
       "      <th>6385</th>\n",
       "      <th>6386</th>\n",
       "    </tr>\n",
       "  </thead>\n",
       "  <tbody>\n",
       "    <tr>\n",
       "      <th>0</th>\n",
       "      <td>1.000000</td>\n",
       "      <td>0.915007</td>\n",
       "      <td>0.841304</td>\n",
       "      <td>0.935454</td>\n",
       "      <td>0.856641</td>\n",
       "      <td>0.937932</td>\n",
       "      <td>0.932358</td>\n",
       "      <td>0.959834</td>\n",
       "      <td>0.914672</td>\n",
       "      <td>0.926192</td>\n",
       "      <td>...</td>\n",
       "      <td>0.938372</td>\n",
       "      <td>0.866512</td>\n",
       "      <td>0.864856</td>\n",
       "      <td>0.896121</td>\n",
       "      <td>0.866028</td>\n",
       "      <td>0.873589</td>\n",
       "      <td>0.956218</td>\n",
       "      <td>0.897252</td>\n",
       "      <td>0.928944</td>\n",
       "      <td>0.897847</td>\n",
       "    </tr>\n",
       "    <tr>\n",
       "      <th>1</th>\n",
       "      <td>0.915007</td>\n",
       "      <td>1.000000</td>\n",
       "      <td>0.858061</td>\n",
       "      <td>0.907682</td>\n",
       "      <td>0.864672</td>\n",
       "      <td>0.908874</td>\n",
       "      <td>0.917725</td>\n",
       "      <td>0.917606</td>\n",
       "      <td>0.905153</td>\n",
       "      <td>0.907627</td>\n",
       "      <td>...</td>\n",
       "      <td>0.904148</td>\n",
       "      <td>0.872664</td>\n",
       "      <td>0.885705</td>\n",
       "      <td>0.880915</td>\n",
       "      <td>0.873422</td>\n",
       "      <td>0.866197</td>\n",
       "      <td>0.916288</td>\n",
       "      <td>0.892079</td>\n",
       "      <td>0.890111</td>\n",
       "      <td>0.886070</td>\n",
       "    </tr>\n",
       "    <tr>\n",
       "      <th>2</th>\n",
       "      <td>0.841304</td>\n",
       "      <td>0.858061</td>\n",
       "      <td>1.000000</td>\n",
       "      <td>0.847964</td>\n",
       "      <td>0.856526</td>\n",
       "      <td>0.849992</td>\n",
       "      <td>0.843637</td>\n",
       "      <td>0.849841</td>\n",
       "      <td>0.855166</td>\n",
       "      <td>0.861975</td>\n",
       "      <td>...</td>\n",
       "      <td>0.830672</td>\n",
       "      <td>0.836010</td>\n",
       "      <td>0.844545</td>\n",
       "      <td>0.827492</td>\n",
       "      <td>0.825361</td>\n",
       "      <td>0.834220</td>\n",
       "      <td>0.827751</td>\n",
       "      <td>0.849063</td>\n",
       "      <td>0.835795</td>\n",
       "      <td>0.834834</td>\n",
       "    </tr>\n",
       "    <tr>\n",
       "      <th>3</th>\n",
       "      <td>0.935454</td>\n",
       "      <td>0.907682</td>\n",
       "      <td>0.847964</td>\n",
       "      <td>1.000000</td>\n",
       "      <td>0.906610</td>\n",
       "      <td>0.946110</td>\n",
       "      <td>0.965291</td>\n",
       "      <td>0.961159</td>\n",
       "      <td>0.938419</td>\n",
       "      <td>0.944174</td>\n",
       "      <td>...</td>\n",
       "      <td>0.966069</td>\n",
       "      <td>0.925255</td>\n",
       "      <td>0.931479</td>\n",
       "      <td>0.929550</td>\n",
       "      <td>0.914747</td>\n",
       "      <td>0.926476</td>\n",
       "      <td>0.957180</td>\n",
       "      <td>0.939144</td>\n",
       "      <td>0.949216</td>\n",
       "      <td>0.901663</td>\n",
       "    </tr>\n",
       "    <tr>\n",
       "      <th>4</th>\n",
       "      <td>0.856641</td>\n",
       "      <td>0.864672</td>\n",
       "      <td>0.856526</td>\n",
       "      <td>0.906610</td>\n",
       "      <td>1.000000</td>\n",
       "      <td>0.886968</td>\n",
       "      <td>0.906106</td>\n",
       "      <td>0.891526</td>\n",
       "      <td>0.895304</td>\n",
       "      <td>0.885050</td>\n",
       "      <td>...</td>\n",
       "      <td>0.867511</td>\n",
       "      <td>0.889048</td>\n",
       "      <td>0.901962</td>\n",
       "      <td>0.873760</td>\n",
       "      <td>0.887367</td>\n",
       "      <td>0.908602</td>\n",
       "      <td>0.853779</td>\n",
       "      <td>0.892870</td>\n",
       "      <td>0.868122</td>\n",
       "      <td>0.855968</td>\n",
       "    </tr>\n",
       "    <tr>\n",
       "      <th>...</th>\n",
       "      <td>...</td>\n",
       "      <td>...</td>\n",
       "      <td>...</td>\n",
       "      <td>...</td>\n",
       "      <td>...</td>\n",
       "      <td>...</td>\n",
       "      <td>...</td>\n",
       "      <td>...</td>\n",
       "      <td>...</td>\n",
       "      <td>...</td>\n",
       "      <td>...</td>\n",
       "      <td>...</td>\n",
       "      <td>...</td>\n",
       "      <td>...</td>\n",
       "      <td>...</td>\n",
       "      <td>...</td>\n",
       "      <td>...</td>\n",
       "      <td>...</td>\n",
       "      <td>...</td>\n",
       "      <td>...</td>\n",
       "      <td>...</td>\n",
       "    </tr>\n",
       "    <tr>\n",
       "      <th>6382</th>\n",
       "      <td>0.873589</td>\n",
       "      <td>0.866197</td>\n",
       "      <td>0.834220</td>\n",
       "      <td>0.926476</td>\n",
       "      <td>0.908602</td>\n",
       "      <td>0.903611</td>\n",
       "      <td>0.899346</td>\n",
       "      <td>0.907966</td>\n",
       "      <td>0.926397</td>\n",
       "      <td>0.918466</td>\n",
       "      <td>...</td>\n",
       "      <td>0.912599</td>\n",
       "      <td>0.947066</td>\n",
       "      <td>0.929860</td>\n",
       "      <td>0.921910</td>\n",
       "      <td>0.940568</td>\n",
       "      <td>1.000000</td>\n",
       "      <td>0.884384</td>\n",
       "      <td>0.934326</td>\n",
       "      <td>0.908069</td>\n",
       "      <td>0.901094</td>\n",
       "    </tr>\n",
       "    <tr>\n",
       "      <th>6383</th>\n",
       "      <td>0.956218</td>\n",
       "      <td>0.916288</td>\n",
       "      <td>0.827751</td>\n",
       "      <td>0.957180</td>\n",
       "      <td>0.853779</td>\n",
       "      <td>0.938879</td>\n",
       "      <td>0.947704</td>\n",
       "      <td>0.969408</td>\n",
       "      <td>0.926612</td>\n",
       "      <td>0.940637</td>\n",
       "      <td>...</td>\n",
       "      <td>0.972868</td>\n",
       "      <td>0.887971</td>\n",
       "      <td>0.889336</td>\n",
       "      <td>0.912746</td>\n",
       "      <td>0.877551</td>\n",
       "      <td>0.884384</td>\n",
       "      <td>1.000000</td>\n",
       "      <td>0.909372</td>\n",
       "      <td>0.938497</td>\n",
       "      <td>0.901100</td>\n",
       "    </tr>\n",
       "    <tr>\n",
       "      <th>6384</th>\n",
       "      <td>0.897252</td>\n",
       "      <td>0.892079</td>\n",
       "      <td>0.849063</td>\n",
       "      <td>0.939144</td>\n",
       "      <td>0.892870</td>\n",
       "      <td>0.915351</td>\n",
       "      <td>0.914432</td>\n",
       "      <td>0.927746</td>\n",
       "      <td>0.940385</td>\n",
       "      <td>0.944473</td>\n",
       "      <td>...</td>\n",
       "      <td>0.943030</td>\n",
       "      <td>0.934193</td>\n",
       "      <td>0.923512</td>\n",
       "      <td>0.940680</td>\n",
       "      <td>0.916441</td>\n",
       "      <td>0.934326</td>\n",
       "      <td>0.909372</td>\n",
       "      <td>1.000000</td>\n",
       "      <td>0.961094</td>\n",
       "      <td>0.905422</td>\n",
       "    </tr>\n",
       "    <tr>\n",
       "      <th>6385</th>\n",
       "      <td>0.928944</td>\n",
       "      <td>0.890111</td>\n",
       "      <td>0.835795</td>\n",
       "      <td>0.949216</td>\n",
       "      <td>0.868122</td>\n",
       "      <td>0.941032</td>\n",
       "      <td>0.927222</td>\n",
       "      <td>0.951546</td>\n",
       "      <td>0.942536</td>\n",
       "      <td>0.952051</td>\n",
       "      <td>...</td>\n",
       "      <td>0.950941</td>\n",
       "      <td>0.912986</td>\n",
       "      <td>0.907493</td>\n",
       "      <td>0.936688</td>\n",
       "      <td>0.902625</td>\n",
       "      <td>0.908069</td>\n",
       "      <td>0.938497</td>\n",
       "      <td>0.961094</td>\n",
       "      <td>1.000000</td>\n",
       "      <td>0.915980</td>\n",
       "    </tr>\n",
       "    <tr>\n",
       "      <th>6386</th>\n",
       "      <td>0.897847</td>\n",
       "      <td>0.886070</td>\n",
       "      <td>0.834834</td>\n",
       "      <td>0.901663</td>\n",
       "      <td>0.855968</td>\n",
       "      <td>0.914944</td>\n",
       "      <td>0.905521</td>\n",
       "      <td>0.935886</td>\n",
       "      <td>0.913115</td>\n",
       "      <td>0.905654</td>\n",
       "      <td>...</td>\n",
       "      <td>0.896848</td>\n",
       "      <td>0.908496</td>\n",
       "      <td>0.902279</td>\n",
       "      <td>0.947629</td>\n",
       "      <td>0.931467</td>\n",
       "      <td>0.901094</td>\n",
       "      <td>0.901100</td>\n",
       "      <td>0.905422</td>\n",
       "      <td>0.915980</td>\n",
       "      <td>1.000000</td>\n",
       "    </tr>\n",
       "  </tbody>\n",
       "</table>\n",
       "<p>6387 rows × 6387 columns</p>\n",
       "</div>"
      ],
      "text/plain": [
       "          0         1         2         3         4         5         6     \\\n",
       "0     1.000000  0.915007  0.841304  0.935454  0.856641  0.937932  0.932358   \n",
       "1     0.915007  1.000000  0.858061  0.907682  0.864672  0.908874  0.917725   \n",
       "2     0.841304  0.858061  1.000000  0.847964  0.856526  0.849992  0.843637   \n",
       "3     0.935454  0.907682  0.847964  1.000000  0.906610  0.946110  0.965291   \n",
       "4     0.856641  0.864672  0.856526  0.906610  1.000000  0.886968  0.906106   \n",
       "...        ...       ...       ...       ...       ...       ...       ...   \n",
       "6382  0.873589  0.866197  0.834220  0.926476  0.908602  0.903611  0.899346   \n",
       "6383  0.956218  0.916288  0.827751  0.957180  0.853779  0.938879  0.947704   \n",
       "6384  0.897252  0.892079  0.849063  0.939144  0.892870  0.915351  0.914432   \n",
       "6385  0.928944  0.890111  0.835795  0.949216  0.868122  0.941032  0.927222   \n",
       "6386  0.897847  0.886070  0.834834  0.901663  0.855968  0.914944  0.905521   \n",
       "\n",
       "          7         8         9     ...      6377      6378      6379  \\\n",
       "0     0.959834  0.914672  0.926192  ...  0.938372  0.866512  0.864856   \n",
       "1     0.917606  0.905153  0.907627  ...  0.904148  0.872664  0.885705   \n",
       "2     0.849841  0.855166  0.861975  ...  0.830672  0.836010  0.844545   \n",
       "3     0.961159  0.938419  0.944174  ...  0.966069  0.925255  0.931479   \n",
       "4     0.891526  0.895304  0.885050  ...  0.867511  0.889048  0.901962   \n",
       "...        ...       ...       ...  ...       ...       ...       ...   \n",
       "6382  0.907966  0.926397  0.918466  ...  0.912599  0.947066  0.929860   \n",
       "6383  0.969408  0.926612  0.940637  ...  0.972868  0.887971  0.889336   \n",
       "6384  0.927746  0.940385  0.944473  ...  0.943030  0.934193  0.923512   \n",
       "6385  0.951546  0.942536  0.952051  ...  0.950941  0.912986  0.907493   \n",
       "6386  0.935886  0.913115  0.905654  ...  0.896848  0.908496  0.902279   \n",
       "\n",
       "          6380      6381      6382      6383      6384      6385      6386  \n",
       "0     0.896121  0.866028  0.873589  0.956218  0.897252  0.928944  0.897847  \n",
       "1     0.880915  0.873422  0.866197  0.916288  0.892079  0.890111  0.886070  \n",
       "2     0.827492  0.825361  0.834220  0.827751  0.849063  0.835795  0.834834  \n",
       "3     0.929550  0.914747  0.926476  0.957180  0.939144  0.949216  0.901663  \n",
       "4     0.873760  0.887367  0.908602  0.853779  0.892870  0.868122  0.855968  \n",
       "...        ...       ...       ...       ...       ...       ...       ...  \n",
       "6382  0.921910  0.940568  1.000000  0.884384  0.934326  0.908069  0.901094  \n",
       "6383  0.912746  0.877551  0.884384  1.000000  0.909372  0.938497  0.901100  \n",
       "6384  0.940680  0.916441  0.934326  0.909372  1.000000  0.961094  0.905422  \n",
       "6385  0.936688  0.902625  0.908069  0.938497  0.961094  1.000000  0.915980  \n",
       "6386  0.947629  0.931467  0.901094  0.901100  0.905422  0.915980  1.000000  \n",
       "\n",
       "[6387 rows x 6387 columns]"
      ]
     },
     "execution_count": 78,
     "metadata": {},
     "output_type": "execute_result"
    }
   ],
   "source": [
    "SIMS"
   ]
  },
  {
   "cell_type": "code",
   "execution_count": null,
   "id": "6b49a08c-249e-4f28-822c-00539f5591dd",
   "metadata": {
    "editable": true,
    "slideshow": {
     "slide_type": ""
    },
    "tags": []
   },
   "outputs": [],
   "source": []
  },
  {
   "cell_type": "code",
   "execution_count": 80,
   "id": "79f59b00-9716-4f51-b4f5-bb1e114d4a59",
   "metadata": {
    "editable": true,
    "slideshow": {
     "slide_type": ""
    },
    "tags": []
   },
   "outputs": [
    {
     "data": {
      "text/plain": [
       "line_str    He sprang from the cabin-window as he said this, upon the ice raft\n",
       "Name: 6384, dtype: object"
      ]
     },
     "execution_count": 80,
     "metadata": {},
     "output_type": "execute_result"
    }
   ],
   "source": [
    "DOC.loc[6384]"
   ]
  },
  {
   "cell_type": "code",
   "execution_count": 86,
   "id": "1605181e-eee8-4a39-a34e-d8db666b8361",
   "metadata": {
    "editable": true,
    "slideshow": {
     "slide_type": ""
    },
    "tags": []
   },
   "outputs": [
    {
     "data": {
      "text/html": [
       "<div>\n",
       "<style scoped>\n",
       "    .dataframe tbody tr th:only-of-type {\n",
       "        vertical-align: middle;\n",
       "    }\n",
       "\n",
       "    .dataframe tbody tr th {\n",
       "        vertical-align: top;\n",
       "    }\n",
       "\n",
       "    .dataframe thead th {\n",
       "        text-align: right;\n",
       "    }\n",
       "</style>\n",
       "<table border=\"1\" class=\"dataframe\">\n",
       "  <thead>\n",
       "    <tr style=\"text-align: right;\">\n",
       "      <th></th>\n",
       "      <th>line_str</th>\n",
       "    </tr>\n",
       "  </thead>\n",
       "  <tbody>\n",
       "    <tr>\n",
       "      <th>205</th>\n",
       "      <td>regions I am about to explore.</td>\n",
       "    </tr>\n",
       "    <tr>\n",
       "      <th>588</th>\n",
       "      <td>hair was the brightest living gold, and despite the poverty of her</td>\n",
       "    </tr>\n",
       "    <tr>\n",
       "      <th>360</th>\n",
       "      <td>so attractive and amiable.</td>\n",
       "    </tr>\n",
       "    <tr>\n",
       "      <th>678</th>\n",
       "      <td>indiscriminately.  I confess that neither the structure of languages,</td>\n",
       "    </tr>\n",
       "    <tr>\n",
       "      <th>250</th>\n",
       "      <td>recording it, although it is very probable that you will see me before</td>\n",
       "    </tr>\n",
       "  </tbody>\n",
       "</table>\n",
       "</div>"
      ],
      "text/plain": [
       "                                                                   line_str\n",
       "205                                          regions I am about to explore.\n",
       "588      hair was the brightest living gold, and despite the poverty of her\n",
       "360                                              so attractive and amiable.\n",
       "678   indiscriminately.  I confess that neither the structure of languages,\n",
       "250  recording it, although it is very probable that you will see me before"
      ]
     },
     "execution_count": 86,
     "metadata": {},
     "output_type": "execute_result"
    }
   ],
   "source": [
    "DOC.loc[EMB.loc[6384].sort_values(ascending=False).head().index]"
   ]
  },
  {
   "cell_type": "code",
   "execution_count": 36,
   "id": "f51e33c7-5c49-4339-bcad-b95431c17840",
   "metadata": {
    "editable": true,
    "slideshow": {
     "slide_type": ""
    },
    "tags": []
   },
   "outputs": [],
   "source": [
    "similarity_df = pd.DataFrame(sim_matrix, index=[f\"P{i+1}\" for i in range(len(sample_passages))],\n",
    "                              columns=[f\"P{i+1}\" for i in range(len(sample_passages))])"
   ]
  },
  {
   "cell_type": "code",
   "execution_count": 37,
   "id": "c1e54f7b-64b1-4895-9b1f-5ae6dd4099e8",
   "metadata": {
    "editable": true,
    "slideshow": {
     "slide_type": ""
    },
    "tags": []
   },
   "outputs": [
    {
     "name": "stdout",
     "output_type": "stream",
     "text": [
      "P1: Letter 1...\n",
      "P2: _To Mrs. Saville, England._...\n",
      "P3: St. Petersburgh, Dec. 11th, 17—....\n",
      "P4: You will rejoice to hear that no disaster has accompanied the...\n",
      "P5: commencement of an enterprise which you have regarded with such evil...\n"
     ]
    }
   ],
   "source": [
    "for i, p in enumerate(sample_passages):\n",
    "    print(f\"P{i+1}: {p[:80]}...\")"
   ]
  },
  {
   "cell_type": "code",
   "execution_count": null,
   "id": "ef38247f-8bbc-45da-b05f-e6955a7b874a",
   "metadata": {},
   "outputs": [
    {
     "name": "stdout",
     "output_type": "stream",
     "text": [
      "Sample Passages:\n",
      "P1: Letter 1...\n",
      "P2: _To Mrs. Saville, England._...\n",
      "P3: St. Petersburgh, Dec. 11th, 17—....\n",
      "P4: You will rejoice to hear that no disaster has accompanied the...\n",
      "P5: commencement of an enterprise which you have regarded with such evil...\n",
      "\n",
      "Cosine Similarity Matrix:\n"
     ]
    },
    {
     "data": {
      "text/html": [
       "<div>\n",
       "<style scoped>\n",
       "    .dataframe tbody tr th:only-of-type {\n",
       "        vertical-align: middle;\n",
       "    }\n",
       "\n",
       "    .dataframe tbody tr th {\n",
       "        vertical-align: top;\n",
       "    }\n",
       "\n",
       "    .dataframe thead th {\n",
       "        text-align: right;\n",
       "    }\n",
       "</style>\n",
       "<table border=\"1\" class=\"dataframe\">\n",
       "  <thead>\n",
       "    <tr style=\"text-align: right;\">\n",
       "      <th></th>\n",
       "      <th>P1</th>\n",
       "      <th>P2</th>\n",
       "      <th>P3</th>\n",
       "      <th>P4</th>\n",
       "      <th>P5</th>\n",
       "    </tr>\n",
       "  </thead>\n",
       "  <tbody>\n",
       "    <tr>\n",
       "      <th>P1</th>\n",
       "      <td>1.00</td>\n",
       "      <td>0.92</td>\n",
       "      <td>0.84</td>\n",
       "      <td>0.94</td>\n",
       "      <td>0.86</td>\n",
       "    </tr>\n",
       "    <tr>\n",
       "      <th>P2</th>\n",
       "      <td>0.92</td>\n",
       "      <td>1.00</td>\n",
       "      <td>0.86</td>\n",
       "      <td>0.91</td>\n",
       "      <td>0.86</td>\n",
       "    </tr>\n",
       "    <tr>\n",
       "      <th>P3</th>\n",
       "      <td>0.84</td>\n",
       "      <td>0.86</td>\n",
       "      <td>1.00</td>\n",
       "      <td>0.85</td>\n",
       "      <td>0.86</td>\n",
       "    </tr>\n",
       "    <tr>\n",
       "      <th>P4</th>\n",
       "      <td>0.94</td>\n",
       "      <td>0.91</td>\n",
       "      <td>0.85</td>\n",
       "      <td>1.00</td>\n",
       "      <td>0.91</td>\n",
       "    </tr>\n",
       "    <tr>\n",
       "      <th>P5</th>\n",
       "      <td>0.86</td>\n",
       "      <td>0.86</td>\n",
       "      <td>0.86</td>\n",
       "      <td>0.91</td>\n",
       "      <td>1.00</td>\n",
       "    </tr>\n",
       "  </tbody>\n",
       "</table>\n",
       "</div>"
      ],
      "text/plain": [
       "      P1    P2    P3    P4    P5\n",
       "P1  1.00  0.92  0.84  0.94  0.86\n",
       "P2  0.92  1.00  0.86  0.91  0.86\n",
       "P3  0.84  0.86  1.00  0.85  0.86\n",
       "P4  0.94  0.91  0.85  1.00  0.91\n",
       "P5  0.86  0.86  0.86  0.91  1.00"
      ]
     },
     "metadata": {},
     "output_type": "display_data"
    }
   ],
   "source": [
    "print(\"\\nCosine Similarity Matrix:\")\n",
    "display(similarity_df.round(2))"
   ]
  },
  {
   "cell_type": "code",
   "execution_count": 12,
   "id": "000f0075-cb34-4672-8799-d5f927091c1d",
   "metadata": {},
   "outputs": [
    {
     "data": {
      "text/plain": [
       "['The Project Gutenberg EBook of Persuasion, by Jane Austen',\n",
       " 'This eBook is for the use of anyone anywhere at no cost and with',\n",
       " 'almost no restrictions whatsoever.  You may copy it, give it away or',\n",
       " 're-use it under the terms of the Project Gutenberg License included',\n",
       " 'with this eBook or online at www.gutenberg.net']"
      ]
     },
     "execution_count": 12,
     "metadata": {},
     "output_type": "execute_result"
    }
   ],
   "source": [
    "sample_passages"
   ]
  },
  {
   "cell_type": "code",
   "execution_count": null,
   "id": "8d993f27-f87f-4a5f-839e-e0b734ec694c",
   "metadata": {},
   "outputs": [],
   "source": []
  }
 ],
 "metadata": {
  "kernelspec": {
   "display_name": "PyTorch 2.4.0",
   "language": "python",
   "name": "pytorch-2.4.0"
  },
  "language_info": {
   "codemirror_mode": {
    "name": "ipython",
    "version": 3
   },
   "file_extension": ".py",
   "mimetype": "text/x-python",
   "name": "python",
   "nbconvert_exporter": "python",
   "pygments_lexer": "ipython3",
   "version": "3.10.12"
  }
 },
 "nbformat": 4,
 "nbformat_minor": 5
}
