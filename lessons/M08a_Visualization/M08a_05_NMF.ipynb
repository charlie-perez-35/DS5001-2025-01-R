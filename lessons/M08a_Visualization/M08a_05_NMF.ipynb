{
 "cells": [
  {
   "cell_type": "markdown",
   "id": "d2321aef-dcb0-49c5-9ccd-a2a6a34bf711",
   "metadata": {},
   "source": [
    "# Exploring NMF \n",
    "\n",
    "DS 5010 Text as Data"
   ]
  },
  {
   "cell_type": "code",
   "execution_count": 1,
   "id": "616d5ff2-b938-4e1e-a373-42b9037d9639",
   "metadata": {},
   "outputs": [],
   "source": [
    "import pandas as pd\n",
    "import numpy as np"
   ]
  },
  {
   "cell_type": "code",
   "execution_count": 2,
   "id": "0d3d76bd-8f0c-4710-ac4c-380fed17b639",
   "metadata": {},
   "outputs": [],
   "source": [
    "from sklearn.decomposition import NMF"
   ]
  },
  {
   "cell_type": "code",
   "execution_count": 3,
   "id": "fbb7b8b2-9d78-4aa1-bf52-06db3d7b1549",
   "metadata": {},
   "outputs": [],
   "source": [
    "import plotly_express as px"
   ]
  },
  {
   "cell_type": "markdown",
   "id": "882669ab-7ecc-4ff0-838a-ea12ecdda9bc",
   "metadata": {},
   "source": [
    "# Set Up"
   ]
  },
  {
   "cell_type": "markdown",
   "id": "090f671b-3226-4d3e-b693-8bed61b7fcc6",
   "metadata": {
    "tags": []
   },
   "source": [
    "## Config"
   ]
  },
  {
   "cell_type": "code",
   "execution_count": 4,
   "id": "dfd1a939",
   "metadata": {
    "tags": []
   },
   "outputs": [],
   "source": [
    "import configparser\n",
    "config = configparser.ConfigParser()\n",
    "config.read('../../../env.ini')\n",
    "data_home = config['DEFAULT']['data_home']\n",
    "output_dir = config['DEFAULT']['output_dir']\n",
    "local_lib = config['DEFAULT']['local_lib']"
   ]
  },
  {
   "cell_type": "markdown",
   "id": "2d0929d2-15ee-4d76-9228-459d80c3574c",
   "metadata": {},
   "source": [
    "## Get Data\n",
    "\n",
    "We work with data from Recino's Spanish translation of the Mayan _Popol Vuh_."
   ]
  },
  {
   "cell_type": "code",
   "execution_count": 5,
   "id": "f223e639-82a4-4fd6-99eb-67b6cd7b099c",
   "metadata": {},
   "outputs": [],
   "source": [
    "OHCO = ['parte','capit','sent','token']"
   ]
  },
  {
   "cell_type": "code",
   "execution_count": 6,
   "id": "0b94e56d-c019-46aa-b23e-41acf53c9cb4",
   "metadata": {
    "scrolled": true
   },
   "outputs": [],
   "source": [
    "DOC = pd.read_csv(f\"{output_dir}/popolvuh/recinos-DOC.csv\").set_index(OHCO[:2])\n",
    "VOCAB = pd.read_csv(f\"{output_dir}/popolvuh/recinos-VOCABX.csv\").set_index('term_str')\n",
    "TOKEN = pd.read_csv(f\"{output_dir}/popolvuh/recinos-TOKEN.csv\").set_index(OHCO)"
   ]
  },
  {
   "cell_type": "markdown",
   "id": "421bec4c-ac14-4cc0-9566-dd9b8c411f53",
   "metadata": {},
   "source": [
    "We create a document-term matrix out of nouns, proper nouns, and verbs only.\n",
    "\n",
    "We also exclude stopwords."
   ]
  },
  {
   "cell_type": "code",
   "execution_count": 43,
   "id": "217b0245-80de-4139-b426-724f2d011411",
   "metadata": {
    "scrolled": true
   },
   "outputs": [],
   "source": [
    "DTM = TOKEN[TOKEN.token_pos.isin(['NOUN','PROPN','VERB'])].groupby(OHCO[:2]+['term_str']).term_str.count().unstack(fill_value=0)\n",
    "STOP = VOCAB[VOCAB.stop == True].index\n",
    "DTM = DTM[list(set(DTM.columns) - set(STOP))]"
   ]
  },
  {
   "cell_type": "markdown",
   "id": "6ae12d43-7dce-4e57-a5eb-0aa3374d5059",
   "metadata": {},
   "source": [
    "# Compute NMF\n",
    "\n",
    "Non-negative Matrix Factorization (NMF) is a **fast**, **interpretable**, and **purely analytical** dimensionality reduction technique. \n",
    "\n",
    "It factorizes a non-negative data matrix $V$ into two lower-rank non-negative matrices $W$ and $H$, such that $V \\approx WH$.\n",
    "\n",
    "LDA is epistemologically \"stronger\" in a sense, since it based on a model of how the data was generated.\n",
    "\n",
    "But this comes at the cost of interpretability, tractability, and sometimes stability.\n"
   ]
  },
  {
   "cell_type": "markdown",
   "id": "2c09c4c3-0a0b-41dd-8cfc-c3c1ac185410",
   "metadata": {},
   "source": [
    "Here, we work with a small number of topics because (1) the book is relatively small for a corpus, and (2) we know the book has roughly five major parts, each devoted to a general theme."
   ]
  },
  {
   "cell_type": "code",
   "execution_count": 66,
   "id": "5d92a231-5331-4fe1-842b-dc4eeecb9a40",
   "metadata": {},
   "outputs": [],
   "source": [
    "n_topics = 6\n",
    "nmf_engine = NMF(n_components=n_topics, max_iter=1000)"
   ]
  },
  {
   "cell_type": "markdown",
   "id": "d9fbcb02-3b1b-44a3-a5c4-34507560f85c",
   "metadata": {},
   "source": [
    "## THETA"
   ]
  },
  {
   "cell_type": "code",
   "execution_count": 67,
   "id": "dd0378ba-17fb-4d33-9c19-49ba71009fe0",
   "metadata": {},
   "outputs": [],
   "source": [
    "THETA = pd.DataFrame(nmf_engine.fit_transform(DTM), index=DTM.index)"
   ]
  },
  {
   "cell_type": "markdown",
   "id": "8c8e896b-7914-4a44-9bcf-9d9fb358b38b",
   "metadata": {},
   "source": [
    "## PHI"
   ]
  },
  {
   "cell_type": "code",
   "execution_count": 68,
   "id": "a4fe8b38-391c-431a-8d5c-f67a3ccb3e97",
   "metadata": {},
   "outputs": [],
   "source": [
    "PHI = pd.DataFrame(nmf_engine.components_, columns=DTM.columns)"
   ]
  },
  {
   "cell_type": "markdown",
   "id": "0b0ec6eb-5b7b-43ea-981b-61da21e25e02",
   "metadata": {},
   "source": [
    "## Topics"
   ]
  },
  {
   "cell_type": "code",
   "execution_count": 69,
   "id": "7e4677c7-cc99-4b1b-bb40-0bb933b28681",
   "metadata": {},
   "outputs": [],
   "source": [
    "n_terms = 3\n",
    "TOPIC = PHI.T.apply(lambda x: ', '.join(x.sort_values(ascending=False).head(n_terms).index)).T.to_frame('top_terms')"
   ]
  },
  {
   "cell_type": "code",
   "execution_count": 70,
   "id": "3cafdfd8-f453-4dbc-ae75-c4475bb290f9",
   "metadata": {},
   "outputs": [
    {
     "data": {
      "text/html": [
       "<div>\n",
       "<style scoped>\n",
       "    .dataframe tbody tr th:only-of-type {\n",
       "        vertical-align: middle;\n",
       "    }\n",
       "\n",
       "    .dataframe tbody tr th {\n",
       "        vertical-align: top;\n",
       "    }\n",
       "\n",
       "    .dataframe thead th {\n",
       "        text-align: right;\n",
       "    }\n",
       "</style>\n",
       "<table border=\"1\" class=\"dataframe\">\n",
       "  <thead>\n",
       "    <tr style=\"text-align: right;\">\n",
       "      <th></th>\n",
       "      <th>top_terms</th>\n",
       "    </tr>\n",
       "  </thead>\n",
       "  <tbody>\n",
       "    <tr>\n",
       "      <th>0</th>\n",
       "      <td>senores, xibalba, casa</td>\n",
       "    </tr>\n",
       "    <tr>\n",
       "      <th>1</th>\n",
       "      <td>tohil, tribus, mahucutah</td>\n",
       "    </tr>\n",
       "    <tr>\n",
       "      <th>2</th>\n",
       "      <td>abuela, ixbalanque, hunahpu</td>\n",
       "    </tr>\n",
       "    <tr>\n",
       "      <th>3</th>\n",
       "      <td>casa, senores, generacion</td>\n",
       "    </tr>\n",
       "    <tr>\n",
       "      <th>4</th>\n",
       "      <td>tierra, cielo, hombre</td>\n",
       "    </tr>\n",
       "    <tr>\n",
       "      <th>5</th>\n",
       "      <td>muchachos, xibalba, flores</td>\n",
       "    </tr>\n",
       "  </tbody>\n",
       "</table>\n",
       "</div>"
      ],
      "text/plain": [
       "                     top_terms\n",
       "0       senores, xibalba, casa\n",
       "1     tohil, tribus, mahucutah\n",
       "2  abuela, ixbalanque, hunahpu\n",
       "3    casa, senores, generacion\n",
       "4        tierra, cielo, hombre\n",
       "5   muchachos, xibalba, flores"
      ]
     },
     "execution_count": 70,
     "metadata": {},
     "output_type": "execute_result"
    }
   ],
   "source": [
    "TOPIC"
   ]
  },
  {
   "cell_type": "markdown",
   "id": "0f5ba91d-2996-41a1-8342-674009787895",
   "metadata": {},
   "source": [
    "Apply significance measures to the topics."
   ]
  },
  {
   "cell_type": "code",
   "execution_count": 71,
   "id": "0879fcb9-501a-4348-b4bf-a0dc998884af",
   "metadata": {
    "scrolled": true
   },
   "outputs": [],
   "source": [
    "PHIN = PHI + .01 # We apply a smoothing factor to prevent division by zero errors\n",
    "\n",
    "# Saliency\n",
    "PW = PHIN.sum() / PHIN.sum().sum()\n",
    "PTw = (PHIN / PHIN.sum()).T\n",
    "PT = (PHIN.T.sum() / PHIN.T.sum().sum())\n",
    "PHI_DST = PTw * np.log(PTw/PT)\n",
    "PHI_SAL = PHI_DST.T * PW\n",
    "TOPIC['top_sal'] = PHI_SAL.T.apply(lambda x: ', '.join(x.sort_values(ascending=False).head(n_terms).index)).T\n",
    "\n",
    "# Relevance\n",
    "λ = .5\n",
    "PHI_REL = λ * np.log(PHIN) + (1 - λ) * np.log(PHIN/PW)\n",
    "TOPIC['top_rel'] = PHI_REL.T.apply(lambda x: ', '.join(x.sort_values(ascending=False).head(n_terms).index)).T"
   ]
  },
  {
   "cell_type": "code",
   "execution_count": 72,
   "id": "48ae139b-dd0e-48e1-be9b-72fcc2fd80c5",
   "metadata": {},
   "outputs": [
    {
     "data": {
      "text/html": [
       "<div>\n",
       "<style scoped>\n",
       "    .dataframe tbody tr th:only-of-type {\n",
       "        vertical-align: middle;\n",
       "    }\n",
       "\n",
       "    .dataframe tbody tr th {\n",
       "        vertical-align: top;\n",
       "    }\n",
       "\n",
       "    .dataframe thead th {\n",
       "        text-align: right;\n",
       "    }\n",
       "</style>\n",
       "<table border=\"1\" class=\"dataframe\">\n",
       "  <thead>\n",
       "    <tr style=\"text-align: right;\">\n",
       "      <th></th>\n",
       "      <th>top_terms</th>\n",
       "      <th>top_sal</th>\n",
       "      <th>top_rel</th>\n",
       "    </tr>\n",
       "  </thead>\n",
       "  <tbody>\n",
       "    <tr>\n",
       "      <th>0</th>\n",
       "      <td>senores, xibalba, casa</td>\n",
       "      <td>xibalba, senores, huncame</td>\n",
       "      <td>xibalba, huncame, senores</td>\n",
       "    </tr>\n",
       "    <tr>\n",
       "      <th>1</th>\n",
       "      <td>tohil, tribus, mahucutah</td>\n",
       "      <td>tohil, tribus, mahucutah</td>\n",
       "      <td>tohil, tribus, mahucutah</td>\n",
       "    </tr>\n",
       "    <tr>\n",
       "      <th>2</th>\n",
       "      <td>abuela, ixbalanque, hunahpu</td>\n",
       "      <td>abuela, hermanos, hunchouen</td>\n",
       "      <td>abuela, hermanos, hunchouen</td>\n",
       "    </tr>\n",
       "    <tr>\n",
       "      <th>3</th>\n",
       "      <td>casa, senores, generacion</td>\n",
       "      <td>generacion, casa, reyes</td>\n",
       "      <td>generacion, reyes, casas</td>\n",
       "    </tr>\n",
       "    <tr>\n",
       "      <th>4</th>\n",
       "      <td>tierra, cielo, hombre</td>\n",
       "      <td>tierra, cielo, creador</td>\n",
       "      <td>tierra, cielo, creador</td>\n",
       "    </tr>\n",
       "    <tr>\n",
       "      <th>5</th>\n",
       "      <td>muchachos, xibalba, flores</td>\n",
       "      <td>muchachos, flores, zipacna</td>\n",
       "      <td>muchachos, flores, zipacna</td>\n",
       "    </tr>\n",
       "  </tbody>\n",
       "</table>\n",
       "</div>"
      ],
      "text/plain": [
       "                     top_terms                      top_sal  \\\n",
       "0       senores, xibalba, casa    xibalba, senores, huncame   \n",
       "1     tohil, tribus, mahucutah     tohil, tribus, mahucutah   \n",
       "2  abuela, ixbalanque, hunahpu  abuela, hermanos, hunchouen   \n",
       "3    casa, senores, generacion      generacion, casa, reyes   \n",
       "4        tierra, cielo, hombre       tierra, cielo, creador   \n",
       "5   muchachos, xibalba, flores   muchachos, flores, zipacna   \n",
       "\n",
       "                       top_rel  \n",
       "0    xibalba, huncame, senores  \n",
       "1     tohil, tribus, mahucutah  \n",
       "2  abuela, hermanos, hunchouen  \n",
       "3     generacion, reyes, casas  \n",
       "4       tierra, cielo, creador  \n",
       "5   muchachos, flores, zipacna  "
      ]
     },
     "execution_count": 72,
     "metadata": {},
     "output_type": "execute_result"
    }
   ],
   "source": [
    "TOPIC"
   ]
  },
  {
   "cell_type": "markdown",
   "id": "bbfc1072-c886-41aa-a51a-0b6a3e3a11cd",
   "metadata": {},
   "source": [
    "# View Topics over Narrative Time"
   ]
  },
  {
   "cell_type": "markdown",
   "id": "6a1d0298-2e14-4fef-845e-f068f522cbad",
   "metadata": {},
   "source": [
    "We check to see if the topics match the narrative structure of the story."
   ]
  },
  {
   "cell_type": "code",
   "execution_count": 73,
   "id": "04412e21-a990-428c-95bf-dd56078e8fad",
   "metadata": {},
   "outputs": [],
   "source": [
    "THETA.columns = TOPIC.top_sal"
   ]
  },
  {
   "cell_type": "code",
   "execution_count": 74,
   "id": "ce1d32a1-bb98-4daf-ad96-35ce39e66b86",
   "metadata": {},
   "outputs": [
    {
     "data": {
      "application/vnd.plotly.v1+json": {
       "config": {
        "plotlyServerURL": "https://plot.ly"
       },
       "data": [
        {
         "coloraxis": "coloraxis",
         "hovertemplate": "x: %{x}<br>y: %{y}<br>color: %{z}<extra></extra>",
         "name": "0",
         "type": "heatmap",
         "x": [
          "0:1",
          "1:1",
          "1:2",
          "1:3",
          "1:4",
          "1:5",
          "1:6",
          "1:7",
          "1:8",
          "1:9",
          "2:1",
          "2:2",
          "2:3",
          "2:4",
          "2:5",
          "2:6",
          "2:7",
          "2:8",
          "2:9",
          "2:10",
          "2:11",
          "2:12",
          "2:13",
          "2:14",
          "3:1",
          "3:2",
          "3:3",
          "3:4",
          "3:5",
          "3:6",
          "3:7",
          "3:8",
          "3:9",
          "3:10",
          "4:1",
          "4:2",
          "4:3",
          "4:4",
          "4:5",
          "4:6",
          "4:7",
          "4:8",
          "4:9",
          "4:10",
          "4:11",
          "4:12"
         ],
         "xaxis": "x",
         "y": [
          "xibalba, senores, huncame",
          "tohil, tribus, mahucutah",
          "abuela, hermanos, hunchouen",
          "generacion, casa, reyes",
          "tierra, cielo, creador",
          "muchachos, flores, zipacna"
         ],
         "yaxis": "y",
         "z": [
          [
           0,
           0,
           0,
           0,
           0,
           0,
           0,
           0,
           0,
           0,
           1.2655548021733856,
           4.031823353732698,
           1.7613156697580106,
           0,
           0,
           0,
           1.2443601588379973,
           0.7139472292517863,
           0.8790806309563863,
           0.5697017407770354,
           0.6497063964083979,
           0.4501198769539493,
           2.1063893694100995,
           0.32657883687485,
           0,
           0,
           0,
           0,
           0,
           0,
           0,
           0,
           0,
           0,
           0,
           0.3735325121761286,
           0,
           0,
           0,
           0,
           0,
           0.3960004396749765,
           0,
           0,
           0,
           0
          ],
          [
           0,
           0,
           0,
           0,
           0,
           0,
           0,
           0,
           0,
           0,
           0,
           0,
           0,
           0,
           0,
           0,
           0,
           0,
           0,
           0,
           0,
           0,
           0,
           0,
           0,
           0,
           0.6044296217311873,
           1.3843345544100139,
           3.1475339176998314,
           0.7927950276095714,
           0.40644765486946277,
           1.4804104976470223,
           1.5623650802255937,
           0.9509280606967041,
           0.9543754790548832,
           4.243639142224379,
           1.3747384933807136,
           0.8954785346991362,
           0.5931609553060466,
           0.6479851939632093,
           0,
           0,
           0,
           0,
           0.5613401469183869,
           0
          ],
          [
           0,
           0,
           0,
           0,
           0,
           0,
           0,
           0,
           0.3240560187337868,
           0.47661568572567625,
           0,
           0,
           0,
           0.8134636097296597,
           4.521909851785218,
           3.54768674572858,
           1.1460060474991796,
           0,
           0,
           0.3120135746216193,
           0.5453522744686615,
           0,
           0,
           0.5246999192207746,
           0,
           0,
           0,
           0,
           0,
           0,
           0,
           0,
           0,
           0,
           0,
           0,
           0,
           0,
           0,
           0,
           0,
           0,
           0,
           0,
           0,
           0
          ],
          [
           0,
           0,
           0,
           0,
           0,
           0,
           0,
           0,
           0,
           0,
           0,
           0,
           0,
           0,
           0,
           0,
           0,
           0,
           0,
           0,
           0,
           0,
           0.44994199783242506,
           0,
           0,
           0,
           0,
           0,
           0,
           0,
           0,
           0,
           0,
           0,
           0,
           0,
           0,
           0,
           0.40544374282463436,
           0.41316373594687034,
           0.9081810388176375,
           1.031189449305258,
           0.9079793744065612,
           1.4689290211899801,
           1.2008205552150606,
           3.1210140810146823
          ],
          [
           0.5570008203620028,
           1.9996560176093785,
           3.6260670996817455,
           1.0531481028744294,
           0.7435814829280581,
           0.5075461049609057,
           0.49879093891500287,
           0,
           0,
           1.067440564492589,
           0.5556716805641425,
           0,
           0.8300551869417528,
           0,
           0,
           0,
           0,
           0,
           0,
           0,
           0,
           0,
           0,
           0.8060535423950388,
           0.8734252105797619,
           1.8184017064416824,
           1.5320346696379756,
           0,
           0,
           0,
           0,
           0,
           1.0758726584625968,
           0,
           0,
           0,
           0,
           0,
           0.3456619737473826,
           0,
           0,
           0,
           0,
           0,
           0.7941913001270837,
           0
          ],
          [
           0,
           0,
           0,
           0,
           0,
           0.4952734238562236,
           1.0645521538858924,
           2.0463330794769607,
           1.3915457129423896,
           0.6855966746694637,
           0,
           0,
           0,
           0,
           0,
           0,
           0.726605993182236,
           0,
           4.0406670195790415,
           0.349515244943637,
           0.8078075938562805,
           0.6645069697024487,
           0,
           0.31915901939709657,
           0,
           0,
           0,
           0,
           0,
           0,
           0,
           0,
           0,
           0,
           0,
           0,
           0,
           0,
           0,
           0,
           0,
           0,
           0,
           0,
           0,
           0
          ]
         ]
        }
       ],
       "layout": {
        "coloraxis": {
         "colorscale": [
          [
           0,
           "rgb(247,252,245)"
          ],
          [
           0.125,
           "rgb(229,245,224)"
          ],
          [
           0.25,
           "rgb(199,233,192)"
          ],
          [
           0.375,
           "rgb(161,217,155)"
          ],
          [
           0.5,
           "rgb(116,196,118)"
          ],
          [
           0.625,
           "rgb(65,171,93)"
          ],
          [
           0.75,
           "rgb(35,139,69)"
          ],
          [
           0.875,
           "rgb(0,109,44)"
          ],
          [
           1,
           "rgb(0,68,27)"
          ]
         ]
        },
        "height": 300,
        "margin": {
         "t": 60
        },
        "template": {
         "data": {
          "bar": [
           {
            "error_x": {
             "color": "#2a3f5f"
            },
            "error_y": {
             "color": "#2a3f5f"
            },
            "marker": {
             "line": {
              "color": "#E5ECF6",
              "width": 0.5
             },
             "pattern": {
              "fillmode": "overlay",
              "size": 10,
              "solidity": 0.2
             }
            },
            "type": "bar"
           }
          ],
          "barpolar": [
           {
            "marker": {
             "line": {
              "color": "#E5ECF6",
              "width": 0.5
             },
             "pattern": {
              "fillmode": "overlay",
              "size": 10,
              "solidity": 0.2
             }
            },
            "type": "barpolar"
           }
          ],
          "carpet": [
           {
            "aaxis": {
             "endlinecolor": "#2a3f5f",
             "gridcolor": "white",
             "linecolor": "white",
             "minorgridcolor": "white",
             "startlinecolor": "#2a3f5f"
            },
            "baxis": {
             "endlinecolor": "#2a3f5f",
             "gridcolor": "white",
             "linecolor": "white",
             "minorgridcolor": "white",
             "startlinecolor": "#2a3f5f"
            },
            "type": "carpet"
           }
          ],
          "choropleth": [
           {
            "colorbar": {
             "outlinewidth": 0,
             "ticks": ""
            },
            "type": "choropleth"
           }
          ],
          "contour": [
           {
            "colorbar": {
             "outlinewidth": 0,
             "ticks": ""
            },
            "colorscale": [
             [
              0,
              "#0d0887"
             ],
             [
              0.1111111111111111,
              "#46039f"
             ],
             [
              0.2222222222222222,
              "#7201a8"
             ],
             [
              0.3333333333333333,
              "#9c179e"
             ],
             [
              0.4444444444444444,
              "#bd3786"
             ],
             [
              0.5555555555555556,
              "#d8576b"
             ],
             [
              0.6666666666666666,
              "#ed7953"
             ],
             [
              0.7777777777777778,
              "#fb9f3a"
             ],
             [
              0.8888888888888888,
              "#fdca26"
             ],
             [
              1,
              "#f0f921"
             ]
            ],
            "type": "contour"
           }
          ],
          "contourcarpet": [
           {
            "colorbar": {
             "outlinewidth": 0,
             "ticks": ""
            },
            "type": "contourcarpet"
           }
          ],
          "heatmap": [
           {
            "colorbar": {
             "outlinewidth": 0,
             "ticks": ""
            },
            "colorscale": [
             [
              0,
              "#0d0887"
             ],
             [
              0.1111111111111111,
              "#46039f"
             ],
             [
              0.2222222222222222,
              "#7201a8"
             ],
             [
              0.3333333333333333,
              "#9c179e"
             ],
             [
              0.4444444444444444,
              "#bd3786"
             ],
             [
              0.5555555555555556,
              "#d8576b"
             ],
             [
              0.6666666666666666,
              "#ed7953"
             ],
             [
              0.7777777777777778,
              "#fb9f3a"
             ],
             [
              0.8888888888888888,
              "#fdca26"
             ],
             [
              1,
              "#f0f921"
             ]
            ],
            "type": "heatmap"
           }
          ],
          "heatmapgl": [
           {
            "colorbar": {
             "outlinewidth": 0,
             "ticks": ""
            },
            "colorscale": [
             [
              0,
              "#0d0887"
             ],
             [
              0.1111111111111111,
              "#46039f"
             ],
             [
              0.2222222222222222,
              "#7201a8"
             ],
             [
              0.3333333333333333,
              "#9c179e"
             ],
             [
              0.4444444444444444,
              "#bd3786"
             ],
             [
              0.5555555555555556,
              "#d8576b"
             ],
             [
              0.6666666666666666,
              "#ed7953"
             ],
             [
              0.7777777777777778,
              "#fb9f3a"
             ],
             [
              0.8888888888888888,
              "#fdca26"
             ],
             [
              1,
              "#f0f921"
             ]
            ],
            "type": "heatmapgl"
           }
          ],
          "histogram": [
           {
            "marker": {
             "pattern": {
              "fillmode": "overlay",
              "size": 10,
              "solidity": 0.2
             }
            },
            "type": "histogram"
           }
          ],
          "histogram2d": [
           {
            "colorbar": {
             "outlinewidth": 0,
             "ticks": ""
            },
            "colorscale": [
             [
              0,
              "#0d0887"
             ],
             [
              0.1111111111111111,
              "#46039f"
             ],
             [
              0.2222222222222222,
              "#7201a8"
             ],
             [
              0.3333333333333333,
              "#9c179e"
             ],
             [
              0.4444444444444444,
              "#bd3786"
             ],
             [
              0.5555555555555556,
              "#d8576b"
             ],
             [
              0.6666666666666666,
              "#ed7953"
             ],
             [
              0.7777777777777778,
              "#fb9f3a"
             ],
             [
              0.8888888888888888,
              "#fdca26"
             ],
             [
              1,
              "#f0f921"
             ]
            ],
            "type": "histogram2d"
           }
          ],
          "histogram2dcontour": [
           {
            "colorbar": {
             "outlinewidth": 0,
             "ticks": ""
            },
            "colorscale": [
             [
              0,
              "#0d0887"
             ],
             [
              0.1111111111111111,
              "#46039f"
             ],
             [
              0.2222222222222222,
              "#7201a8"
             ],
             [
              0.3333333333333333,
              "#9c179e"
             ],
             [
              0.4444444444444444,
              "#bd3786"
             ],
             [
              0.5555555555555556,
              "#d8576b"
             ],
             [
              0.6666666666666666,
              "#ed7953"
             ],
             [
              0.7777777777777778,
              "#fb9f3a"
             ],
             [
              0.8888888888888888,
              "#fdca26"
             ],
             [
              1,
              "#f0f921"
             ]
            ],
            "type": "histogram2dcontour"
           }
          ],
          "mesh3d": [
           {
            "colorbar": {
             "outlinewidth": 0,
             "ticks": ""
            },
            "type": "mesh3d"
           }
          ],
          "parcoords": [
           {
            "line": {
             "colorbar": {
              "outlinewidth": 0,
              "ticks": ""
             }
            },
            "type": "parcoords"
           }
          ],
          "pie": [
           {
            "automargin": true,
            "type": "pie"
           }
          ],
          "scatter": [
           {
            "fillpattern": {
             "fillmode": "overlay",
             "size": 10,
             "solidity": 0.2
            },
            "type": "scatter"
           }
          ],
          "scatter3d": [
           {
            "line": {
             "colorbar": {
              "outlinewidth": 0,
              "ticks": ""
             }
            },
            "marker": {
             "colorbar": {
              "outlinewidth": 0,
              "ticks": ""
             }
            },
            "type": "scatter3d"
           }
          ],
          "scattercarpet": [
           {
            "marker": {
             "colorbar": {
              "outlinewidth": 0,
              "ticks": ""
             }
            },
            "type": "scattercarpet"
           }
          ],
          "scattergeo": [
           {
            "marker": {
             "colorbar": {
              "outlinewidth": 0,
              "ticks": ""
             }
            },
            "type": "scattergeo"
           }
          ],
          "scattergl": [
           {
            "marker": {
             "colorbar": {
              "outlinewidth": 0,
              "ticks": ""
             }
            },
            "type": "scattergl"
           }
          ],
          "scattermapbox": [
           {
            "marker": {
             "colorbar": {
              "outlinewidth": 0,
              "ticks": ""
             }
            },
            "type": "scattermapbox"
           }
          ],
          "scatterpolar": [
           {
            "marker": {
             "colorbar": {
              "outlinewidth": 0,
              "ticks": ""
             }
            },
            "type": "scatterpolar"
           }
          ],
          "scatterpolargl": [
           {
            "marker": {
             "colorbar": {
              "outlinewidth": 0,
              "ticks": ""
             }
            },
            "type": "scatterpolargl"
           }
          ],
          "scatterternary": [
           {
            "marker": {
             "colorbar": {
              "outlinewidth": 0,
              "ticks": ""
             }
            },
            "type": "scatterternary"
           }
          ],
          "surface": [
           {
            "colorbar": {
             "outlinewidth": 0,
             "ticks": ""
            },
            "colorscale": [
             [
              0,
              "#0d0887"
             ],
             [
              0.1111111111111111,
              "#46039f"
             ],
             [
              0.2222222222222222,
              "#7201a8"
             ],
             [
              0.3333333333333333,
              "#9c179e"
             ],
             [
              0.4444444444444444,
              "#bd3786"
             ],
             [
              0.5555555555555556,
              "#d8576b"
             ],
             [
              0.6666666666666666,
              "#ed7953"
             ],
             [
              0.7777777777777778,
              "#fb9f3a"
             ],
             [
              0.8888888888888888,
              "#fdca26"
             ],
             [
              1,
              "#f0f921"
             ]
            ],
            "type": "surface"
           }
          ],
          "table": [
           {
            "cells": {
             "fill": {
              "color": "#EBF0F8"
             },
             "line": {
              "color": "white"
             }
            },
            "header": {
             "fill": {
              "color": "#C8D4E3"
             },
             "line": {
              "color": "white"
             }
            },
            "type": "table"
           }
          ]
         },
         "layout": {
          "annotationdefaults": {
           "arrowcolor": "#2a3f5f",
           "arrowhead": 0,
           "arrowwidth": 1
          },
          "autotypenumbers": "strict",
          "coloraxis": {
           "colorbar": {
            "outlinewidth": 0,
            "ticks": ""
           }
          },
          "colorscale": {
           "diverging": [
            [
             0,
             "#8e0152"
            ],
            [
             0.1,
             "#c51b7d"
            ],
            [
             0.2,
             "#de77ae"
            ],
            [
             0.3,
             "#f1b6da"
            ],
            [
             0.4,
             "#fde0ef"
            ],
            [
             0.5,
             "#f7f7f7"
            ],
            [
             0.6,
             "#e6f5d0"
            ],
            [
             0.7,
             "#b8e186"
            ],
            [
             0.8,
             "#7fbc41"
            ],
            [
             0.9,
             "#4d9221"
            ],
            [
             1,
             "#276419"
            ]
           ],
           "sequential": [
            [
             0,
             "#0d0887"
            ],
            [
             0.1111111111111111,
             "#46039f"
            ],
            [
             0.2222222222222222,
             "#7201a8"
            ],
            [
             0.3333333333333333,
             "#9c179e"
            ],
            [
             0.4444444444444444,
             "#bd3786"
            ],
            [
             0.5555555555555556,
             "#d8576b"
            ],
            [
             0.6666666666666666,
             "#ed7953"
            ],
            [
             0.7777777777777778,
             "#fb9f3a"
            ],
            [
             0.8888888888888888,
             "#fdca26"
            ],
            [
             1,
             "#f0f921"
            ]
           ],
           "sequentialminus": [
            [
             0,
             "#0d0887"
            ],
            [
             0.1111111111111111,
             "#46039f"
            ],
            [
             0.2222222222222222,
             "#7201a8"
            ],
            [
             0.3333333333333333,
             "#9c179e"
            ],
            [
             0.4444444444444444,
             "#bd3786"
            ],
            [
             0.5555555555555556,
             "#d8576b"
            ],
            [
             0.6666666666666666,
             "#ed7953"
            ],
            [
             0.7777777777777778,
             "#fb9f3a"
            ],
            [
             0.8888888888888888,
             "#fdca26"
            ],
            [
             1,
             "#f0f921"
            ]
           ]
          },
          "colorway": [
           "#636efa",
           "#EF553B",
           "#00cc96",
           "#ab63fa",
           "#FFA15A",
           "#19d3f3",
           "#FF6692",
           "#B6E880",
           "#FF97FF",
           "#FECB52"
          ],
          "font": {
           "color": "#2a3f5f"
          },
          "geo": {
           "bgcolor": "white",
           "lakecolor": "white",
           "landcolor": "#E5ECF6",
           "showlakes": true,
           "showland": true,
           "subunitcolor": "white"
          },
          "hoverlabel": {
           "align": "left"
          },
          "hovermode": "closest",
          "mapbox": {
           "style": "light"
          },
          "paper_bgcolor": "white",
          "plot_bgcolor": "#E5ECF6",
          "polar": {
           "angularaxis": {
            "gridcolor": "white",
            "linecolor": "white",
            "ticks": ""
           },
           "bgcolor": "#E5ECF6",
           "radialaxis": {
            "gridcolor": "white",
            "linecolor": "white",
            "ticks": ""
           }
          },
          "scene": {
           "xaxis": {
            "backgroundcolor": "#E5ECF6",
            "gridcolor": "white",
            "gridwidth": 2,
            "linecolor": "white",
            "showbackground": true,
            "ticks": "",
            "zerolinecolor": "white"
           },
           "yaxis": {
            "backgroundcolor": "#E5ECF6",
            "gridcolor": "white",
            "gridwidth": 2,
            "linecolor": "white",
            "showbackground": true,
            "ticks": "",
            "zerolinecolor": "white"
           },
           "zaxis": {
            "backgroundcolor": "#E5ECF6",
            "gridcolor": "white",
            "gridwidth": 2,
            "linecolor": "white",
            "showbackground": true,
            "ticks": "",
            "zerolinecolor": "white"
           }
          },
          "shapedefaults": {
           "line": {
            "color": "#2a3f5f"
           }
          },
          "ternary": {
           "aaxis": {
            "gridcolor": "white",
            "linecolor": "white",
            "ticks": ""
           },
           "baxis": {
            "gridcolor": "white",
            "linecolor": "white",
            "ticks": ""
           },
           "bgcolor": "#E5ECF6",
           "caxis": {
            "gridcolor": "white",
            "linecolor": "white",
            "ticks": ""
           }
          },
          "title": {
           "x": 0.05
          },
          "xaxis": {
           "automargin": true,
           "gridcolor": "white",
           "linecolor": "white",
           "ticks": "",
           "title": {
            "standoff": 15
           },
           "zerolinecolor": "white",
           "zerolinewidth": 2
          },
          "yaxis": {
           "automargin": true,
           "gridcolor": "white",
           "linecolor": "white",
           "ticks": "",
           "title": {
            "standoff": 15
           },
           "zerolinecolor": "white",
           "zerolinewidth": 2
          }
         }
        },
        "width": 1000,
        "xaxis": {
         "anchor": "y",
         "constrain": "domain",
         "domain": [
          0,
          1
         ],
         "scaleanchor": "y"
        },
        "yaxis": {
         "anchor": "x",
         "autorange": "reversed",
         "constrain": "domain",
         "domain": [
          0,
          1
         ]
        }
       }
      },
      "text/html": [
       "<div>                            <div id=\"3b468a4e-e033-4525-9d1b-4c7b64020029\" class=\"plotly-graph-div\" style=\"height:300px; width:1000px;\"></div>            <script type=\"text/javascript\">                require([\"plotly\"], function(Plotly) {                    window.PLOTLYENV=window.PLOTLYENV || {};                                    if (document.getElementById(\"3b468a4e-e033-4525-9d1b-4c7b64020029\")) {                    Plotly.newPlot(                        \"3b468a4e-e033-4525-9d1b-4c7b64020029\",                        [{\"coloraxis\":\"coloraxis\",\"name\":\"0\",\"x\":[\"0:1\",\"1:1\",\"1:2\",\"1:3\",\"1:4\",\"1:5\",\"1:6\",\"1:7\",\"1:8\",\"1:9\",\"2:1\",\"2:2\",\"2:3\",\"2:4\",\"2:5\",\"2:6\",\"2:7\",\"2:8\",\"2:9\",\"2:10\",\"2:11\",\"2:12\",\"2:13\",\"2:14\",\"3:1\",\"3:2\",\"3:3\",\"3:4\",\"3:5\",\"3:6\",\"3:7\",\"3:8\",\"3:9\",\"3:10\",\"4:1\",\"4:2\",\"4:3\",\"4:4\",\"4:5\",\"4:6\",\"4:7\",\"4:8\",\"4:9\",\"4:10\",\"4:11\",\"4:12\"],\"y\":[\"xibalba, senores, huncame\",\"tohil, tribus, mahucutah\",\"abuela, hermanos, hunchouen\",\"generacion, casa, reyes\",\"tierra, cielo, creador\",\"muchachos, flores, zipacna\"],\"z\":[[0.0,0.0,0.0,0.0,0.0,0.0,0.0,0.0,0.0,0.0,1.2655548021733856,4.031823353732698,1.7613156697580106,0.0,0.0,0.0,1.2443601588379973,0.7139472292517863,0.8790806309563863,0.5697017407770354,0.6497063964083979,0.4501198769539493,2.1063893694100995,0.32657883687485,0.0,0.0,0.0,0.0,0.0,0.0,0.0,0.0,0.0,0.0,0.0,0.3735325121761286,0.0,0.0,0.0,0.0,0.0,0.3960004396749765,0.0,0.0,0.0,0.0],[0.0,0.0,0.0,0.0,0.0,0.0,0.0,0.0,0.0,0.0,0.0,0.0,0.0,0.0,0.0,0.0,0.0,0.0,0.0,0.0,0.0,0.0,0.0,0.0,0.0,0.0,0.6044296217311873,1.3843345544100139,3.1475339176998314,0.7927950276095714,0.40644765486946277,1.4804104976470223,1.5623650802255937,0.9509280606967041,0.9543754790548832,4.243639142224379,1.3747384933807136,0.8954785346991362,0.5931609553060466,0.6479851939632093,0.0,0.0,0.0,0.0,0.5613401469183869,0.0],[0.0,0.0,0.0,0.0,0.0,0.0,0.0,0.0,0.3240560187337868,0.47661568572567625,0.0,0.0,0.0,0.8134636097296597,4.521909851785218,3.54768674572858,1.1460060474991796,0.0,0.0,0.3120135746216193,0.5453522744686615,0.0,0.0,0.5246999192207746,0.0,0.0,0.0,0.0,0.0,0.0,0.0,0.0,0.0,0.0,0.0,0.0,0.0,0.0,0.0,0.0,0.0,0.0,0.0,0.0,0.0,0.0],[0.0,0.0,0.0,0.0,0.0,0.0,0.0,0.0,0.0,0.0,0.0,0.0,0.0,0.0,0.0,0.0,0.0,0.0,0.0,0.0,0.0,0.0,0.44994199783242506,0.0,0.0,0.0,0.0,0.0,0.0,0.0,0.0,0.0,0.0,0.0,0.0,0.0,0.0,0.0,0.40544374282463436,0.41316373594687034,0.9081810388176375,1.031189449305258,0.9079793744065612,1.4689290211899801,1.2008205552150606,3.1210140810146823],[0.5570008203620028,1.9996560176093785,3.6260670996817455,1.0531481028744294,0.7435814829280581,0.5075461049609057,0.49879093891500287,0.0,0.0,1.067440564492589,0.5556716805641425,0.0,0.8300551869417528,0.0,0.0,0.0,0.0,0.0,0.0,0.0,0.0,0.0,0.0,0.8060535423950388,0.8734252105797619,1.8184017064416824,1.5320346696379756,0.0,0.0,0.0,0.0,0.0,1.0758726584625968,0.0,0.0,0.0,0.0,0.0,0.3456619737473826,0.0,0.0,0.0,0.0,0.0,0.7941913001270837,0.0],[0.0,0.0,0.0,0.0,0.0,0.4952734238562236,1.0645521538858924,2.0463330794769607,1.3915457129423896,0.6855966746694637,0.0,0.0,0.0,0.0,0.0,0.0,0.726605993182236,0.0,4.0406670195790415,0.349515244943637,0.8078075938562805,0.6645069697024487,0.0,0.31915901939709657,0.0,0.0,0.0,0.0,0.0,0.0,0.0,0.0,0.0,0.0,0.0,0.0,0.0,0.0,0.0,0.0,0.0,0.0,0.0,0.0,0.0,0.0]],\"type\":\"heatmap\",\"xaxis\":\"x\",\"yaxis\":\"y\",\"hovertemplate\":\"x: %{x}\\u003cbr\\u003ey: %{y}\\u003cbr\\u003ecolor: %{z}\\u003cextra\\u003e\\u003c\\u002fextra\\u003e\"}],                        {\"template\":{\"data\":{\"histogram2dcontour\":[{\"type\":\"histogram2dcontour\",\"colorbar\":{\"outlinewidth\":0,\"ticks\":\"\"},\"colorscale\":[[0.0,\"#0d0887\"],[0.1111111111111111,\"#46039f\"],[0.2222222222222222,\"#7201a8\"],[0.3333333333333333,\"#9c179e\"],[0.4444444444444444,\"#bd3786\"],[0.5555555555555556,\"#d8576b\"],[0.6666666666666666,\"#ed7953\"],[0.7777777777777778,\"#fb9f3a\"],[0.8888888888888888,\"#fdca26\"],[1.0,\"#f0f921\"]]}],\"choropleth\":[{\"type\":\"choropleth\",\"colorbar\":{\"outlinewidth\":0,\"ticks\":\"\"}}],\"histogram2d\":[{\"type\":\"histogram2d\",\"colorbar\":{\"outlinewidth\":0,\"ticks\":\"\"},\"colorscale\":[[0.0,\"#0d0887\"],[0.1111111111111111,\"#46039f\"],[0.2222222222222222,\"#7201a8\"],[0.3333333333333333,\"#9c179e\"],[0.4444444444444444,\"#bd3786\"],[0.5555555555555556,\"#d8576b\"],[0.6666666666666666,\"#ed7953\"],[0.7777777777777778,\"#fb9f3a\"],[0.8888888888888888,\"#fdca26\"],[1.0,\"#f0f921\"]]}],\"heatmap\":[{\"type\":\"heatmap\",\"colorbar\":{\"outlinewidth\":0,\"ticks\":\"\"},\"colorscale\":[[0.0,\"#0d0887\"],[0.1111111111111111,\"#46039f\"],[0.2222222222222222,\"#7201a8\"],[0.3333333333333333,\"#9c179e\"],[0.4444444444444444,\"#bd3786\"],[0.5555555555555556,\"#d8576b\"],[0.6666666666666666,\"#ed7953\"],[0.7777777777777778,\"#fb9f3a\"],[0.8888888888888888,\"#fdca26\"],[1.0,\"#f0f921\"]]}],\"heatmapgl\":[{\"type\":\"heatmapgl\",\"colorbar\":{\"outlinewidth\":0,\"ticks\":\"\"},\"colorscale\":[[0.0,\"#0d0887\"],[0.1111111111111111,\"#46039f\"],[0.2222222222222222,\"#7201a8\"],[0.3333333333333333,\"#9c179e\"],[0.4444444444444444,\"#bd3786\"],[0.5555555555555556,\"#d8576b\"],[0.6666666666666666,\"#ed7953\"],[0.7777777777777778,\"#fb9f3a\"],[0.8888888888888888,\"#fdca26\"],[1.0,\"#f0f921\"]]}],\"contourcarpet\":[{\"type\":\"contourcarpet\",\"colorbar\":{\"outlinewidth\":0,\"ticks\":\"\"}}],\"contour\":[{\"type\":\"contour\",\"colorbar\":{\"outlinewidth\":0,\"ticks\":\"\"},\"colorscale\":[[0.0,\"#0d0887\"],[0.1111111111111111,\"#46039f\"],[0.2222222222222222,\"#7201a8\"],[0.3333333333333333,\"#9c179e\"],[0.4444444444444444,\"#bd3786\"],[0.5555555555555556,\"#d8576b\"],[0.6666666666666666,\"#ed7953\"],[0.7777777777777778,\"#fb9f3a\"],[0.8888888888888888,\"#fdca26\"],[1.0,\"#f0f921\"]]}],\"surface\":[{\"type\":\"surface\",\"colorbar\":{\"outlinewidth\":0,\"ticks\":\"\"},\"colorscale\":[[0.0,\"#0d0887\"],[0.1111111111111111,\"#46039f\"],[0.2222222222222222,\"#7201a8\"],[0.3333333333333333,\"#9c179e\"],[0.4444444444444444,\"#bd3786\"],[0.5555555555555556,\"#d8576b\"],[0.6666666666666666,\"#ed7953\"],[0.7777777777777778,\"#fb9f3a\"],[0.8888888888888888,\"#fdca26\"],[1.0,\"#f0f921\"]]}],\"mesh3d\":[{\"type\":\"mesh3d\",\"colorbar\":{\"outlinewidth\":0,\"ticks\":\"\"}}],\"scatter\":[{\"fillpattern\":{\"fillmode\":\"overlay\",\"size\":10,\"solidity\":0.2},\"type\":\"scatter\"}],\"parcoords\":[{\"type\":\"parcoords\",\"line\":{\"colorbar\":{\"outlinewidth\":0,\"ticks\":\"\"}}}],\"scatterpolargl\":[{\"type\":\"scatterpolargl\",\"marker\":{\"colorbar\":{\"outlinewidth\":0,\"ticks\":\"\"}}}],\"bar\":[{\"error_x\":{\"color\":\"#2a3f5f\"},\"error_y\":{\"color\":\"#2a3f5f\"},\"marker\":{\"line\":{\"color\":\"#E5ECF6\",\"width\":0.5},\"pattern\":{\"fillmode\":\"overlay\",\"size\":10,\"solidity\":0.2}},\"type\":\"bar\"}],\"scattergeo\":[{\"type\":\"scattergeo\",\"marker\":{\"colorbar\":{\"outlinewidth\":0,\"ticks\":\"\"}}}],\"scatterpolar\":[{\"type\":\"scatterpolar\",\"marker\":{\"colorbar\":{\"outlinewidth\":0,\"ticks\":\"\"}}}],\"histogram\":[{\"marker\":{\"pattern\":{\"fillmode\":\"overlay\",\"size\":10,\"solidity\":0.2}},\"type\":\"histogram\"}],\"scattergl\":[{\"type\":\"scattergl\",\"marker\":{\"colorbar\":{\"outlinewidth\":0,\"ticks\":\"\"}}}],\"scatter3d\":[{\"type\":\"scatter3d\",\"line\":{\"colorbar\":{\"outlinewidth\":0,\"ticks\":\"\"}},\"marker\":{\"colorbar\":{\"outlinewidth\":0,\"ticks\":\"\"}}}],\"scattermapbox\":[{\"type\":\"scattermapbox\",\"marker\":{\"colorbar\":{\"outlinewidth\":0,\"ticks\":\"\"}}}],\"scatterternary\":[{\"type\":\"scatterternary\",\"marker\":{\"colorbar\":{\"outlinewidth\":0,\"ticks\":\"\"}}}],\"scattercarpet\":[{\"type\":\"scattercarpet\",\"marker\":{\"colorbar\":{\"outlinewidth\":0,\"ticks\":\"\"}}}],\"carpet\":[{\"aaxis\":{\"endlinecolor\":\"#2a3f5f\",\"gridcolor\":\"white\",\"linecolor\":\"white\",\"minorgridcolor\":\"white\",\"startlinecolor\":\"#2a3f5f\"},\"baxis\":{\"endlinecolor\":\"#2a3f5f\",\"gridcolor\":\"white\",\"linecolor\":\"white\",\"minorgridcolor\":\"white\",\"startlinecolor\":\"#2a3f5f\"},\"type\":\"carpet\"}],\"table\":[{\"cells\":{\"fill\":{\"color\":\"#EBF0F8\"},\"line\":{\"color\":\"white\"}},\"header\":{\"fill\":{\"color\":\"#C8D4E3\"},\"line\":{\"color\":\"white\"}},\"type\":\"table\"}],\"barpolar\":[{\"marker\":{\"line\":{\"color\":\"#E5ECF6\",\"width\":0.5},\"pattern\":{\"fillmode\":\"overlay\",\"size\":10,\"solidity\":0.2}},\"type\":\"barpolar\"}],\"pie\":[{\"automargin\":true,\"type\":\"pie\"}]},\"layout\":{\"autotypenumbers\":\"strict\",\"colorway\":[\"#636efa\",\"#EF553B\",\"#00cc96\",\"#ab63fa\",\"#FFA15A\",\"#19d3f3\",\"#FF6692\",\"#B6E880\",\"#FF97FF\",\"#FECB52\"],\"font\":{\"color\":\"#2a3f5f\"},\"hovermode\":\"closest\",\"hoverlabel\":{\"align\":\"left\"},\"paper_bgcolor\":\"white\",\"plot_bgcolor\":\"#E5ECF6\",\"polar\":{\"bgcolor\":\"#E5ECF6\",\"angularaxis\":{\"gridcolor\":\"white\",\"linecolor\":\"white\",\"ticks\":\"\"},\"radialaxis\":{\"gridcolor\":\"white\",\"linecolor\":\"white\",\"ticks\":\"\"}},\"ternary\":{\"bgcolor\":\"#E5ECF6\",\"aaxis\":{\"gridcolor\":\"white\",\"linecolor\":\"white\",\"ticks\":\"\"},\"baxis\":{\"gridcolor\":\"white\",\"linecolor\":\"white\",\"ticks\":\"\"},\"caxis\":{\"gridcolor\":\"white\",\"linecolor\":\"white\",\"ticks\":\"\"}},\"coloraxis\":{\"colorbar\":{\"outlinewidth\":0,\"ticks\":\"\"}},\"colorscale\":{\"sequential\":[[0.0,\"#0d0887\"],[0.1111111111111111,\"#46039f\"],[0.2222222222222222,\"#7201a8\"],[0.3333333333333333,\"#9c179e\"],[0.4444444444444444,\"#bd3786\"],[0.5555555555555556,\"#d8576b\"],[0.6666666666666666,\"#ed7953\"],[0.7777777777777778,\"#fb9f3a\"],[0.8888888888888888,\"#fdca26\"],[1.0,\"#f0f921\"]],\"sequentialminus\":[[0.0,\"#0d0887\"],[0.1111111111111111,\"#46039f\"],[0.2222222222222222,\"#7201a8\"],[0.3333333333333333,\"#9c179e\"],[0.4444444444444444,\"#bd3786\"],[0.5555555555555556,\"#d8576b\"],[0.6666666666666666,\"#ed7953\"],[0.7777777777777778,\"#fb9f3a\"],[0.8888888888888888,\"#fdca26\"],[1.0,\"#f0f921\"]],\"diverging\":[[0,\"#8e0152\"],[0.1,\"#c51b7d\"],[0.2,\"#de77ae\"],[0.3,\"#f1b6da\"],[0.4,\"#fde0ef\"],[0.5,\"#f7f7f7\"],[0.6,\"#e6f5d0\"],[0.7,\"#b8e186\"],[0.8,\"#7fbc41\"],[0.9,\"#4d9221\"],[1,\"#276419\"]]},\"xaxis\":{\"gridcolor\":\"white\",\"linecolor\":\"white\",\"ticks\":\"\",\"title\":{\"standoff\":15},\"zerolinecolor\":\"white\",\"automargin\":true,\"zerolinewidth\":2},\"yaxis\":{\"gridcolor\":\"white\",\"linecolor\":\"white\",\"ticks\":\"\",\"title\":{\"standoff\":15},\"zerolinecolor\":\"white\",\"automargin\":true,\"zerolinewidth\":2},\"scene\":{\"xaxis\":{\"backgroundcolor\":\"#E5ECF6\",\"gridcolor\":\"white\",\"linecolor\":\"white\",\"showbackground\":true,\"ticks\":\"\",\"zerolinecolor\":\"white\",\"gridwidth\":2},\"yaxis\":{\"backgroundcolor\":\"#E5ECF6\",\"gridcolor\":\"white\",\"linecolor\":\"white\",\"showbackground\":true,\"ticks\":\"\",\"zerolinecolor\":\"white\",\"gridwidth\":2},\"zaxis\":{\"backgroundcolor\":\"#E5ECF6\",\"gridcolor\":\"white\",\"linecolor\":\"white\",\"showbackground\":true,\"ticks\":\"\",\"zerolinecolor\":\"white\",\"gridwidth\":2}},\"shapedefaults\":{\"line\":{\"color\":\"#2a3f5f\"}},\"annotationdefaults\":{\"arrowcolor\":\"#2a3f5f\",\"arrowhead\":0,\"arrowwidth\":1},\"geo\":{\"bgcolor\":\"white\",\"landcolor\":\"#E5ECF6\",\"subunitcolor\":\"white\",\"showland\":true,\"showlakes\":true,\"lakecolor\":\"white\"},\"title\":{\"x\":0.05},\"mapbox\":{\"style\":\"light\"}}},\"xaxis\":{\"anchor\":\"y\",\"domain\":[0.0,1.0],\"scaleanchor\":\"y\",\"constrain\":\"domain\"},\"yaxis\":{\"anchor\":\"x\",\"domain\":[0.0,1.0],\"autorange\":\"reversed\",\"constrain\":\"domain\"},\"coloraxis\":{\"colorscale\":[[0.0,\"rgb(247,252,245)\"],[0.125,\"rgb(229,245,224)\"],[0.25,\"rgb(199,233,192)\"],[0.375,\"rgb(161,217,155)\"],[0.5,\"rgb(116,196,118)\"],[0.625,\"rgb(65,171,93)\"],[0.75,\"rgb(35,139,69)\"],[0.875,\"rgb(0,109,44)\"],[1.0,\"rgb(0,68,27)\"]]},\"margin\":{\"t\":60},\"height\":300,\"width\":1000},                        {\"responsive\": true}                    ).then(function(){\n",
       "                            \n",
       "var gd = document.getElementById('3b468a4e-e033-4525-9d1b-4c7b64020029');\n",
       "var x = new MutationObserver(function (mutations, observer) {{\n",
       "        var display = window.getComputedStyle(gd).display;\n",
       "        if (!display || display === 'none') {{\n",
       "            console.log([gd, 'removed!']);\n",
       "            Plotly.purge(gd);\n",
       "            observer.disconnect();\n",
       "        }}\n",
       "}});\n",
       "\n",
       "// Listen for the removal of the full notebook cells\n",
       "var notebookContainer = gd.closest('#notebook-container');\n",
       "if (notebookContainer) {{\n",
       "    x.observe(notebookContainer, {childList: true});\n",
       "}}\n",
       "\n",
       "// Listen for the clearing of the current output cell\n",
       "var outputEl = gd.closest('.output');\n",
       "if (outputEl) {{\n",
       "    x.observe(outputEl, {childList: true});\n",
       "}}\n",
       "\n",
       "                        })                };                });            </script>        </div>"
      ]
     },
     "metadata": {},
     "output_type": "display_data"
    }
   ],
   "source": [
    "px.imshow(THETA[THETA > .3].fillna(0).T.values, \n",
    "    x = [str(idx)[1:-1].replace(\", \", \":\") for idx in THETA.index.to_list()],\n",
    "    y = THETA.columns.to_list(),\n",
    "    height=300, width=1000,\n",
    "    color_continuous_scale=px.colors.sequential.Greens)"
   ]
  },
  {
   "cell_type": "markdown",
   "id": "038eb873-0802-4d45-9fee-1f3051742ea4",
   "metadata": {},
   "source": [
    "It does so nicely."
   ]
  },
  {
   "cell_type": "markdown",
   "id": "847e90b9-d7f9-4616-b73b-016fc8e51f6a",
   "metadata": {},
   "source": [
    "# Cluster Documents in Topic Space"
   ]
  },
  {
   "cell_type": "code",
   "execution_count": 75,
   "id": "23229ab2-60ab-4dae-bb73-ed1866752a04",
   "metadata": {},
   "outputs": [],
   "source": [
    "import sys\n",
    "sys.path.append(local_lib)"
   ]
  },
  {
   "cell_type": "code",
   "execution_count": 76,
   "id": "70edaf3d-9c03-4015-ab2d-95b759701b36",
   "metadata": {},
   "outputs": [],
   "source": [
    "from hac2 import HAC"
   ]
  },
  {
   "cell_type": "code",
   "execution_count": 77,
   "id": "db006925-3f6f-433a-abc8-770abc3f2a23",
   "metadata": {},
   "outputs": [],
   "source": [
    "metric = 'euclidean' # \"euclidean\", \"l1\", \"l2\", \"manhattan\", \"cosine\", or \"precomputed\"\n",
    "linkage = 'ward' # 'ward', 'complete', 'average', 'single'"
   ]
  },
  {
   "cell_type": "code",
   "execution_count": 78,
   "id": "15acd3fc-553e-4af7-8465-e08cf9421f6a",
   "metadata": {},
   "outputs": [],
   "source": [
    "fig1 = HAC(THETA)\n",
    "fig1.linkage_method = linkage\n",
    "fig1.dist_metric = metric"
   ]
  },
  {
   "cell_type": "code",
   "execution_count": 79,
   "id": "263eca5a-cee0-4784-b8d6-f91a3dc69043",
   "metadata": {},
   "outputs": [],
   "source": [
    "# fig1.color_thresh = 2.5 # w/o verbs\n",
    "fig1.color_thresh = 2"
   ]
  },
  {
   "cell_type": "code",
   "execution_count": 80,
   "id": "e5786aa7-7443-4b3a-babd-9f45a10ab9cd",
   "metadata": {},
   "outputs": [
    {
     "data": {
      "text/plain": [
       "<Figure size 640x480 with 0 Axes>"
      ]
     },
     "metadata": {},
     "output_type": "display_data"
    },
    {
     "data": {
      "image/png": "[encoded data removed]",
      "text/plain": [
       "<Figure size 1000x1533.33 with 1 Axes>"
      ]
     },
     "metadata": {},
     "output_type": "display_data"
    }
   ],
   "source": [
    "fig1.plot()"
   ]
  },
  {
   "cell_type": "code",
   "execution_count": 81,
   "id": "9e04b43c-dcdd-4f8e-891b-e0a51d6a03c7",
   "metadata": {},
   "outputs": [],
   "source": [
    "label_color = {\n",
    "    '1': 'orange',\n",
    "    '2': 'limegreen',\n",
    "    '3': 'red',\n",
    "    '4': 'violet',\n",
    "    '5': 'tan',\n",
    "    '6': 'orange',\n",
    "    '7': 'purple',\n",
    "    '8': 'fuscha',\n",
    "    '9': 'limegreen',\n",
    "    '': 'white'\n",
    "}"
   ]
  },
  {
   "cell_type": "code",
   "execution_count": 82,
   "id": "053a2a3c",
   "metadata": {},
   "outputs": [],
   "source": [
    "fig1.get_cluster_labels()\n",
    "DOC['topic_group'] = fig1.CLUSTER_LABELS\n",
    "DOC.topic_group = DOC.topic_group.astype(str)"
   ]
  },
  {
   "cell_type": "code",
   "execution_count": 83,
   "id": "1ad037e2-646f-4dfb-a51f-6b4e1333c57a",
   "metadata": {},
   "outputs": [
    {
     "data": {
      "text/html": [
       "<style type=\"text/css\">\n",
       "#T_bec9e_row0_col0, #T_bec9e_row1_col0, #T_bec9e_row1_col1, #T_bec9e_row1_col2, #T_bec9e_row1_col3, #T_bec9e_row1_col4, #T_bec9e_row1_col8, #T_bec9e_row2_col13, #T_bec9e_row3_col0, #T_bec9e_row3_col1, #T_bec9e_row3_col2 {\n",
       "  background: limegreen;\n",
       "}\n",
       "#T_bec9e_row0_col1, #T_bec9e_row0_col2, #T_bec9e_row0_col3, #T_bec9e_row0_col4, #T_bec9e_row0_col5, #T_bec9e_row0_col6, #T_bec9e_row0_col7, #T_bec9e_row0_col8, #T_bec9e_row0_col9, #T_bec9e_row0_col10, #T_bec9e_row0_col11, #T_bec9e_row0_col12, #T_bec9e_row0_col13, #T_bec9e_row1_col9, #T_bec9e_row1_col10, #T_bec9e_row1_col11, #T_bec9e_row1_col12, #T_bec9e_row1_col13, #T_bec9e_row3_col10, #T_bec9e_row3_col11, #T_bec9e_row3_col12, #T_bec9e_row3_col13, #T_bec9e_row4_col12, #T_bec9e_row4_col13 {\n",
       "  background: white;\n",
       "}\n",
       "#T_bec9e_row1_col5, #T_bec9e_row1_col6, #T_bec9e_row1_col7, #T_bec9e_row2_col8, #T_bec9e_row2_col11 {\n",
       "  background: violet;\n",
       "}\n",
       "#T_bec9e_row2_col0, #T_bec9e_row2_col1, #T_bec9e_row2_col2, #T_bec9e_row2_col6, #T_bec9e_row2_col7, #T_bec9e_row2_col9, #T_bec9e_row2_col10, #T_bec9e_row2_col12, #T_bec9e_row3_col3, #T_bec9e_row3_col4, #T_bec9e_row3_col5, #T_bec9e_row3_col6, #T_bec9e_row3_col7, #T_bec9e_row3_col8, #T_bec9e_row3_col9, #T_bec9e_row4_col0, #T_bec9e_row4_col1, #T_bec9e_row4_col2, #T_bec9e_row4_col3, #T_bec9e_row4_col4, #T_bec9e_row4_col5, #T_bec9e_row4_col10 {\n",
       "  background: orange;\n",
       "}\n",
       "#T_bec9e_row2_col3, #T_bec9e_row2_col4, #T_bec9e_row2_col5 {\n",
       "  background: tan;\n",
       "}\n",
       "#T_bec9e_row4_col6, #T_bec9e_row4_col7, #T_bec9e_row4_col8, #T_bec9e_row4_col9, #T_bec9e_row4_col11 {\n",
       "  background: red;\n",
       "}\n",
       "</style>\n",
       "<table id=\"T_bec9e\">\n",
       "  <thead>\n",
       "    <tr>\n",
       "      <th class=\"index_name level0\" >capit</th>\n",
       "      <th id=\"T_bec9e_level0_col0\" class=\"col_heading level0 col0\" >1</th>\n",
       "      <th id=\"T_bec9e_level0_col1\" class=\"col_heading level0 col1\" >2</th>\n",
       "      <th id=\"T_bec9e_level0_col2\" class=\"col_heading level0 col2\" >3</th>\n",
       "      <th id=\"T_bec9e_level0_col3\" class=\"col_heading level0 col3\" >4</th>\n",
       "      <th id=\"T_bec9e_level0_col4\" class=\"col_heading level0 col4\" >5</th>\n",
       "      <th id=\"T_bec9e_level0_col5\" class=\"col_heading level0 col5\" >6</th>\n",
       "      <th id=\"T_bec9e_level0_col6\" class=\"col_heading level0 col6\" >7</th>\n",
       "      <th id=\"T_bec9e_level0_col7\" class=\"col_heading level0 col7\" >8</th>\n",
       "      <th id=\"T_bec9e_level0_col8\" class=\"col_heading level0 col8\" >9</th>\n",
       "      <th id=\"T_bec9e_level0_col9\" class=\"col_heading level0 col9\" >10</th>\n",
       "      <th id=\"T_bec9e_level0_col10\" class=\"col_heading level0 col10\" >11</th>\n",
       "      <th id=\"T_bec9e_level0_col11\" class=\"col_heading level0 col11\" >12</th>\n",
       "      <th id=\"T_bec9e_level0_col12\" class=\"col_heading level0 col12\" >13</th>\n",
       "      <th id=\"T_bec9e_level0_col13\" class=\"col_heading level0 col13\" >14</th>\n",
       "    </tr>\n",
       "    <tr>\n",
       "      <th class=\"index_name level0\" >parte</th>\n",
       "      <th class=\"blank col0\" >&nbsp;</th>\n",
       "      <th class=\"blank col1\" >&nbsp;</th>\n",
       "      <th class=\"blank col2\" >&nbsp;</th>\n",
       "      <th class=\"blank col3\" >&nbsp;</th>\n",
       "      <th class=\"blank col4\" >&nbsp;</th>\n",
       "      <th class=\"blank col5\" >&nbsp;</th>\n",
       "      <th class=\"blank col6\" >&nbsp;</th>\n",
       "      <th class=\"blank col7\" >&nbsp;</th>\n",
       "      <th class=\"blank col8\" >&nbsp;</th>\n",
       "      <th class=\"blank col9\" >&nbsp;</th>\n",
       "      <th class=\"blank col10\" >&nbsp;</th>\n",
       "      <th class=\"blank col11\" >&nbsp;</th>\n",
       "      <th class=\"blank col12\" >&nbsp;</th>\n",
       "      <th class=\"blank col13\" >&nbsp;</th>\n",
       "    </tr>\n",
       "  </thead>\n",
       "  <tbody>\n",
       "    <tr>\n",
       "      <th id=\"T_bec9e_level0_row0\" class=\"row_heading level0 row0\" >0</th>\n",
       "      <td id=\"T_bec9e_row0_col0\" class=\"data row0 col0\" >2</td>\n",
       "      <td id=\"T_bec9e_row0_col1\" class=\"data row0 col1\" ></td>\n",
       "      <td id=\"T_bec9e_row0_col2\" class=\"data row0 col2\" ></td>\n",
       "      <td id=\"T_bec9e_row0_col3\" class=\"data row0 col3\" ></td>\n",
       "      <td id=\"T_bec9e_row0_col4\" class=\"data row0 col4\" ></td>\n",
       "      <td id=\"T_bec9e_row0_col5\" class=\"data row0 col5\" ></td>\n",
       "      <td id=\"T_bec9e_row0_col6\" class=\"data row0 col6\" ></td>\n",
       "      <td id=\"T_bec9e_row0_col7\" class=\"data row0 col7\" ></td>\n",
       "      <td id=\"T_bec9e_row0_col8\" class=\"data row0 col8\" ></td>\n",
       "      <td id=\"T_bec9e_row0_col9\" class=\"data row0 col9\" ></td>\n",
       "      <td id=\"T_bec9e_row0_col10\" class=\"data row0 col10\" ></td>\n",
       "      <td id=\"T_bec9e_row0_col11\" class=\"data row0 col11\" ></td>\n",
       "      <td id=\"T_bec9e_row0_col12\" class=\"data row0 col12\" ></td>\n",
       "      <td id=\"T_bec9e_row0_col13\" class=\"data row0 col13\" ></td>\n",
       "    </tr>\n",
       "    <tr>\n",
       "      <th id=\"T_bec9e_level0_row1\" class=\"row_heading level0 row1\" >1</th>\n",
       "      <td id=\"T_bec9e_row1_col0\" class=\"data row1 col0\" >2</td>\n",
       "      <td id=\"T_bec9e_row1_col1\" class=\"data row1 col1\" >2</td>\n",
       "      <td id=\"T_bec9e_row1_col2\" class=\"data row1 col2\" >2</td>\n",
       "      <td id=\"T_bec9e_row1_col3\" class=\"data row1 col3\" >2</td>\n",
       "      <td id=\"T_bec9e_row1_col4\" class=\"data row1 col4\" >2</td>\n",
       "      <td id=\"T_bec9e_row1_col5\" class=\"data row1 col5\" >4</td>\n",
       "      <td id=\"T_bec9e_row1_col6\" class=\"data row1 col6\" >4</td>\n",
       "      <td id=\"T_bec9e_row1_col7\" class=\"data row1 col7\" >4</td>\n",
       "      <td id=\"T_bec9e_row1_col8\" class=\"data row1 col8\" >2</td>\n",
       "      <td id=\"T_bec9e_row1_col9\" class=\"data row1 col9\" ></td>\n",
       "      <td id=\"T_bec9e_row1_col10\" class=\"data row1 col10\" ></td>\n",
       "      <td id=\"T_bec9e_row1_col11\" class=\"data row1 col11\" ></td>\n",
       "      <td id=\"T_bec9e_row1_col12\" class=\"data row1 col12\" ></td>\n",
       "      <td id=\"T_bec9e_row1_col13\" class=\"data row1 col13\" ></td>\n",
       "    </tr>\n",
       "    <tr>\n",
       "      <th id=\"T_bec9e_level0_row2\" class=\"row_heading level0 row2\" >2</th>\n",
       "      <td id=\"T_bec9e_row2_col0\" class=\"data row2 col0\" >6</td>\n",
       "      <td id=\"T_bec9e_row2_col1\" class=\"data row2 col1\" >6</td>\n",
       "      <td id=\"T_bec9e_row2_col2\" class=\"data row2 col2\" >6</td>\n",
       "      <td id=\"T_bec9e_row2_col3\" class=\"data row2 col3\" >5</td>\n",
       "      <td id=\"T_bec9e_row2_col4\" class=\"data row2 col4\" >5</td>\n",
       "      <td id=\"T_bec9e_row2_col5\" class=\"data row2 col5\" >5</td>\n",
       "      <td id=\"T_bec9e_row2_col6\" class=\"data row2 col6\" >6</td>\n",
       "      <td id=\"T_bec9e_row2_col7\" class=\"data row2 col7\" >6</td>\n",
       "      <td id=\"T_bec9e_row2_col8\" class=\"data row2 col8\" >4</td>\n",
       "      <td id=\"T_bec9e_row2_col9\" class=\"data row2 col9\" >6</td>\n",
       "      <td id=\"T_bec9e_row2_col10\" class=\"data row2 col10\" >6</td>\n",
       "      <td id=\"T_bec9e_row2_col11\" class=\"data row2 col11\" >4</td>\n",
       "      <td id=\"T_bec9e_row2_col12\" class=\"data row2 col12\" >6</td>\n",
       "      <td id=\"T_bec9e_row2_col13\" class=\"data row2 col13\" >2</td>\n",
       "    </tr>\n",
       "    <tr>\n",
       "      <th id=\"T_bec9e_level0_row3\" class=\"row_heading level0 row3\" >3</th>\n",
       "      <td id=\"T_bec9e_row3_col0\" class=\"data row3 col0\" >2</td>\n",
       "      <td id=\"T_bec9e_row3_col1\" class=\"data row3 col1\" >2</td>\n",
       "      <td id=\"T_bec9e_row3_col2\" class=\"data row3 col2\" >2</td>\n",
       "      <td id=\"T_bec9e_row3_col3\" class=\"data row3 col3\" >1</td>\n",
       "      <td id=\"T_bec9e_row3_col4\" class=\"data row3 col4\" >1</td>\n",
       "      <td id=\"T_bec9e_row3_col5\" class=\"data row3 col5\" >1</td>\n",
       "      <td id=\"T_bec9e_row3_col6\" class=\"data row3 col6\" >1</td>\n",
       "      <td id=\"T_bec9e_row3_col7\" class=\"data row3 col7\" >1</td>\n",
       "      <td id=\"T_bec9e_row3_col8\" class=\"data row3 col8\" >1</td>\n",
       "      <td id=\"T_bec9e_row3_col9\" class=\"data row3 col9\" >1</td>\n",
       "      <td id=\"T_bec9e_row3_col10\" class=\"data row3 col10\" ></td>\n",
       "      <td id=\"T_bec9e_row3_col11\" class=\"data row3 col11\" ></td>\n",
       "      <td id=\"T_bec9e_row3_col12\" class=\"data row3 col12\" ></td>\n",
       "      <td id=\"T_bec9e_row3_col13\" class=\"data row3 col13\" ></td>\n",
       "    </tr>\n",
       "    <tr>\n",
       "      <th id=\"T_bec9e_level0_row4\" class=\"row_heading level0 row4\" >4</th>\n",
       "      <td id=\"T_bec9e_row4_col0\" class=\"data row4 col0\" >1</td>\n",
       "      <td id=\"T_bec9e_row4_col1\" class=\"data row4 col1\" >1</td>\n",
       "      <td id=\"T_bec9e_row4_col2\" class=\"data row4 col2\" >1</td>\n",
       "      <td id=\"T_bec9e_row4_col3\" class=\"data row4 col3\" >1</td>\n",
       "      <td id=\"T_bec9e_row4_col4\" class=\"data row4 col4\" >1</td>\n",
       "      <td id=\"T_bec9e_row4_col5\" class=\"data row4 col5\" >1</td>\n",
       "      <td id=\"T_bec9e_row4_col6\" class=\"data row4 col6\" >3</td>\n",
       "      <td id=\"T_bec9e_row4_col7\" class=\"data row4 col7\" >3</td>\n",
       "      <td id=\"T_bec9e_row4_col8\" class=\"data row4 col8\" >3</td>\n",
       "      <td id=\"T_bec9e_row4_col9\" class=\"data row4 col9\" >3</td>\n",
       "      <td id=\"T_bec9e_row4_col10\" class=\"data row4 col10\" >1</td>\n",
       "      <td id=\"T_bec9e_row4_col11\" class=\"data row4 col11\" >3</td>\n",
       "      <td id=\"T_bec9e_row4_col12\" class=\"data row4 col12\" ></td>\n",
       "      <td id=\"T_bec9e_row4_col13\" class=\"data row4 col13\" ></td>\n",
       "    </tr>\n",
       "  </tbody>\n",
       "</table>\n"
      ],
      "text/plain": [
       "<pandas.io.formats.style.Styler at 0x7f02f4a275e0>"
      ]
     },
     "execution_count": 83,
     "metadata": {},
     "output_type": "execute_result"
    }
   ],
   "source": [
    "DOC.topic_group.unstack(fill_value='')\\\n",
    "    .style.map(lambda x: 'background:' + label_color[x])"
   ]
  },
  {
   "cell_type": "markdown",
   "id": "e406cab6-7855-40bd-94aa-6b9659f42fe1",
   "metadata": {},
   "source": [
    "## Compare to previous clusters"
   ]
  },
  {
   "cell_type": "code",
   "execution_count": 84,
   "id": "138a9d10-e92c-4cf4-b17a-3354ba84af8b",
   "metadata": {},
   "outputs": [
    {
     "data": {
      "text/html": [
       "<style type=\"text/css\">\n",
       "#T_e4a1f_row0_col0, #T_e4a1f_row0_col2, #T_e4a1f_row1_col0, #T_e4a1f_row1_col2, #T_e4a1f_row1_col3, #T_e4a1f_row1_col4, #T_e4a1f_row1_col5, #T_e4a1f_row2_col0, #T_e4a1f_row2_col2, #T_e4a1f_row2_col4, #T_e4a1f_row2_col5, #T_e4a1f_row3_col1, #T_e4a1f_row3_col3, #T_e4a1f_row3_col4, #T_e4a1f_row3_col5, #T_e4a1f_row4_col2, #T_e4a1f_row4_col3, #T_e4a1f_row4_col4, #T_e4a1f_row4_col5 {\n",
       "  background-color: #ffffd9;\n",
       "  color: #000000;\n",
       "}\n",
       "#T_e4a1f_row0_col1, #T_e4a1f_row3_col0 {\n",
       "  background-color: #f4fbc1;\n",
       "  color: #000000;\n",
       "}\n",
       "#T_e4a1f_row0_col3, #T_e4a1f_row4_col1 {\n",
       "  background-color: #e5f5b2;\n",
       "  color: #000000;\n",
       "}\n",
       "#T_e4a1f_row0_col4, #T_e4a1f_row2_col1, #T_e4a1f_row2_col3 {\n",
       "  background-color: #cdebb4;\n",
       "  color: #000000;\n",
       "}\n",
       "#T_e4a1f_row0_col5 {\n",
       "  background-color: #2094c0;\n",
       "  color: #f1f1f1;\n",
       "}\n",
       "#T_e4a1f_row1_col1, #T_e4a1f_row3_col2 {\n",
       "  background-color: #7acbbc;\n",
       "  color: #000000;\n",
       "}\n",
       "#T_e4a1f_row4_col0 {\n",
       "  background-color: #081d58;\n",
       "  color: #f1f1f1;\n",
       "}\n",
       "</style>\n",
       "<table id=\"T_e4a1f\">\n",
       "  <thead>\n",
       "    <tr>\n",
       "      <th class=\"index_name level0\" >topic_group</th>\n",
       "      <th id=\"T_e4a1f_level0_col0\" class=\"col_heading level0 col0\" >1</th>\n",
       "      <th id=\"T_e4a1f_level0_col1\" class=\"col_heading level0 col1\" >2</th>\n",
       "      <th id=\"T_e4a1f_level0_col2\" class=\"col_heading level0 col2\" >3</th>\n",
       "      <th id=\"T_e4a1f_level0_col3\" class=\"col_heading level0 col3\" >4</th>\n",
       "      <th id=\"T_e4a1f_level0_col4\" class=\"col_heading level0 col4\" >5</th>\n",
       "      <th id=\"T_e4a1f_level0_col5\" class=\"col_heading level0 col5\" >6</th>\n",
       "    </tr>\n",
       "    <tr>\n",
       "      <th class=\"index_name level0\" >label</th>\n",
       "      <th class=\"blank col0\" >&nbsp;</th>\n",
       "      <th class=\"blank col1\" >&nbsp;</th>\n",
       "      <th class=\"blank col2\" >&nbsp;</th>\n",
       "      <th class=\"blank col3\" >&nbsp;</th>\n",
       "      <th class=\"blank col4\" >&nbsp;</th>\n",
       "      <th class=\"blank col5\" >&nbsp;</th>\n",
       "    </tr>\n",
       "  </thead>\n",
       "  <tbody>\n",
       "    <tr>\n",
       "      <th id=\"T_e4a1f_level0_row0\" class=\"row_heading level0 row0\" >1</th>\n",
       "      <td id=\"T_e4a1f_row0_col0\" class=\"data row0 col0\" >0</td>\n",
       "      <td id=\"T_e4a1f_row0_col1\" class=\"data row0 col1\" >1</td>\n",
       "      <td id=\"T_e4a1f_row0_col2\" class=\"data row0 col2\" >0</td>\n",
       "      <td id=\"T_e4a1f_row0_col3\" class=\"data row0 col3\" >2</td>\n",
       "      <td id=\"T_e4a1f_row0_col4\" class=\"data row0 col4\" >3</td>\n",
       "      <td id=\"T_e4a1f_row0_col5\" class=\"data row0 col5\" >8</td>\n",
       "    </tr>\n",
       "    <tr>\n",
       "      <th id=\"T_e4a1f_level0_row1\" class=\"row_heading level0 row1\" >2</th>\n",
       "      <td id=\"T_e4a1f_row1_col0\" class=\"data row1 col0\" >0</td>\n",
       "      <td id=\"T_e4a1f_row1_col1\" class=\"data row1 col1\" >5</td>\n",
       "      <td id=\"T_e4a1f_row1_col2\" class=\"data row1 col2\" >0</td>\n",
       "      <td id=\"T_e4a1f_row1_col3\" class=\"data row1 col3\" >0</td>\n",
       "      <td id=\"T_e4a1f_row1_col4\" class=\"data row1 col4\" >0</td>\n",
       "      <td id=\"T_e4a1f_row1_col5\" class=\"data row1 col5\" >0</td>\n",
       "    </tr>\n",
       "    <tr>\n",
       "      <th id=\"T_e4a1f_level0_row2\" class=\"row_heading level0 row2\" >3</th>\n",
       "      <td id=\"T_e4a1f_row2_col0\" class=\"data row2 col0\" >0</td>\n",
       "      <td id=\"T_e4a1f_row2_col1\" class=\"data row2 col1\" >3</td>\n",
       "      <td id=\"T_e4a1f_row2_col2\" class=\"data row2 col2\" >0</td>\n",
       "      <td id=\"T_e4a1f_row2_col3\" class=\"data row2 col3\" >3</td>\n",
       "      <td id=\"T_e4a1f_row2_col4\" class=\"data row2 col4\" >0</td>\n",
       "      <td id=\"T_e4a1f_row2_col5\" class=\"data row2 col5\" >0</td>\n",
       "    </tr>\n",
       "    <tr>\n",
       "      <th id=\"T_e4a1f_level0_row3\" class=\"row_heading level0 row3\" >4</th>\n",
       "      <td id=\"T_e4a1f_row3_col0\" class=\"data row3 col0\" >1</td>\n",
       "      <td id=\"T_e4a1f_row3_col1\" class=\"data row3 col1\" >0</td>\n",
       "      <td id=\"T_e4a1f_row3_col2\" class=\"data row3 col2\" >5</td>\n",
       "      <td id=\"T_e4a1f_row3_col3\" class=\"data row3 col3\" >0</td>\n",
       "      <td id=\"T_e4a1f_row3_col4\" class=\"data row3 col4\" >0</td>\n",
       "      <td id=\"T_e4a1f_row3_col5\" class=\"data row3 col5\" >0</td>\n",
       "    </tr>\n",
       "    <tr>\n",
       "      <th id=\"T_e4a1f_level0_row4\" class=\"row_heading level0 row4\" >5</th>\n",
       "      <td id=\"T_e4a1f_row4_col0\" class=\"data row4 col0\" >13</td>\n",
       "      <td id=\"T_e4a1f_row4_col1\" class=\"data row4 col1\" >2</td>\n",
       "      <td id=\"T_e4a1f_row4_col2\" class=\"data row4 col2\" >0</td>\n",
       "      <td id=\"T_e4a1f_row4_col3\" class=\"data row4 col3\" >0</td>\n",
       "      <td id=\"T_e4a1f_row4_col4\" class=\"data row4 col4\" >0</td>\n",
       "      <td id=\"T_e4a1f_row4_col5\" class=\"data row4 col5\" >0</td>\n",
       "    </tr>\n",
       "  </tbody>\n",
       "</table>\n"
      ],
      "text/plain": [
       "<pandas.io.formats.style.Styler at 0x7f02f4c7af10>"
      ]
     },
     "execution_count": 84,
     "metadata": {},
     "output_type": "execute_result"
    }
   ],
   "source": [
    "DOC.value_counts(['label','topic_group']).unstack(fill_value=0).style.background_gradient(cmap=\"YlGnBu\", axis=None)"
   ]
  },
  {
   "cell_type": "code",
   "execution_count": 85,
   "id": "e7b61650-f1f9-4fea-a439-d392b74e1d5d",
   "metadata": {},
   "outputs": [
    {
     "data": {
      "text/plain": [
       "-0.8561129389895522"
      ]
     },
     "execution_count": 85,
     "metadata": {},
     "output_type": "execute_result"
    }
   ],
   "source": [
    "DOC[['label','topic_group']].corr('spearman').iloc[0,1]"
   ]
  },
  {
   "cell_type": "markdown",
   "id": "9d0a0827-4e32-4e01-89f6-b986f7d5e277",
   "metadata": {},
   "source": [
    "# Correlate Documents in Topic Space"
   ]
  },
  {
   "cell_type": "code",
   "execution_count": 86,
   "id": "5660bf34-ace2-42c7-96f6-b19dcf66a204",
   "metadata": {},
   "outputs": [],
   "source": [
    "X = THETA.T.corr()"
   ]
  },
  {
   "cell_type": "code",
   "execution_count": 87,
   "id": "0ba8ad73-6c3c-40ea-b6b1-5e7659dbe1c8",
   "metadata": {},
   "outputs": [],
   "source": [
    "labels = [str(x[0]).zfill(2) + ':' + str(x[1]).zfill(2) for x in X.index.values]"
   ]
  },
  {
   "cell_type": "code",
   "execution_count": 88,
   "id": "64b2fca9-5c21-49f7-b32a-34c7da0c3a14",
   "metadata": {},
   "outputs": [
    {
     "data": {
      "application/vnd.plotly.v1+json": {
       "config": {
        "plotlyServerURL": "https://plot.ly"
       },
       "data": [
        {
         "coloraxis": "coloraxis",
         "hovertemplate": "x: %{x}<br>y: %{y}<br>color: %{z}<extra></extra>",
         "name": "0",
         "type": "heatmap",
         "x": [
          "00:01",
          "01:01",
          "01:02",
          "01:03",
          "01:04",
          "01:05",
          "01:06",
          "01:07",
          "01:08",
          "01:09",
          "02:01",
          "02:02",
          "02:03",
          "02:04",
          "02:05",
          "02:06",
          "02:07",
          "02:08",
          "02:09",
          "02:10",
          "02:11",
          "02:12",
          "02:13",
          "02:14",
          "03:01",
          "03:02",
          "03:03",
          "03:04",
          "03:05",
          "03:06",
          "03:07",
          "03:08",
          "03:09",
          "03:10",
          "04:01",
          "04:02",
          "04:03",
          "04:04",
          "04:05",
          "04:06",
          "04:07",
          "04:08",
          "04:09",
          "04:10",
          "04:11",
          "04:12"
         ],
         "xaxis": "x",
         "y": [
          "00:01",
          "01:01",
          "01:02",
          "01:03",
          "01:04",
          "01:05",
          "01:06",
          "01:07",
          "01:08",
          "01:09",
          "02:01",
          "02:02",
          "02:03",
          "02:04",
          "02:05",
          "02:06",
          "02:07",
          "02:08",
          "02:09",
          "02:10",
          "02:11",
          "02:12",
          "02:13",
          "02:14",
          "03:01",
          "03:02",
          "03:03",
          "03:04",
          "03:05",
          "03:06",
          "03:07",
          "03:08",
          "03:09",
          "03:10",
          "04:01",
          "04:02",
          "04:03",
          "04:04",
          "04:05",
          "04:06",
          "04:07",
          "04:08",
          "04:09",
          "04:10",
          "04:11",
          "04:12"
         ],
         "yaxis": "y",
         "z": [
          [
           1,
           0.9802896382396478,
           0.981585257205503,
           0.9697133976175618,
           0.9720911241643055,
           0.5859275213792636,
           0.13524535154623715,
           -0.1747355607383963,
           -0.3090225573338707,
           0.7203661180674559,
           0.12678311671095913,
           -0.2688597425771886,
           0.18995758372150118,
           -0.06060488738791854,
           -0.14638624028838762,
           -0.13431413939273154,
           -0.4786493930838284,
           -0.19718851654539274,
           -0.3340490205713829,
           -0.5455747341534452,
           -0.4092613141259585,
           -0.46497785521355967,
           -0.3143186687753431,
           0.7733596022539752,
           0.9757710117809798,
           0.9711675008364983,
           0.8991208361912792,
           -0.16517267778631234,
           -0.27199443421251496,
           0.055701824034184895,
           0.32284285740476115,
           -0.17325233593234363,
           0.37155693548048846,
           -0.10362169737281884,
           -0.24610261739348824,
           -0.2966264065575052,
           -0.22124589375676884,
           -0.21570006205847111,
           0.26495188529754427,
           0.02512550781515184,
           -0.08569183021163444,
           -0.13097490773246862,
           -0.11565672538392874,
           0.09428559939577691,
           0.4764708211516175,
           -0.029567883529829114
          ],
          [
           0.9802896382396478,
           1,
           0.998371220802345,
           0.9948895750413901,
           0.9973439944016647,
           0.6421087870068748,
           0.19636536647054503,
           -0.118862085253661,
           -0.25151798963397476,
           0.759186064535171,
           0.19880457941204815,
           -0.2,
           0.2668259843918855,
           -0.10464317564893322,
           -0.19999999999999993,
           -0.18413040522975638,
           -0.4276894528127838,
           -0.10689430638802935,
           -0.24849314915599813,
           -0.5104960437847474,
           -0.325306621015356,
           -0.34959217057763925,
           -0.272620654150325,
           0.7806854410633574,
           0.9987542248161964,
           0.9967759989641297,
           0.9206692062177377,
           -0.10968932644200492,
           -0.20233184158050474,
           0.1294981318630333,
           0.35433059350615165,
           -0.10132896491679252,
           0.4458571575317485,
           -0.03726889794148632,
           -0.17644308521696,
           -0.22065512948435925,
           -0.15859119085546117,
           -0.16213129833337292,
           0.22839826396338894,
           -0.015230881597267642,
           -0.24956049860142251,
           -0.277657696109606,
           -0.27075807730952745,
           -0.07278099525250172,
           0.35387327590213036,
           -0.20352970339712897
          ],
          [
           0.981585257205503,
           0.998371220802345,
           1,
           0.9914072734494891,
           0.9946455721678094,
           0.6286716382690943,
           0.19389014158019338,
           -0.1345297496776376,
           -0.2520847923390552,
           0.7734617962119593,
           0.1953773456176348,
           -0.21364901887844256,
           0.25264554604844147,
           -0.04908831281618467,
           -0.1437751452885749,
           -0.12790712571448223,
           -0.4019398556190778,
           -0.11888658924744253,
           -0.26545158757596743,
           -0.50530804820371,
           -0.3132080467396127,
           -0.37060980428659956,
           -0.29080430607598795,
           0.8055690710929121,
           0.9964526977889104,
           0.9940080877899752,
           0.9112958707198328,
           -0.12545358532323997,
           -0.21613999720771648,
           0.11444959083018413,
           0.3416541232304631,
           -0.11535345538699135,
           0.432248970922538,
           -0.051274550242818316,
           -0.1901948695464812,
           -0.23571375962414526,
           -0.17207078316654403,
           -0.1776723966167229,
           0.20687247845226817,
           -0.032875663730652635,
           -0.26549064952040285,
           -0.2966064717893305,
           -0.29002214838410223,
           -0.08929713989666986,
           0.333570281198341,
           -0.21638584737693073
          ],
          [
           0.9697133976175618,
           0.9948895750413901,
           0.9914072734494891,
           1,
           0.9992983817674543,
           0.7132901562818577,
           0.28448096486724034,
           -0.0218434084196512,
           -0.1615692149003068,
           0.800273854009466,
           0.14610224752724849,
           -0.24539632870803077,
           0.2198044103751848,
           -0.14949978223554874,
           -0.23095289024502683,
           -0.20833849246275615,
           -0.4432296804924877,
           -0.14769300167790947,
           -0.1612309855413113,
           -0.5175413067951752,
           -0.29089845427482686,
           -0.28951045687106614,
           -0.31686730381474115,
           0.7714709457246409,
           0.9911685813083418,
           0.9913109909727803,
           0.9123348142748794,
           -0.11502522104870054,
           -0.2049172426594626,
           0.12322653292628007,
           0.34162629136622535,
           -0.10541199773517805,
           0.43935604848239473,
           -0.040925376074626735,
           -0.18009349908376307,
           -0.2282653604875168,
           -0.16362605160870133,
           -0.16652306181744997,
           0.21498011988508423,
           -0.030251338479404068,
           -0.2591124613849176,
           -0.30559716657276204,
           -0.29375582185208804,
           -0.08502173818328364,
           0.3390205165043207,
           -0.21443777255430768
          ],
          [
           0.9720911241643055,
           0.9973439944016647,
           0.9946455721678094,
           0.9992983817674543,
           1,
           0.6958422604522608,
           0.2651846661378426,
           -0.04665243129489976,
           -0.1824625556204187,
           0.7936458882704692,
           0.1778083942522315,
           -0.21791293018763228,
           0.24797531647571597,
           -0.12903683601773105,
           -0.21791293018763222,
           -0.19704035636102998,
           -0.4212386887193123,
           -0.12016153909306523,
           -0.1791299696934922,
           -0.4986052588876821,
           -0.28374729268312127,
           -0.2949284182895467,
           -0.2915367983497928,
           0.7846308612762177,
           0.9950737296383162,
           0.992817822853959,
           0.908825897346352,
           -0.12791488299452083,
           -0.21713528200102838,
           0.11206222711879277,
           0.33040331618481716,
           -0.11731199255634456,
           0.42990230203067714,
           -0.053637442978653194,
           -0.19205439054866585,
           -0.23794590002766314,
           -0.1757881130596231,
           -0.17971668814514977,
           0.20045166205658765,
           -0.04508561284346885,
           -0.2697095586017354,
           -0.30252601074195695,
           -0.29578301002417645,
           -0.09418694318397745,
           0.32799414518189585,
           -0.2217587702374403
          ],
          [
           0.5859275213792636,
           0.6421087870068748,
           0.6286716382690943,
           0.7132901562818577,
           0.6958422604522608,
           1,
           0.8518648463530297,
           0.6848085336760619,
           0.5496705458377661,
           0.8607503230975702,
           -0.11144410515515418,
           -0.34122739704180804,
           -0.03798811454639127,
           -0.3477397023343098,
           -0.34122739704180793,
           -0.278246199991819,
           -0.25135741265832023,
           -0.23921931646855463,
           0.5552249255260733,
           -0.22472726041555854,
           0.19013140427748781,
           0.3196505233512885,
           -0.38510099534856407,
           0.5592636504129566,
           0.6296999489372613,
           0.6226121434102827,
           0.487539430292318,
           -0.3022185166275885,
           -0.3358462411176607,
           -0.14017494141660464,
           -0.03882784717068396,
           -0.2811401629456122,
           0.0908146079131032,
           -0.2395202126559048,
           -0.32708191375270496,
           -0.37646787738935505,
           -0.32915148790963983,
           -0.3301044868832649,
           -0.12795523733621306,
           -0.31577926140900214,
           -0.3001842342881352,
           -0.368930591418591,
           -0.364745275709648,
           -0.19092235458237325,
           0.02732303918234425,
           -0.24248191086941978
          ],
          [
           0.13524535154623715,
           0.19636536647054503,
           0.19389014158019338,
           0.28448096486724034,
           0.2651846661378426,
           0.8518648463530297,
           1,
           0.9181351834803291,
           0.8971538759632797,
           0.7168419337518177,
           -0.2185588857172706,
           -0.3130247489933126,
           -0.21687164989718846,
           -0.13546150074673463,
           -0.07628929619234207,
           -0.0033829815697549023,
           0.1200830608855202,
           -0.2244339492636939,
           0.8461496601570015,
           0.1156389017840889,
           0.574826613982332,
           0.60882086173172,
           -0.35399328755263376,
           0.3675198029264437,
           0.18123752493628179,
           0.1662411309512428,
           -0.007408436370541301,
           -0.42245486343475686,
           -0.39141661636053715,
           -0.3532838434754255,
           -0.36951132523926206,
           -0.3855667150381949,
           -0.24379777017713522,
           -0.37559002263035096,
           -0.3964416501293982,
           -0.43294680624712484,
           -0.41263436934626213,
           -0.4247907572897883,
           -0.4669378657618569,
           -0.5422567793019258,
           -0.37242196382122894,
           -0.4264505956765953,
           -0.4400312723934769,
           -0.34429027694544106,
           -0.3479943627410005,
           -0.30693054084624216
          ],
          [
           -0.1747355607383963,
           -0.118862085253661,
           -0.1345297496776376,
           -0.0218434084196512,
           -0.04665243129489976,
           0.6848085336760619,
           0.9181351834803291,
           1,
           0.95290360782986,
           0.3953106845281078,
           -0.32920514429601677,
           -0.2486257833225929,
           -0.2996512225335275,
           -0.3471617655953418,
           -0.24862578332259283,
           -0.18205217999680692,
           0.08681547064620751,
           -0.20379736590516806,
           0.9571727796260416,
           0.19695576533157988,
           0.5609038598890853,
           0.7499245096127298,
           -0.23836384893403648,
           -0.0156711752466118,
           -0.13360351823144012,
           -0.14078534526682554,
           -0.24401944465465672,
           -0.28496391732699805,
           -0.23942268661252128,
           -0.30156969449024473,
           -0.38631215306460354,
           -0.26454012542628763,
           -0.30329108639839064,
           -0.2719032535031237,
           -0.25268103142801296,
           -0.2743027720609849,
           -0.2726900734714534,
           -0.27128389973394595,
           -0.38667873162051297,
           -0.3978987035852028,
           -0.16198517988697356,
           -0.22350042064792705,
           -0.22515605420804283,
           -0.18890378792729817,
           -0.3099042129021807,
           -0.13137743560114554
          ],
          [
           -0.3090225573338707,
           -0.25151798963397476,
           -0.2520847923390552,
           -0.1615692149003068,
           -0.1824625556204187,
           0.5496705458377661,
           0.8971538759632797,
           0.95290360782986,
           1,
           0.3766581952332878,
           -0.3330937165850822,
           -0.25151798963397476,
           -0.36398863337303805,
           -0.07521565224077255,
           0.03353389690525899,
           0.09893037541604598,
           0.2964510309706443,
           -0.20113276910426664,
           0.9365939384414607,
           0.3067672497150554,
           0.699062234037511,
           0.7405651103695737,
           -0.2674139634623347,
           0.005150716019287156,
           -0.2675995143112055,
           -0.2754230245973124,
           -0.4016193697130377,
           -0.31673993147212437,
           -0.24251096890499704,
           -0.35302802305487707,
           -0.4764250363955169,
           -0.2809737929553987,
           -0.3903610217271914,
           -0.29961411709773816,
           -0.25883378596668405,
           -0.27749367285165216,
           -0.2831250685295532,
           -0.2959579741714424,
           -0.5371602583132173,
           -0.49778793938812627,
           -0.28588804806151347,
           -0.349179527659446,
           -0.3574818167099423,
           -0.34096361734692615,
           -0.5150529880503404,
           -0.251739664881307
          ],
          [
           0.7203661180674559,
           0.759186064535171,
           0.7734617962119593,
           0.800273854009466,
           0.7936458882704692,
           0.8607503230975702,
           0.7168419337518177,
           0.3953106845281078,
           0.3766581952332878,
           1,
           -0.037426056727106555,
           -0.4054431847699291,
           -0.04688078939554991,
           0.13261378134834986,
           0.11456756499728546,
           0.16913856933298368,
           -0.08528103819902892,
           -0.2807077762292618,
           0.2595719814331847,
           -0.2569998334751532,
           0.18748268765060183,
           0.026582378850229557,
           -0.504479700638328,
           0.8452721093824302,
           0.7448818428448204,
           0.7359708569909208,
           0.5560707204853017,
           -0.372597294186791,
           -0.402874104765248,
           -0.1709511508363422,
           -0.027559856098123208,
           -0.3344308162831446,
           0.10471389514516408,
           -0.2867325783016902,
           -0.38872773193679444,
           -0.44731559216979844,
           -0.38578429406025744,
           -0.4070894176349505,
           -0.2244489241893703,
           -0.4055510317080977,
           -0.483379050521574,
           -0.562872102932799,
           -0.5631518636207361,
           -0.35713084193658207,
           -0.08933128692743632,
           -0.4049052761616089
          ],
          [
           0.12678311671095913,
           0.19880457941204815,
           0.1953773456176348,
           0.14610224752724849,
           0.1778083942522315,
           -0.11144410515515418,
           -0.2185588857172706,
           -0.32920514429601677,
           -0.3330937165850822,
           -0.037426056727106555,
           1,
           0.901301771725219,
           0.9786922762374289,
           0.13417448444163807,
           -0.09305851977855523,
           -0.1211715615874128,
           0.5443060804347107,
           0.9360144643322678,
           -0.11101636762778007,
           0.5912560586826894,
           0.35637620026026595,
           0.25083698951211186,
           0.834811248185821,
           0.36578979511334525,
           0.24652500401549282,
           0.17266949859468336,
           0.007624418646603583,
           -0.3769770419218315,
           -0.3547283078165185,
           -0.2860969476146555,
           -0.3327619790032581,
           -0.33625370360903384,
           -0.19834151007283898,
           -0.36014834533358714,
           -0.3478370309368479,
           -0.27556141756410774,
           -0.3654863870238997,
           -0.3920267514019703,
           -0.4500834603195885,
           -0.5239698938525674,
           -0.4467576337853802,
           -0.00498036878633372,
           -0.17081107519814545,
           -0.38505049207644065,
           -0.36911039113736516,
           -0.35346437275531656
          ],
          [
           -0.2688597425771886,
           -0.2,
           -0.21364901887844256,
           -0.24539632870803077,
           -0.21791293018763228,
           -0.34122739704180804,
           -0.3130247489933126,
           -0.2486257833225929,
           -0.25151798963397476,
           -0.4054431847699291,
           0.901301771725219,
           1,
           0.8909079300775736,
           -0.014696670532837392,
           -0.20000000000000004,
           -0.2357261513975258,
           0.5967657197758748,
           0.9881026360462112,
           0.017917483907208237,
           0.7446430504673148,
           0.4069444511667941,
           0.4264449461576669,
           0.9816607442668541,
           -0.050333862048993545,
           -0.15090824952571322,
           -0.2190086084881052,
           -0.31935637709056136,
           -0.25186264563665195,
           -0.20233184158050468,
           -0.2627952977009322,
           -0.40216957298223893,
           -0.22342242267782905,
           -0.31040405681937117,
           -0.2716584923911277,
           -0.20581731457328803,
           -0.11354817612391273,
           -0.2300046338548739,
           -0.24654649730135747,
           -0.4313646680356445,
           -0.4180476082704169,
           -0.26261469142514593,
           0.1845901263596622,
           0.02427041529992666,
           -0.2711246363276985,
           -0.4095555859045142,
           -0.20352970339712897
          ],
          [
           0.18995758372150118,
           0.2668259843918855,
           0.25264554604844147,
           0.2198044103751848,
           0.24797531647571597,
           -0.03798811454639127,
           -0.21687164989718846,
           -0.2996512225335275,
           -0.36398863337303805,
           -0.04688078939554991,
           0.9786922762374289,
           0.8909079300775736,
           1,
           -0.06296320457826086,
           -0.28943347861736485,
           -0.31721801495297663,
           0.38873415415395485,
           0.9223645732465129,
           -0.09756493126307497,
           0.4958039766495303,
           0.2494820836928723,
           0.25740556283401816,
           0.8392058392213082,
           0.3123771021575644,
           0.3145360274546749,
           0.24663429372093965,
           0.11265116854087215,
           -0.29858302981072987,
           -0.29280804371851515,
           -0.1984613421632434,
           -0.23133137886384747,
           -0.266733277274569,
           -0.09864208221946585,
           -0.2844841206239705,
           -0.2842356957097714,
           -0.2139725983317054,
           -0.2997515368282348,
           -0.3176634240678347,
           -0.31842407022158126,
           -0.4182593540549228,
           -0.37399615313424284,
           0.05285804070018768,
           -0.1016369720874069,
           -0.3004206270928116,
           -0.2388083823156433,
           -0.29454155028095763
          ],
          [
           -0.06060488738791854,
           -0.10464317564893322,
           -0.04908831281618467,
           -0.14949978223554874,
           -0.12903683601773105,
           -0.3477397023343098,
           -0.13546150074673463,
           -0.3471617655953418,
           -0.07521565224077255,
           0.13261378134834986,
           0.13417448444163807,
           -0.014696670532837392,
           -0.06296320457826086,
           1,
           0.9720896804754613,
           0.9624333962376908,
           0.6021384748394707,
           0.005629979676084696,
           -0.309514873295305,
           0.27508045077305787,
           0.3041905334186488,
           -0.28826160455336297,
           -0.09300605353461798,
           0.4121702152778059,
           -0.10559887002355393,
           -0.1305710437272309,
           -0.2697381286059729,
           -0.3494915219993186,
           -0.3033110277066829,
           -0.34865984557814944,
           -0.33659550173829483,
           -0.31506678425071155,
           -0.3420053275027034,
           -0.3266566160980539,
           -0.30375558426911636,
           -0.3053276136082579,
           -0.30370464283068127,
           -0.3426027173893999,
           -0.4852998979534445,
           -0.4061703230562,
           -0.30895188473239565,
           -0.25926504920967985,
           -0.30151612325248617,
           -0.3250937597423492,
           -0.4445857758845647,
           -0.23916439544487847
          ],
          [
           -0.14638624028838762,
           -0.19999999999999993,
           -0.1437751452885749,
           -0.23095289024502683,
           -0.21791293018763222,
           -0.34122739704180793,
           -0.07628929619234207,
           -0.24862578332259283,
           0.03353389690525899,
           0.11456756499728546,
           -0.09305851977855523,
           -0.20000000000000004,
           -0.28943347861736485,
           0.9720896804754613,
           1,
           0.9972429384795928,
           0.5157928781184374,
           -0.1875643008562307,
           -0.24849314915599807,
           0.1769170487411474,
           0.26374024708308036,
           -0.30081313214801075,
           -0.2653841236113245,
           0.2930470126612837,
           -0.21133932954554824,
           -0.21900860848810513,
           -0.3193563770905613,
           -0.25186264563665206,
           -0.2023318415805048,
           -0.2807179109284599,
           -0.27865784435098584,
           -0.22342242267782916,
           -0.31040405681937105,
           -0.23411900378849365,
           -0.20581731457328817,
           -0.22065512948435934,
           -0.20421376281083228,
           -0.23900865969333251,
           -0.40897037792111895,
           -0.30040784393778036,
           -0.23064993060678773,
           -0.27765769610960594,
           -0.2842594418237621,
           -0.27112463632769845,
           -0.4095555859045142,
           -0.18577611762247306
          ],
          [
           -0.13431413939273154,
           -0.18413040522975638,
           -0.12790712571448223,
           -0.20833849246275615,
           -0.19704035636102998,
           -0.278246199991819,
           -0.0033829815697549023,
           -0.18205217999680692,
           0.09893037541604598,
           0.16913856933298368,
           -0.1211715615874128,
           -0.2357261513975258,
           -0.31721801495297663,
           0.9624333962376908,
           0.9972429384795928,
           1,
           0.5154047940512427,
           -0.21680194504693792,
           -0.19034671127637295,
           0.1734782340685898,
           0.2974022387715056,
           -0.26447913661169614,
           -0.30408033714755117,
           0.31773045823352225,
           -0.197218505548961,
           -0.2046861095249415,
           -0.31492246397226686,
           -0.2743656445076598,
           -0.22318276100690113,
           -0.2982531999668752,
           -0.29613383545552247,
           -0.24357896219212477,
           -0.3201628361328584,
           -0.2529973505445811,
           -0.2269693324782643,
           -0.2455861825608475,
           -0.2262163718808756,
           -0.261748489909353,
           -0.43387418771638525,
           -0.33039002646225163,
           -0.25453960333235837,
           -0.3121814460410852,
           -0.3172101275777592,
           -0.2932476482332304,
           -0.4290109469673279,
           -0.20657398971064728
          ],
          [
           -0.4786493930838284,
           -0.4276894528127838,
           -0.4019398556190778,
           -0.4432296804924877,
           -0.4212386887193123,
           -0.25135741265832023,
           0.1200830608855202,
           0.08681547064620751,
           0.2964510309706443,
           -0.08528103819902892,
           0.5443060804347107,
           0.5967657197758748,
           0.38873415415395485,
           0.6021384748394707,
           0.5157928781184374,
           0.5154047940512427,
           1,
           0.6195659216824411,
           0.3064851367520485,
           0.9041895834673814,
           0.8657918792096919,
           0.5243883287319522,
           0.5295238691653955,
           0.1559311800450635,
           -0.4012373067035722,
           -0.46833835962783443,
           -0.6829267708506762,
           -0.5385949854815987,
           -0.42684109955238486,
           -0.5849996870759984,
           -0.7629091450116577,
           -0.47777706850593615,
           -0.6637827060597253,
           -0.5352346685668696,
           -0.440129473246231,
           -0.38042079762222997,
           -0.4715750873811627,
           -0.5152862645203474,
           -0.9048434133106625,
           -0.8014802316020421,
           -0.5184811074621414,
           -0.19912952996980657,
           -0.34447798562869186,
           -0.5797857367752918,
           -0.8758130221596039,
           -0.42127904197778154
          ],
          [
           -0.19718851654539274,
           -0.10689430638802935,
           -0.11888658924744253,
           -0.14769300167790947,
           -0.12016153909306523,
           -0.23921931646855463,
           -0.2244339492636939,
           -0.20379736590516806,
           -0.20113276910426664,
           -0.2807077762292618,
           0.9360144643322678,
           0.9881026360462112,
           0.9223645732465129,
           0.005629979676084696,
           -0.1875643008562307,
           -0.21680194504693792,
           0.6195659216824411,
           1,
           0.06272644073878851,
           0.7306933686777866,
           0.4611782095296185,
           0.46276003657893083,
           0.9437253653111939,
           0.0533895924642279,
           -0.057794072381874936,
           -0.12536613711993636,
           -0.24708763563974281,
           -0.2633909633832253,
           -0.21029490539730014,
           -0.24302992493847425,
           -0.3852957620804166,
           -0.22247913710820563,
           -0.2602862700309639,
           -0.2681259959274352,
           -0.21197754918043196,
           -0.12312847434027417,
           -0.23878315256021318,
           -0.26291258406405305,
           -0.47282797777087154,
           -0.479043098178315,
           -0.39825068209928866,
           0.047858693015531834,
           -0.1163256447786555,
           -0.3945691467118446,
           -0.48082617351718776,
           -0.3354641623040433
          ],
          [
           -0.3340490205713829,
           -0.24849314915599813,
           -0.26545158757596743,
           -0.1612309855413113,
           -0.1791299696934922,
           0.5552249255260733,
           0.8461496601570015,
           0.9571727796260416,
           0.9365939384414607,
           0.2595719814331847,
           -0.11101636762778007,
           0.017917483907208237,
           -0.09756493126307497,
           -0.309514873295305,
           -0.24849314915599807,
           -0.19034671127637295,
           0.3064851367520485,
           0.06272644073878851,
           1,
           0.430165612862003,
           0.7270137062573643,
           0.9070223182364459,
           0.013481442754164213,
           -0.07566110440738066,
           -0.25098767265104743,
           -0.2721106940774116,
           -0.3967893592314203,
           -0.3129307098450642,
           -0.2394460601291627,
           -0.344803409608786,
           -0.49968191842539794,
           -0.2775947070163812,
           -0.38566640794921453,
           -0.30440943933910164,
           -0.25572096324573534,
           -0.25037774730644163,
           -0.2857728789353496,
           -0.2940147690425265,
           -0.5359558239740453,
           -0.5194098333812452,
           -0.28949443314535567,
           -0.24235706395493703,
           -0.2846862572512124,
           -0.3368630734742227,
           -0.5088587864792135,
           -0.2528786847196941
          ],
          [
           -0.5455747341534452,
           -0.5104960437847474,
           -0.50530804820371,
           -0.5175413067951752,
           -0.4986052588876821,
           -0.22472726041555854,
           0.1156389017840889,
           0.19695576533157988,
           0.3067672497150554,
           -0.2569998334751532,
           0.5912560586826894,
           0.7446430504673148,
           0.4958039766495303,
           0.27508045077305787,
           0.1769170487411474,
           0.1734782340685898,
           0.9041895834673814,
           0.7306933686777866,
           0.430165612862003,
           1,
           0.8355717292973353,
           0.6824730930000085,
           0.7411752045967201,
           -0.02572828455151539,
           -0.4770613293666635,
           -0.5590151409399017,
           -0.7605810459442599,
           -0.606013509823797,
           -0.5089370530437954,
           -0.6889999142992117,
           -0.8638210960910996,
           -0.5702813143491768,
           -0.789983944915696,
           -0.6311306028795906,
           -0.5253446241603219,
           -0.4511894161887757,
           -0.5563820444743579,
           -0.5779467534855728,
           -0.8622588843971984,
           -0.7736763499415352,
           -0.2654915012362163,
           0.12624100207721414,
           -0.03668329287188678,
           -0.3260489145014911,
           -0.7083351605414044,
           -0.1579464080885359
          ],
          [
           -0.4092613141259585,
           -0.325306621015356,
           -0.3132080467396127,
           -0.29089845427482686,
           -0.28374729268312127,
           0.19013140427748781,
           0.574826613982332,
           0.5609038598890853,
           0.699062234037511,
           0.18748268765060183,
           0.35637620026026595,
           0.4069444511667941,
           0.2494820836928723,
           0.3041905334186488,
           0.26374024708308036,
           0.2974022387715056,
           0.8657918792096919,
           0.4611782095296185,
           0.7270137062573643,
           0.8355717292973353,
           1,
           0.8182166538637612,
           0.3425691407058034,
           0.19064282053580475,
           -0.3081938008524392,
           -0.36927257261098045,
           -0.6092174284954229,
           -0.5914380116274582,
           -0.4794793755194376,
           -0.6124535361509675,
           -0.7970648949895892,
           -0.5251876132707443,
           -0.6517579427671917,
           -0.5737717378009364,
           -0.494837953916001,
           -0.4551141302703235,
           -0.531782416919631,
           -0.5703793624899576,
           -0.9437174402261264,
           -0.8861645515356195,
           -0.5813922121665189,
           -0.3293776673303807,
           -0.45779304341573107,
           -0.6306555777580832,
           -0.8910710441245303,
           -0.4821228301662008
          ],
          [
           -0.46497785521355967,
           -0.34959217057763925,
           -0.37060980428659956,
           -0.28951045687106614,
           -0.2949284182895467,
           0.3196505233512885,
           0.60882086173172,
           0.7499245096127298,
           0.7405651103695737,
           0.026582378850229557,
           0.25083698951211186,
           0.4264449461576669,
           0.25740556283401816,
           -0.28826160455336297,
           -0.30081313214801075,
           -0.26447913661169614,
           0.5243883287319522,
           0.46276003657893083,
           0.9070223182364459,
           0.6824730930000085,
           0.8182166538637612,
           1,
           0.4088141190894963,
           -0.14624364488984268,
           -0.3322259714680765,
           -0.3724118384899612,
           -0.5064128440806495,
           -0.30863551208031287,
           -0.2151693358203191,
           -0.34924785149586335,
           -0.5689595582144219,
           -0.2614988078781911,
           -0.426269795370106,
           -0.3091924033134805,
           -0.23209310795826207,
           -0.18756714815881506,
           -0.2709138750377802,
           -0.28774035876091986,
           -0.6332004140617493,
           -0.5973994318133876,
           -0.3968273517528966,
           -0.1864002271641981,
           -0.2836391991945076,
           -0.4553856245108794,
           -0.6587429505064085,
           -0.35504028490248907
          ],
          [
           -0.3143186687753431,
           -0.272620654150325,
           -0.29080430607598795,
           -0.31686730381474115,
           -0.2915367983497928,
           -0.38510099534856407,
           -0.35399328755263376,
           -0.23836384893403648,
           -0.2674139634623347,
           -0.504479700638328,
           0.834811248185821,
           0.9816607442668541,
           0.8392058392213082,
           -0.09300605353461798,
           -0.2653841236113245,
           -0.30408033714755117,
           0.5295238691653955,
           0.9437253653111939,
           0.013481442754164213,
           0.7411752045967201,
           0.3425691407058034,
           0.4088141190894963,
           1,
           -0.15171509740881525,
           -0.22485886312087716,
           -0.29472796217762093,
           -0.3765892454408266,
           -0.2683358711942828,
           -0.22856030623080065,
           -0.3100557414309395,
           -0.4332561494613949,
           -0.2573885386754359,
           -0.3789172153583002,
           -0.3049136942191459,
           -0.23389068982316405,
           -0.1417271447989647,
           -0.2542114196142634,
           -0.25862064917824,
           -0.37927211184517196,
           -0.3573612301479873,
           -0.08095717997927353,
           0.36096574523338004,
           0.20703072054554275,
           -0.09592482252739919,
           -0.2916131629578949,
           -0.02109873324872426
          ],
          [
           0.7733596022539752,
           0.7806854410633574,
           0.8055690710929121,
           0.7714709457246409,
           0.7846308612762177,
           0.5592636504129566,
           0.3675198029264437,
           -0.0156711752466118,
           0.005150716019287156,
           0.8452721093824302,
           0.36578979511334525,
           -0.050333862048993545,
           0.3123771021575644,
           0.4121702152778059,
           0.2930470126612837,
           0.31773045823352225,
           0.1559311800450635,
           0.0533895924642279,
           -0.07566110440738066,
           -0.02572828455151539,
           0.19064282053580475,
           -0.14624364488984268,
           -0.15171509740881525,
           1,
           0.7854182204192133,
           0.7404815472146519,
           0.5018935832931656,
           -0.5819992153857299,
           -0.6181466838727322,
           -0.3722539324584202,
           -0.1935616212004031,
           -0.5463974449491039,
           -0.07435541082629933,
           -0.5053962349337372,
           -0.6000862115106778,
           -0.6294898506134583,
           -0.5937527088686463,
           -0.6196884470510564,
           -0.3685658483141271,
           -0.554458776384123,
           -0.47066814727084805,
           -0.36429741860298076,
           -0.4299921247100608,
           -0.31999306255045235,
           -0.11124444585507737,
           -0.3404945256516168
          ],
          [
           0.9757710117809798,
           0.9987542248161964,
           0.9964526977889104,
           0.9911685813083418,
           0.9950737296383162,
           0.6296999489372613,
           0.18123752493628179,
           -0.13360351823144012,
           -0.2675995143112055,
           0.7448818428448204,
           0.24652500401549282,
           -0.15090824952571322,
           0.3145360274546749,
           -0.10559887002355393,
           -0.21133932954554824,
           -0.197218505548961,
           -0.4012373067035722,
           -0.057794072381874936,
           -0.25098767265104743,
           -0.4770613293666635,
           -0.3081938008524392,
           -0.3322259714680765,
           -0.22485886312087716,
           0.7854182204192133,
           1,
           0.9944390548687975,
           0.9124336312015214,
           -0.12450850079874366,
           -0.21560970062820056,
           0.11613817497360605,
           0.33636372061836683,
           -0.11478224637186246,
           0.4329925000662794,
           -0.05255690250208662,
           -0.18965889370586833,
           -0.22958224841585712,
           -0.17280939070252888,
           -0.1771421951220264,
           0.20850422400206892,
           -0.03665260175304295,
           -0.2636434121749001,
           -0.26903582340923793,
           -0.27028524536740606,
           -0.0856143212737544,
           0.33731253423295987,
           -0.21398371484838535
          ],
          [
           0.9711675008364983,
           0.9967759989641297,
           0.9940080877899752,
           0.9913109909727803,
           0.992817822853959,
           0.6226121434102827,
           0.1662411309512428,
           -0.14078534526682554,
           -0.2754230245973124,
           0.7359708569909208,
           0.17266949859468336,
           -0.2190086084881052,
           0.24663429372093965,
           -0.1305710437272309,
           -0.21900860848810513,
           -0.2046861095249415,
           -0.46833835962783443,
           -0.12536613711993636,
           -0.2721106940774116,
           -0.5590151409399017,
           -0.36927257261098045,
           -0.3724118384899612,
           -0.29472796217762093,
           0.7404815472146519,
           0.9944390548687975,
           1,
           0.9466898689433698,
           -0.029988151351377126,
           -0.12310781906768932,
           0.20861782450289618,
           0.425805545150839,
           -0.021180545285392705,
           0.5162363663227859,
           0.04295169455981586,
           -0.09689834231213734,
           -0.14198213134442697,
           -0.07892926538916824,
           -0.08285575409005431,
           0.28879037446304223,
           0.04973703279905883,
           -0.2538658404606401,
           -0.30404712830489006,
           -0.2869962662849426,
           -0.08161235133546524,
           0.36917705866566547,
           -0.22287378563500992
          ],
          [
           0.8991208361912792,
           0.9206692062177377,
           0.9112958707198328,
           0.9123348142748794,
           0.908825897346352,
           0.487539430292318,
           -0.007408436370541301,
           -0.24401944465465672,
           -0.4016193697130377,
           0.5560707204853017,
           0.007624418646603583,
           -0.31935637709056136,
           0.11265116854087215,
           -0.2697381286059729,
           -0.3193563770905613,
           -0.31492246397226686,
           -0.6829267708506762,
           -0.24708763563974281,
           -0.3967893592314203,
           -0.7605810459442599,
           -0.6092174284954229,
           -0.5064128440806495,
           -0.3765892454408266,
           0.5018935832931656,
           0.9124336312015214,
           0.9466898689433698,
           1,
           0.271064224748985,
           0.16707626508779186,
           0.4802000846572545,
           0.6851972266292373,
           0.2661511901607004,
           0.7348078587127179,
           0.3316370073219716,
           0.19318704747221738,
           0.14374477789566192,
           0.21577634126584405,
           0.22031658974798862,
           0.5750641240585527,
           0.36413407378573864,
           -0.11005881574985238,
           -0.25589415907690033,
           -0.19186154836547092,
           0.03857592391968483,
           0.5346808420107821,
           -0.13757055234131754
          ],
          [
           -0.16517267778631234,
           -0.10968932644200492,
           -0.12545358532323997,
           -0.11502522104870054,
           -0.12791488299452083,
           -0.3022185166275885,
           -0.42245486343475686,
           -0.28496391732699805,
           -0.31673993147212437,
           -0.372597294186791,
           -0.3769770419218315,
           -0.25186264563665195,
           -0.29858302981072987,
           -0.3494915219993186,
           -0.25186264563665206,
           -0.2743656445076598,
           -0.5385949854815987,
           -0.2633909633832253,
           -0.3129307098450642,
           -0.606013509823797,
           -0.5914380116274582,
           -0.30863551208031287,
           -0.2683358711942828,
           -0.5819992153857299,
           -0.12450850079874366,
           -0.029988151351377126,
           0.271064224748985,
           1,
           0.9903311193421589,
           0.9680423650588501,
           0.8777868064486817,
           0.9949674262289827,
           0.8369052005249562,
           0.9949239902759277,
           0.9927810791077092,
           0.9823120685361252,
           0.9966018061200159,
           0.9985654697437447,
           0.7888628428100617,
           0.8598079082620662,
           0.06079192804925201,
           -0.2230290308598793,
           -0.09037425211075857,
           -0.004864969279736876,
           0.25494951871085825,
           -0.1297074643381925
          ],
          [
           -0.27199443421251496,
           -0.20233184158050474,
           -0.21613999720771648,
           -0.2049172426594626,
           -0.21713528200102838,
           -0.3358462411176607,
           -0.39141661636053715,
           -0.23942268661252128,
           -0.24251096890499704,
           -0.402874104765248,
           -0.3547283078165185,
           -0.20233184158050468,
           -0.29280804371851515,
           -0.3033110277066829,
           -0.2023318415805048,
           -0.22318276100690113,
           -0.42684109955238486,
           -0.21029490539730014,
           -0.2394460601291627,
           -0.5089370530437954,
           -0.4794793755194376,
           -0.2151693358203191,
           -0.22856030623080065,
           -0.6181466838727322,
           -0.21560970062820056,
           -0.12310781906768932,
           0.16707626508779186,
           0.9903311193421589,
           1,
           0.944441480461521,
           0.8135407122785566,
           0.9947350325461258,
           0.7862996136712626,
           0.9851545564980325,
           0.9996093839322423,
           0.9959142543232526,
           0.9979341668291876,
           0.993732888838886,
           0.6979256451247189,
           0.793248621100229,
           -0.014722018974905302,
           -0.2808949649142837,
           -0.15787044034873007,
           -0.09898214744852879,
           0.12629436361654,
           -0.20590269852337503
          ],
          [
           0.055701824034184895,
           0.1294981318630333,
           0.11444959083018413,
           0.12322653292628007,
           0.11206222711879277,
           -0.14017494141660464,
           -0.3532838434754255,
           -0.30156969449024473,
           -0.35302802305487707,
           -0.1709511508363422,
           -0.2860969476146555,
           -0.2627952977009322,
           -0.1984613421632434,
           -0.34865984557814944,
           -0.2807179109284599,
           -0.2982531999668752,
           -0.5849996870759984,
           -0.24302992493847425,
           -0.344803409608786,
           -0.6889999142992117,
           -0.6124535361509675,
           -0.34924785149586335,
           -0.3100557414309395,
           -0.3722539324584202,
           0.11613817497360605,
           0.20861782450289618,
           0.4802000846572545,
           0.9680423650588501,
           0.944441480461521,
           1,
           0.9465864937752906,
           0.9730824342684918,
           0.9451580179274336,
           0.9851503298063112,
           0.9529048122249945,
           0.9351766039940603,
           0.9579391011844538,
           0.953833366870196,
           0.7962561463737073,
           0.8105858435774826,
           -0.07738770991630398,
           -0.3526484930596125,
           -0.22606088861714851,
           -0.10255782881148637,
           0.26638666382714077,
           -0.25551398372431666
          ],
          [
           0.32284285740476115,
           0.35433059350615165,
           0.3416541232304631,
           0.34162629136622535,
           0.33040331618481716,
           -0.03882784717068396,
           -0.36951132523926206,
           -0.38631215306460354,
           -0.4764250363955169,
           -0.027559856098123208,
           -0.3327619790032581,
           -0.40216957298223893,
           -0.23133137886384747,
           -0.33659550173829483,
           -0.27865784435098584,
           -0.29613383545552247,
           -0.7629091450116577,
           -0.3852957620804166,
           -0.49968191842539794,
           -0.8638210960910996,
           -0.7970648949895892,
           -0.5689595582144219,
           -0.4332561494613949,
           -0.1935616212004031,
           0.33636372061836683,
           0.425805545150839,
           0.6851972266292373,
           0.8777868064486817,
           0.8135407122785566,
           0.9465864937752906,
           1,
           0.8644988181221949,
           0.9694421732024777,
           0.899497684936392,
           0.8283423146438195,
           0.7914520365511901,
           0.8462698331817831,
           0.8529106014166612,
           0.9031344914600528,
           0.8606860595711604,
           0.06393755817820958,
           -0.2424298989706214,
           -0.10256739741932837,
           0.08640507964214404,
           0.508386190968728,
           -0.0916143044185339
          ],
          [
           -0.17325233593234363,
           -0.10132896491679252,
           -0.11535345538699135,
           -0.10541199773517805,
           -0.11731199255634456,
           -0.2811401629456122,
           -0.3855667150381949,
           -0.26454012542628763,
           -0.2809737929553987,
           -0.3344308162831446,
           -0.33625370360903384,
           -0.22342242267782905,
           -0.266733277274569,
           -0.31506678425071155,
           -0.22342242267782916,
           -0.24357896219212477,
           -0.47777706850593615,
           -0.22247913710820563,
           -0.2775947070163812,
           -0.5702813143491768,
           -0.5251876132707443,
           -0.2614988078781911,
           -0.2573885386754359,
           -0.5463974449491039,
           -0.11478224637186246,
           -0.021180545285392705,
           0.2661511901607004,
           0.9949674262289827,
           0.9947350325461258,
           0.9730824342684918,
           0.8644988181221949,
           1,
           0.8452969007550613,
           0.9969645725920598,
           0.9971233662083785,
           0.9890269250293956,
           0.9974810671777072,
           0.9929074148156218,
           0.7348059211207287,
           0.8064901568335213,
           -0.03807171145184974,
           -0.31017477569976315,
           -0.18472993474524263,
           -0.10503712078579673,
           0.16804454441217748,
           -0.2273654970994327
          ],
          [
           0.37155693548048846,
           0.4458571575317485,
           0.432248970922538,
           0.43935604848239473,
           0.42990230203067714,
           0.0908146079131032,
           -0.24379777017713522,
           -0.30329108639839064,
           -0.3903610217271914,
           0.10471389514516408,
           -0.19834151007283898,
           -0.31040405681937117,
           -0.09864208221946585,
           -0.3420053275027034,
           -0.31040405681937105,
           -0.3201628361328584,
           -0.6637827060597253,
           -0.2602862700309639,
           -0.38566640794921453,
           -0.789983944915696,
           -0.6517579427671917,
           -0.426269795370106,
           -0.3789172153583002,
           -0.07435541082629933,
           0.4329925000662794,
           0.5162363663227859,
           0.7348078587127179,
           0.8369052005249562,
           0.7862996136712626,
           0.9451580179274336,
           0.9694421732024777,
           0.8452969007550613,
           1,
           0.8771906449582184,
           0.8023706597236928,
           0.7711662417131578,
           0.8125071835344333,
           0.806898177368796,
           0.7875695918942178,
           0.7210732031266467,
           -0.16221598154848096,
           -0.42297325068005126,
           -0.3058998608662492,
           -0.12737398545332204,
           0.3469533235659612,
           -0.3079269118118678
          ],
          [
           -0.10362169737281884,
           -0.03726889794148632,
           -0.051274550242818316,
           -0.040925376074626735,
           -0.053637442978653194,
           -0.2395202126559048,
           -0.37559002263035096,
           -0.2719032535031237,
           -0.29961411709773816,
           -0.2867325783016902,
           -0.36014834533358714,
           -0.2716584923911277,
           -0.2844841206239705,
           -0.3266566160980539,
           -0.23411900378849365,
           -0.2529973505445811,
           -0.5352346685668696,
           -0.2681259959274352,
           -0.30440943933910164,
           -0.6311306028795906,
           -0.5737717378009364,
           -0.3091924033134805,
           -0.3049136942191459,
           -0.5053962349337372,
           -0.05255690250208662,
           0.04295169455981586,
           0.3316370073219716,
           0.9949239902759277,
           0.9851545564980325,
           0.9851503298063112,
           0.899497684936392,
           0.9969645725920598,
           0.8771906449582184,
           1,
           0.9892395041680644,
           0.9751810664189116,
           0.9923450980450375,
           0.9897107824897802,
           0.7738891698137815,
           0.8303689438288736,
           -0.019287115509222522,
           -0.30862957465705654,
           -0.1764578280582272,
           -0.07486308238066973,
           0.2238684804122181,
           -0.20740227643055198
          ],
          [
           -0.24610261739348824,
           -0.17644308521696,
           -0.1901948695464812,
           -0.18009349908376307,
           -0.19205439054866585,
           -0.32708191375270496,
           -0.3964416501293982,
           -0.25268103142801296,
           -0.25883378596668405,
           -0.38872773193679444,
           -0.3478370309368479,
           -0.20581731457328803,
           -0.2842356957097714,
           -0.30375558426911636,
           -0.20581731457328817,
           -0.2269693324782643,
           -0.440129473246231,
           -0.21197754918043196,
           -0.25572096324573534,
           -0.5253446241603219,
           -0.494837953916001,
           -0.23209310795826207,
           -0.23389068982316405,
           -0.6000862115106778,
           -0.18965889370586833,
           -0.09689834231213734,
           0.19318704747221738,
           0.9927810791077092,
           0.9996093839322423,
           0.9529048122249945,
           0.8283423146438195,
           0.9971233662083785,
           0.8023706597236928,
           0.9892395041680644,
           1,
           0.9953577756358692,
           0.9989938127211508,
           0.9947383391007215,
           0.7096182466703489,
           0.7991044537546964,
           -0.018654795174460382,
           -0.2857338069194261,
           -0.1621439310351195,
           -0.09837904787829525,
           0.13930298035484273,
           -0.2094496849454746
          ],
          [
           -0.2966264065575052,
           -0.22065512948435925,
           -0.23571375962414526,
           -0.2282653604875168,
           -0.23794590002766314,
           -0.37646787738935505,
           -0.43294680624712484,
           -0.2743027720609849,
           -0.27749367285165216,
           -0.44731559216979844,
           -0.27556141756410774,
           -0.11354817612391273,
           -0.2139725983317054,
           -0.3053276136082579,
           -0.22065512948435934,
           -0.2455861825608475,
           -0.38042079762222997,
           -0.12312847434027417,
           -0.25037774730644163,
           -0.4511894161887757,
           -0.4551141302703235,
           -0.18756714815881506,
           -0.1417271447989647,
           -0.6294898506134583,
           -0.22958224841585712,
           -0.14198213134442697,
           0.14374477789566192,
           0.9823120685361252,
           0.9959142543232526,
           0.9351766039940603,
           0.7914520365511901,
           0.9890269250293956,
           0.7711662417131578,
           0.9751810664189116,
           0.9953577756358692,
           1,
           0.991742221345186,
           0.9860578910499233,
           0.6721213726126116,
           0.7696541214682191,
           -0.03610334347428027,
           -0.26507467780181676,
           -0.15480687163275703,
           -0.12170190766871963,
           0.09530940020219086,
           -0.2245493652850336
          ],
          [
           -0.22124589375676884,
           -0.15859119085546117,
           -0.17207078316654403,
           -0.16362605160870133,
           -0.1757881130596231,
           -0.32915148790963983,
           -0.41263436934626213,
           -0.2726900734714534,
           -0.2831250685295532,
           -0.38578429406025744,
           -0.3654863870238997,
           -0.2300046338548739,
           -0.2997515368282348,
           -0.30370464283068127,
           -0.20421376281083228,
           -0.2262163718808756,
           -0.4715750873811627,
           -0.23878315256021318,
           -0.2857728789353496,
           -0.5563820444743579,
           -0.531782416919631,
           -0.2709138750377802,
           -0.2542114196142634,
           -0.5937527088686463,
           -0.17280939070252888,
           -0.07892926538916824,
           0.21577634126584405,
           0.9966018061200159,
           0.9979341668291876,
           0.9579391011844538,
           0.8462698331817831,
           0.9974810671777072,
           0.8125071835344333,
           0.9923450980450375,
           0.9989938127211508,
           0.991742221345186,
           1,
           0.997680445161651,
           0.7376839607777629,
           0.8233797785165065,
           0.012036970188551384,
           -0.2646016166873896,
           -0.13659331410710926,
           -0.06393039796936935,
           0.17921411496399167,
           -0.1789835817964122
          ],
          [
           -0.21570006205847111,
           -0.16213129833337292,
           -0.1776723966167229,
           -0.16652306181744997,
           -0.17971668814514977,
           -0.3301044868832649,
           -0.4247907572897883,
           -0.27128389973394595,
           -0.2959579741714424,
           -0.4070894176349505,
           -0.3920267514019703,
           -0.24654649730135747,
           -0.3176634240678347,
           -0.3426027173893999,
           -0.23900865969333251,
           -0.261748489909353,
           -0.5152862645203474,
           -0.26291258406405305,
           -0.2940147690425265,
           -0.5779467534855728,
           -0.5703793624899576,
           -0.28774035876091986,
           -0.25862064917824,
           -0.6196884470510564,
           -0.1771421951220264,
           -0.08285575409005431,
           0.22031658974798862,
           0.9985654697437447,
           0.993732888838886,
           0.953833366870196,
           0.8529106014166612,
           0.9929074148156218,
           0.806898177368796,
           0.9897107824897802,
           0.9947383391007215,
           0.9860578910499233,
           0.997680445161651,
           1,
           0.7721265141717911,
           0.8555415947347489,
           0.07593069058354032,
           -0.20727352228272775,
           -0.0749681141514716,
           0.0012115614200344457,
           0.23618231570622494,
           -0.11581271758259723
          ],
          [
           0.26495188529754427,
           0.22839826396338894,
           0.20687247845226817,
           0.21498011988508423,
           0.20045166205658765,
           -0.12795523733621306,
           -0.4669378657618569,
           -0.38667873162051297,
           -0.5371602583132173,
           -0.2244489241893703,
           -0.4500834603195885,
           -0.4313646680356445,
           -0.31842407022158126,
           -0.4852998979534445,
           -0.40897037792111895,
           -0.43387418771638525,
           -0.9048434133106625,
           -0.47282797777087154,
           -0.5359558239740453,
           -0.8622588843971984,
           -0.9437174402261264,
           -0.6332004140617493,
           -0.37927211184517196,
           -0.3685658483141271,
           0.20850422400206892,
           0.28879037446304223,
           0.5750641240585527,
           0.7888628428100617,
           0.6979256451247189,
           0.7962561463737073,
           0.9031344914600528,
           0.7348059211207287,
           0.7875695918942178,
           0.7738891698137815,
           0.7096182466703489,
           0.6721213726126116,
           0.7376839607777629,
           0.7721265141717911,
           1,
           0.9663737193739269,
           0.4799027551487583,
           0.17739446756409055,
           0.32520045470900166,
           0.49768791460997996,
           0.7898905333111195,
           0.3374302491707554
          ],
          [
           0.02512550781515184,
           -0.015230881597267642,
           -0.032875663730652635,
           -0.030251338479404068,
           -0.04508561284346885,
           -0.31577926140900214,
           -0.5422567793019258,
           -0.3978987035852028,
           -0.49778793938812627,
           -0.4055510317080977,
           -0.5239698938525674,
           -0.4180476082704169,
           -0.4182593540549228,
           -0.4061703230562,
           -0.30040784393778036,
           -0.33039002646225163,
           -0.8014802316020421,
           -0.479043098178315,
           -0.5194098333812452,
           -0.7736763499415352,
           -0.8861645515356195,
           -0.5973994318133876,
           -0.3573612301479873,
           -0.554458776384123,
           -0.03665260175304295,
           0.04973703279905883,
           0.36413407378573864,
           0.8598079082620662,
           0.793248621100229,
           0.8105858435774826,
           0.8606860595711604,
           0.8064901568335213,
           0.7210732031266467,
           0.8303689438288736,
           0.7991044537546964,
           0.7696541214682191,
           0.8233797785165065,
           0.8555415947347489,
           0.9663737193739269,
           1,
           0.5142665156808393,
           0.19598607020285713,
           0.35015833726784623,
           0.48529092033122156,
           0.6905288715897084,
           0.35249511759970487
          ],
          [
           -0.08569183021163444,
           -0.24956049860142251,
           -0.26549064952040285,
           -0.2591124613849176,
           -0.2697095586017354,
           -0.3001842342881352,
           -0.37242196382122894,
           -0.16198517988697356,
           -0.28588804806151347,
           -0.483379050521574,
           -0.4467576337853802,
           -0.26261469142514593,
           -0.37399615313424284,
           -0.30895188473239565,
           -0.23064993060678773,
           -0.25453960333235837,
           -0.5184811074621414,
           -0.39825068209928866,
           -0.28949443314535567,
           -0.2654915012362163,
           -0.5813922121665189,
           -0.3968273517528966,
           -0.08095717997927353,
           -0.47066814727084805,
           -0.2636434121749001,
           -0.2538658404606401,
           -0.11005881574985238,
           0.06079192804925201,
           -0.014722018974905302,
           -0.07738770991630398,
           0.06393755817820958,
           -0.03807171145184974,
           -0.16221598154848096,
           -0.019287115509222522,
           -0.018654795174460382,
           -0.03610334347428027,
           0.012036970188551384,
           0.07593069058354032,
           0.4799027551487583,
           0.5142665156808393,
           1,
           0.8837356866124713,
           0.9544354877340888,
           0.9825216318978353,
           0.780100176153661,
           0.9812602272410568
          ],
          [
           -0.13097490773246862,
           -0.277657696109606,
           -0.2966064717893305,
           -0.30559716657276204,
           -0.30252601074195695,
           -0.368930591418591,
           -0.4264505956765953,
           -0.22350042064792705,
           -0.349179527659446,
           -0.562872102932799,
           -0.00498036878633372,
           0.1845901263596622,
           0.05285804070018768,
           -0.25926504920967985,
           -0.27765769610960594,
           -0.3121814460410852,
           -0.19912952996980657,
           0.047858693015531834,
           -0.24235706395493703,
           0.12624100207721414,
           -0.3293776673303807,
           -0.1864002271641981,
           0.36096574523338004,
           -0.36429741860298076,
           -0.26903582340923793,
           -0.30404712830489006,
           -0.25589415907690033,
           -0.2230290308598793,
           -0.2808949649142837,
           -0.3526484930596125,
           -0.2424298989706214,
           -0.31017477569976315,
           -0.42297325068005126,
           -0.30862957465705654,
           -0.2857338069194261,
           -0.26507467780181676,
           -0.2646016166873896,
           -0.20727352228272775,
           0.17739446756409055,
           0.19598607020285713,
           0.8837356866124713,
           1,
           0.9821474171913341,
           0.8808977590978055,
           0.5892838502495239,
           0.9245756007140167
          ],
          [
           -0.11565672538392874,
           -0.27075807730952745,
           -0.29002214838410223,
           -0.29375582185208804,
           -0.29578301002417645,
           -0.364745275709648,
           -0.4400312723934769,
           -0.22515605420804283,
           -0.3574818167099423,
           -0.5631518636207361,
           -0.17081107519814545,
           0.02427041529992666,
           -0.1016369720874069,
           -0.30151612325248617,
           -0.2842594418237621,
           -0.3172101275777592,
           -0.34447798562869186,
           -0.1163256447786555,
           -0.2846862572512124,
           -0.03668329287188678,
           -0.45779304341573107,
           -0.2836391991945076,
           0.20703072054554275,
           -0.4299921247100608,
           -0.27028524536740606,
           -0.2869962662849426,
           -0.19186154836547092,
           -0.09037425211075857,
           -0.15787044034873007,
           -0.22606088861714851,
           -0.10256739741932837,
           -0.18472993474524263,
           -0.3058998608662492,
           -0.1764578280582272,
           -0.1621439310351195,
           -0.15480687163275703,
           -0.13659331410710926,
           -0.0749681141514716,
           0.32520045470900166,
           0.35015833726784623,
           0.9544354877340888,
           0.9821474171913341,
           1,
           0.9456691269209185,
           0.6910188969306388,
           0.9683715615065213
          ],
          [
           0.09428559939577691,
           -0.07278099525250172,
           -0.08929713989666986,
           -0.08502173818328364,
           -0.09418694318397745,
           -0.19092235458237325,
           -0.34429027694544106,
           -0.18890378792729817,
           -0.34096361734692615,
           -0.35713084193658207,
           -0.38505049207644065,
           -0.2711246363276985,
           -0.3004206270928116,
           -0.3250937597423492,
           -0.27112463632769845,
           -0.2932476482332304,
           -0.5797857367752918,
           -0.3945691467118446,
           -0.3368630734742227,
           -0.3260489145014911,
           -0.6306555777580832,
           -0.4553856245108794,
           -0.09592482252739919,
           -0.31999306255045235,
           -0.0856143212737544,
           -0.08161235133546524,
           0.03857592391968483,
           -0.004864969279736876,
           -0.09898214744852879,
           -0.10255782881148637,
           0.08640507964214404,
           -0.10503712078579673,
           -0.12737398545332204,
           -0.07486308238066973,
           -0.09837904787829525,
           -0.12170190766871963,
           -0.06393039796936935,
           0.0012115614200344457,
           0.49768791460997996,
           0.48529092033122156,
           0.9825216318978353,
           0.8808977590978055,
           0.9456691269209185,
           1,
           0.8553661411197051,
           0.981101476585498
          ],
          [
           0.4764708211516175,
           0.35387327590213036,
           0.333570281198341,
           0.3390205165043207,
           0.32799414518189585,
           0.02732303918234425,
           -0.3479943627410005,
           -0.3099042129021807,
           -0.5150529880503404,
           -0.08933128692743632,
           -0.36911039113736516,
           -0.4095555859045142,
           -0.2388083823156433,
           -0.4445857758845647,
           -0.4095555859045142,
           -0.4290109469673279,
           -0.8758130221596039,
           -0.48082617351718776,
           -0.5088587864792135,
           -0.7083351605414044,
           -0.8910710441245303,
           -0.6587429505064085,
           -0.2916131629578949,
           -0.11124444585507737,
           0.33731253423295987,
           0.36917705866566547,
           0.5346808420107821,
           0.25494951871085825,
           0.12629436361654,
           0.26638666382714077,
           0.508386190968728,
           0.16804454441217748,
           0.3469533235659612,
           0.2238684804122181,
           0.13930298035484273,
           0.09530940020219086,
           0.17921411496399167,
           0.23618231570622494,
           0.7898905333111195,
           0.6905288715897084,
           0.780100176153661,
           0.5892838502495239,
           0.6910188969306388,
           0.8553661411197051,
           1,
           0.7408182205215244
          ],
          [
           -0.029567883529829114,
           -0.20352970339712897,
           -0.21638584737693073,
           -0.21443777255430768,
           -0.2217587702374403,
           -0.24248191086941978,
           -0.30693054084624216,
           -0.13137743560114554,
           -0.251739664881307,
           -0.4049052761616089,
           -0.35346437275531656,
           -0.20352970339712897,
           -0.29454155028095763,
           -0.23916439544487847,
           -0.18577611762247306,
           -0.20657398971064728,
           -0.42127904197778154,
           -0.3354641623040433,
           -0.2528786847196941,
           -0.1579464080885359,
           -0.4821228301662008,
           -0.35504028490248907,
           -0.02109873324872426,
           -0.3404945256516168,
           -0.21398371484838535,
           -0.22287378563500992,
           -0.13757055234131754,
           -0.1297074643381925,
           -0.20590269852337503,
           -0.25551398372431666,
           -0.0916143044185339,
           -0.2273654970994327,
           -0.3079269118118678,
           -0.20740227643055198,
           -0.2094496849454746,
           -0.2245493652850336,
           -0.1789835817964122,
           -0.11581271758259723,
           0.3374302491707554,
           0.35249511759970487,
           0.9812602272410568,
           0.9245756007140167,
           0.9683715615065213,
           0.981101476585498,
           0.7408182205215244,
           1
          ]
         ]
        }
       ],
       "layout": {
        "coloraxis": {
         "colorscale": [
          [
           0,
           "rgb(158,1,66)"
          ],
          [
           0.1,
           "rgb(213,62,79)"
          ],
          [
           0.2,
           "rgb(244,109,67)"
          ],
          [
           0.3,
           "rgb(253,174,97)"
          ],
          [
           0.4,
           "rgb(254,224,139)"
          ],
          [
           0.5,
           "rgb(255,255,191)"
          ],
          [
           0.6,
           "rgb(230,245,152)"
          ],
          [
           0.7,
           "rgb(171,221,164)"
          ],
          [
           0.8,
           "rgb(102,194,165)"
          ],
          [
           0.9,
           "rgb(50,136,189)"
          ],
          [
           1,
           "rgb(94,79,162)"
          ]
         ]
        },
        "height": 1000,
        "margin": {
         "t": 60
        },
        "template": {
         "data": {
          "bar": [
           {
            "error_x": {
             "color": "#2a3f5f"
            },
            "error_y": {
             "color": "#2a3f5f"
            },
            "marker": {
             "line": {
              "color": "#E5ECF6",
              "width": 0.5
             },
             "pattern": {
              "fillmode": "overlay",
              "size": 10,
              "solidity": 0.2
             }
            },
            "type": "bar"
           }
          ],
          "barpolar": [
           {
            "marker": {
             "line": {
              "color": "#E5ECF6",
              "width": 0.5
             },
             "pattern": {
              "fillmode": "overlay",
              "size": 10,
              "solidity": 0.2
             }
            },
            "type": "barpolar"
           }
          ],
          "carpet": [
           {
            "aaxis": {
             "endlinecolor": "#2a3f5f",
             "gridcolor": "white",
             "linecolor": "white",
             "minorgridcolor": "white",
             "startlinecolor": "#2a3f5f"
            },
            "baxis": {
             "endlinecolor": "#2a3f5f",
             "gridcolor": "white",
             "linecolor": "white",
             "minorgridcolor": "white",
             "startlinecolor": "#2a3f5f"
            },
            "type": "carpet"
           }
          ],
          "choropleth": [
           {
            "colorbar": {
             "outlinewidth": 0,
             "ticks": ""
            },
            "type": "choropleth"
           }
          ],
          "contour": [
           {
            "colorbar": {
             "outlinewidth": 0,
             "ticks": ""
            },
            "colorscale": [
             [
              0,
              "#0d0887"
             ],
             [
              0.1111111111111111,
              "#46039f"
             ],
             [
              0.2222222222222222,
              "#7201a8"
             ],
             [
              0.3333333333333333,
              "#9c179e"
             ],
             [
              0.4444444444444444,
              "#bd3786"
             ],
             [
              0.5555555555555556,
              "#d8576b"
             ],
             [
              0.6666666666666666,
              "#ed7953"
             ],
             [
              0.7777777777777778,
              "#fb9f3a"
             ],
             [
              0.8888888888888888,
              "#fdca26"
             ],
             [
              1,
              "#f0f921"
             ]
            ],
            "type": "contour"
           }
          ],
          "contourcarpet": [
           {
            "colorbar": {
             "outlinewidth": 0,
             "ticks": ""
            },
            "type": "contourcarpet"
           }
          ],
          "heatmap": [
           {
            "colorbar": {
             "outlinewidth": 0,
             "ticks": ""
            },
            "colorscale": [
             [
              0,
              "#0d0887"
             ],
             [
              0.1111111111111111,
              "#46039f"
             ],
             [
              0.2222222222222222,
              "#7201a8"
             ],
             [
              0.3333333333333333,
              "#9c179e"
             ],
             [
              0.4444444444444444,
              "#bd3786"
             ],
             [
              0.5555555555555556,
              "#d8576b"
             ],
             [
              0.6666666666666666,
              "#ed7953"
             ],
             [
              0.7777777777777778,
              "#fb9f3a"
             ],
             [
              0.8888888888888888,
              "#fdca26"
             ],
             [
              1,
              "#f0f921"
             ]
            ],
            "type": "heatmap"
           }
          ],
          "heatmapgl": [
           {
            "colorbar": {
             "outlinewidth": 0,
             "ticks": ""
            },
            "colorscale": [
             [
              0,
              "#0d0887"
             ],
             [
              0.1111111111111111,
              "#46039f"
             ],
             [
              0.2222222222222222,
              "#7201a8"
             ],
             [
              0.3333333333333333,
              "#9c179e"
             ],
             [
              0.4444444444444444,
              "#bd3786"
             ],
             [
              0.5555555555555556,
              "#d8576b"
             ],
             [
              0.6666666666666666,
              "#ed7953"
             ],
             [
              0.7777777777777778,
              "#fb9f3a"
             ],
             [
              0.8888888888888888,
              "#fdca26"
             ],
             [
              1,
              "#f0f921"
             ]
            ],
            "type": "heatmapgl"
           }
          ],
          "histogram": [
           {
            "marker": {
             "pattern": {
              "fillmode": "overlay",
              "size": 10,
              "solidity": 0.2
             }
            },
            "type": "histogram"
           }
          ],
          "histogram2d": [
           {
            "colorbar": {
             "outlinewidth": 0,
             "ticks": ""
            },
            "colorscale": [
             [
              0,
              "#0d0887"
             ],
             [
              0.1111111111111111,
              "#46039f"
             ],
             [
              0.2222222222222222,
              "#7201a8"
             ],
             [
              0.3333333333333333,
              "#9c179e"
             ],
             [
              0.4444444444444444,
              "#bd3786"
             ],
             [
              0.5555555555555556,
              "#d8576b"
             ],
             [
              0.6666666666666666,
              "#ed7953"
             ],
             [
              0.7777777777777778,
              "#fb9f3a"
             ],
             [
              0.8888888888888888,
              "#fdca26"
             ],
             [
              1,
              "#f0f921"
             ]
            ],
            "type": "histogram2d"
           }
          ],
          "histogram2dcontour": [
           {
            "colorbar": {
             "outlinewidth": 0,
             "ticks": ""
            },
            "colorscale": [
             [
              0,
              "#0d0887"
             ],
             [
              0.1111111111111111,
              "#46039f"
             ],
             [
              0.2222222222222222,
              "#7201a8"
             ],
             [
              0.3333333333333333,
              "#9c179e"
             ],
             [
              0.4444444444444444,
              "#bd3786"
             ],
             [
              0.5555555555555556,
              "#d8576b"
             ],
             [
              0.6666666666666666,
              "#ed7953"
             ],
             [
              0.7777777777777778,
              "#fb9f3a"
             ],
             [
              0.8888888888888888,
              "#fdca26"
             ],
             [
              1,
              "#f0f921"
             ]
            ],
            "type": "histogram2dcontour"
           }
          ],
          "mesh3d": [
           {
            "colorbar": {
             "outlinewidth": 0,
             "ticks": ""
            },
            "type": "mesh3d"
           }
          ],
          "parcoords": [
           {
            "line": {
             "colorbar": {
              "outlinewidth": 0,
              "ticks": ""
             }
            },
            "type": "parcoords"
           }
          ],
          "pie": [
           {
            "automargin": true,
            "type": "pie"
           }
          ],
          "scatter": [
           {
            "fillpattern": {
             "fillmode": "overlay",
             "size": 10,
             "solidity": 0.2
            },
            "type": "scatter"
           }
          ],
          "scatter3d": [
           {
            "line": {
             "colorbar": {
              "outlinewidth": 0,
              "ticks": ""
             }
            },
            "marker": {
             "colorbar": {
              "outlinewidth": 0,
              "ticks": ""
             }
            },
            "type": "scatter3d"
           }
          ],
          "scattercarpet": [
           {
            "marker": {
             "colorbar": {
              "outlinewidth": 0,
              "ticks": ""
             }
            },
            "type": "scattercarpet"
           }
          ],
          "scattergeo": [
           {
            "marker": {
             "colorbar": {
              "outlinewidth": 0,
              "ticks": ""
             }
            },
            "type": "scattergeo"
           }
          ],
          "scattergl": [
           {
            "marker": {
             "colorbar": {
              "outlinewidth": 0,
              "ticks": ""
             }
            },
            "type": "scattergl"
           }
          ],
          "scattermapbox": [
           {
            "marker": {
             "colorbar": {
              "outlinewidth": 0,
              "ticks": ""
             }
            },
            "type": "scattermapbox"
           }
          ],
          "scatterpolar": [
           {
            "marker": {
             "colorbar": {
              "outlinewidth": 0,
              "ticks": ""
             }
            },
            "type": "scatterpolar"
           }
          ],
          "scatterpolargl": [
           {
            "marker": {
             "colorbar": {
              "outlinewidth": 0,
              "ticks": ""
             }
            },
            "type": "scatterpolargl"
           }
          ],
          "scatterternary": [
           {
            "marker": {
             "colorbar": {
              "outlinewidth": 0,
              "ticks": ""
             }
            },
            "type": "scatterternary"
           }
          ],
          "surface": [
           {
            "colorbar": {
             "outlinewidth": 0,
             "ticks": ""
            },
            "colorscale": [
             [
              0,
              "#0d0887"
             ],
             [
              0.1111111111111111,
              "#46039f"
             ],
             [
              0.2222222222222222,
              "#7201a8"
             ],
             [
              0.3333333333333333,
              "#9c179e"
             ],
             [
              0.4444444444444444,
              "#bd3786"
             ],
             [
              0.5555555555555556,
              "#d8576b"
             ],
             [
              0.6666666666666666,
              "#ed7953"
             ],
             [
              0.7777777777777778,
              "#fb9f3a"
             ],
             [
              0.8888888888888888,
              "#fdca26"
             ],
             [
              1,
              "#f0f921"
             ]
            ],
            "type": "surface"
           }
          ],
          "table": [
           {
            "cells": {
             "fill": {
              "color": "#EBF0F8"
             },
             "line": {
              "color": "white"
             }
            },
            "header": {
             "fill": {
              "color": "#C8D4E3"
             },
             "line": {
              "color": "white"
             }
            },
            "type": "table"
           }
          ]
         },
         "layout": {
          "annotationdefaults": {
           "arrowcolor": "#2a3f5f",
           "arrowhead": 0,
           "arrowwidth": 1
          },
          "autotypenumbers": "strict",
          "coloraxis": {
           "colorbar": {
            "outlinewidth": 0,
            "ticks": ""
           }
          },
          "colorscale": {
           "diverging": [
            [
             0,
             "#8e0152"
            ],
            [
             0.1,
             "#c51b7d"
            ],
            [
             0.2,
             "#de77ae"
            ],
            [
             0.3,
             "#f1b6da"
            ],
            [
             0.4,
             "#fde0ef"
            ],
            [
             0.5,
             "#f7f7f7"
            ],
            [
             0.6,
             "#e6f5d0"
            ],
            [
             0.7,
             "#b8e186"
            ],
            [
             0.8,
             "#7fbc41"
            ],
            [
             0.9,
             "#4d9221"
            ],
            [
             1,
             "#276419"
            ]
           ],
           "sequential": [
            [
             0,
             "#0d0887"
            ],
            [
             0.1111111111111111,
             "#46039f"
            ],
            [
             0.2222222222222222,
             "#7201a8"
            ],
            [
             0.3333333333333333,
             "#9c179e"
            ],
            [
             0.4444444444444444,
             "#bd3786"
            ],
            [
             0.5555555555555556,
             "#d8576b"
            ],
            [
             0.6666666666666666,
             "#ed7953"
            ],
            [
             0.7777777777777778,
             "#fb9f3a"
            ],
            [
             0.8888888888888888,
             "#fdca26"
            ],
            [
             1,
             "#f0f921"
            ]
           ],
           "sequentialminus": [
            [
             0,
             "#0d0887"
            ],
            [
             0.1111111111111111,
             "#46039f"
            ],
            [
             0.2222222222222222,
             "#7201a8"
            ],
            [
             0.3333333333333333,
             "#9c179e"
            ],
            [
             0.4444444444444444,
             "#bd3786"
            ],
            [
             0.5555555555555556,
             "#d8576b"
            ],
            [
             0.6666666666666666,
             "#ed7953"
            ],
            [
             0.7777777777777778,
             "#fb9f3a"
            ],
            [
             0.8888888888888888,
             "#fdca26"
            ],
            [
             1,
             "#f0f921"
            ]
           ]
          },
          "colorway": [
           "#636efa",
           "#EF553B",
           "#00cc96",
           "#ab63fa",
           "#FFA15A",
           "#19d3f3",
           "#FF6692",
           "#B6E880",
           "#FF97FF",
           "#FECB52"
          ],
          "font": {
           "color": "#2a3f5f"
          },
          "geo": {
           "bgcolor": "white",
           "lakecolor": "white",
           "landcolor": "#E5ECF6",
           "showlakes": true,
           "showland": true,
           "subunitcolor": "white"
          },
          "hoverlabel": {
           "align": "left"
          },
          "hovermode": "closest",
          "mapbox": {
           "style": "light"
          },
          "paper_bgcolor": "white",
          "plot_bgcolor": "#E5ECF6",
          "polar": {
           "angularaxis": {
            "gridcolor": "white",
            "linecolor": "white",
            "ticks": ""
           },
           "bgcolor": "#E5ECF6",
           "radialaxis": {
            "gridcolor": "white",
            "linecolor": "white",
            "ticks": ""
           }
          },
          "scene": {
           "xaxis": {
            "backgroundcolor": "#E5ECF6",
            "gridcolor": "white",
            "gridwidth": 2,
            "linecolor": "white",
            "showbackground": true,
            "ticks": "",
            "zerolinecolor": "white"
           },
           "yaxis": {
            "backgroundcolor": "#E5ECF6",
            "gridcolor": "white",
            "gridwidth": 2,
            "linecolor": "white",
            "showbackground": true,
            "ticks": "",
            "zerolinecolor": "white"
           },
           "zaxis": {
            "backgroundcolor": "#E5ECF6",
            "gridcolor": "white",
            "gridwidth": 2,
            "linecolor": "white",
            "showbackground": true,
            "ticks": "",
            "zerolinecolor": "white"
           }
          },
          "shapedefaults": {
           "line": {
            "color": "#2a3f5f"
           }
          },
          "ternary": {
           "aaxis": {
            "gridcolor": "white",
            "linecolor": "white",
            "ticks": ""
           },
           "baxis": {
            "gridcolor": "white",
            "linecolor": "white",
            "ticks": ""
           },
           "bgcolor": "#E5ECF6",
           "caxis": {
            "gridcolor": "white",
            "linecolor": "white",
            "ticks": ""
           }
          },
          "title": {
           "x": 0.05
          },
          "xaxis": {
           "automargin": true,
           "gridcolor": "white",
           "linecolor": "white",
           "ticks": "",
           "title": {
            "standoff": 15
           },
           "zerolinecolor": "white",
           "zerolinewidth": 2
          },
          "yaxis": {
           "automargin": true,
           "gridcolor": "white",
           "linecolor": "white",
           "ticks": "",
           "title": {
            "standoff": 15
           },
           "zerolinecolor": "white",
           "zerolinewidth": 2
          }
         }
        },
        "width": 1200,
        "xaxis": {
         "anchor": "y",
         "constrain": "domain",
         "domain": [
          0,
          1
         ],
         "scaleanchor": "y"
        },
        "yaxis": {
         "anchor": "x",
         "autorange": "reversed",
         "constrain": "domain",
         "domain": [
          0,
          1
         ]
        }
       }
      },
      "text/html": [
       "<div>                            <div id=\"5acc10f5-0a2a-4db4-b542-99f189a0e968\" class=\"plotly-graph-div\" style=\"height:1000px; width:1200px;\"></div>            <script type=\"text/javascript\">                require([\"plotly\"], function(Plotly) {                    window.PLOTLYENV=window.PLOTLYENV || {};                                    if (document.getElementById(\"5acc10f5-0a2a-4db4-b542-99f189a0e968\")) {                    Plotly.newPlot(                        \"5acc10f5-0a2a-4db4-b542-99f189a0e968\",                        [{\"coloraxis\":\"coloraxis\",\"name\":\"0\",\"x\":[\"00:01\",\"01:01\",\"01:02\",\"01:03\",\"01:04\",\"01:05\",\"01:06\",\"01:07\",\"01:08\",\"01:09\",\"02:01\",\"02:02\",\"02:03\",\"02:04\",\"02:05\",\"02:06\",\"02:07\",\"02:08\",\"02:09\",\"02:10\",\"02:11\",\"02:12\",\"02:13\",\"02:14\",\"03:01\",\"03:02\",\"03:03\",\"03:04\",\"03:05\",\"03:06\",\"03:07\",\"03:08\",\"03:09\",\"03:10\",\"04:01\",\"04:02\",\"04:03\",\"04:04\",\"04:05\",\"04:06\",\"04:07\",\"04:08\",\"04:09\",\"04:10\",\"04:11\",\"04:12\"],\"y\":[\"00:01\",\"01:01\",\"01:02\",\"01:03\",\"01:04\",\"01:05\",\"01:06\",\"01:07\",\"01:08\",\"01:09\",\"02:01\",\"02:02\",\"02:03\",\"02:04\",\"02:05\",\"02:06\",\"02:07\",\"02:08\",\"02:09\",\"02:10\",\"02:11\",\"02:12\",\"02:13\",\"02:14\",\"03:01\",\"03:02\",\"03:03\",\"03:04\",\"03:05\",\"03:06\",\"03:07\",\"03:08\",\"03:09\",\"03:10\",\"04:01\",\"04:02\",\"04:03\",\"04:04\",\"04:05\",\"04:06\",\"04:07\",\"04:08\",\"04:09\",\"04:10\",\"04:11\",\"04:12\"],\"z\":[[1.0,0.9802896382396478,0.981585257205503,0.9697133976175618,0.9720911241643055,0.5859275213792636,0.13524535154623715,-0.1747355607383963,-0.3090225573338707,0.7203661180674559,0.12678311671095913,-0.2688597425771886,0.18995758372150118,-0.06060488738791854,-0.14638624028838762,-0.13431413939273154,-0.4786493930838284,-0.19718851654539274,-0.3340490205713829,-0.5455747341534452,-0.4092613141259585,-0.46497785521355967,-0.3143186687753431,0.7733596022539752,0.9757710117809798,0.9711675008364983,0.8991208361912792,-0.16517267778631234,-0.27199443421251496,0.055701824034184895,0.32284285740476115,-0.17325233593234363,0.37155693548048846,-0.10362169737281884,-0.24610261739348824,-0.2966264065575052,-0.22124589375676884,-0.21570006205847111,0.26495188529754427,0.02512550781515184,-0.08569183021163444,-0.13097490773246862,-0.11565672538392874,0.09428559939577691,0.4764708211516175,-0.029567883529829114],[0.9802896382396478,1.0,0.998371220802345,0.9948895750413901,0.9973439944016647,0.6421087870068748,0.19636536647054503,-0.118862085253661,-0.25151798963397476,0.759186064535171,0.19880457941204815,-0.2,0.2668259843918855,-0.10464317564893322,-0.19999999999999993,-0.18413040522975638,-0.4276894528127838,-0.10689430638802935,-0.24849314915599813,-0.5104960437847474,-0.325306621015356,-0.34959217057763925,-0.272620654150325,0.7806854410633574,0.9987542248161964,0.9967759989641297,0.9206692062177377,-0.10968932644200492,-0.20233184158050474,0.1294981318630333,0.35433059350615165,-0.10132896491679252,0.4458571575317485,-0.03726889794148632,-0.17644308521696,-0.22065512948435925,-0.15859119085546117,-0.16213129833337292,0.22839826396338894,-0.015230881597267642,-0.24956049860142251,-0.277657696109606,-0.27075807730952745,-0.07278099525250172,0.35387327590213036,-0.20352970339712897],[0.981585257205503,0.998371220802345,1.0,0.9914072734494891,0.9946455721678094,0.6286716382690943,0.19389014158019338,-0.1345297496776376,-0.2520847923390552,0.7734617962119593,0.1953773456176348,-0.21364901887844256,0.25264554604844147,-0.04908831281618467,-0.1437751452885749,-0.12790712571448223,-0.4019398556190778,-0.11888658924744253,-0.26545158757596743,-0.50530804820371,-0.3132080467396127,-0.37060980428659956,-0.29080430607598795,0.8055690710929121,0.9964526977889104,0.9940080877899752,0.9112958707198328,-0.12545358532323997,-0.21613999720771648,0.11444959083018413,0.3416541232304631,-0.11535345538699135,0.432248970922538,-0.051274550242818316,-0.1901948695464812,-0.23571375962414526,-0.17207078316654403,-0.1776723966167229,0.20687247845226817,-0.032875663730652635,-0.26549064952040285,-0.2966064717893305,-0.29002214838410223,-0.08929713989666986,0.333570281198341,-0.21638584737693073],[0.9697133976175618,0.9948895750413901,0.9914072734494891,1.0,0.9992983817674543,0.7132901562818577,0.28448096486724034,-0.0218434084196512,-0.1615692149003068,0.800273854009466,0.14610224752724849,-0.24539632870803077,0.2198044103751848,-0.14949978223554874,-0.23095289024502683,-0.20833849246275615,-0.4432296804924877,-0.14769300167790947,-0.1612309855413113,-0.5175413067951752,-0.29089845427482686,-0.28951045687106614,-0.31686730381474115,0.7714709457246409,0.9911685813083418,0.9913109909727803,0.9123348142748794,-0.11502522104870054,-0.2049172426594626,0.12322653292628007,0.34162629136622535,-0.10541199773517805,0.43935604848239473,-0.040925376074626735,-0.18009349908376307,-0.2282653604875168,-0.16362605160870133,-0.16652306181744997,0.21498011988508423,-0.030251338479404068,-0.2591124613849176,-0.30559716657276204,-0.29375582185208804,-0.08502173818328364,0.3390205165043207,-0.21443777255430768],[0.9720911241643055,0.9973439944016647,0.9946455721678094,0.9992983817674543,1.0,0.6958422604522608,0.2651846661378426,-0.04665243129489976,-0.1824625556204187,0.7936458882704692,0.1778083942522315,-0.21791293018763228,0.24797531647571597,-0.12903683601773105,-0.21791293018763222,-0.19704035636102998,-0.4212386887193123,-0.12016153909306523,-0.1791299696934922,-0.4986052588876821,-0.28374729268312127,-0.2949284182895467,-0.2915367983497928,0.7846308612762177,0.9950737296383162,0.992817822853959,0.908825897346352,-0.12791488299452083,-0.21713528200102838,0.11206222711879277,0.33040331618481716,-0.11731199255634456,0.42990230203067714,-0.053637442978653194,-0.19205439054866585,-0.23794590002766314,-0.1757881130596231,-0.17971668814514977,0.20045166205658765,-0.04508561284346885,-0.2697095586017354,-0.30252601074195695,-0.29578301002417645,-0.09418694318397745,0.32799414518189585,-0.2217587702374403],[0.5859275213792636,0.6421087870068748,0.6286716382690943,0.7132901562818577,0.6958422604522608,1.0,0.8518648463530297,0.6848085336760619,0.5496705458377661,0.8607503230975702,-0.11144410515515418,-0.34122739704180804,-0.03798811454639127,-0.3477397023343098,-0.34122739704180793,-0.278246199991819,-0.25135741265832023,-0.23921931646855463,0.5552249255260733,-0.22472726041555854,0.19013140427748781,0.3196505233512885,-0.38510099534856407,0.5592636504129566,0.6296999489372613,0.6226121434102827,0.487539430292318,-0.3022185166275885,-0.3358462411176607,-0.14017494141660464,-0.03882784717068396,-0.2811401629456122,0.0908146079131032,-0.2395202126559048,-0.32708191375270496,-0.37646787738935505,-0.32915148790963983,-0.3301044868832649,-0.12795523733621306,-0.31577926140900214,-0.3001842342881352,-0.368930591418591,-0.364745275709648,-0.19092235458237325,0.02732303918234425,-0.24248191086941978],[0.13524535154623715,0.19636536647054503,0.19389014158019338,0.28448096486724034,0.2651846661378426,0.8518648463530297,1.0,0.9181351834803291,0.8971538759632797,0.7168419337518177,-0.2185588857172706,-0.3130247489933126,-0.21687164989718846,-0.13546150074673463,-0.07628929619234207,-0.0033829815697549023,0.1200830608855202,-0.2244339492636939,0.8461496601570015,0.1156389017840889,0.574826613982332,0.60882086173172,-0.35399328755263376,0.3675198029264437,0.18123752493628179,0.1662411309512428,-0.007408436370541301,-0.42245486343475686,-0.39141661636053715,-0.3532838434754255,-0.36951132523926206,-0.3855667150381949,-0.24379777017713522,-0.37559002263035096,-0.3964416501293982,-0.43294680624712484,-0.41263436934626213,-0.4247907572897883,-0.4669378657618569,-0.5422567793019258,-0.37242196382122894,-0.4264505956765953,-0.4400312723934769,-0.34429027694544106,-0.3479943627410005,-0.30693054084624216],[-0.1747355607383963,-0.118862085253661,-0.1345297496776376,-0.0218434084196512,-0.04665243129489976,0.6848085336760619,0.9181351834803291,1.0,0.95290360782986,0.3953106845281078,-0.32920514429601677,-0.2486257833225929,-0.2996512225335275,-0.3471617655953418,-0.24862578332259283,-0.18205217999680692,0.08681547064620751,-0.20379736590516806,0.9571727796260416,0.19695576533157988,0.5609038598890853,0.7499245096127298,-0.23836384893403648,-0.0156711752466118,-0.13360351823144012,-0.14078534526682554,-0.24401944465465672,-0.28496391732699805,-0.23942268661252128,-0.30156969449024473,-0.38631215306460354,-0.26454012542628763,-0.30329108639839064,-0.2719032535031237,-0.25268103142801296,-0.2743027720609849,-0.2726900734714534,-0.27128389973394595,-0.38667873162051297,-0.3978987035852028,-0.16198517988697356,-0.22350042064792705,-0.22515605420804283,-0.18890378792729817,-0.3099042129021807,-0.13137743560114554],[-0.3090225573338707,-0.25151798963397476,-0.2520847923390552,-0.1615692149003068,-0.1824625556204187,0.5496705458377661,0.8971538759632797,0.95290360782986,1.0,0.3766581952332878,-0.3330937165850822,-0.25151798963397476,-0.36398863337303805,-0.07521565224077255,0.03353389690525899,0.09893037541604598,0.2964510309706443,-0.20113276910426664,0.9365939384414607,0.3067672497150554,0.699062234037511,0.7405651103695737,-0.2674139634623347,0.005150716019287156,-0.2675995143112055,-0.2754230245973124,-0.4016193697130377,-0.31673993147212437,-0.24251096890499704,-0.35302802305487707,-0.4764250363955169,-0.2809737929553987,-0.3903610217271914,-0.29961411709773816,-0.25883378596668405,-0.27749367285165216,-0.2831250685295532,-0.2959579741714424,-0.5371602583132173,-0.49778793938812627,-0.28588804806151347,-0.349179527659446,-0.3574818167099423,-0.34096361734692615,-0.5150529880503404,-0.251739664881307],[0.7203661180674559,0.759186064535171,0.7734617962119593,0.800273854009466,0.7936458882704692,0.8607503230975702,0.7168419337518177,0.3953106845281078,0.3766581952332878,1.0,-0.037426056727106555,-0.4054431847699291,-0.04688078939554991,0.13261378134834986,0.11456756499728546,0.16913856933298368,-0.08528103819902892,-0.2807077762292618,0.2595719814331847,-0.2569998334751532,0.18748268765060183,0.026582378850229557,-0.504479700638328,0.8452721093824302,0.7448818428448204,0.7359708569909208,0.5560707204853017,-0.372597294186791,-0.402874104765248,-0.1709511508363422,-0.027559856098123208,-0.3344308162831446,0.10471389514516408,-0.2867325783016902,-0.38872773193679444,-0.44731559216979844,-0.38578429406025744,-0.4070894176349505,-0.2244489241893703,-0.4055510317080977,-0.483379050521574,-0.562872102932799,-0.5631518636207361,-0.35713084193658207,-0.08933128692743632,-0.4049052761616089],[0.12678311671095913,0.19880457941204815,0.1953773456176348,0.14610224752724849,0.1778083942522315,-0.11144410515515418,-0.2185588857172706,-0.32920514429601677,-0.3330937165850822,-0.037426056727106555,1.0,0.901301771725219,0.9786922762374289,0.13417448444163807,-0.09305851977855523,-0.1211715615874128,0.5443060804347107,0.9360144643322678,-0.11101636762778007,0.5912560586826894,0.35637620026026595,0.25083698951211186,0.834811248185821,0.36578979511334525,0.24652500401549282,0.17266949859468336,0.007624418646603583,-0.3769770419218315,-0.3547283078165185,-0.2860969476146555,-0.3327619790032581,-0.33625370360903384,-0.19834151007283898,-0.36014834533358714,-0.3478370309368479,-0.27556141756410774,-0.3654863870238997,-0.3920267514019703,-0.4500834603195885,-0.5239698938525674,-0.4467576337853802,-0.00498036878633372,-0.17081107519814545,-0.38505049207644065,-0.36911039113736516,-0.35346437275531656],[-0.2688597425771886,-0.2,-0.21364901887844256,-0.24539632870803077,-0.21791293018763228,-0.34122739704180804,-0.3130247489933126,-0.2486257833225929,-0.25151798963397476,-0.4054431847699291,0.901301771725219,1.0,0.8909079300775736,-0.014696670532837392,-0.20000000000000004,-0.2357261513975258,0.5967657197758748,0.9881026360462112,0.017917483907208237,0.7446430504673148,0.4069444511667941,0.4264449461576669,0.9816607442668541,-0.050333862048993545,-0.15090824952571322,-0.2190086084881052,-0.31935637709056136,-0.25186264563665195,-0.20233184158050468,-0.2627952977009322,-0.40216957298223893,-0.22342242267782905,-0.31040405681937117,-0.2716584923911277,-0.20581731457328803,-0.11354817612391273,-0.2300046338548739,-0.24654649730135747,-0.4313646680356445,-0.4180476082704169,-0.26261469142514593,0.1845901263596622,0.02427041529992666,-0.2711246363276985,-0.4095555859045142,-0.20352970339712897],[0.18995758372150118,0.2668259843918855,0.25264554604844147,0.2198044103751848,0.24797531647571597,-0.03798811454639127,-0.21687164989718846,-0.2996512225335275,-0.36398863337303805,-0.04688078939554991,0.9786922762374289,0.8909079300775736,1.0,-0.06296320457826086,-0.28943347861736485,-0.31721801495297663,0.38873415415395485,0.9223645732465129,-0.09756493126307497,0.4958039766495303,0.2494820836928723,0.25740556283401816,0.8392058392213082,0.3123771021575644,0.3145360274546749,0.24663429372093965,0.11265116854087215,-0.29858302981072987,-0.29280804371851515,-0.1984613421632434,-0.23133137886384747,-0.266733277274569,-0.09864208221946585,-0.2844841206239705,-0.2842356957097714,-0.2139725983317054,-0.2997515368282348,-0.3176634240678347,-0.31842407022158126,-0.4182593540549228,-0.37399615313424284,0.05285804070018768,-0.1016369720874069,-0.3004206270928116,-0.2388083823156433,-0.29454155028095763],[-0.06060488738791854,-0.10464317564893322,-0.04908831281618467,-0.14949978223554874,-0.12903683601773105,-0.3477397023343098,-0.13546150074673463,-0.3471617655953418,-0.07521565224077255,0.13261378134834986,0.13417448444163807,-0.014696670532837392,-0.06296320457826086,1.0,0.9720896804754613,0.9624333962376908,0.6021384748394707,0.005629979676084696,-0.309514873295305,0.27508045077305787,0.3041905334186488,-0.28826160455336297,-0.09300605353461798,0.4121702152778059,-0.10559887002355393,-0.1305710437272309,-0.2697381286059729,-0.3494915219993186,-0.3033110277066829,-0.34865984557814944,-0.33659550173829483,-0.31506678425071155,-0.3420053275027034,-0.3266566160980539,-0.30375558426911636,-0.3053276136082579,-0.30370464283068127,-0.3426027173893999,-0.4852998979534445,-0.4061703230562,-0.30895188473239565,-0.25926504920967985,-0.30151612325248617,-0.3250937597423492,-0.4445857758845647,-0.23916439544487847],[-0.14638624028838762,-0.19999999999999993,-0.1437751452885749,-0.23095289024502683,-0.21791293018763222,-0.34122739704180793,-0.07628929619234207,-0.24862578332259283,0.03353389690525899,0.11456756499728546,-0.09305851977855523,-0.20000000000000004,-0.28943347861736485,0.9720896804754613,1.0,0.9972429384795928,0.5157928781184374,-0.1875643008562307,-0.24849314915599807,0.1769170487411474,0.26374024708308036,-0.30081313214801075,-0.2653841236113245,0.2930470126612837,-0.21133932954554824,-0.21900860848810513,-0.3193563770905613,-0.25186264563665206,-0.2023318415805048,-0.2807179109284599,-0.27865784435098584,-0.22342242267782916,-0.31040405681937105,-0.23411900378849365,-0.20581731457328817,-0.22065512948435934,-0.20421376281083228,-0.23900865969333251,-0.40897037792111895,-0.30040784393778036,-0.23064993060678773,-0.27765769610960594,-0.2842594418237621,-0.27112463632769845,-0.4095555859045142,-0.18577611762247306],[-0.13431413939273154,-0.18413040522975638,-0.12790712571448223,-0.20833849246275615,-0.19704035636102998,-0.278246199991819,-0.0033829815697549023,-0.18205217999680692,0.09893037541604598,0.16913856933298368,-0.1211715615874128,-0.2357261513975258,-0.31721801495297663,0.9624333962376908,0.9972429384795928,1.0,0.5154047940512427,-0.21680194504693792,-0.19034671127637295,0.1734782340685898,0.2974022387715056,-0.26447913661169614,-0.30408033714755117,0.31773045823352225,-0.197218505548961,-0.2046861095249415,-0.31492246397226686,-0.2743656445076598,-0.22318276100690113,-0.2982531999668752,-0.29613383545552247,-0.24357896219212477,-0.3201628361328584,-0.2529973505445811,-0.2269693324782643,-0.2455861825608475,-0.2262163718808756,-0.261748489909353,-0.43387418771638525,-0.33039002646225163,-0.25453960333235837,-0.3121814460410852,-0.3172101275777592,-0.2932476482332304,-0.4290109469673279,-0.20657398971064728],[-0.4786493930838284,-0.4276894528127838,-0.4019398556190778,-0.4432296804924877,-0.4212386887193123,-0.25135741265832023,0.1200830608855202,0.08681547064620751,0.2964510309706443,-0.08528103819902892,0.5443060804347107,0.5967657197758748,0.38873415415395485,0.6021384748394707,0.5157928781184374,0.5154047940512427,1.0,0.6195659216824411,0.3064851367520485,0.9041895834673814,0.8657918792096919,0.5243883287319522,0.5295238691653955,0.1559311800450635,-0.4012373067035722,-0.46833835962783443,-0.6829267708506762,-0.5385949854815987,-0.42684109955238486,-0.5849996870759984,-0.7629091450116577,-0.47777706850593615,-0.6637827060597253,-0.5352346685668696,-0.440129473246231,-0.38042079762222997,-0.4715750873811627,-0.5152862645203474,-0.9048434133106625,-0.8014802316020421,-0.5184811074621414,-0.19912952996980657,-0.34447798562869186,-0.5797857367752918,-0.8758130221596039,-0.42127904197778154],[-0.19718851654539274,-0.10689430638802935,-0.11888658924744253,-0.14769300167790947,-0.12016153909306523,-0.23921931646855463,-0.2244339492636939,-0.20379736590516806,-0.20113276910426664,-0.2807077762292618,0.9360144643322678,0.9881026360462112,0.9223645732465129,0.005629979676084696,-0.1875643008562307,-0.21680194504693792,0.6195659216824411,1.0,0.06272644073878851,0.7306933686777866,0.4611782095296185,0.46276003657893083,0.9437253653111939,0.0533895924642279,-0.057794072381874936,-0.12536613711993636,-0.24708763563974281,-0.2633909633832253,-0.21029490539730014,-0.24302992493847425,-0.3852957620804166,-0.22247913710820563,-0.2602862700309639,-0.2681259959274352,-0.21197754918043196,-0.12312847434027417,-0.23878315256021318,-0.26291258406405305,-0.47282797777087154,-0.479043098178315,-0.39825068209928866,0.047858693015531834,-0.1163256447786555,-0.3945691467118446,-0.48082617351718776,-0.3354641623040433],[-0.3340490205713829,-0.24849314915599813,-0.26545158757596743,-0.1612309855413113,-0.1791299696934922,0.5552249255260733,0.8461496601570015,0.9571727796260416,0.9365939384414607,0.2595719814331847,-0.11101636762778007,0.017917483907208237,-0.09756493126307497,-0.309514873295305,-0.24849314915599807,-0.19034671127637295,0.3064851367520485,0.06272644073878851,1.0,0.430165612862003,0.7270137062573643,0.9070223182364459,0.013481442754164213,-0.07566110440738066,-0.25098767265104743,-0.2721106940774116,-0.3967893592314203,-0.3129307098450642,-0.2394460601291627,-0.344803409608786,-0.49968191842539794,-0.2775947070163812,-0.38566640794921453,-0.30440943933910164,-0.25572096324573534,-0.25037774730644163,-0.2857728789353496,-0.2940147690425265,-0.5359558239740453,-0.5194098333812452,-0.28949443314535567,-0.24235706395493703,-0.2846862572512124,-0.3368630734742227,-0.5088587864792135,-0.2528786847196941],[-0.5455747341534452,-0.5104960437847474,-0.50530804820371,-0.5175413067951752,-0.4986052588876821,-0.22472726041555854,0.1156389017840889,0.19695576533157988,0.3067672497150554,-0.2569998334751532,0.5912560586826894,0.7446430504673148,0.4958039766495303,0.27508045077305787,0.1769170487411474,0.1734782340685898,0.9041895834673814,0.7306933686777866,0.430165612862003,1.0,0.8355717292973353,0.6824730930000085,0.7411752045967201,-0.02572828455151539,-0.4770613293666635,-0.5590151409399017,-0.7605810459442599,-0.606013509823797,-0.5089370530437954,-0.6889999142992117,-0.8638210960910996,-0.5702813143491768,-0.789983944915696,-0.6311306028795906,-0.5253446241603219,-0.4511894161887757,-0.5563820444743579,-0.5779467534855728,-0.8622588843971984,-0.7736763499415352,-0.2654915012362163,0.12624100207721414,-0.03668329287188678,-0.3260489145014911,-0.7083351605414044,-0.1579464080885359],[-0.4092613141259585,-0.325306621015356,-0.3132080467396127,-0.29089845427482686,-0.28374729268312127,0.19013140427748781,0.574826613982332,0.5609038598890853,0.699062234037511,0.18748268765060183,0.35637620026026595,0.4069444511667941,0.2494820836928723,0.3041905334186488,0.26374024708308036,0.2974022387715056,0.8657918792096919,0.4611782095296185,0.7270137062573643,0.8355717292973353,1.0,0.8182166538637612,0.3425691407058034,0.19064282053580475,-0.3081938008524392,-0.36927257261098045,-0.6092174284954229,-0.5914380116274582,-0.4794793755194376,-0.6124535361509675,-0.7970648949895892,-0.5251876132707443,-0.6517579427671917,-0.5737717378009364,-0.494837953916001,-0.4551141302703235,-0.531782416919631,-0.5703793624899576,-0.9437174402261264,-0.8861645515356195,-0.5813922121665189,-0.3293776673303807,-0.45779304341573107,-0.6306555777580832,-0.8910710441245303,-0.4821228301662008],[-0.46497785521355967,-0.34959217057763925,-0.37060980428659956,-0.28951045687106614,-0.2949284182895467,0.3196505233512885,0.60882086173172,0.7499245096127298,0.7405651103695737,0.026582378850229557,0.25083698951211186,0.4264449461576669,0.25740556283401816,-0.28826160455336297,-0.30081313214801075,-0.26447913661169614,0.5243883287319522,0.46276003657893083,0.9070223182364459,0.6824730930000085,0.8182166538637612,1.0,0.4088141190894963,-0.14624364488984268,-0.3322259714680765,-0.3724118384899612,-0.5064128440806495,-0.30863551208031287,-0.2151693358203191,-0.34924785149586335,-0.5689595582144219,-0.2614988078781911,-0.426269795370106,-0.3091924033134805,-0.23209310795826207,-0.18756714815881506,-0.2709138750377802,-0.28774035876091986,-0.6332004140617493,-0.5973994318133876,-0.3968273517528966,-0.1864002271641981,-0.2836391991945076,-0.4553856245108794,-0.6587429505064085,-0.35504028490248907],[-0.3143186687753431,-0.272620654150325,-0.29080430607598795,-0.31686730381474115,-0.2915367983497928,-0.38510099534856407,-0.35399328755263376,-0.23836384893403648,-0.2674139634623347,-0.504479700638328,0.834811248185821,0.9816607442668541,0.8392058392213082,-0.09300605353461798,-0.2653841236113245,-0.30408033714755117,0.5295238691653955,0.9437253653111939,0.013481442754164213,0.7411752045967201,0.3425691407058034,0.4088141190894963,1.0,-0.15171509740881525,-0.22485886312087716,-0.29472796217762093,-0.3765892454408266,-0.2683358711942828,-0.22856030623080065,-0.3100557414309395,-0.4332561494613949,-0.2573885386754359,-0.3789172153583002,-0.3049136942191459,-0.23389068982316405,-0.1417271447989647,-0.2542114196142634,-0.25862064917824,-0.37927211184517196,-0.3573612301479873,-0.08095717997927353,0.36096574523338004,0.20703072054554275,-0.09592482252739919,-0.2916131629578949,-0.02109873324872426],[0.7733596022539752,0.7806854410633574,0.8055690710929121,0.7714709457246409,0.7846308612762177,0.5592636504129566,0.3675198029264437,-0.0156711752466118,0.005150716019287156,0.8452721093824302,0.36578979511334525,-0.050333862048993545,0.3123771021575644,0.4121702152778059,0.2930470126612837,0.31773045823352225,0.1559311800450635,0.0533895924642279,-0.07566110440738066,-0.02572828455151539,0.19064282053580475,-0.14624364488984268,-0.15171509740881525,1.0,0.7854182204192133,0.7404815472146519,0.5018935832931656,-0.5819992153857299,-0.6181466838727322,-0.3722539324584202,-0.1935616212004031,-0.5463974449491039,-0.07435541082629933,-0.5053962349337372,-0.6000862115106778,-0.6294898506134583,-0.5937527088686463,-0.6196884470510564,-0.3685658483141271,-0.554458776384123,-0.47066814727084805,-0.36429741860298076,-0.4299921247100608,-0.31999306255045235,-0.11124444585507737,-0.3404945256516168],[0.9757710117809798,0.9987542248161964,0.9964526977889104,0.9911685813083418,0.9950737296383162,0.6296999489372613,0.18123752493628179,-0.13360351823144012,-0.2675995143112055,0.7448818428448204,0.24652500401549282,-0.15090824952571322,0.3145360274546749,-0.10559887002355393,-0.21133932954554824,-0.197218505548961,-0.4012373067035722,-0.057794072381874936,-0.25098767265104743,-0.4770613293666635,-0.3081938008524392,-0.3322259714680765,-0.22485886312087716,0.7854182204192133,1.0,0.9944390548687975,0.9124336312015214,-0.12450850079874366,-0.21560970062820056,0.11613817497360605,0.33636372061836683,-0.11478224637186246,0.4329925000662794,-0.05255690250208662,-0.18965889370586833,-0.22958224841585712,-0.17280939070252888,-0.1771421951220264,0.20850422400206892,-0.03665260175304295,-0.2636434121749001,-0.26903582340923793,-0.27028524536740606,-0.0856143212737544,0.33731253423295987,-0.21398371484838535],[0.9711675008364983,0.9967759989641297,0.9940080877899752,0.9913109909727803,0.992817822853959,0.6226121434102827,0.1662411309512428,-0.14078534526682554,-0.2754230245973124,0.7359708569909208,0.17266949859468336,-0.2190086084881052,0.24663429372093965,-0.1305710437272309,-0.21900860848810513,-0.2046861095249415,-0.46833835962783443,-0.12536613711993636,-0.2721106940774116,-0.5590151409399017,-0.36927257261098045,-0.3724118384899612,-0.29472796217762093,0.7404815472146519,0.9944390548687975,1.0,0.9466898689433698,-0.029988151351377126,-0.12310781906768932,0.20861782450289618,0.425805545150839,-0.021180545285392705,0.5162363663227859,0.04295169455981586,-0.09689834231213734,-0.14198213134442697,-0.07892926538916824,-0.08285575409005431,0.28879037446304223,0.04973703279905883,-0.2538658404606401,-0.30404712830489006,-0.2869962662849426,-0.08161235133546524,0.36917705866566547,-0.22287378563500992],[0.8991208361912792,0.9206692062177377,0.9112958707198328,0.9123348142748794,0.908825897346352,0.487539430292318,-0.007408436370541301,-0.24401944465465672,-0.4016193697130377,0.5560707204853017,0.007624418646603583,-0.31935637709056136,0.11265116854087215,-0.2697381286059729,-0.3193563770905613,-0.31492246397226686,-0.6829267708506762,-0.24708763563974281,-0.3967893592314203,-0.7605810459442599,-0.6092174284954229,-0.5064128440806495,-0.3765892454408266,0.5018935832931656,0.9124336312015214,0.9466898689433698,1.0,0.271064224748985,0.16707626508779186,0.4802000846572545,0.6851972266292373,0.2661511901607004,0.7348078587127179,0.3316370073219716,0.19318704747221738,0.14374477789566192,0.21577634126584405,0.22031658974798862,0.5750641240585527,0.36413407378573864,-0.11005881574985238,-0.25589415907690033,-0.19186154836547092,0.03857592391968483,0.5346808420107821,-0.13757055234131754],[-0.16517267778631234,-0.10968932644200492,-0.12545358532323997,-0.11502522104870054,-0.12791488299452083,-0.3022185166275885,-0.42245486343475686,-0.28496391732699805,-0.31673993147212437,-0.372597294186791,-0.3769770419218315,-0.25186264563665195,-0.29858302981072987,-0.3494915219993186,-0.25186264563665206,-0.2743656445076598,-0.5385949854815987,-0.2633909633832253,-0.3129307098450642,-0.606013509823797,-0.5914380116274582,-0.30863551208031287,-0.2683358711942828,-0.5819992153857299,-0.12450850079874366,-0.029988151351377126,0.271064224748985,1.0,0.9903311193421589,0.9680423650588501,0.8777868064486817,0.9949674262289827,0.8369052005249562,0.9949239902759277,0.9927810791077092,0.9823120685361252,0.9966018061200159,0.9985654697437447,0.7888628428100617,0.8598079082620662,0.06079192804925201,-0.2230290308598793,-0.09037425211075857,-0.004864969279736876,0.25494951871085825,-0.1297074643381925],[-0.27199443421251496,-0.20233184158050474,-0.21613999720771648,-0.2049172426594626,-0.21713528200102838,-0.3358462411176607,-0.39141661636053715,-0.23942268661252128,-0.24251096890499704,-0.402874104765248,-0.3547283078165185,-0.20233184158050468,-0.29280804371851515,-0.3033110277066829,-0.2023318415805048,-0.22318276100690113,-0.42684109955238486,-0.21029490539730014,-0.2394460601291627,-0.5089370530437954,-0.4794793755194376,-0.2151693358203191,-0.22856030623080065,-0.6181466838727322,-0.21560970062820056,-0.12310781906768932,0.16707626508779186,0.9903311193421589,1.0,0.944441480461521,0.8135407122785566,0.9947350325461258,0.7862996136712626,0.9851545564980325,0.9996093839322423,0.9959142543232526,0.9979341668291876,0.993732888838886,0.6979256451247189,0.793248621100229,-0.014722018974905302,-0.2808949649142837,-0.15787044034873007,-0.09898214744852879,0.12629436361654,-0.20590269852337503],[0.055701824034184895,0.1294981318630333,0.11444959083018413,0.12322653292628007,0.11206222711879277,-0.14017494141660464,-0.3532838434754255,-0.30156969449024473,-0.35302802305487707,-0.1709511508363422,-0.2860969476146555,-0.2627952977009322,-0.1984613421632434,-0.34865984557814944,-0.2807179109284599,-0.2982531999668752,-0.5849996870759984,-0.24302992493847425,-0.344803409608786,-0.6889999142992117,-0.6124535361509675,-0.34924785149586335,-0.3100557414309395,-0.3722539324584202,0.11613817497360605,0.20861782450289618,0.4802000846572545,0.9680423650588501,0.944441480461521,1.0,0.9465864937752906,0.9730824342684918,0.9451580179274336,0.9851503298063112,0.9529048122249945,0.9351766039940603,0.9579391011844538,0.953833366870196,0.7962561463737073,0.8105858435774826,-0.07738770991630398,-0.3526484930596125,-0.22606088861714851,-0.10255782881148637,0.26638666382714077,-0.25551398372431666],[0.32284285740476115,0.35433059350615165,0.3416541232304631,0.34162629136622535,0.33040331618481716,-0.03882784717068396,-0.36951132523926206,-0.38631215306460354,-0.4764250363955169,-0.027559856098123208,-0.3327619790032581,-0.40216957298223893,-0.23133137886384747,-0.33659550173829483,-0.27865784435098584,-0.29613383545552247,-0.7629091450116577,-0.3852957620804166,-0.49968191842539794,-0.8638210960910996,-0.7970648949895892,-0.5689595582144219,-0.4332561494613949,-0.1935616212004031,0.33636372061836683,0.425805545150839,0.6851972266292373,0.8777868064486817,0.8135407122785566,0.9465864937752906,1.0,0.8644988181221949,0.9694421732024777,0.899497684936392,0.8283423146438195,0.7914520365511901,0.8462698331817831,0.8529106014166612,0.9031344914600528,0.8606860595711604,0.06393755817820958,-0.2424298989706214,-0.10256739741932837,0.08640507964214404,0.508386190968728,-0.0916143044185339],[-0.17325233593234363,-0.10132896491679252,-0.11535345538699135,-0.10541199773517805,-0.11731199255634456,-0.2811401629456122,-0.3855667150381949,-0.26454012542628763,-0.2809737929553987,-0.3344308162831446,-0.33625370360903384,-0.22342242267782905,-0.266733277274569,-0.31506678425071155,-0.22342242267782916,-0.24357896219212477,-0.47777706850593615,-0.22247913710820563,-0.2775947070163812,-0.5702813143491768,-0.5251876132707443,-0.2614988078781911,-0.2573885386754359,-0.5463974449491039,-0.11478224637186246,-0.021180545285392705,0.2661511901607004,0.9949674262289827,0.9947350325461258,0.9730824342684918,0.8644988181221949,1.0,0.8452969007550613,0.9969645725920598,0.9971233662083785,0.9890269250293956,0.9974810671777072,0.9929074148156218,0.7348059211207287,0.8064901568335213,-0.03807171145184974,-0.31017477569976315,-0.18472993474524263,-0.10503712078579673,0.16804454441217748,-0.2273654970994327],[0.37155693548048846,0.4458571575317485,0.432248970922538,0.43935604848239473,0.42990230203067714,0.0908146079131032,-0.24379777017713522,-0.30329108639839064,-0.3903610217271914,0.10471389514516408,-0.19834151007283898,-0.31040405681937117,-0.09864208221946585,-0.3420053275027034,-0.31040405681937105,-0.3201628361328584,-0.6637827060597253,-0.2602862700309639,-0.38566640794921453,-0.789983944915696,-0.6517579427671917,-0.426269795370106,-0.3789172153583002,-0.07435541082629933,0.4329925000662794,0.5162363663227859,0.7348078587127179,0.8369052005249562,0.7862996136712626,0.9451580179274336,0.9694421732024777,0.8452969007550613,1.0,0.8771906449582184,0.8023706597236928,0.7711662417131578,0.8125071835344333,0.806898177368796,0.7875695918942178,0.7210732031266467,-0.16221598154848096,-0.42297325068005126,-0.3058998608662492,-0.12737398545332204,0.3469533235659612,-0.3079269118118678],[-0.10362169737281884,-0.03726889794148632,-0.051274550242818316,-0.040925376074626735,-0.053637442978653194,-0.2395202126559048,-0.37559002263035096,-0.2719032535031237,-0.29961411709773816,-0.2867325783016902,-0.36014834533358714,-0.2716584923911277,-0.2844841206239705,-0.3266566160980539,-0.23411900378849365,-0.2529973505445811,-0.5352346685668696,-0.2681259959274352,-0.30440943933910164,-0.6311306028795906,-0.5737717378009364,-0.3091924033134805,-0.3049136942191459,-0.5053962349337372,-0.05255690250208662,0.04295169455981586,0.3316370073219716,0.9949239902759277,0.9851545564980325,0.9851503298063112,0.899497684936392,0.9969645725920598,0.8771906449582184,1.0,0.9892395041680644,0.9751810664189116,0.9923450980450375,0.9897107824897802,0.7738891698137815,0.8303689438288736,-0.019287115509222522,-0.30862957465705654,-0.1764578280582272,-0.07486308238066973,0.2238684804122181,-0.20740227643055198],[-0.24610261739348824,-0.17644308521696,-0.1901948695464812,-0.18009349908376307,-0.19205439054866585,-0.32708191375270496,-0.3964416501293982,-0.25268103142801296,-0.25883378596668405,-0.38872773193679444,-0.3478370309368479,-0.20581731457328803,-0.2842356957097714,-0.30375558426911636,-0.20581731457328817,-0.2269693324782643,-0.440129473246231,-0.21197754918043196,-0.25572096324573534,-0.5253446241603219,-0.494837953916001,-0.23209310795826207,-0.23389068982316405,-0.6000862115106778,-0.18965889370586833,-0.09689834231213734,0.19318704747221738,0.9927810791077092,0.9996093839322423,0.9529048122249945,0.8283423146438195,0.9971233662083785,0.8023706597236928,0.9892395041680644,1.0,0.9953577756358692,0.9989938127211508,0.9947383391007215,0.7096182466703489,0.7991044537546964,-0.018654795174460382,-0.2857338069194261,-0.1621439310351195,-0.09837904787829525,0.13930298035484273,-0.2094496849454746],[-0.2966264065575052,-0.22065512948435925,-0.23571375962414526,-0.2282653604875168,-0.23794590002766314,-0.37646787738935505,-0.43294680624712484,-0.2743027720609849,-0.27749367285165216,-0.44731559216979844,-0.27556141756410774,-0.11354817612391273,-0.2139725983317054,-0.3053276136082579,-0.22065512948435934,-0.2455861825608475,-0.38042079762222997,-0.12312847434027417,-0.25037774730644163,-0.4511894161887757,-0.4551141302703235,-0.18756714815881506,-0.1417271447989647,-0.6294898506134583,-0.22958224841585712,-0.14198213134442697,0.14374477789566192,0.9823120685361252,0.9959142543232526,0.9351766039940603,0.7914520365511901,0.9890269250293956,0.7711662417131578,0.9751810664189116,0.9953577756358692,1.0,0.991742221345186,0.9860578910499233,0.6721213726126116,0.7696541214682191,-0.03610334347428027,-0.26507467780181676,-0.15480687163275703,-0.12170190766871963,0.09530940020219086,-0.2245493652850336],[-0.22124589375676884,-0.15859119085546117,-0.17207078316654403,-0.16362605160870133,-0.1757881130596231,-0.32915148790963983,-0.41263436934626213,-0.2726900734714534,-0.2831250685295532,-0.38578429406025744,-0.3654863870238997,-0.2300046338548739,-0.2997515368282348,-0.30370464283068127,-0.20421376281083228,-0.2262163718808756,-0.4715750873811627,-0.23878315256021318,-0.2857728789353496,-0.5563820444743579,-0.531782416919631,-0.2709138750377802,-0.2542114196142634,-0.5937527088686463,-0.17280939070252888,-0.07892926538916824,0.21577634126584405,0.9966018061200159,0.9979341668291876,0.9579391011844538,0.8462698331817831,0.9974810671777072,0.8125071835344333,0.9923450980450375,0.9989938127211508,0.991742221345186,1.0,0.997680445161651,0.7376839607777629,0.8233797785165065,0.012036970188551384,-0.2646016166873896,-0.13659331410710926,-0.06393039796936935,0.17921411496399167,-0.1789835817964122],[-0.21570006205847111,-0.16213129833337292,-0.1776723966167229,-0.16652306181744997,-0.17971668814514977,-0.3301044868832649,-0.4247907572897883,-0.27128389973394595,-0.2959579741714424,-0.4070894176349505,-0.3920267514019703,-0.24654649730135747,-0.3176634240678347,-0.3426027173893999,-0.23900865969333251,-0.261748489909353,-0.5152862645203474,-0.26291258406405305,-0.2940147690425265,-0.5779467534855728,-0.5703793624899576,-0.28774035876091986,-0.25862064917824,-0.6196884470510564,-0.1771421951220264,-0.08285575409005431,0.22031658974798862,0.9985654697437447,0.993732888838886,0.953833366870196,0.8529106014166612,0.9929074148156218,0.806898177368796,0.9897107824897802,0.9947383391007215,0.9860578910499233,0.997680445161651,1.0,0.7721265141717911,0.8555415947347489,0.07593069058354032,-0.20727352228272775,-0.0749681141514716,0.0012115614200344457,0.23618231570622494,-0.11581271758259723],[0.26495188529754427,0.22839826396338894,0.20687247845226817,0.21498011988508423,0.20045166205658765,-0.12795523733621306,-0.4669378657618569,-0.38667873162051297,-0.5371602583132173,-0.2244489241893703,-0.4500834603195885,-0.4313646680356445,-0.31842407022158126,-0.4852998979534445,-0.40897037792111895,-0.43387418771638525,-0.9048434133106625,-0.47282797777087154,-0.5359558239740453,-0.8622588843971984,-0.9437174402261264,-0.6332004140617493,-0.37927211184517196,-0.3685658483141271,0.20850422400206892,0.28879037446304223,0.5750641240585527,0.7888628428100617,0.6979256451247189,0.7962561463737073,0.9031344914600528,0.7348059211207287,0.7875695918942178,0.7738891698137815,0.7096182466703489,0.6721213726126116,0.7376839607777629,0.7721265141717911,1.0,0.9663737193739269,0.4799027551487583,0.17739446756409055,0.32520045470900166,0.49768791460997996,0.7898905333111195,0.3374302491707554],[0.02512550781515184,-0.015230881597267642,-0.032875663730652635,-0.030251338479404068,-0.04508561284346885,-0.31577926140900214,-0.5422567793019258,-0.3978987035852028,-0.49778793938812627,-0.4055510317080977,-0.5239698938525674,-0.4180476082704169,-0.4182593540549228,-0.4061703230562,-0.30040784393778036,-0.33039002646225163,-0.8014802316020421,-0.479043098178315,-0.5194098333812452,-0.7736763499415352,-0.8861645515356195,-0.5973994318133876,-0.3573612301479873,-0.554458776384123,-0.03665260175304295,0.04973703279905883,0.36413407378573864,0.8598079082620662,0.793248621100229,0.8105858435774826,0.8606860595711604,0.8064901568335213,0.7210732031266467,0.8303689438288736,0.7991044537546964,0.7696541214682191,0.8233797785165065,0.8555415947347489,0.9663737193739269,1.0,0.5142665156808393,0.19598607020285713,0.35015833726784623,0.48529092033122156,0.6905288715897084,0.35249511759970487],[-0.08569183021163444,-0.24956049860142251,-0.26549064952040285,-0.2591124613849176,-0.2697095586017354,-0.3001842342881352,-0.37242196382122894,-0.16198517988697356,-0.28588804806151347,-0.483379050521574,-0.4467576337853802,-0.26261469142514593,-0.37399615313424284,-0.30895188473239565,-0.23064993060678773,-0.25453960333235837,-0.5184811074621414,-0.39825068209928866,-0.28949443314535567,-0.2654915012362163,-0.5813922121665189,-0.3968273517528966,-0.08095717997927353,-0.47066814727084805,-0.2636434121749001,-0.2538658404606401,-0.11005881574985238,0.06079192804925201,-0.014722018974905302,-0.07738770991630398,0.06393755817820958,-0.03807171145184974,-0.16221598154848096,-0.019287115509222522,-0.018654795174460382,-0.03610334347428027,0.012036970188551384,0.07593069058354032,0.4799027551487583,0.5142665156808393,1.0,0.8837356866124713,0.9544354877340888,0.9825216318978353,0.780100176153661,0.9812602272410568],[-0.13097490773246862,-0.277657696109606,-0.2966064717893305,-0.30559716657276204,-0.30252601074195695,-0.368930591418591,-0.4264505956765953,-0.22350042064792705,-0.349179527659446,-0.562872102932799,-0.00498036878633372,0.1845901263596622,0.05285804070018768,-0.25926504920967985,-0.27765769610960594,-0.3121814460410852,-0.19912952996980657,0.047858693015531834,-0.24235706395493703,0.12624100207721414,-0.3293776673303807,-0.1864002271641981,0.36096574523338004,-0.36429741860298076,-0.26903582340923793,-0.30404712830489006,-0.25589415907690033,-0.2230290308598793,-0.2808949649142837,-0.3526484930596125,-0.2424298989706214,-0.31017477569976315,-0.42297325068005126,-0.30862957465705654,-0.2857338069194261,-0.26507467780181676,-0.2646016166873896,-0.20727352228272775,0.17739446756409055,0.19598607020285713,0.8837356866124713,1.0,0.9821474171913341,0.8808977590978055,0.5892838502495239,0.9245756007140167],[-0.11565672538392874,-0.27075807730952745,-0.29002214838410223,-0.29375582185208804,-0.29578301002417645,-0.364745275709648,-0.4400312723934769,-0.22515605420804283,-0.3574818167099423,-0.5631518636207361,-0.17081107519814545,0.02427041529992666,-0.1016369720874069,-0.30151612325248617,-0.2842594418237621,-0.3172101275777592,-0.34447798562869186,-0.1163256447786555,-0.2846862572512124,-0.03668329287188678,-0.45779304341573107,-0.2836391991945076,0.20703072054554275,-0.4299921247100608,-0.27028524536740606,-0.2869962662849426,-0.19186154836547092,-0.09037425211075857,-0.15787044034873007,-0.22606088861714851,-0.10256739741932837,-0.18472993474524263,-0.3058998608662492,-0.1764578280582272,-0.1621439310351195,-0.15480687163275703,-0.13659331410710926,-0.0749681141514716,0.32520045470900166,0.35015833726784623,0.9544354877340888,0.9821474171913341,1.0,0.9456691269209185,0.6910188969306388,0.9683715615065213],[0.09428559939577691,-0.07278099525250172,-0.08929713989666986,-0.08502173818328364,-0.09418694318397745,-0.19092235458237325,-0.34429027694544106,-0.18890378792729817,-0.34096361734692615,-0.35713084193658207,-0.38505049207644065,-0.2711246363276985,-0.3004206270928116,-0.3250937597423492,-0.27112463632769845,-0.2932476482332304,-0.5797857367752918,-0.3945691467118446,-0.3368630734742227,-0.3260489145014911,-0.6306555777580832,-0.4553856245108794,-0.09592482252739919,-0.31999306255045235,-0.0856143212737544,-0.08161235133546524,0.03857592391968483,-0.004864969279736876,-0.09898214744852879,-0.10255782881148637,0.08640507964214404,-0.10503712078579673,-0.12737398545332204,-0.07486308238066973,-0.09837904787829525,-0.12170190766871963,-0.06393039796936935,0.0012115614200344457,0.49768791460997996,0.48529092033122156,0.9825216318978353,0.8808977590978055,0.9456691269209185,1.0,0.8553661411197051,0.981101476585498],[0.4764708211516175,0.35387327590213036,0.333570281198341,0.3390205165043207,0.32799414518189585,0.02732303918234425,-0.3479943627410005,-0.3099042129021807,-0.5150529880503404,-0.08933128692743632,-0.36911039113736516,-0.4095555859045142,-0.2388083823156433,-0.4445857758845647,-0.4095555859045142,-0.4290109469673279,-0.8758130221596039,-0.48082617351718776,-0.5088587864792135,-0.7083351605414044,-0.8910710441245303,-0.6587429505064085,-0.2916131629578949,-0.11124444585507737,0.33731253423295987,0.36917705866566547,0.5346808420107821,0.25494951871085825,0.12629436361654,0.26638666382714077,0.508386190968728,0.16804454441217748,0.3469533235659612,0.2238684804122181,0.13930298035484273,0.09530940020219086,0.17921411496399167,0.23618231570622494,0.7898905333111195,0.6905288715897084,0.780100176153661,0.5892838502495239,0.6910188969306388,0.8553661411197051,1.0,0.7408182205215244],[-0.029567883529829114,-0.20352970339712897,-0.21638584737693073,-0.21443777255430768,-0.2217587702374403,-0.24248191086941978,-0.30693054084624216,-0.13137743560114554,-0.251739664881307,-0.4049052761616089,-0.35346437275531656,-0.20352970339712897,-0.29454155028095763,-0.23916439544487847,-0.18577611762247306,-0.20657398971064728,-0.42127904197778154,-0.3354641623040433,-0.2528786847196941,-0.1579464080885359,-0.4821228301662008,-0.35504028490248907,-0.02109873324872426,-0.3404945256516168,-0.21398371484838535,-0.22287378563500992,-0.13757055234131754,-0.1297074643381925,-0.20590269852337503,-0.25551398372431666,-0.0916143044185339,-0.2273654970994327,-0.3079269118118678,-0.20740227643055198,-0.2094496849454746,-0.2245493652850336,-0.1789835817964122,-0.11581271758259723,0.3374302491707554,0.35249511759970487,0.9812602272410568,0.9245756007140167,0.9683715615065213,0.981101476585498,0.7408182205215244,1.0]],\"type\":\"heatmap\",\"xaxis\":\"x\",\"yaxis\":\"y\",\"hovertemplate\":\"x: %{x}\\u003cbr\\u003ey: %{y}\\u003cbr\\u003ecolor: %{z}\\u003cextra\\u003e\\u003c\\u002fextra\\u003e\"}],                        {\"template\":{\"data\":{\"histogram2dcontour\":[{\"type\":\"histogram2dcontour\",\"colorbar\":{\"outlinewidth\":0,\"ticks\":\"\"},\"colorscale\":[[0.0,\"#0d0887\"],[0.1111111111111111,\"#46039f\"],[0.2222222222222222,\"#7201a8\"],[0.3333333333333333,\"#9c179e\"],[0.4444444444444444,\"#bd3786\"],[0.5555555555555556,\"#d8576b\"],[0.6666666666666666,\"#ed7953\"],[0.7777777777777778,\"#fb9f3a\"],[0.8888888888888888,\"#fdca26\"],[1.0,\"#f0f921\"]]}],\"choropleth\":[{\"type\":\"choropleth\",\"colorbar\":{\"outlinewidth\":0,\"ticks\":\"\"}}],\"histogram2d\":[{\"type\":\"histogram2d\",\"colorbar\":{\"outlinewidth\":0,\"ticks\":\"\"},\"colorscale\":[[0.0,\"#0d0887\"],[0.1111111111111111,\"#46039f\"],[0.2222222222222222,\"#7201a8\"],[0.3333333333333333,\"#9c179e\"],[0.4444444444444444,\"#bd3786\"],[0.5555555555555556,\"#d8576b\"],[0.6666666666666666,\"#ed7953\"],[0.7777777777777778,\"#fb9f3a\"],[0.8888888888888888,\"#fdca26\"],[1.0,\"#f0f921\"]]}],\"heatmap\":[{\"type\":\"heatmap\",\"colorbar\":{\"outlinewidth\":0,\"ticks\":\"\"},\"colorscale\":[[0.0,\"#0d0887\"],[0.1111111111111111,\"#46039f\"],[0.2222222222222222,\"#7201a8\"],[0.3333333333333333,\"#9c179e\"],[0.4444444444444444,\"#bd3786\"],[0.5555555555555556,\"#d8576b\"],[0.6666666666666666,\"#ed7953\"],[0.7777777777777778,\"#fb9f3a\"],[0.8888888888888888,\"#fdca26\"],[1.0,\"#f0f921\"]]}],\"heatmapgl\":[{\"type\":\"heatmapgl\",\"colorbar\":{\"outlinewidth\":0,\"ticks\":\"\"},\"colorscale\":[[0.0,\"#0d0887\"],[0.1111111111111111,\"#46039f\"],[0.2222222222222222,\"#7201a8\"],[0.3333333333333333,\"#9c179e\"],[0.4444444444444444,\"#bd3786\"],[0.5555555555555556,\"#d8576b\"],[0.6666666666666666,\"#ed7953\"],[0.7777777777777778,\"#fb9f3a\"],[0.8888888888888888,\"#fdca26\"],[1.0,\"#f0f921\"]]}],\"contourcarpet\":[{\"type\":\"contourcarpet\",\"colorbar\":{\"outlinewidth\":0,\"ticks\":\"\"}}],\"contour\":[{\"type\":\"contour\",\"colorbar\":{\"outlinewidth\":0,\"ticks\":\"\"},\"colorscale\":[[0.0,\"#0d0887\"],[0.1111111111111111,\"#46039f\"],[0.2222222222222222,\"#7201a8\"],[0.3333333333333333,\"#9c179e\"],[0.4444444444444444,\"#bd3786\"],[0.5555555555555556,\"#d8576b\"],[0.6666666666666666,\"#ed7953\"],[0.7777777777777778,\"#fb9f3a\"],[0.8888888888888888,\"#fdca26\"],[1.0,\"#f0f921\"]]}],\"surface\":[{\"type\":\"surface\",\"colorbar\":{\"outlinewidth\":0,\"ticks\":\"\"},\"colorscale\":[[0.0,\"#0d0887\"],[0.1111111111111111,\"#46039f\"],[0.2222222222222222,\"#7201a8\"],[0.3333333333333333,\"#9c179e\"],[0.4444444444444444,\"#bd3786\"],[0.5555555555555556,\"#d8576b\"],[0.6666666666666666,\"#ed7953\"],[0.7777777777777778,\"#fb9f3a\"],[0.8888888888888888,\"#fdca26\"],[1.0,\"#f0f921\"]]}],\"mesh3d\":[{\"type\":\"mesh3d\",\"colorbar\":{\"outlinewidth\":0,\"ticks\":\"\"}}],\"scatter\":[{\"fillpattern\":{\"fillmode\":\"overlay\",\"size\":10,\"solidity\":0.2},\"type\":\"scatter\"}],\"parcoords\":[{\"type\":\"parcoords\",\"line\":{\"colorbar\":{\"outlinewidth\":0,\"ticks\":\"\"}}}],\"scatterpolargl\":[{\"type\":\"scatterpolargl\",\"marker\":{\"colorbar\":{\"outlinewidth\":0,\"ticks\":\"\"}}}],\"bar\":[{\"error_x\":{\"color\":\"#2a3f5f\"},\"error_y\":{\"color\":\"#2a3f5f\"},\"marker\":{\"line\":{\"color\":\"#E5ECF6\",\"width\":0.5},\"pattern\":{\"fillmode\":\"overlay\",\"size\":10,\"solidity\":0.2}},\"type\":\"bar\"}],\"scattergeo\":[{\"type\":\"scattergeo\",\"marker\":{\"colorbar\":{\"outlinewidth\":0,\"ticks\":\"\"}}}],\"scatterpolar\":[{\"type\":\"scatterpolar\",\"marker\":{\"colorbar\":{\"outlinewidth\":0,\"ticks\":\"\"}}}],\"histogram\":[{\"marker\":{\"pattern\":{\"fillmode\":\"overlay\",\"size\":10,\"solidity\":0.2}},\"type\":\"histogram\"}],\"scattergl\":[{\"type\":\"scattergl\",\"marker\":{\"colorbar\":{\"outlinewidth\":0,\"ticks\":\"\"}}}],\"scatter3d\":[{\"type\":\"scatter3d\",\"line\":{\"colorbar\":{\"outlinewidth\":0,\"ticks\":\"\"}},\"marker\":{\"colorbar\":{\"outlinewidth\":0,\"ticks\":\"\"}}}],\"scattermapbox\":[{\"type\":\"scattermapbox\",\"marker\":{\"colorbar\":{\"outlinewidth\":0,\"ticks\":\"\"}}}],\"scatterternary\":[{\"type\":\"scatterternary\",\"marker\":{\"colorbar\":{\"outlinewidth\":0,\"ticks\":\"\"}}}],\"scattercarpet\":[{\"type\":\"scattercarpet\",\"marker\":{\"colorbar\":{\"outlinewidth\":0,\"ticks\":\"\"}}}],\"carpet\":[{\"aaxis\":{\"endlinecolor\":\"#2a3f5f\",\"gridcolor\":\"white\",\"linecolor\":\"white\",\"minorgridcolor\":\"white\",\"startlinecolor\":\"#2a3f5f\"},\"baxis\":{\"endlinecolor\":\"#2a3f5f\",\"gridcolor\":\"white\",\"linecolor\":\"white\",\"minorgridcolor\":\"white\",\"startlinecolor\":\"#2a3f5f\"},\"type\":\"carpet\"}],\"table\":[{\"cells\":{\"fill\":{\"color\":\"#EBF0F8\"},\"line\":{\"color\":\"white\"}},\"header\":{\"fill\":{\"color\":\"#C8D4E3\"},\"line\":{\"color\":\"white\"}},\"type\":\"table\"}],\"barpolar\":[{\"marker\":{\"line\":{\"color\":\"#E5ECF6\",\"width\":0.5},\"pattern\":{\"fillmode\":\"overlay\",\"size\":10,\"solidity\":0.2}},\"type\":\"barpolar\"}],\"pie\":[{\"automargin\":true,\"type\":\"pie\"}]},\"layout\":{\"autotypenumbers\":\"strict\",\"colorway\":[\"#636efa\",\"#EF553B\",\"#00cc96\",\"#ab63fa\",\"#FFA15A\",\"#19d3f3\",\"#FF6692\",\"#B6E880\",\"#FF97FF\",\"#FECB52\"],\"font\":{\"color\":\"#2a3f5f\"},\"hovermode\":\"closest\",\"hoverlabel\":{\"align\":\"left\"},\"paper_bgcolor\":\"white\",\"plot_bgcolor\":\"#E5ECF6\",\"polar\":{\"bgcolor\":\"#E5ECF6\",\"angularaxis\":{\"gridcolor\":\"white\",\"linecolor\":\"white\",\"ticks\":\"\"},\"radialaxis\":{\"gridcolor\":\"white\",\"linecolor\":\"white\",\"ticks\":\"\"}},\"ternary\":{\"bgcolor\":\"#E5ECF6\",\"aaxis\":{\"gridcolor\":\"white\",\"linecolor\":\"white\",\"ticks\":\"\"},\"baxis\":{\"gridcolor\":\"white\",\"linecolor\":\"white\",\"ticks\":\"\"},\"caxis\":{\"gridcolor\":\"white\",\"linecolor\":\"white\",\"ticks\":\"\"}},\"coloraxis\":{\"colorbar\":{\"outlinewidth\":0,\"ticks\":\"\"}},\"colorscale\":{\"sequential\":[[0.0,\"#0d0887\"],[0.1111111111111111,\"#46039f\"],[0.2222222222222222,\"#7201a8\"],[0.3333333333333333,\"#9c179e\"],[0.4444444444444444,\"#bd3786\"],[0.5555555555555556,\"#d8576b\"],[0.6666666666666666,\"#ed7953\"],[0.7777777777777778,\"#fb9f3a\"],[0.8888888888888888,\"#fdca26\"],[1.0,\"#f0f921\"]],\"sequentialminus\":[[0.0,\"#0d0887\"],[0.1111111111111111,\"#46039f\"],[0.2222222222222222,\"#7201a8\"],[0.3333333333333333,\"#9c179e\"],[0.4444444444444444,\"#bd3786\"],[0.5555555555555556,\"#d8576b\"],[0.6666666666666666,\"#ed7953\"],[0.7777777777777778,\"#fb9f3a\"],[0.8888888888888888,\"#fdca26\"],[1.0,\"#f0f921\"]],\"diverging\":[[0,\"#8e0152\"],[0.1,\"#c51b7d\"],[0.2,\"#de77ae\"],[0.3,\"#f1b6da\"],[0.4,\"#fde0ef\"],[0.5,\"#f7f7f7\"],[0.6,\"#e6f5d0\"],[0.7,\"#b8e186\"],[0.8,\"#7fbc41\"],[0.9,\"#4d9221\"],[1,\"#276419\"]]},\"xaxis\":{\"gridcolor\":\"white\",\"linecolor\":\"white\",\"ticks\":\"\",\"title\":{\"standoff\":15},\"zerolinecolor\":\"white\",\"automargin\":true,\"zerolinewidth\":2},\"yaxis\":{\"gridcolor\":\"white\",\"linecolor\":\"white\",\"ticks\":\"\",\"title\":{\"standoff\":15},\"zerolinecolor\":\"white\",\"automargin\":true,\"zerolinewidth\":2},\"scene\":{\"xaxis\":{\"backgroundcolor\":\"#E5ECF6\",\"gridcolor\":\"white\",\"linecolor\":\"white\",\"showbackground\":true,\"ticks\":\"\",\"zerolinecolor\":\"white\",\"gridwidth\":2},\"yaxis\":{\"backgroundcolor\":\"#E5ECF6\",\"gridcolor\":\"white\",\"linecolor\":\"white\",\"showbackground\":true,\"ticks\":\"\",\"zerolinecolor\":\"white\",\"gridwidth\":2},\"zaxis\":{\"backgroundcolor\":\"#E5ECF6\",\"gridcolor\":\"white\",\"linecolor\":\"white\",\"showbackground\":true,\"ticks\":\"\",\"zerolinecolor\":\"white\",\"gridwidth\":2}},\"shapedefaults\":{\"line\":{\"color\":\"#2a3f5f\"}},\"annotationdefaults\":{\"arrowcolor\":\"#2a3f5f\",\"arrowhead\":0,\"arrowwidth\":1},\"geo\":{\"bgcolor\":\"white\",\"landcolor\":\"#E5ECF6\",\"subunitcolor\":\"white\",\"showland\":true,\"showlakes\":true,\"lakecolor\":\"white\"},\"title\":{\"x\":0.05},\"mapbox\":{\"style\":\"light\"}}},\"xaxis\":{\"anchor\":\"y\",\"domain\":[0.0,1.0],\"scaleanchor\":\"y\",\"constrain\":\"domain\"},\"yaxis\":{\"anchor\":\"x\",\"domain\":[0.0,1.0],\"autorange\":\"reversed\",\"constrain\":\"domain\"},\"coloraxis\":{\"colorscale\":[[0.0,\"rgb(158,1,66)\"],[0.1,\"rgb(213,62,79)\"],[0.2,\"rgb(244,109,67)\"],[0.3,\"rgb(253,174,97)\"],[0.4,\"rgb(254,224,139)\"],[0.5,\"rgb(255,255,191)\"],[0.6,\"rgb(230,245,152)\"],[0.7,\"rgb(171,221,164)\"],[0.8,\"rgb(102,194,165)\"],[0.9,\"rgb(50,136,189)\"],[1.0,\"rgb(94,79,162)\"]]},\"margin\":{\"t\":60},\"height\":1000,\"width\":1200},                        {\"responsive\": true}                    ).then(function(){\n",
       "                            \n",
       "var gd = document.getElementById('5acc10f5-0a2a-4db4-b542-99f189a0e968');\n",
       "var x = new MutationObserver(function (mutations, observer) {{\n",
       "        var display = window.getComputedStyle(gd).display;\n",
       "        if (!display || display === 'none') {{\n",
       "            console.log([gd, 'removed!']);\n",
       "            Plotly.purge(gd);\n",
       "            observer.disconnect();\n",
       "        }}\n",
       "}});\n",
       "\n",
       "// Listen for the removal of the full notebook cells\n",
       "var notebookContainer = gd.closest('#notebook-container');\n",
       "if (notebookContainer) {{\n",
       "    x.observe(notebookContainer, {childList: true});\n",
       "}}\n",
       "\n",
       "// Listen for the clearing of the current output cell\n",
       "var outputEl = gd.closest('.output');\n",
       "if (outputEl) {{\n",
       "    x.observe(outputEl, {childList: true});\n",
       "}}\n",
       "\n",
       "                        })                };                });            </script>        </div>"
      ]
     },
     "metadata": {},
     "output_type": "display_data"
    }
   ],
   "source": [
    "px.imshow(X.values, x = labels,y = labels,\n",
    "        height=1000, width=1200,\n",
    "        color_continuous_scale=px.colors.diverging.Spectral)"
   ]
  },
  {
   "cell_type": "code",
   "execution_count": 107,
   "id": "baec37e0-36a0-454f-920f-20c7ced4582d",
   "metadata": {},
   "outputs": [
    {
     "data": {
      "image/png": "[encoded data removed]",
      "text/plain": [
       "<Figure size 1000x300 with 1 Axes>"
      ]
     },
     "metadata": {},
     "output_type": "display_data"
    }
   ],
   "source": [
    "X.mean().plot.bar(figsize=(10,3));"
   ]
  },
  {
   "cell_type": "markdown",
   "id": "8369770d-ca96-45db-9314-c0dcae462bea",
   "metadata": {},
   "source": [
    "# Cluster Documents in Correlation Space"
   ]
  },
  {
   "cell_type": "code",
   "execution_count": 90,
   "id": "46b69b9d-f924-4143-8b2c-74cc589fc698",
   "metadata": {},
   "outputs": [],
   "source": [
    "fig2 = HAC(X)\n",
    "fig2.linkage_method = linkage\n",
    "fig2.dist_metric = metric"
   ]
  },
  {
   "cell_type": "code",
   "execution_count": 91,
   "id": "8afae8d5-5ea8-4549-b06d-62ffec5934ca",
   "metadata": {},
   "outputs": [],
   "source": [
    "# fig2.color_thresh = 2.5 # w/o verbs\n",
    "fig2.color_thresh = 1.5"
   ]
  },
  {
   "cell_type": "code",
   "execution_count": 92,
   "id": "6319c7dc-bd83-4dc9-a474-97846cf8da3e",
   "metadata": {},
   "outputs": [
    {
     "data": {
      "text/plain": [
       "<Figure size 640x480 with 0 Axes>"
      ]
     },
     "metadata": {},
     "output_type": "display_data"
    },
    {
     "data": {
      "image/png": "[encoded data removed]",
      "text/plain": [
       "<Figure size 1000x1533.33 with 1 Axes>"
      ]
     },
     "metadata": {},
     "output_type": "display_data"
    }
   ],
   "source": [
    "fig2.plot()"
   ]
  },
  {
   "cell_type": "code",
   "execution_count": 93,
   "id": "d1ea9fc6-8d11-4efa-944f-e3f272066b57",
   "metadata": {},
   "outputs": [],
   "source": [
    "fig2.get_cluster_labels()\n",
    "DOC['topic_group2'] = fig2.CLUSTER_LABELS\n",
    "DOC.topic_group2 = DOC.topic_group2.astype(str)"
   ]
  },
  {
   "cell_type": "code",
   "execution_count": 94,
   "id": "5bdaf5c1-19e8-43e4-976a-68af43766a01",
   "metadata": {},
   "outputs": [
    {
     "data": {
      "text/html": [
       "<style type=\"text/css\">\n",
       "#T_f60e4_row0_col0, #T_f60e4_row1_col0, #T_f60e4_row1_col1, #T_f60e4_row1_col2, #T_f60e4_row1_col3, #T_f60e4_row1_col4, #T_f60e4_row1_col8, #T_f60e4_row2_col13, #T_f60e4_row3_col0, #T_f60e4_row3_col1, #T_f60e4_row3_col2 {\n",
       "  background: red;\n",
       "}\n",
       "#T_f60e4_row0_col1, #T_f60e4_row0_col2, #T_f60e4_row0_col3, #T_f60e4_row0_col4, #T_f60e4_row0_col5, #T_f60e4_row0_col6, #T_f60e4_row0_col7, #T_f60e4_row0_col8, #T_f60e4_row0_col9, #T_f60e4_row0_col10, #T_f60e4_row0_col11, #T_f60e4_row0_col12, #T_f60e4_row0_col13, #T_f60e4_row1_col9, #T_f60e4_row1_col10, #T_f60e4_row1_col11, #T_f60e4_row1_col12, #T_f60e4_row1_col13, #T_f60e4_row3_col10, #T_f60e4_row3_col11, #T_f60e4_row3_col12, #T_f60e4_row3_col13, #T_f60e4_row4_col12, #T_f60e4_row4_col13 {\n",
       "  background: white;\n",
       "}\n",
       "#T_f60e4_row1_col5, #T_f60e4_row1_col6, #T_f60e4_row1_col7, #T_f60e4_row2_col8, #T_f60e4_row4_col6, #T_f60e4_row4_col7, #T_f60e4_row4_col8, #T_f60e4_row4_col9, #T_f60e4_row4_col11 {\n",
       "  background: orange;\n",
       "}\n",
       "#T_f60e4_row2_col0, #T_f60e4_row2_col1, #T_f60e4_row2_col2, #T_f60e4_row2_col7, #T_f60e4_row2_col12 {\n",
       "  background: violet;\n",
       "}\n",
       "#T_f60e4_row2_col3, #T_f60e4_row2_col4, #T_f60e4_row2_col5 {\n",
       "  background: tan;\n",
       "}\n",
       "#T_f60e4_row2_col6, #T_f60e4_row2_col9, #T_f60e4_row2_col10, #T_f60e4_row2_col11 {\n",
       "  background: purple;\n",
       "}\n",
       "#T_f60e4_row3_col3, #T_f60e4_row3_col4, #T_f60e4_row3_col5, #T_f60e4_row3_col6, #T_f60e4_row3_col7, #T_f60e4_row3_col8, #T_f60e4_row3_col9, #T_f60e4_row4_col0, #T_f60e4_row4_col1, #T_f60e4_row4_col2, #T_f60e4_row4_col3, #T_f60e4_row4_col4, #T_f60e4_row4_col5, #T_f60e4_row4_col10 {\n",
       "  background: limegreen;\n",
       "}\n",
       "</style>\n",
       "<table id=\"T_f60e4\">\n",
       "  <thead>\n",
       "    <tr>\n",
       "      <th class=\"index_name level0\" >capit</th>\n",
       "      <th id=\"T_f60e4_level0_col0\" class=\"col_heading level0 col0\" >1</th>\n",
       "      <th id=\"T_f60e4_level0_col1\" class=\"col_heading level0 col1\" >2</th>\n",
       "      <th id=\"T_f60e4_level0_col2\" class=\"col_heading level0 col2\" >3</th>\n",
       "      <th id=\"T_f60e4_level0_col3\" class=\"col_heading level0 col3\" >4</th>\n",
       "      <th id=\"T_f60e4_level0_col4\" class=\"col_heading level0 col4\" >5</th>\n",
       "      <th id=\"T_f60e4_level0_col5\" class=\"col_heading level0 col5\" >6</th>\n",
       "      <th id=\"T_f60e4_level0_col6\" class=\"col_heading level0 col6\" >7</th>\n",
       "      <th id=\"T_f60e4_level0_col7\" class=\"col_heading level0 col7\" >8</th>\n",
       "      <th id=\"T_f60e4_level0_col8\" class=\"col_heading level0 col8\" >9</th>\n",
       "      <th id=\"T_f60e4_level0_col9\" class=\"col_heading level0 col9\" >10</th>\n",
       "      <th id=\"T_f60e4_level0_col10\" class=\"col_heading level0 col10\" >11</th>\n",
       "      <th id=\"T_f60e4_level0_col11\" class=\"col_heading level0 col11\" >12</th>\n",
       "      <th id=\"T_f60e4_level0_col12\" class=\"col_heading level0 col12\" >13</th>\n",
       "      <th id=\"T_f60e4_level0_col13\" class=\"col_heading level0 col13\" >14</th>\n",
       "    </tr>\n",
       "    <tr>\n",
       "      <th class=\"index_name level0\" >parte</th>\n",
       "      <th class=\"blank col0\" >&nbsp;</th>\n",
       "      <th class=\"blank col1\" >&nbsp;</th>\n",
       "      <th class=\"blank col2\" >&nbsp;</th>\n",
       "      <th class=\"blank col3\" >&nbsp;</th>\n",
       "      <th class=\"blank col4\" >&nbsp;</th>\n",
       "      <th class=\"blank col5\" >&nbsp;</th>\n",
       "      <th class=\"blank col6\" >&nbsp;</th>\n",
       "      <th class=\"blank col7\" >&nbsp;</th>\n",
       "      <th class=\"blank col8\" >&nbsp;</th>\n",
       "      <th class=\"blank col9\" >&nbsp;</th>\n",
       "      <th class=\"blank col10\" >&nbsp;</th>\n",
       "      <th class=\"blank col11\" >&nbsp;</th>\n",
       "      <th class=\"blank col12\" >&nbsp;</th>\n",
       "      <th class=\"blank col13\" >&nbsp;</th>\n",
       "    </tr>\n",
       "  </thead>\n",
       "  <tbody>\n",
       "    <tr>\n",
       "      <th id=\"T_f60e4_level0_row0\" class=\"row_heading level0 row0\" >0</th>\n",
       "      <td id=\"T_f60e4_row0_col0\" class=\"data row0 col0\" >3</td>\n",
       "      <td id=\"T_f60e4_row0_col1\" class=\"data row0 col1\" ></td>\n",
       "      <td id=\"T_f60e4_row0_col2\" class=\"data row0 col2\" ></td>\n",
       "      <td id=\"T_f60e4_row0_col3\" class=\"data row0 col3\" ></td>\n",
       "      <td id=\"T_f60e4_row0_col4\" class=\"data row0 col4\" ></td>\n",
       "      <td id=\"T_f60e4_row0_col5\" class=\"data row0 col5\" ></td>\n",
       "      <td id=\"T_f60e4_row0_col6\" class=\"data row0 col6\" ></td>\n",
       "      <td id=\"T_f60e4_row0_col7\" class=\"data row0 col7\" ></td>\n",
       "      <td id=\"T_f60e4_row0_col8\" class=\"data row0 col8\" ></td>\n",
       "      <td id=\"T_f60e4_row0_col9\" class=\"data row0 col9\" ></td>\n",
       "      <td id=\"T_f60e4_row0_col10\" class=\"data row0 col10\" ></td>\n",
       "      <td id=\"T_f60e4_row0_col11\" class=\"data row0 col11\" ></td>\n",
       "      <td id=\"T_f60e4_row0_col12\" class=\"data row0 col12\" ></td>\n",
       "      <td id=\"T_f60e4_row0_col13\" class=\"data row0 col13\" ></td>\n",
       "    </tr>\n",
       "    <tr>\n",
       "      <th id=\"T_f60e4_level0_row1\" class=\"row_heading level0 row1\" >1</th>\n",
       "      <td id=\"T_f60e4_row1_col0\" class=\"data row1 col0\" >3</td>\n",
       "      <td id=\"T_f60e4_row1_col1\" class=\"data row1 col1\" >3</td>\n",
       "      <td id=\"T_f60e4_row1_col2\" class=\"data row1 col2\" >3</td>\n",
       "      <td id=\"T_f60e4_row1_col3\" class=\"data row1 col3\" >3</td>\n",
       "      <td id=\"T_f60e4_row1_col4\" class=\"data row1 col4\" >3</td>\n",
       "      <td id=\"T_f60e4_row1_col5\" class=\"data row1 col5\" >6</td>\n",
       "      <td id=\"T_f60e4_row1_col6\" class=\"data row1 col6\" >6</td>\n",
       "      <td id=\"T_f60e4_row1_col7\" class=\"data row1 col7\" >6</td>\n",
       "      <td id=\"T_f60e4_row1_col8\" class=\"data row1 col8\" >3</td>\n",
       "      <td id=\"T_f60e4_row1_col9\" class=\"data row1 col9\" ></td>\n",
       "      <td id=\"T_f60e4_row1_col10\" class=\"data row1 col10\" ></td>\n",
       "      <td id=\"T_f60e4_row1_col11\" class=\"data row1 col11\" ></td>\n",
       "      <td id=\"T_f60e4_row1_col12\" class=\"data row1 col12\" ></td>\n",
       "      <td id=\"T_f60e4_row1_col13\" class=\"data row1 col13\" ></td>\n",
       "    </tr>\n",
       "    <tr>\n",
       "      <th id=\"T_f60e4_level0_row2\" class=\"row_heading level0 row2\" >2</th>\n",
       "      <td id=\"T_f60e4_row2_col0\" class=\"data row2 col0\" >4</td>\n",
       "      <td id=\"T_f60e4_row2_col1\" class=\"data row2 col1\" >4</td>\n",
       "      <td id=\"T_f60e4_row2_col2\" class=\"data row2 col2\" >4</td>\n",
       "      <td id=\"T_f60e4_row2_col3\" class=\"data row2 col3\" >5</td>\n",
       "      <td id=\"T_f60e4_row2_col4\" class=\"data row2 col4\" >5</td>\n",
       "      <td id=\"T_f60e4_row2_col5\" class=\"data row2 col5\" >5</td>\n",
       "      <td id=\"T_f60e4_row2_col6\" class=\"data row2 col6\" >7</td>\n",
       "      <td id=\"T_f60e4_row2_col7\" class=\"data row2 col7\" >4</td>\n",
       "      <td id=\"T_f60e4_row2_col8\" class=\"data row2 col8\" >6</td>\n",
       "      <td id=\"T_f60e4_row2_col9\" class=\"data row2 col9\" >7</td>\n",
       "      <td id=\"T_f60e4_row2_col10\" class=\"data row2 col10\" >7</td>\n",
       "      <td id=\"T_f60e4_row2_col11\" class=\"data row2 col11\" >7</td>\n",
       "      <td id=\"T_f60e4_row2_col12\" class=\"data row2 col12\" >4</td>\n",
       "      <td id=\"T_f60e4_row2_col13\" class=\"data row2 col13\" >3</td>\n",
       "    </tr>\n",
       "    <tr>\n",
       "      <th id=\"T_f60e4_level0_row3\" class=\"row_heading level0 row3\" >3</th>\n",
       "      <td id=\"T_f60e4_row3_col0\" class=\"data row3 col0\" >3</td>\n",
       "      <td id=\"T_f60e4_row3_col1\" class=\"data row3 col1\" >3</td>\n",
       "      <td id=\"T_f60e4_row3_col2\" class=\"data row3 col2\" >3</td>\n",
       "      <td id=\"T_f60e4_row3_col3\" class=\"data row3 col3\" >2</td>\n",
       "      <td id=\"T_f60e4_row3_col4\" class=\"data row3 col4\" >2</td>\n",
       "      <td id=\"T_f60e4_row3_col5\" class=\"data row3 col5\" >2</td>\n",
       "      <td id=\"T_f60e4_row3_col6\" class=\"data row3 col6\" >2</td>\n",
       "      <td id=\"T_f60e4_row3_col7\" class=\"data row3 col7\" >2</td>\n",
       "      <td id=\"T_f60e4_row3_col8\" class=\"data row3 col8\" >2</td>\n",
       "      <td id=\"T_f60e4_row3_col9\" class=\"data row3 col9\" >2</td>\n",
       "      <td id=\"T_f60e4_row3_col10\" class=\"data row3 col10\" ></td>\n",
       "      <td id=\"T_f60e4_row3_col11\" class=\"data row3 col11\" ></td>\n",
       "      <td id=\"T_f60e4_row3_col12\" class=\"data row3 col12\" ></td>\n",
       "      <td id=\"T_f60e4_row3_col13\" class=\"data row3 col13\" ></td>\n",
       "    </tr>\n",
       "    <tr>\n",
       "      <th id=\"T_f60e4_level0_row4\" class=\"row_heading level0 row4\" >4</th>\n",
       "      <td id=\"T_f60e4_row4_col0\" class=\"data row4 col0\" >2</td>\n",
       "      <td id=\"T_f60e4_row4_col1\" class=\"data row4 col1\" >2</td>\n",
       "      <td id=\"T_f60e4_row4_col2\" class=\"data row4 col2\" >2</td>\n",
       "      <td id=\"T_f60e4_row4_col3\" class=\"data row4 col3\" >2</td>\n",
       "      <td id=\"T_f60e4_row4_col4\" class=\"data row4 col4\" >2</td>\n",
       "      <td id=\"T_f60e4_row4_col5\" class=\"data row4 col5\" >2</td>\n",
       "      <td id=\"T_f60e4_row4_col6\" class=\"data row4 col6\" >1</td>\n",
       "      <td id=\"T_f60e4_row4_col7\" class=\"data row4 col7\" >1</td>\n",
       "      <td id=\"T_f60e4_row4_col8\" class=\"data row4 col8\" >1</td>\n",
       "      <td id=\"T_f60e4_row4_col9\" class=\"data row4 col9\" >1</td>\n",
       "      <td id=\"T_f60e4_row4_col10\" class=\"data row4 col10\" >2</td>\n",
       "      <td id=\"T_f60e4_row4_col11\" class=\"data row4 col11\" >1</td>\n",
       "      <td id=\"T_f60e4_row4_col12\" class=\"data row4 col12\" ></td>\n",
       "      <td id=\"T_f60e4_row4_col13\" class=\"data row4 col13\" ></td>\n",
       "    </tr>\n",
       "  </tbody>\n",
       "</table>\n"
      ],
      "text/plain": [
       "<pandas.io.formats.style.Styler at 0x7f02f48c1670>"
      ]
     },
     "execution_count": 94,
     "metadata": {},
     "output_type": "execute_result"
    }
   ],
   "source": [
    "DOC.topic_group2.unstack(fill_value='')\\\n",
    "    .style.map(lambda x: 'background:' + label_color[x])"
   ]
  },
  {
   "cell_type": "markdown",
   "id": "24ee4696-ec10-41ad-9bbe-26aa2acf61e3",
   "metadata": {},
   "source": [
    "# Correlate Topics in Word Space"
   ]
  },
  {
   "cell_type": "code",
   "execution_count": 95,
   "id": "fb587355-bc8f-434b-adb8-0793ca607d2c",
   "metadata": {},
   "outputs": [
    {
     "data": {
      "text/html": [
       "<style type=\"text/css\">\n",
       "#T_d8ec8_row0_col0, #T_d8ec8_row1_col1, #T_d8ec8_row2_col2, #T_d8ec8_row3_col3, #T_d8ec8_row4_col4, #T_d8ec8_row5_col5 {\n",
       "  background-color: #081d58;\n",
       "  color: #f1f1f1;\n",
       "}\n",
       "#T_d8ec8_row0_col1 {\n",
       "  background-color: #f9fdcc;\n",
       "  color: #000000;\n",
       "}\n",
       "#T_d8ec8_row0_col2 {\n",
       "  background-color: #e0f3b2;\n",
       "  color: #000000;\n",
       "}\n",
       "#T_d8ec8_row0_col3 {\n",
       "  background-color: #abdeb7;\n",
       "  color: #000000;\n",
       "}\n",
       "#T_d8ec8_row0_col4 {\n",
       "  background-color: #fdfed5;\n",
       "  color: #000000;\n",
       "}\n",
       "#T_d8ec8_row0_col5 {\n",
       "  background-color: #bbe4b5;\n",
       "  color: #000000;\n",
       "}\n",
       "#T_d8ec8_row1_col0 {\n",
       "  background-color: #fcfed1;\n",
       "  color: #000000;\n",
       "}\n",
       "#T_d8ec8_row1_col2, #T_d8ec8_row2_col1, #T_d8ec8_row3_col5, #T_d8ec8_row4_col0, #T_d8ec8_row5_col1, #T_d8ec8_row5_col3, #T_d8ec8_row5_col4 {\n",
       "  background-color: #ffffd9;\n",
       "  color: #000000;\n",
       "}\n",
       "#T_d8ec8_row1_col3 {\n",
       "  background-color: #edf8b1;\n",
       "  color: #000000;\n",
       "}\n",
       "#T_d8ec8_row1_col4, #T_d8ec8_row4_col1 {\n",
       "  background-color: #f7fcc7;\n",
       "  color: #000000;\n",
       "}\n",
       "#T_d8ec8_row1_col5, #T_d8ec8_row4_col5 {\n",
       "  background-color: #f9fdcb;\n",
       "  color: #000000;\n",
       "}\n",
       "#T_d8ec8_row2_col0 {\n",
       "  background-color: #e3f4b2;\n",
       "  color: #000000;\n",
       "}\n",
       "#T_d8ec8_row2_col3 {\n",
       "  background-color: #f8fcca;\n",
       "  color: #000000;\n",
       "}\n",
       "#T_d8ec8_row2_col4, #T_d8ec8_row4_col2 {\n",
       "  background-color: #f4fbc0;\n",
       "  color: #000000;\n",
       "}\n",
       "#T_d8ec8_row2_col5 {\n",
       "  background-color: #d4eeb3;\n",
       "  color: #000000;\n",
       "}\n",
       "#T_d8ec8_row3_col0 {\n",
       "  background-color: #c6e9b4;\n",
       "  color: #000000;\n",
       "}\n",
       "#T_d8ec8_row3_col1 {\n",
       "  background-color: #f3fabf;\n",
       "  color: #000000;\n",
       "}\n",
       "#T_d8ec8_row3_col2 {\n",
       "  background-color: #feffd8;\n",
       "  color: #000000;\n",
       "}\n",
       "#T_d8ec8_row3_col4 {\n",
       "  background-color: #fcfed3;\n",
       "  color: #000000;\n",
       "}\n",
       "#T_d8ec8_row4_col3 {\n",
       "  background-color: #f5fbc4;\n",
       "  color: #000000;\n",
       "}\n",
       "#T_d8ec8_row5_col0 {\n",
       "  background-color: #cfecb3;\n",
       "  color: #000000;\n",
       "}\n",
       "#T_d8ec8_row5_col2 {\n",
       "  background-color: #dff2b2;\n",
       "  color: #000000;\n",
       "}\n",
       "</style>\n",
       "<table id=\"T_d8ec8\">\n",
       "  <thead>\n",
       "    <tr>\n",
       "      <th class=\"blank level0\" >&nbsp;</th>\n",
       "      <th id=\"T_d8ec8_level0_col0\" class=\"col_heading level0 col0\" >0</th>\n",
       "      <th id=\"T_d8ec8_level0_col1\" class=\"col_heading level0 col1\" >1</th>\n",
       "      <th id=\"T_d8ec8_level0_col2\" class=\"col_heading level0 col2\" >2</th>\n",
       "      <th id=\"T_d8ec8_level0_col3\" class=\"col_heading level0 col3\" >3</th>\n",
       "      <th id=\"T_d8ec8_level0_col4\" class=\"col_heading level0 col4\" >4</th>\n",
       "      <th id=\"T_d8ec8_level0_col5\" class=\"col_heading level0 col5\" >5</th>\n",
       "    </tr>\n",
       "  </thead>\n",
       "  <tbody>\n",
       "    <tr>\n",
       "      <th id=\"T_d8ec8_level0_row0\" class=\"row_heading level0 row0\" >0</th>\n",
       "      <td id=\"T_d8ec8_row0_col0\" class=\"data row0 col0\" >1.000000</td>\n",
       "      <td id=\"T_d8ec8_row0_col1\" class=\"data row0 col1\" >0.101055</td>\n",
       "      <td id=\"T_d8ec8_row0_col2\" class=\"data row0 col2\" >0.223220</td>\n",
       "      <td id=\"T_d8ec8_row0_col3\" class=\"data row0 col3\" >0.310788</td>\n",
       "      <td id=\"T_d8ec8_row0_col4\" class=\"data row0 col4\" >0.077201</td>\n",
       "      <td id=\"T_d8ec8_row0_col5\" class=\"data row0 col5\" >0.284141</td>\n",
       "    </tr>\n",
       "    <tr>\n",
       "      <th id=\"T_d8ec8_level0_row1\" class=\"row_heading level0 row1\" >1</th>\n",
       "      <td id=\"T_d8ec8_row1_col0\" class=\"data row1 col0\" >0.101055</td>\n",
       "      <td id=\"T_d8ec8_row1_col1\" class=\"data row1 col1\" >1.000000</td>\n",
       "      <td id=\"T_d8ec8_row1_col2\" class=\"data row1 col2\" >0.062036</td>\n",
       "      <td id=\"T_d8ec8_row1_col3\" class=\"data row1 col3\" >0.141010</td>\n",
       "      <td id=\"T_d8ec8_row1_col4\" class=\"data row1 col4\" >0.115813</td>\n",
       "      <td id=\"T_d8ec8_row1_col5\" class=\"data row1 col5\" >0.061212</td>\n",
       "    </tr>\n",
       "    <tr>\n",
       "      <th id=\"T_d8ec8_level0_row2\" class=\"row_heading level0 row2\" >2</th>\n",
       "      <td id=\"T_d8ec8_row2_col0\" class=\"data row2 col0\" >0.223220</td>\n",
       "      <td id=\"T_d8ec8_row2_col1\" class=\"data row2 col1\" >0.062036</td>\n",
       "      <td id=\"T_d8ec8_row2_col2\" class=\"data row2 col2\" >1.000000</td>\n",
       "      <td id=\"T_d8ec8_row2_col3\" class=\"data row2 col3\" >0.067106</td>\n",
       "      <td id=\"T_d8ec8_row2_col4\" class=\"data row2 col4\" >0.138364</td>\n",
       "      <td id=\"T_d8ec8_row2_col5\" class=\"data row2 col5\" >0.223558</td>\n",
       "    </tr>\n",
       "    <tr>\n",
       "      <th id=\"T_d8ec8_level0_row3\" class=\"row_heading level0 row3\" >3</th>\n",
       "      <td id=\"T_d8ec8_row3_col0\" class=\"data row3 col0\" >0.310788</td>\n",
       "      <td id=\"T_d8ec8_row3_col1\" class=\"data row3 col1\" >0.141010</td>\n",
       "      <td id=\"T_d8ec8_row3_col2\" class=\"data row3 col2\" >0.067106</td>\n",
       "      <td id=\"T_d8ec8_row3_col3\" class=\"data row3 col3\" >1.000000</td>\n",
       "      <td id=\"T_d8ec8_row3_col4\" class=\"data row3 col4\" >0.084718</td>\n",
       "      <td id=\"T_d8ec8_row3_col5\" class=\"data row3 col5\" >0.017893</td>\n",
       "    </tr>\n",
       "    <tr>\n",
       "      <th id=\"T_d8ec8_level0_row4\" class=\"row_heading level0 row4\" >4</th>\n",
       "      <td id=\"T_d8ec8_row4_col0\" class=\"data row4 col0\" >0.077201</td>\n",
       "      <td id=\"T_d8ec8_row4_col1\" class=\"data row4 col1\" >0.115813</td>\n",
       "      <td id=\"T_d8ec8_row4_col2\" class=\"data row4 col2\" >0.138364</td>\n",
       "      <td id=\"T_d8ec8_row4_col3\" class=\"data row4 col3\" >0.084718</td>\n",
       "      <td id=\"T_d8ec8_row4_col4\" class=\"data row4 col4\" >1.000000</td>\n",
       "      <td id=\"T_d8ec8_row4_col5\" class=\"data row4 col5\" >0.063762</td>\n",
       "    </tr>\n",
       "    <tr>\n",
       "      <th id=\"T_d8ec8_level0_row5\" class=\"row_heading level0 row5\" >5</th>\n",
       "      <td id=\"T_d8ec8_row5_col0\" class=\"data row5 col0\" >0.284141</td>\n",
       "      <td id=\"T_d8ec8_row5_col1\" class=\"data row5 col1\" >0.061212</td>\n",
       "      <td id=\"T_d8ec8_row5_col2\" class=\"data row5 col2\" >0.223558</td>\n",
       "      <td id=\"T_d8ec8_row5_col3\" class=\"data row5 col3\" >0.017893</td>\n",
       "      <td id=\"T_d8ec8_row5_col4\" class=\"data row5 col4\" >0.063762</td>\n",
       "      <td id=\"T_d8ec8_row5_col5\" class=\"data row5 col5\" >1.000000</td>\n",
       "    </tr>\n",
       "  </tbody>\n",
       "</table>\n"
      ],
      "text/plain": [
       "<pandas.io.formats.style.Styler at 0x7f02f49c0670>"
      ]
     },
     "execution_count": 95,
     "metadata": {},
     "output_type": "execute_result"
    }
   ],
   "source": [
    "PHI.T.corr().style.background_gradient(cmap=\"YlGnBu\")"
   ]
  },
  {
   "cell_type": "code",
   "execution_count": 101,
   "id": "44b8b615-8e29-4b08-8610-02a53955f904",
   "metadata": {},
   "outputs": [
    {
     "data": {
      "text/html": [
       "<div>\n",
       "<style scoped>\n",
       "    .dataframe tbody tr th:only-of-type {\n",
       "        vertical-align: middle;\n",
       "    }\n",
       "\n",
       "    .dataframe tbody tr th {\n",
       "        vertical-align: top;\n",
       "    }\n",
       "\n",
       "    .dataframe thead th {\n",
       "        text-align: right;\n",
       "    }\n",
       "</style>\n",
       "<table border=\"1\" class=\"dataframe\">\n",
       "  <thead>\n",
       "    <tr style=\"text-align: right;\">\n",
       "      <th></th>\n",
       "      <th>top_terms</th>\n",
       "      <th>top_sal</th>\n",
       "      <th>top_rel</th>\n",
       "    </tr>\n",
       "  </thead>\n",
       "  <tbody>\n",
       "    <tr>\n",
       "      <th>0</th>\n",
       "      <td>senores, xibalba, casa</td>\n",
       "      <td>xibalba, senores, huncame</td>\n",
       "      <td>xibalba, huncame, senores</td>\n",
       "    </tr>\n",
       "    <tr>\n",
       "      <th>1</th>\n",
       "      <td>tohil, tribus, mahucutah</td>\n",
       "      <td>tohil, tribus, mahucutah</td>\n",
       "      <td>tohil, tribus, mahucutah</td>\n",
       "    </tr>\n",
       "    <tr>\n",
       "      <th>2</th>\n",
       "      <td>abuela, ixbalanque, hunahpu</td>\n",
       "      <td>abuela, hermanos, hunchouen</td>\n",
       "      <td>abuela, hermanos, hunchouen</td>\n",
       "    </tr>\n",
       "    <tr>\n",
       "      <th>3</th>\n",
       "      <td>casa, senores, generacion</td>\n",
       "      <td>generacion, casa, reyes</td>\n",
       "      <td>generacion, reyes, casas</td>\n",
       "    </tr>\n",
       "    <tr>\n",
       "      <th>4</th>\n",
       "      <td>tierra, cielo, hombre</td>\n",
       "      <td>tierra, cielo, creador</td>\n",
       "      <td>tierra, cielo, creador</td>\n",
       "    </tr>\n",
       "    <tr>\n",
       "      <th>5</th>\n",
       "      <td>muchachos, xibalba, flores</td>\n",
       "      <td>muchachos, flores, zipacna</td>\n",
       "      <td>muchachos, flores, zipacna</td>\n",
       "    </tr>\n",
       "  </tbody>\n",
       "</table>\n",
       "</div>"
      ],
      "text/plain": [
       "                     top_terms                      top_sal  \\\n",
       "0       senores, xibalba, casa    xibalba, senores, huncame   \n",
       "1     tohil, tribus, mahucutah     tohil, tribus, mahucutah   \n",
       "2  abuela, ixbalanque, hunahpu  abuela, hermanos, hunchouen   \n",
       "3    casa, senores, generacion      generacion, casa, reyes   \n",
       "4        tierra, cielo, hombre       tierra, cielo, creador   \n",
       "5   muchachos, xibalba, flores   muchachos, flores, zipacna   \n",
       "\n",
       "                       top_rel  \n",
       "0    xibalba, huncame, senores  \n",
       "1     tohil, tribus, mahucutah  \n",
       "2  abuela, hermanos, hunchouen  \n",
       "3     generacion, reyes, casas  \n",
       "4       tierra, cielo, creador  \n",
       "5   muchachos, flores, zipacna  "
      ]
     },
     "execution_count": 101,
     "metadata": {},
     "output_type": "execute_result"
    }
   ],
   "source": [
    "TOPIC"
   ]
  },
  {
   "cell_type": "code",
   "execution_count": 102,
   "id": "1a7d91fe-594c-47f6-a7d7-68ea4e4901cc",
   "metadata": {},
   "outputs": [],
   "source": [
    "R = PHI.T.corr().stack().to_frame('r')\n",
    "R.index.names = ['topic_a', 'topic_b']\n",
    "R = R.query(\"topic_a < topic_b\")"
   ]
  },
  {
   "cell_type": "code",
   "execution_count": 103,
   "id": "db5f6eff-47bb-4eac-a51b-46083e5dbb1b",
   "metadata": {},
   "outputs": [],
   "source": [
    "# R.sort_values('r', ascending=False).style.bar(color='violet')"
   ]
  },
  {
   "cell_type": "code",
   "execution_count": 104,
   "id": "5f8e1c54-8206-4cfe-b8db-3bddfc6c9805",
   "metadata": {},
   "outputs": [],
   "source": [
    "R2 = pd.concat([R.reset_index(), \n",
    "           R.reset_index().topic_a.map(TOPIC.top_sal).to_frame('a_terms'), \n",
    "           R.reset_index().topic_b.map(TOPIC.top_sal).to_frame('b_terms')], axis=1)\\\n",
    "    .set_index(['topic_a','topic_b']).sort_values('r', ascending=False)"
   ]
  },
  {
   "cell_type": "code",
   "execution_count": 105,
   "id": "a1c96795-7714-4bc1-a2e4-e0d49816b9c2",
   "metadata": {},
   "outputs": [
    {
     "data": {
      "text/html": [
       "<style type=\"text/css\">\n",
       "#T_b81ee_row0_col0 {\n",
       "  width: 10em;\n",
       "  background: linear-gradient(90deg, violet 100.0%, transparent 100.0%);\n",
       "}\n",
       "#T_b81ee_row1_col0 {\n",
       "  width: 10em;\n",
       "  background: linear-gradient(90deg, violet 91.4%, transparent 91.4%);\n",
       "}\n",
       "#T_b81ee_row2_col0 {\n",
       "  width: 10em;\n",
       "  background: linear-gradient(90deg, violet 71.9%, transparent 71.9%);\n",
       "}\n",
       "#T_b81ee_row3_col0 {\n",
       "  width: 10em;\n",
       "  background: linear-gradient(90deg, violet 71.8%, transparent 71.8%);\n",
       "}\n",
       "#T_b81ee_row4_col0 {\n",
       "  width: 10em;\n",
       "  background: linear-gradient(90deg, violet 45.4%, transparent 45.4%);\n",
       "}\n",
       "#T_b81ee_row5_col0 {\n",
       "  width: 10em;\n",
       "  background: linear-gradient(90deg, violet 44.5%, transparent 44.5%);\n",
       "}\n",
       "#T_b81ee_row6_col0 {\n",
       "  width: 10em;\n",
       "  background: linear-gradient(90deg, violet 37.3%, transparent 37.3%);\n",
       "}\n",
       "#T_b81ee_row7_col0 {\n",
       "  width: 10em;\n",
       "  background: linear-gradient(90deg, violet 32.5%, transparent 32.5%);\n",
       "}\n",
       "#T_b81ee_row8_col0 {\n",
       "  width: 10em;\n",
       "  background: linear-gradient(90deg, violet 27.3%, transparent 27.3%);\n",
       "}\n",
       "#T_b81ee_row9_col0 {\n",
       "  width: 10em;\n",
       "  background: linear-gradient(90deg, violet 24.8%, transparent 24.8%);\n",
       "}\n",
       "#T_b81ee_row10_col0 {\n",
       "  width: 10em;\n",
       "  background: linear-gradient(90deg, violet 21.6%, transparent 21.6%);\n",
       "}\n",
       "#T_b81ee_row11_col0 {\n",
       "  width: 10em;\n",
       "  background: linear-gradient(90deg, violet 20.5%, transparent 20.5%);\n",
       "}\n",
       "#T_b81ee_row12_col0 {\n",
       "  width: 10em;\n",
       "  background: linear-gradient(90deg, violet 20.0%, transparent 20.0%);\n",
       "}\n",
       "#T_b81ee_row13_col0 {\n",
       "  width: 10em;\n",
       "  background: linear-gradient(90deg, violet 19.7%, transparent 19.7%);\n",
       "}\n",
       "#T_b81ee_row14_col0 {\n",
       "  width: 10em;\n",
       "  background: linear-gradient(90deg, violet 5.8%, transparent 5.8%);\n",
       "}\n",
       "</style>\n",
       "<table id=\"T_b81ee\">\n",
       "  <thead>\n",
       "    <tr>\n",
       "      <th class=\"blank\" >&nbsp;</th>\n",
       "      <th class=\"blank level0\" >&nbsp;</th>\n",
       "      <th id=\"T_b81ee_level0_col0\" class=\"col_heading level0 col0\" >r</th>\n",
       "      <th id=\"T_b81ee_level0_col1\" class=\"col_heading level0 col1\" >a_terms</th>\n",
       "      <th id=\"T_b81ee_level0_col2\" class=\"col_heading level0 col2\" >b_terms</th>\n",
       "    </tr>\n",
       "    <tr>\n",
       "      <th class=\"index_name level0\" >topic_a</th>\n",
       "      <th class=\"index_name level1\" >topic_b</th>\n",
       "      <th class=\"blank col0\" >&nbsp;</th>\n",
       "      <th class=\"blank col1\" >&nbsp;</th>\n",
       "      <th class=\"blank col2\" >&nbsp;</th>\n",
       "    </tr>\n",
       "  </thead>\n",
       "  <tbody>\n",
       "    <tr>\n",
       "      <th id=\"T_b81ee_level0_row0\" class=\"row_heading level0 row0\" rowspan=\"2\">0</th>\n",
       "      <th id=\"T_b81ee_level1_row0\" class=\"row_heading level1 row0\" >3</th>\n",
       "      <td id=\"T_b81ee_row0_col0\" class=\"data row0 col0\" >0.310788</td>\n",
       "      <td id=\"T_b81ee_row0_col1\" class=\"data row0 col1\" >xibalba, senores, huncame</td>\n",
       "      <td id=\"T_b81ee_row0_col2\" class=\"data row0 col2\" >generacion, casa, reyes</td>\n",
       "    </tr>\n",
       "    <tr>\n",
       "      <th id=\"T_b81ee_level1_row1\" class=\"row_heading level1 row1\" >5</th>\n",
       "      <td id=\"T_b81ee_row1_col0\" class=\"data row1 col0\" >0.284141</td>\n",
       "      <td id=\"T_b81ee_row1_col1\" class=\"data row1 col1\" >xibalba, senores, huncame</td>\n",
       "      <td id=\"T_b81ee_row1_col2\" class=\"data row1 col2\" >muchachos, flores, zipacna</td>\n",
       "    </tr>\n",
       "    <tr>\n",
       "      <th id=\"T_b81ee_level0_row2\" class=\"row_heading level0 row2\" >2</th>\n",
       "      <th id=\"T_b81ee_level1_row2\" class=\"row_heading level1 row2\" >5</th>\n",
       "      <td id=\"T_b81ee_row2_col0\" class=\"data row2 col0\" >0.223558</td>\n",
       "      <td id=\"T_b81ee_row2_col1\" class=\"data row2 col1\" >abuela, hermanos, hunchouen</td>\n",
       "      <td id=\"T_b81ee_row2_col2\" class=\"data row2 col2\" >muchachos, flores, zipacna</td>\n",
       "    </tr>\n",
       "    <tr>\n",
       "      <th id=\"T_b81ee_level0_row3\" class=\"row_heading level0 row3\" >0</th>\n",
       "      <th id=\"T_b81ee_level1_row3\" class=\"row_heading level1 row3\" >2</th>\n",
       "      <td id=\"T_b81ee_row3_col0\" class=\"data row3 col0\" >0.223220</td>\n",
       "      <td id=\"T_b81ee_row3_col1\" class=\"data row3 col1\" >xibalba, senores, huncame</td>\n",
       "      <td id=\"T_b81ee_row3_col2\" class=\"data row3 col2\" >abuela, hermanos, hunchouen</td>\n",
       "    </tr>\n",
       "    <tr>\n",
       "      <th id=\"T_b81ee_level0_row4\" class=\"row_heading level0 row4\" >1</th>\n",
       "      <th id=\"T_b81ee_level1_row4\" class=\"row_heading level1 row4\" >3</th>\n",
       "      <td id=\"T_b81ee_row4_col0\" class=\"data row4 col0\" >0.141010</td>\n",
       "      <td id=\"T_b81ee_row4_col1\" class=\"data row4 col1\" >tohil, tribus, mahucutah</td>\n",
       "      <td id=\"T_b81ee_row4_col2\" class=\"data row4 col2\" >generacion, casa, reyes</td>\n",
       "    </tr>\n",
       "    <tr>\n",
       "      <th id=\"T_b81ee_level0_row5\" class=\"row_heading level0 row5\" >2</th>\n",
       "      <th id=\"T_b81ee_level1_row5\" class=\"row_heading level1 row5\" >4</th>\n",
       "      <td id=\"T_b81ee_row5_col0\" class=\"data row5 col0\" >0.138364</td>\n",
       "      <td id=\"T_b81ee_row5_col1\" class=\"data row5 col1\" >abuela, hermanos, hunchouen</td>\n",
       "      <td id=\"T_b81ee_row5_col2\" class=\"data row5 col2\" >tierra, cielo, creador</td>\n",
       "    </tr>\n",
       "    <tr>\n",
       "      <th id=\"T_b81ee_level0_row6\" class=\"row_heading level0 row6\" >1</th>\n",
       "      <th id=\"T_b81ee_level1_row6\" class=\"row_heading level1 row6\" >4</th>\n",
       "      <td id=\"T_b81ee_row6_col0\" class=\"data row6 col0\" >0.115813</td>\n",
       "      <td id=\"T_b81ee_row6_col1\" class=\"data row6 col1\" >tohil, tribus, mahucutah</td>\n",
       "      <td id=\"T_b81ee_row6_col2\" class=\"data row6 col2\" >tierra, cielo, creador</td>\n",
       "    </tr>\n",
       "    <tr>\n",
       "      <th id=\"T_b81ee_level0_row7\" class=\"row_heading level0 row7\" >0</th>\n",
       "      <th id=\"T_b81ee_level1_row7\" class=\"row_heading level1 row7\" >1</th>\n",
       "      <td id=\"T_b81ee_row7_col0\" class=\"data row7 col0\" >0.101055</td>\n",
       "      <td id=\"T_b81ee_row7_col1\" class=\"data row7 col1\" >xibalba, senores, huncame</td>\n",
       "      <td id=\"T_b81ee_row7_col2\" class=\"data row7 col2\" >tohil, tribus, mahucutah</td>\n",
       "    </tr>\n",
       "    <tr>\n",
       "      <th id=\"T_b81ee_level0_row8\" class=\"row_heading level0 row8\" >3</th>\n",
       "      <th id=\"T_b81ee_level1_row8\" class=\"row_heading level1 row8\" >4</th>\n",
       "      <td id=\"T_b81ee_row8_col0\" class=\"data row8 col0\" >0.084718</td>\n",
       "      <td id=\"T_b81ee_row8_col1\" class=\"data row8 col1\" >generacion, casa, reyes</td>\n",
       "      <td id=\"T_b81ee_row8_col2\" class=\"data row8 col2\" >tierra, cielo, creador</td>\n",
       "    </tr>\n",
       "    <tr>\n",
       "      <th id=\"T_b81ee_level0_row9\" class=\"row_heading level0 row9\" >0</th>\n",
       "      <th id=\"T_b81ee_level1_row9\" class=\"row_heading level1 row9\" >4</th>\n",
       "      <td id=\"T_b81ee_row9_col0\" class=\"data row9 col0\" >0.077201</td>\n",
       "      <td id=\"T_b81ee_row9_col1\" class=\"data row9 col1\" >xibalba, senores, huncame</td>\n",
       "      <td id=\"T_b81ee_row9_col2\" class=\"data row9 col2\" >tierra, cielo, creador</td>\n",
       "    </tr>\n",
       "    <tr>\n",
       "      <th id=\"T_b81ee_level0_row10\" class=\"row_heading level0 row10\" >2</th>\n",
       "      <th id=\"T_b81ee_level1_row10\" class=\"row_heading level1 row10\" >3</th>\n",
       "      <td id=\"T_b81ee_row10_col0\" class=\"data row10 col0\" >0.067106</td>\n",
       "      <td id=\"T_b81ee_row10_col1\" class=\"data row10 col1\" >abuela, hermanos, hunchouen</td>\n",
       "      <td id=\"T_b81ee_row10_col2\" class=\"data row10 col2\" >generacion, casa, reyes</td>\n",
       "    </tr>\n",
       "    <tr>\n",
       "      <th id=\"T_b81ee_level0_row11\" class=\"row_heading level0 row11\" >4</th>\n",
       "      <th id=\"T_b81ee_level1_row11\" class=\"row_heading level1 row11\" >5</th>\n",
       "      <td id=\"T_b81ee_row11_col0\" class=\"data row11 col0\" >0.063762</td>\n",
       "      <td id=\"T_b81ee_row11_col1\" class=\"data row11 col1\" >tierra, cielo, creador</td>\n",
       "      <td id=\"T_b81ee_row11_col2\" class=\"data row11 col2\" >muchachos, flores, zipacna</td>\n",
       "    </tr>\n",
       "    <tr>\n",
       "      <th id=\"T_b81ee_level0_row12\" class=\"row_heading level0 row12\" rowspan=\"2\">1</th>\n",
       "      <th id=\"T_b81ee_level1_row12\" class=\"row_heading level1 row12\" >2</th>\n",
       "      <td id=\"T_b81ee_row12_col0\" class=\"data row12 col0\" >0.062036</td>\n",
       "      <td id=\"T_b81ee_row12_col1\" class=\"data row12 col1\" >tohil, tribus, mahucutah</td>\n",
       "      <td id=\"T_b81ee_row12_col2\" class=\"data row12 col2\" >abuela, hermanos, hunchouen</td>\n",
       "    </tr>\n",
       "    <tr>\n",
       "      <th id=\"T_b81ee_level1_row13\" class=\"row_heading level1 row13\" >5</th>\n",
       "      <td id=\"T_b81ee_row13_col0\" class=\"data row13 col0\" >0.061212</td>\n",
       "      <td id=\"T_b81ee_row13_col1\" class=\"data row13 col1\" >tohil, tribus, mahucutah</td>\n",
       "      <td id=\"T_b81ee_row13_col2\" class=\"data row13 col2\" >muchachos, flores, zipacna</td>\n",
       "    </tr>\n",
       "    <tr>\n",
       "      <th id=\"T_b81ee_level0_row14\" class=\"row_heading level0 row14\" >3</th>\n",
       "      <th id=\"T_b81ee_level1_row14\" class=\"row_heading level1 row14\" >5</th>\n",
       "      <td id=\"T_b81ee_row14_col0\" class=\"data row14 col0\" >0.017893</td>\n",
       "      <td id=\"T_b81ee_row14_col1\" class=\"data row14 col1\" >generacion, casa, reyes</td>\n",
       "      <td id=\"T_b81ee_row14_col2\" class=\"data row14 col2\" >muchachos, flores, zipacna</td>\n",
       "    </tr>\n",
       "  </tbody>\n",
       "</table>\n"
      ],
      "text/plain": [
       "<pandas.io.formats.style.Styler at 0x7f02f4af7b20>"
      ]
     },
     "execution_count": 105,
     "metadata": {},
     "output_type": "execute_result"
    }
   ],
   "source": [
    "R2.style.bar(color='violet')"
   ]
  }
 ],
 "metadata": {
  "kernelspec": {
   "display_name": "eta",
   "language": "python",
   "name": "eta"
  },
  "language_info": {
   "codemirror_mode": {
    "name": "ipython",
    "version": 3
   },
   "file_extension": ".py",
   "mimetype": "text/x-python",
   "name": "python",
   "nbconvert_exporter": "python",
   "pygments_lexer": "ipython3",
   "version": "3.9.19"
  }
 },
 "nbformat": 4,
 "nbformat_minor": 5
}
